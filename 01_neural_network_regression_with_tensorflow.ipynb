{
  "nbformat": 4,
  "nbformat_minor": 0,
  "metadata": {
    "colab": {
      "provenance": [],
      "authorship_tag": "ABX9TyOQvkIShZbhsnqcWo+HfJJo",
      "include_colab_link": true
    },
    "kernelspec": {
      "name": "python3",
      "display_name": "Python 3"
    },
    "language_info": {
      "name": "python"
    }
  },
  "cells": [
    {
      "cell_type": "markdown",
      "metadata": {
        "id": "view-in-github",
        "colab_type": "text"
      },
      "source": [
        "<a href=\"https://colab.research.google.com/github/nekMont/Machine-Learning/blob/main/01_neural_network_regression_with_tensorflow.ipynb\" target=\"_parent\"><img src=\"https://colab.research.google.com/assets/colab-badge.svg\" alt=\"Open In Colab\"/></a>"
      ]
    },
    {
      "cell_type": "markdown",
      "source": [
        "#introduction to regresion with neural networks in tensorflow\n",
        "\n",
        "There are many definitions for a regresion problem but in our case, we're going to simplify it: predicting a numerical variable based on some other combination of variables, even shorted...prediction a number."
      ],
      "metadata": {
        "id": "fZiGzwB8D8B1"
      }
    },
    {
      "cell_type": "code",
      "source": [
        "#import TensorFlow\n",
        "import tensorflow as tf\n",
        "print(tf.__version__)"
      ],
      "metadata": {
        "colab": {
          "base_uri": "https://localhost:8080/"
        },
        "id": "j7uPMb5CEa_l",
        "outputId": "fd5bb192-c99e-4c05-d270-f8ea7f6ee59b"
      },
      "execution_count": null,
      "outputs": [
        {
          "output_type": "stream",
          "name": "stdout",
          "text": [
            "2.9.2\n"
          ]
        }
      ]
    },
    {
      "cell_type": "markdown",
      "source": [
        "## Create data to view and fit"
      ],
      "metadata": {
        "id": "BtXR8_a5ErSt"
      }
    },
    {
      "cell_type": "code",
      "source": [
        "import numpy as np\n",
        "import matplotlib.pyplot as plt \n",
        "\n",
        "#Create features \n",
        "# We can think of x as our independent var\n",
        "X = np.array([-7.0,-4.0,-1.0,2.0,5.0,8.0,11.0,14.0]) \n",
        "\n",
        "#and y as our dependent variable\n",
        "Y = np.array([3.0, 6.0, 9.0, 12.0, 15.0, 18.0, 21.0, 24.0])\n",
        "\n",
        "#Visualize it\n",
        "plt.scatter(X,Y)"
      ],
      "metadata": {
        "colab": {
          "base_uri": "https://localhost:8080/",
          "height": 287
        },
        "id": "yPsc0YrJEvao",
        "outputId": "9a565471-43da-432a-e092-61b499b58b6b"
      },
      "execution_count": null,
      "outputs": [
        {
          "output_type": "execute_result",
          "data": {
            "text/plain": [
              "<matplotlib.collections.PathCollection at 0x7f820673edf0>"
            ]
          },
          "metadata": {},
          "execution_count": 2
        },
        {
          "output_type": "display_data",
          "data": {
            "text/plain": [
              "<Figure size 432x288 with 1 Axes>"
            ],
            "image/png": "[encoded data removed]"
          },
          "metadata": {
            "needs_background": "light"
          }
        }
      ]
    },
    {
      "cell_type": "code",
      "source": [
        "# we can see is that y = x + 10 \n",
        "Y == X + 10 "
      ],
      "metadata": {
        "colab": {
          "base_uri": "https://localhost:8080/"
        },
        "id": "YPPbh8RwFjZQ",
        "outputId": "f4300ed2-b31b-4de7-d9ef-388a3fed1260"
      },
      "execution_count": null,
      "outputs": [
        {
          "output_type": "execute_result",
          "data": {
            "text/plain": [
              "array([ True,  True,  True,  True,  True,  True,  True,  True])"
            ]
          },
          "metadata": {},
          "execution_count": 3
        }
      ]
    },
    {
      "cell_type": "markdown",
      "source": [
        "#Input and output shapes"
      ],
      "metadata": {
        "id": "fARPdcJcFsTC"
      }
    },
    {
      "cell_type": "code",
      "source": [
        "#Create a demo tensor for our housing price prediction problem \n",
        "house_info = tf.constant([\"bedroom\", \"bathroom\", \"garage\"])\n",
        "house_price = tf.constant([939700])\n",
        "house_info, house_price"
      ],
      "metadata": {
        "colab": {
          "base_uri": "https://localhost:8080/"
        },
        "id": "MUpYwKBXFyD8",
        "outputId": "7513ce94-3d78-4048-8f74-4798c183aec3"
      },
      "execution_count": null,
      "outputs": [
        {
          "output_type": "execute_result",
          "data": {
            "text/plain": [
              "(<tf.Tensor: shape=(3,), dtype=string, numpy=array([b'bedroom', b'bathroom', b'garage'], dtype=object)>,\n",
              " <tf.Tensor: shape=(1,), dtype=int32, numpy=array([939700], dtype=int32)>)"
            ]
          },
          "metadata": {},
          "execution_count": 4
        }
      ]
    },
    {
      "cell_type": "markdown",
      "source": [
        "Here we are just manually testing, the input value of one x value to predict one Y value"
      ],
      "metadata": {
        "id": "z4XZ7A28GvlH"
      }
    },
    {
      "cell_type": "code",
      "source": [
        "X[0],Y[0]"
      ],
      "metadata": {
        "colab": {
          "base_uri": "https://localhost:8080/"
        },
        "id": "K0ERnJOsGnck",
        "outputId": "3d25f1b0-2464-42c8-8304-eb79e671c0e7"
      },
      "execution_count": null,
      "outputs": [
        {
          "output_type": "execute_result",
          "data": {
            "text/plain": [
              "(-7.0, 3.0)"
            ]
          },
          "metadata": {},
          "execution_count": 5
        }
      ]
    },
    {
      "cell_type": "code",
      "source": [
        "X[1],Y[1]"
      ],
      "metadata": {
        "colab": {
          "base_uri": "https://localhost:8080/"
        },
        "id": "k737UY61Gqm3",
        "outputId": "bfb28844-7d73-4bbc-974f-20578d7f7008"
      },
      "execution_count": null,
      "outputs": [
        {
          "output_type": "execute_result",
          "data": {
            "text/plain": [
              "(-4.0, 6.0)"
            ]
          },
          "metadata": {},
          "execution_count": 6
        }
      ]
    },
    {
      "cell_type": "code",
      "source": [
        "input_shape = X[0].shape \n",
        "output_shape = Y[0].shape \n",
        "input_shape, output_shape"
      ],
      "metadata": {
        "colab": {
          "base_uri": "https://localhost:8080/"
        },
        "id": "D2Q9-c58GddA",
        "outputId": "9207478b-1550-4a0e-9258-aa2df7187c99"
      },
      "execution_count": null,
      "outputs": [
        {
          "output_type": "execute_result",
          "data": {
            "text/plain": [
              "((), ())"
            ]
          },
          "metadata": {},
          "execution_count": 7
        }
      ]
    },
    {
      "cell_type": "markdown",
      "source": [
        "#we see that they have no shape, they have no shape because our values are scalars"
      ],
      "metadata": {
        "id": "63JSYkPMG2h_"
      }
    },
    {
      "cell_type": "code",
      "source": [
        "#example \n",
        "X[0].ndim"
      ],
      "metadata": {
        "colab": {
          "base_uri": "https://localhost:8080/"
        },
        "id": "rSqNJeQCHNMf",
        "outputId": "95a9237f-c2d9-4c65-9f73-57dea56af75f"
      },
      "execution_count": null,
      "outputs": [
        {
          "output_type": "execute_result",
          "data": {
            "text/plain": [
              "0"
            ]
          },
          "metadata": {},
          "execution_count": 8
        }
      ]
    },
    {
      "cell_type": "code",
      "source": [
        "#in our case we want to build a MODEL that will take -7.0 and predict 3.0\n",
        "#We will use one x value to predict one y value\n",
        "X[0],Y[0] "
      ],
      "metadata": {
        "colab": {
          "base_uri": "https://localhost:8080/"
        },
        "id": "RrMeUcr7HRAZ",
        "outputId": "2cb3461a-a670-4371-c4f5-f95240be00d0"
      },
      "execution_count": null,
      "outputs": [
        {
          "output_type": "execute_result",
          "data": {
            "text/plain": [
              "(-7.0, 3.0)"
            ]
          },
          "metadata": {},
          "execution_count": 9
        }
      ]
    },
    {
      "cell_type": "code",
      "source": [
        "#lets turn our NumPy arrays into tensors \n",
        "X =tf.cast(tf.constant(X), dtype=tf.float32)\n",
        "Y =tf.cast(tf.constant(Y), dtype=tf.float32)\n",
        "\n",
        "X,Y"
      ],
      "metadata": {
        "colab": {
          "base_uri": "https://localhost:8080/"
        },
        "id": "tHPx3nYsHciw",
        "outputId": "3b3dbf05-6183-4558-f5e0-6c969e47c4ed"
      },
      "execution_count": null,
      "outputs": [
        {
          "output_type": "execute_result",
          "data": {
            "text/plain": [
              "(<tf.Tensor: shape=(8,), dtype=float32, numpy=array([-7., -4., -1.,  2.,  5.,  8., 11., 14.], dtype=float32)>,\n",
              " <tf.Tensor: shape=(8,), dtype=float32, numpy=array([ 3.,  6.,  9., 12., 15., 18., 21., 24.], dtype=float32)>)"
            ]
          },
          "metadata": {},
          "execution_count": 10
        }
      ]
    },
    {
      "cell_type": "code",
      "source": [
        "input_shape = X[0].shape \n",
        "output_shape = Y[0].shape\n",
        "input_shape,output_shape"
      ],
      "metadata": {
        "colab": {
          "base_uri": "https://localhost:8080/"
        },
        "id": "IgHhBimuH49O",
        "outputId": "53d07daa-e40c-4838-8b1a-d2fde376d056"
      },
      "execution_count": null,
      "outputs": [
        {
          "output_type": "execute_result",
          "data": {
            "text/plain": [
              "(TensorShape([]), TensorShape([]))"
            ]
          },
          "metadata": {},
          "execution_count": 11
        }
      ]
    },
    {
      "cell_type": "markdown",
      "source": [
        "#how do we build a model to figure out the relationships?"
      ],
      "metadata": {
        "id": "cLQPx0-eICr9"
      }
    },
    {
      "cell_type": "markdown",
      "source": [
        "## Steps in modelling with TensorFlow \n",
        "1. **Creating a model **- define the input and output layers, as well as the hidden layeers of a deep learning model. \n",
        "2. **Compiling a model** - define the loss function (in other word, the function which tells our model how wrong it is) and the optimizer (tells our model how to improve the patterns its learning) and evaluation metrics(what we can use to interpret the performance of our model). \n",
        "3. **Fitting a model** - letting the model try to find patterns between X & Y (features & labels) "
      ],
      "metadata": {
        "id": "nWzCqt9jIGz1"
      }
    },
    {
      "cell_type": "code",
      "source": [
        "\n",
        "# Set random seed\n",
        "tf.random.set_seed(42)\n",
        "\n",
        "# Create a model using the Sequential API\n",
        "model = tf.keras.Sequential([\n",
        "  tf.keras.layers.Dense(100,activation=\"relu\"),\n",
        "  tf.keras.layers.Dense(100,activation=\"relu\"),\n",
        "  tf.keras.layers.Dense(100,activation=\"relu\"),\n",
        "  tf.keras.layers.Dense(1)\n",
        "])\n",
        "\n",
        "# Compile the model\n",
        "model.compile(loss=tf.keras.losses.mae, # mae is short for mean absolute error\n",
        "              optimizer=tf.keras.optimizers.SGD(), # SGD is short for stochastic gradient descent\n",
        "              metrics=[\"mae\"])\n",
        "\n",
        "# Fit the model\n",
        "# model.fit(X, y, epochs=5) # this will break with TensorFlow 2.7.0+\n",
        "model.fit(tf.expand_dims(X, axis=-1), Y, epochs=100)\n"
      ],
      "metadata": {
        "colab": {
          "base_uri": "https://localhost:8080/"
        },
        "id": "S89xCRV6IoXO",
        "outputId": "b2f15e8b-dd98-4bc5-9a3b-5b14b80bff21"
      },
      "execution_count": null,
      "outputs": [
        {
          "output_type": "stream",
          "name": "stdout",
          "text": [
            "Epoch 1/100\n",
            "1/1 [==============================] - 3s 3s/step - loss: 13.3030 - mae: 13.3030\n",
            "Epoch 2/100\n",
            "1/1 [==============================] - 0s 18ms/step - loss: 12.8554 - mae: 12.8554\n",
            "Epoch 3/100\n",
            "1/1 [==============================] - 0s 20ms/step - loss: 12.4230 - mae: 12.4230\n",
            "Epoch 4/100\n",
            "1/1 [==============================] - 0s 41ms/step - loss: 11.9513 - mae: 11.9513\n",
            "Epoch 5/100\n",
            "1/1 [==============================] - 0s 23ms/step - loss: 11.4463 - mae: 11.4463\n",
            "Epoch 6/100\n",
            "1/1 [==============================] - 0s 25ms/step - loss: 10.8730 - mae: 10.8730\n",
            "Epoch 7/100\n",
            "1/1 [==============================] - 0s 30ms/step - loss: 10.1900 - mae: 10.1900\n",
            "Epoch 8/100\n",
            "1/1 [==============================] - 0s 17ms/step - loss: 9.3550 - mae: 9.3550\n",
            "Epoch 9/100\n",
            "1/1 [==============================] - 0s 17ms/step - loss: 8.3088 - mae: 8.3088\n",
            "Epoch 10/100\n",
            "1/1 [==============================] - 0s 32ms/step - loss: 7.0221 - mae: 7.0221\n",
            "Epoch 11/100\n",
            "1/1 [==============================] - 0s 11ms/step - loss: 5.3765 - mae: 5.3765\n",
            "Epoch 12/100\n",
            "1/1 [==============================] - 0s 9ms/step - loss: 3.9388 - mae: 3.9388\n",
            "Epoch 13/100\n",
            "1/1 [==============================] - 0s 6ms/step - loss: 4.0585 - mae: 4.0585\n",
            "Epoch 14/100\n",
            "1/1 [==============================] - 0s 13ms/step - loss: 3.9487 - mae: 3.9487\n",
            "Epoch 15/100\n",
            "1/1 [==============================] - 0s 18ms/step - loss: 4.0102 - mae: 4.0102\n",
            "Epoch 16/100\n",
            "1/1 [==============================] - 0s 18ms/step - loss: 3.9600 - mae: 3.9600\n",
            "Epoch 17/100\n",
            "1/1 [==============================] - 0s 38ms/step - loss: 3.9603 - mae: 3.9603\n",
            "Epoch 18/100\n",
            "1/1 [==============================] - 0s 43ms/step - loss: 3.9728 - mae: 3.9728\n",
            "Epoch 19/100\n",
            "1/1 [==============================] - 0s 27ms/step - loss: 3.9088 - mae: 3.9088\n",
            "Epoch 20/100\n",
            "1/1 [==============================] - 0s 9ms/step - loss: 3.9865 - mae: 3.9865\n",
            "Epoch 21/100\n",
            "1/1 [==============================] - 0s 17ms/step - loss: 3.8571 - mae: 3.8571\n",
            "Epoch 22/100\n",
            "1/1 [==============================] - 0s 12ms/step - loss: 4.0011 - mae: 4.0011\n",
            "Epoch 23/100\n",
            "1/1 [==============================] - 0s 17ms/step - loss: 3.8023 - mae: 3.8023\n",
            "Epoch 24/100\n",
            "1/1 [==============================] - 0s 20ms/step - loss: 4.0176 - mae: 4.0176\n",
            "Epoch 25/100\n",
            "1/1 [==============================] - 0s 16ms/step - loss: 3.8114 - mae: 3.8114\n",
            "Epoch 26/100\n",
            "1/1 [==============================] - 0s 15ms/step - loss: 3.9567 - mae: 3.9567\n",
            "Epoch 27/100\n",
            "1/1 [==============================] - 0s 24ms/step - loss: 3.8279 - mae: 3.8279\n",
            "Epoch 28/100\n",
            "1/1 [==============================] - 0s 19ms/step - loss: 3.9015 - mae: 3.9015\n",
            "Epoch 29/100\n",
            "1/1 [==============================] - 0s 10ms/step - loss: 3.8454 - mae: 3.8454\n",
            "Epoch 30/100\n",
            "1/1 [==============================] - 0s 9ms/step - loss: 3.8438 - mae: 3.8438\n",
            "Epoch 31/100\n",
            "1/1 [==============================] - 0s 59ms/step - loss: 3.8637 - mae: 3.8637\n",
            "Epoch 32/100\n",
            "1/1 [==============================] - 0s 14ms/step - loss: 3.7847 - mae: 3.7847\n",
            "Epoch 33/100\n",
            "1/1 [==============================] - 0s 14ms/step - loss: 3.8840 - mae: 3.8840\n",
            "Epoch 34/100\n",
            "1/1 [==============================] - 0s 15ms/step - loss: 3.7242 - mae: 3.7242\n",
            "Epoch 35/100\n",
            "1/1 [==============================] - 0s 17ms/step - loss: 3.9055 - mae: 3.9055\n",
            "Epoch 36/100\n",
            "1/1 [==============================] - 0s 14ms/step - loss: 3.7055 - mae: 3.7055\n",
            "Epoch 37/100\n",
            "1/1 [==============================] - 0s 28ms/step - loss: 3.8867 - mae: 3.8867\n",
            "Epoch 38/100\n",
            "1/1 [==============================] - 0s 14ms/step - loss: 3.7598 - mae: 3.7598\n",
            "Epoch 39/100\n",
            "1/1 [==============================] - 0s 15ms/step - loss: 3.7921 - mae: 3.7921\n",
            "Epoch 40/100\n",
            "1/1 [==============================] - 0s 39ms/step - loss: 3.7816 - mae: 3.7816\n",
            "Epoch 41/100\n",
            "1/1 [==============================] - 0s 11ms/step - loss: 3.7278 - mae: 3.7278\n",
            "Epoch 42/100\n",
            "1/1 [==============================] - 0s 23ms/step - loss: 3.8052 - mae: 3.8052\n",
            "Epoch 43/100\n",
            "1/1 [==============================] - 0s 7ms/step - loss: 3.6617 - mae: 3.6617\n",
            "Epoch 44/100\n",
            "1/1 [==============================] - 0s 8ms/step - loss: 3.8296 - mae: 3.8296\n",
            "Epoch 45/100\n",
            "1/1 [==============================] - 0s 13ms/step - loss: 3.6354 - mae: 3.6354\n",
            "Epoch 46/100\n",
            "1/1 [==============================] - 0s 15ms/step - loss: 3.8020 - mae: 3.8020\n",
            "Epoch 47/100\n",
            "1/1 [==============================] - 0s 8ms/step - loss: 3.6923 - mae: 3.6923\n",
            "Epoch 48/100\n",
            "1/1 [==============================] - 0s 22ms/step - loss: 3.7139 - mae: 3.7139\n",
            "Epoch 49/100\n",
            "1/1 [==============================] - 0s 57ms/step - loss: 3.7166 - mae: 3.7166\n",
            "Epoch 50/100\n",
            "1/1 [==============================] - 0s 9ms/step - loss: 3.6428 - mae: 3.6428\n",
            "Epoch 51/100\n",
            "1/1 [==============================] - 0s 34ms/step - loss: 3.7432 - mae: 3.7432\n",
            "Epoch 52/100\n",
            "1/1 [==============================] - 0s 22ms/step - loss: 3.5703 - mae: 3.5703\n",
            "Epoch 53/100\n",
            "1/1 [==============================] - 0s 26ms/step - loss: 3.7707 - mae: 3.7707\n",
            "Epoch 54/100\n",
            "1/1 [==============================] - 0s 33ms/step - loss: 3.5784 - mae: 3.5784\n",
            "Epoch 55/100\n",
            "1/1 [==============================] - 0s 47ms/step - loss: 3.7004 - mae: 3.7004\n",
            "Epoch 56/100\n",
            "1/1 [==============================] - 0s 22ms/step - loss: 3.6081 - mae: 3.6081\n",
            "Epoch 57/100\n",
            "1/1 [==============================] - 0s 14ms/step - loss: 3.6263 - mae: 3.6263\n",
            "Epoch 58/100\n",
            "1/1 [==============================] - 0s 21ms/step - loss: 3.6370 - mae: 3.6370\n",
            "Epoch 59/100\n",
            "1/1 [==============================] - 0s 20ms/step - loss: 3.5583 - mae: 3.5583\n",
            "Epoch 60/100\n",
            "1/1 [==============================] - 0s 10ms/step - loss: 3.7010 - mae: 3.7010\n",
            "Epoch 61/100\n",
            "1/1 [==============================] - 0s 15ms/step - loss: 3.5127 - mae: 3.5127\n",
            "Epoch 62/100\n",
            "1/1 [==============================] - 0s 21ms/step - loss: 3.6587 - mae: 3.6587\n",
            "Epoch 63/100\n",
            "1/1 [==============================] - 0s 16ms/step - loss: 3.5410 - mae: 3.5410\n",
            "Epoch 64/100\n",
            "1/1 [==============================] - 0s 47ms/step - loss: 3.5806 - mae: 3.5806\n",
            "Epoch 65/100\n",
            "1/1 [==============================] - 0s 15ms/step - loss: 3.5713 - mae: 3.5713\n",
            "Epoch 66/100\n",
            "1/1 [==============================] - 0s 17ms/step - loss: 3.4999 - mae: 3.4999\n",
            "Epoch 67/100\n",
            "1/1 [==============================] - 0s 20ms/step - loss: 3.6038 - mae: 3.6038\n",
            "Epoch 68/100\n",
            "1/1 [==============================] - 0s 21ms/step - loss: 3.4226 - mae: 3.4226\n",
            "Epoch 69/100\n",
            "1/1 [==============================] - 0s 14ms/step - loss: 3.6343 - mae: 3.6343\n",
            "Epoch 70/100\n",
            "1/1 [==============================] - 0s 18ms/step - loss: 3.4845 - mae: 3.4845\n",
            "Epoch 71/100\n",
            "1/1 [==============================] - 0s 18ms/step - loss: 3.5167 - mae: 3.5167\n",
            "Epoch 72/100\n",
            "1/1 [==============================] - 0s 17ms/step - loss: 3.5158 - mae: 3.5158\n",
            "Epoch 73/100\n",
            "1/1 [==============================] - 0s 15ms/step - loss: 3.4300 - mae: 3.4300\n",
            "Epoch 74/100\n",
            "1/1 [==============================] - 0s 17ms/step - loss: 3.5493 - mae: 3.5493\n",
            "Epoch 75/100\n",
            "1/1 [==============================] - 0s 19ms/step - loss: 3.3702 - mae: 3.3702\n",
            "Epoch 76/100\n",
            "1/1 [==============================] - 0s 17ms/step - loss: 3.5420 - mae: 3.5420\n",
            "Epoch 77/100\n",
            "1/1 [==============================] - 0s 24ms/step - loss: 3.4024 - mae: 3.4024\n",
            "Epoch 78/100\n",
            "1/1 [==============================] - 0s 30ms/step - loss: 3.4540 - mae: 3.4540\n",
            "Epoch 79/100\n",
            "1/1 [==============================] - 0s 27ms/step - loss: 3.4371 - mae: 3.4371\n",
            "Epoch 80/100\n",
            "1/1 [==============================] - 0s 23ms/step - loss: 3.3627 - mae: 3.3627\n",
            "Epoch 81/100\n",
            "1/1 [==============================] - 0s 16ms/step - loss: 3.5061 - mae: 3.5061\n",
            "Epoch 82/100\n",
            "1/1 [==============================] - 0s 24ms/step - loss: 3.3266 - mae: 3.3266\n",
            "Epoch 83/100\n",
            "1/1 [==============================] - 0s 22ms/step - loss: 3.4503 - mae: 3.4503\n",
            "Epoch 84/100\n",
            "1/1 [==============================] - 0s 26ms/step - loss: 3.3592 - mae: 3.3592\n",
            "Epoch 85/100\n",
            "1/1 [==============================] - 0s 36ms/step - loss: 3.3547 - mae: 3.3547\n",
            "Epoch 86/100\n",
            "1/1 [==============================] - 0s 23ms/step - loss: 3.3950 - mae: 3.3950\n",
            "Epoch 87/100\n",
            "1/1 [==============================] - 0s 12ms/step - loss: 3.2557 - mae: 3.2557\n",
            "Epoch 88/100\n",
            "1/1 [==============================] - 0s 12ms/step - loss: 3.4323 - mae: 3.4323\n",
            "Epoch 89/100\n",
            "1/1 [==============================] - 0s 22ms/step - loss: 3.2559 - mae: 3.2559\n",
            "Epoch 90/100\n",
            "1/1 [==============================] - 0s 16ms/step - loss: 3.3570 - mae: 3.3570\n",
            "Epoch 91/100\n",
            "1/1 [==============================] - 0s 17ms/step - loss: 3.2937 - mae: 3.2937\n",
            "Epoch 92/100\n",
            "1/1 [==============================] - 0s 19ms/step - loss: 3.2622 - mae: 3.2622\n",
            "Epoch 93/100\n",
            "1/1 [==============================] - 0s 29ms/step - loss: 3.3640 - mae: 3.3640\n",
            "Epoch 94/100\n",
            "1/1 [==============================] - 0s 23ms/step - loss: 3.1914 - mae: 3.1914\n",
            "Epoch 95/100\n",
            "1/1 [==============================] - 0s 34ms/step - loss: 3.3337 - mae: 3.3337\n",
            "Epoch 96/100\n",
            "1/1 [==============================] - 0s 19ms/step - loss: 3.2289 - mae: 3.2289\n",
            "Epoch 97/100\n",
            "1/1 [==============================] - 0s 17ms/step - loss: 3.2266 - mae: 3.2266\n",
            "Epoch 98/100\n",
            "1/1 [==============================] - 0s 14ms/step - loss: 3.2679 - mae: 3.2679\n",
            "Epoch 99/100\n",
            "1/1 [==============================] - 0s 10ms/step - loss: 3.1176 - mae: 3.1176\n",
            "Epoch 100/100\n",
            "1/1 [==============================] - 0s 10ms/step - loss: 3.3089 - mae: 3.3089\n"
          ]
        },
        {
          "output_type": "execute_result",
          "data": {
            "text/plain": [
              "<keras.callbacks.History at 0x7f826eca6fd0>"
            ]
          },
          "metadata": {},
          "execution_count": 12
        }
      ]
    },
    {
      "cell_type": "code",
      "source": [
        "#check x,y\n",
        "X,Y"
      ],
      "metadata": {
        "colab": {
          "base_uri": "https://localhost:8080/"
        },
        "id": "b-GvjCOoX7lu",
        "outputId": "829fcc20-d01c-42ab-eeab-87d6e18b2c69"
      },
      "execution_count": null,
      "outputs": [
        {
          "output_type": "execute_result",
          "data": {
            "text/plain": [
              "(<tf.Tensor: shape=(8,), dtype=float32, numpy=array([-7., -4., -1.,  2.,  5.,  8., 11., 14.], dtype=float32)>,\n",
              " <tf.Tensor: shape=(8,), dtype=float32, numpy=array([ 3.,  6.,  9., 12., 15., 18., 21., 24.], dtype=float32)>)"
            ]
          },
          "metadata": {},
          "execution_count": 13
        }
      ]
    },
    {
      "cell_type": "code",
      "source": [
        "#try and make a prediction using our model \n",
        "y_pred = model.predict([17.0])\n",
        "\n",
        "y_pred"
      ],
      "metadata": {
        "colab": {
          "base_uri": "https://localhost:8080/"
        },
        "id": "4GeJq6uWXdt9",
        "outputId": "5e16e51d-47ee-4b4d-c165-277cc21dfb3c"
      },
      "execution_count": null,
      "outputs": [
        {
          "output_type": "stream",
          "name": "stdout",
          "text": [
            "1/1 [==============================] - 0s 108ms/step\n"
          ]
        },
        {
          "output_type": "execute_result",
          "data": {
            "text/plain": [
              "array([[31.844091]], dtype=float32)"
            ]
          },
          "metadata": {},
          "execution_count": 14
        }
      ]
    },
    {
      "cell_type": "code",
      "source": [
        "y_pred + 11"
      ],
      "metadata": {
        "colab": {
          "base_uri": "https://localhost:8080/"
        },
        "id": "p1sMziCAX3zI",
        "outputId": "e0151601-dde4-40ab-e7d1-dd911f2339ed"
      },
      "execution_count": null,
      "outputs": [
        {
          "output_type": "execute_result",
          "data": {
            "text/plain": [
              "array([[42.844093]], dtype=float32)"
            ]
          },
          "metadata": {},
          "execution_count": 15
        }
      ]
    },
    {
      "cell_type": "markdown",
      "source": [
        "#Improving our model\n",
        "\n",
        "We can improve our model, by altering the steps we took to create a model. \n",
        "\n",
        "1. **Creating a model** - here we migh add more layers, increase the number of hidden units (all called neurons) within each of the hidden layers, change the activation function of each layer.\n",
        "\n",
        "2. **Compiling a model** - here we might change the optimization funcion or perhaps the **learning rate** of the optimization fucntion. \n",
        "\n",
        "3. **Fitting a model** - here we might fit a model for more **epochs** (leave it training for longer) or on more data(give the model more examples to learn from). \n"
      ],
      "metadata": {
        "id": "ZQYdsD_WWsC_"
      }
    },
    {
      "cell_type": "code",
      "source": [
        "#lets see if we can make another improve our model \n",
        "#1. Create the model (this time with an extra hidden layer with 100 hidden units)\n",
        "model = tf.keras.Sequential([\n",
        "    tf.keras.layers.Dense(50,activation=None),    \n",
        "    tf.keras.layers.Dense(1)\n",
        "])\n",
        "\n",
        "\n",
        "model.compile(loss=tf.keras.losses.mae,\n",
        "              optimizer=tf.keras.optimizers.Adam(lr=0.01),\n",
        "              metrics=[\"mae\"])\n",
        "\n",
        "model.fit(tf.expand_dims(X, axis=-1),Y,epochs=100)"
      ],
      "metadata": {
        "colab": {
          "base_uri": "https://localhost:8080/"
        },
        "id": "GTd_MLiDYstZ",
        "outputId": "a48da211-4473-476e-81e1-6bc8d1f25b89"
      },
      "execution_count": null,
      "outputs": [
        {
          "output_type": "stream",
          "name": "stdout",
          "text": [
            "Epoch 1/100\n"
          ]
        },
        {
          "output_type": "stream",
          "name": "stderr",
          "text": [
            "/usr/local/lib/python3.8/dist-packages/keras/optimizers/optimizer_v2/adam.py:110: UserWarning: The `lr` argument is deprecated, use `learning_rate` instead.\n",
            "  super(Adam, self).__init__(name, **kwargs)\n"
          ]
        },
        {
          "output_type": "stream",
          "name": "stdout",
          "text": [
            "1/1 [==============================] - 0s 450ms/step - loss: 12.2895 - mae: 12.2895\n",
            "Epoch 2/100\n",
            "1/1 [==============================] - 0s 5ms/step - loss: 11.5828 - mae: 11.5828\n",
            "Epoch 3/100\n",
            "1/1 [==============================] - 0s 15ms/step - loss: 10.8658 - mae: 10.8658\n",
            "Epoch 4/100\n",
            "1/1 [==============================] - 0s 9ms/step - loss: 10.1378 - mae: 10.1378\n",
            "Epoch 5/100\n",
            "1/1 [==============================] - 0s 9ms/step - loss: 9.3973 - mae: 9.3973\n",
            "Epoch 6/100\n",
            "1/1 [==============================] - 0s 12ms/step - loss: 8.6426 - mae: 8.6426\n",
            "Epoch 7/100\n",
            "1/1 [==============================] - 0s 9ms/step - loss: 7.8717 - mae: 7.8717\n",
            "Epoch 8/100\n",
            "1/1 [==============================] - 0s 5ms/step - loss: 7.0828 - mae: 7.0828\n",
            "Epoch 9/100\n",
            "1/1 [==============================] - 0s 7ms/step - loss: 6.8696 - mae: 6.8696\n",
            "Epoch 10/100\n",
            "1/1 [==============================] - 0s 7ms/step - loss: 7.2795 - mae: 7.2795\n",
            "Epoch 11/100\n",
            "1/1 [==============================] - 0s 7ms/step - loss: 7.5933 - mae: 7.5933\n",
            "Epoch 12/100\n",
            "1/1 [==============================] - 0s 7ms/step - loss: 7.8205 - mae: 7.8205\n",
            "Epoch 13/100\n",
            "1/1 [==============================] - 0s 9ms/step - loss: 7.8052 - mae: 7.8052\n",
            "Epoch 14/100\n",
            "1/1 [==============================] - 0s 6ms/step - loss: 7.6123 - mae: 7.6123\n",
            "Epoch 15/100\n",
            "1/1 [==============================] - 0s 7ms/step - loss: 7.2873 - mae: 7.2873\n",
            "Epoch 16/100\n",
            "1/1 [==============================] - 0s 6ms/step - loss: 6.9999 - mae: 6.9999\n",
            "Epoch 17/100\n",
            "1/1 [==============================] - 0s 7ms/step - loss: 6.7162 - mae: 6.7162\n",
            "Epoch 18/100\n",
            "1/1 [==============================] - 0s 7ms/step - loss: 6.4202 - mae: 6.4202\n",
            "Epoch 19/100\n",
            "1/1 [==============================] - 0s 7ms/step - loss: 6.2556 - mae: 6.2556\n",
            "Epoch 20/100\n",
            "1/1 [==============================] - 0s 9ms/step - loss: 6.2091 - mae: 6.2091\n",
            "Epoch 21/100\n",
            "1/1 [==============================] - 0s 7ms/step - loss: 6.3210 - mae: 6.3210\n",
            "Epoch 22/100\n",
            "1/1 [==============================] - 0s 6ms/step - loss: 6.4110 - mae: 6.4110\n",
            "Epoch 23/100\n",
            "1/1 [==============================] - 0s 6ms/step - loss: 6.4007 - mae: 6.4007\n",
            "Epoch 24/100\n",
            "1/1 [==============================] - 0s 6ms/step - loss: 6.3029 - mae: 6.3029\n",
            "Epoch 25/100\n",
            "1/1 [==============================] - 0s 7ms/step - loss: 6.1267 - mae: 6.1267\n",
            "Epoch 26/100\n",
            "1/1 [==============================] - 0s 6ms/step - loss: 5.8791 - mae: 5.8791\n",
            "Epoch 27/100\n",
            "1/1 [==============================] - 0s 7ms/step - loss: 5.6786 - mae: 5.6786\n",
            "Epoch 28/100\n",
            "1/1 [==============================] - 0s 7ms/step - loss: 5.5757 - mae: 5.5757\n",
            "Epoch 29/100\n",
            "1/1 [==============================] - 0s 7ms/step - loss: 5.4829 - mae: 5.4829\n",
            "Epoch 30/100\n",
            "1/1 [==============================] - 0s 69ms/step - loss: 5.4905 - mae: 5.4905\n",
            "Epoch 31/100\n",
            "1/1 [==============================] - 0s 6ms/step - loss: 5.4533 - mae: 5.4533\n",
            "Epoch 32/100\n",
            "1/1 [==============================] - 0s 7ms/step - loss: 5.3748 - mae: 5.3748\n",
            "Epoch 33/100\n",
            "1/1 [==============================] - 0s 7ms/step - loss: 5.2585 - mae: 5.2585\n",
            "Epoch 34/100\n",
            "1/1 [==============================] - 0s 7ms/step - loss: 5.1075 - mae: 5.1075\n",
            "Epoch 35/100\n",
            "1/1 [==============================] - 0s 7ms/step - loss: 4.9247 - mae: 4.9247\n",
            "Epoch 36/100\n",
            "1/1 [==============================] - 0s 8ms/step - loss: 4.8326 - mae: 4.8326\n",
            "Epoch 37/100\n",
            "1/1 [==============================] - 0s 7ms/step - loss: 4.7434 - mae: 4.7434\n",
            "Epoch 38/100\n",
            "1/1 [==============================] - 0s 9ms/step - loss: 4.6473 - mae: 4.6473\n",
            "Epoch 39/100\n",
            "1/1 [==============================] - 0s 7ms/step - loss: 4.6407 - mae: 4.6407\n",
            "Epoch 40/100\n",
            "1/1 [==============================] - 0s 7ms/step - loss: 4.5264 - mae: 4.5264\n",
            "Epoch 41/100\n",
            "1/1 [==============================] - 0s 7ms/step - loss: 4.3044 - mae: 4.3044\n",
            "Epoch 42/100\n",
            "1/1 [==============================] - 0s 8ms/step - loss: 4.1423 - mae: 4.1423\n",
            "Epoch 43/100\n",
            "1/1 [==============================] - 0s 6ms/step - loss: 3.9877 - mae: 3.9877\n",
            "Epoch 44/100\n",
            "1/1 [==============================] - 0s 7ms/step - loss: 3.9463 - mae: 3.9463\n",
            "Epoch 45/100\n",
            "1/1 [==============================] - 0s 7ms/step - loss: 3.8751 - mae: 3.8751\n",
            "Epoch 46/100\n",
            "1/1 [==============================] - 0s 7ms/step - loss: 3.7518 - mae: 3.7518\n",
            "Epoch 47/100\n",
            "1/1 [==============================] - 0s 6ms/step - loss: 3.5792 - mae: 3.5792\n",
            "Epoch 48/100\n",
            "1/1 [==============================] - 0s 12ms/step - loss: 3.3603 - mae: 3.3603\n",
            "Epoch 49/100\n",
            "1/1 [==============================] - 0s 6ms/step - loss: 3.0974 - mae: 3.0974\n",
            "Epoch 50/100\n",
            "1/1 [==============================] - 0s 6ms/step - loss: 2.9258 - mae: 2.9258\n",
            "Epoch 51/100\n",
            "1/1 [==============================] - 0s 6ms/step - loss: 2.8596 - mae: 2.8596\n",
            "Epoch 52/100\n",
            "1/1 [==============================] - 0s 6ms/step - loss: 2.7330 - mae: 2.7330\n",
            "Epoch 53/100\n",
            "1/1 [==============================] - 0s 7ms/step - loss: 2.4630 - mae: 2.4630\n",
            "Epoch 54/100\n",
            "1/1 [==============================] - 0s 7ms/step - loss: 2.1637 - mae: 2.1637\n",
            "Epoch 55/100\n",
            "1/1 [==============================] - 0s 6ms/step - loss: 2.0178 - mae: 2.0178\n",
            "Epoch 56/100\n",
            "1/1 [==============================] - 0s 7ms/step - loss: 1.8761 - mae: 1.8761\n",
            "Epoch 57/100\n",
            "1/1 [==============================] - 0s 6ms/step - loss: 1.6739 - mae: 1.6739\n",
            "Epoch 58/100\n",
            "1/1 [==============================] - 0s 6ms/step - loss: 1.3610 - mae: 1.3610\n",
            "Epoch 59/100\n",
            "1/1 [==============================] - 0s 6ms/step - loss: 1.0521 - mae: 1.0521\n",
            "Epoch 60/100\n",
            "1/1 [==============================] - 0s 6ms/step - loss: 0.9785 - mae: 0.9785\n",
            "Epoch 61/100\n",
            "1/1 [==============================] - 0s 6ms/step - loss: 0.7530 - mae: 0.7530\n",
            "Epoch 62/100\n",
            "1/1 [==============================] - 0s 6ms/step - loss: 0.3616 - mae: 0.3616\n",
            "Epoch 63/100\n",
            "1/1 [==============================] - 0s 10ms/step - loss: 0.3183 - mae: 0.3183\n",
            "Epoch 64/100\n",
            "1/1 [==============================] - 0s 6ms/step - loss: 0.4345 - mae: 0.4345\n",
            "Epoch 65/100\n",
            "1/1 [==============================] - 0s 7ms/step - loss: 0.4634 - mae: 0.4634\n",
            "Epoch 66/100\n",
            "1/1 [==============================] - 0s 7ms/step - loss: 0.7942 - mae: 0.7942\n",
            "Epoch 67/100\n",
            "1/1 [==============================] - 0s 8ms/step - loss: 0.9794 - mae: 0.9794\n",
            "Epoch 68/100\n",
            "1/1 [==============================] - 0s 7ms/step - loss: 0.9275 - mae: 0.9275\n",
            "Epoch 69/100\n",
            "1/1 [==============================] - 0s 6ms/step - loss: 0.7528 - mae: 0.7528\n",
            "Epoch 70/100\n",
            "1/1 [==============================] - 0s 7ms/step - loss: 0.8762 - mae: 0.8762\n",
            "Epoch 71/100\n",
            "1/1 [==============================] - 0s 7ms/step - loss: 0.8515 - mae: 0.8515\n",
            "Epoch 72/100\n",
            "1/1 [==============================] - 0s 7ms/step - loss: 0.6467 - mae: 0.6467\n",
            "Epoch 73/100\n",
            "1/1 [==============================] - 0s 13ms/step - loss: 0.6094 - mae: 0.6094\n",
            "Epoch 74/100\n",
            "1/1 [==============================] - 0s 7ms/step - loss: 0.5948 - mae: 0.5948\n",
            "Epoch 75/100\n",
            "1/1 [==============================] - 0s 5ms/step - loss: 0.3295 - mae: 0.3295\n",
            "Epoch 76/100\n",
            "1/1 [==============================] - 0s 6ms/step - loss: 0.2278 - mae: 0.2278\n",
            "Epoch 77/100\n",
            "1/1 [==============================] - 0s 6ms/step - loss: 0.3053 - mae: 0.3053\n",
            "Epoch 78/100\n",
            "1/1 [==============================] - 0s 7ms/step - loss: 0.1724 - mae: 0.1724\n",
            "Epoch 79/100\n",
            "1/1 [==============================] - 0s 7ms/step - loss: 0.4260 - mae: 0.4260\n",
            "Epoch 80/100\n",
            "1/1 [==============================] - 0s 10ms/step - loss: 0.5282 - mae: 0.5282\n",
            "Epoch 81/100\n",
            "1/1 [==============================] - 0s 10ms/step - loss: 0.4697 - mae: 0.4697\n",
            "Epoch 82/100\n",
            "1/1 [==============================] - 0s 7ms/step - loss: 0.2679 - mae: 0.2679\n",
            "Epoch 83/100\n",
            "1/1 [==============================] - 0s 6ms/step - loss: 0.5169 - mae: 0.5169\n",
            "Epoch 84/100\n",
            "1/1 [==============================] - 0s 7ms/step - loss: 0.6089 - mae: 0.6089\n",
            "Epoch 85/100\n",
            "1/1 [==============================] - 0s 6ms/step - loss: 0.4048 - mae: 0.4048\n",
            "Epoch 86/100\n",
            "1/1 [==============================] - 0s 11ms/step - loss: 0.0787 - mae: 0.0787\n",
            "Epoch 87/100\n",
            "1/1 [==============================] - 0s 5ms/step - loss: 0.2098 - mae: 0.2098\n",
            "Epoch 88/100\n",
            "1/1 [==============================] - 0s 6ms/step - loss: 0.0880 - mae: 0.0880\n",
            "Epoch 89/100\n",
            "1/1 [==============================] - 0s 6ms/step - loss: 0.2642 - mae: 0.2642\n",
            "Epoch 90/100\n",
            "1/1 [==============================] - 0s 6ms/step - loss: 0.2510 - mae: 0.2510\n",
            "Epoch 91/100\n",
            "1/1 [==============================] - 0s 6ms/step - loss: 0.0822 - mae: 0.0822\n",
            "Epoch 92/100\n",
            "1/1 [==============================] - 0s 7ms/step - loss: 0.1671 - mae: 0.1671\n",
            "Epoch 93/100\n",
            "1/1 [==============================] - 0s 7ms/step - loss: 0.0152 - mae: 0.0152\n",
            "Epoch 94/100\n",
            "1/1 [==============================] - 0s 6ms/step - loss: 0.1764 - mae: 0.1764\n",
            "Epoch 95/100\n",
            "1/1 [==============================] - 0s 6ms/step - loss: 0.0582 - mae: 0.0582\n",
            "Epoch 96/100\n",
            "1/1 [==============================] - 0s 6ms/step - loss: 0.3080 - mae: 0.3080\n",
            "Epoch 97/100\n",
            "1/1 [==============================] - 0s 7ms/step - loss: 0.3563 - mae: 0.3563\n",
            "Epoch 98/100\n",
            "1/1 [==============================] - 0s 7ms/step - loss: 0.1435 - mae: 0.1435\n",
            "Epoch 99/100\n",
            "1/1 [==============================] - 0s 13ms/step - loss: 0.3117 - mae: 0.3117\n",
            "Epoch 100/100\n",
            "1/1 [==============================] - 0s 5ms/step - loss: 0.4584 - mae: 0.4584\n"
          ]
        },
        {
          "output_type": "execute_result",
          "data": {
            "text/plain": [
              "<keras.callbacks.History at 0x7f8201bbd880>"
            ]
          },
          "metadata": {},
          "execution_count": 16
        }
      ]
    },
    {
      "cell_type": "code",
      "source": [
        "#Lets remind ourselves of the data \n",
        "X,Y "
      ],
      "metadata": {
        "colab": {
          "base_uri": "https://localhost:8080/"
        },
        "id": "VEZ0MX9Pb8ow",
        "outputId": "5d9aff53-cea1-44a5-cfde-78d4de2a8944"
      },
      "execution_count": null,
      "outputs": [
        {
          "output_type": "execute_result",
          "data": {
            "text/plain": [
              "(<tf.Tensor: shape=(8,), dtype=float32, numpy=array([-7., -4., -1.,  2.,  5.,  8., 11., 14.], dtype=float32)>,\n",
              " <tf.Tensor: shape=(8,), dtype=float32, numpy=array([ 3.,  6.,  9., 12., 15., 18., 21., 24.], dtype=float32)>)"
            ]
          },
          "metadata": {},
          "execution_count": 17
        }
      ]
    },
    {
      "cell_type": "code",
      "source": [
        "# lets make a prediction\n",
        "model.predict([17.0])"
      ],
      "metadata": {
        "colab": {
          "base_uri": "https://localhost:8080/"
        },
        "id": "wQhz4ZMbdqVB",
        "outputId": "04691ef4-88a2-400b-96ff-e3fc685c870a"
      },
      "execution_count": null,
      "outputs": [
        {
          "output_type": "stream",
          "name": "stdout",
          "text": [
            "1/1 [==============================] - 0s 54ms/step\n"
          ]
        },
        {
          "output_type": "execute_result",
          "data": {
            "text/plain": [
              "array([[27.890125]], dtype=float32)"
            ]
          },
          "metadata": {},
          "execution_count": 18
        }
      ]
    },
    {
      "cell_type": "markdown",
      "source": [
        "##Evaulating a model\n",
        "\n",
        "In practice, a typical workflow you'll go through when building neural networks is: \n",
        "\n",
        "building a mode -> fit it -> evaluate it -> tweak model -> fit it -> eval"
      ],
      "metadata": {
        "id": "bPKKd2E4dxVL"
      }
    },
    {
      "cell_type": "markdown",
      "source": [
        "When it comes to evaluation... there are 3 words you should memorize: \n",
        "\"Visualize, visualize, visualize\"\n",
        "\n",
        "its a good idea to visualize: \n",
        "\n",
        "* The data - what data are we working with? what does it look like? \n",
        "\n",
        "* The model itself - what does our model look like? \n",
        "\n",
        "* The training of a model - how does a model perform while it learns? \n",
        "\n",
        "* The predictions of the model - how do the predictions of a model line up with the truth \n",
        "\n",
        "\n"
      ],
      "metadata": {
        "id": "YFkWUA96hJM_"
      }
    },
    {
      "cell_type": "code",
      "source": [
        "#make a bigger dataset \n",
        "X = tf.range(-100,100,4)\n",
        "#start from -100 to 100, with a step of 4 \n",
        "X"
      ],
      "metadata": {
        "colab": {
          "base_uri": "https://localhost:8080/"
        },
        "id": "70ocp8p-h42o",
        "outputId": "44e559cf-d5ad-4da6-f639-2dab3b5e01cc"
      },
      "execution_count": null,
      "outputs": [
        {
          "output_type": "execute_result",
          "data": {
            "text/plain": [
              "<tf.Tensor: shape=(50,), dtype=int32, numpy=\n",
              "array([-100,  -96,  -92,  -88,  -84,  -80,  -76,  -72,  -68,  -64,  -60,\n",
              "        -56,  -52,  -48,  -44,  -40,  -36,  -32,  -28,  -24,  -20,  -16,\n",
              "        -12,   -8,   -4,    0,    4,    8,   12,   16,   20,   24,   28,\n",
              "         32,   36,   40,   44,   48,   52,   56,   60,   64,   68,   72,\n",
              "         76,   80,   84,   88,   92,   96], dtype=int32)>"
            ]
          },
          "metadata": {},
          "execution_count": 19
        }
      ]
    },
    {
      "cell_type": "code",
      "source": [
        "# this is the pattern we want our model to learn \n",
        "Y = X + 10\n",
        "\n",
        "Y "
      ],
      "metadata": {
        "colab": {
          "base_uri": "https://localhost:8080/"
        },
        "id": "Hz-3mTfdiFZ2",
        "outputId": "0e8d135f-bff2-45a1-b287-18199881ca51"
      },
      "execution_count": null,
      "outputs": [
        {
          "output_type": "execute_result",
          "data": {
            "text/plain": [
              "<tf.Tensor: shape=(50,), dtype=int32, numpy=\n",
              "array([-90, -86, -82, -78, -74, -70, -66, -62, -58, -54, -50, -46, -42,\n",
              "       -38, -34, -30, -26, -22, -18, -14, -10,  -6,  -2,   2,   6,  10,\n",
              "        14,  18,  22,  26,  30,  34,  38,  42,  46,  50,  54,  58,  62,\n",
              "        66,  70,  74,  78,  82,  86,  90,  94,  98, 102, 106], dtype=int32)>"
            ]
          },
          "metadata": {},
          "execution_count": 20
        }
      ]
    },
    {
      "cell_type": "code",
      "source": [
        "#lets visualize the data\n",
        "import matplotlib.pyplot as plt\n",
        "\n",
        "plt.scatter(X,Y) "
      ],
      "metadata": {
        "colab": {
          "base_uri": "https://localhost:8080/",
          "height": 283
        },
        "id": "Xo3kQMHDiQ8T",
        "outputId": "ade83953-4700-40cb-b68a-458e80d52742"
      },
      "execution_count": null,
      "outputs": [
        {
          "output_type": "execute_result",
          "data": {
            "text/plain": [
              "<matplotlib.collections.PathCollection at 0x7f8201ae8fa0>"
            ]
          },
          "metadata": {},
          "execution_count": 21
        },
        {
          "output_type": "display_data",
          "data": {
            "text/plain": [
              "<Figure size 432x288 with 1 Axes>"
            ],
            "image/png": "[encoded data removed]"
          },
          "metadata": {
            "needs_background": "light"
          }
        }
      ]
    },
    {
      "cell_type": "markdown",
      "source": [
        "### Concept of 3 sets... \n",
        "* **Training set** - model learns from this data, which is typically 70-80% of the total data you have available\n",
        "* **Validation set** - the model gets tuned on this data, which is typically 10-15% of the data avaialble. \n",
        "* **Test set** - the model gets evaluated on this data to test what it has learned, this set is typically 10-15% of the total data available "
      ],
      "metadata": {
        "id": "bPQfOw-Qihy1"
      }
    },
    {
      "cell_type": "code",
      "source": [
        "# Check the length of how many samples we have \n",
        "#small sample set\n",
        "len(X)"
      ],
      "metadata": {
        "colab": {
          "base_uri": "https://localhost:8080/"
        },
        "id": "-53LQ4adiiHf",
        "outputId": "a976294c-7c3d-46a1-8d5b-34c87d00b3ac"
      },
      "execution_count": null,
      "outputs": [
        {
          "output_type": "execute_result",
          "data": {
            "text/plain": [
              "50"
            ]
          },
          "metadata": {},
          "execution_count": 22
        }
      ]
    },
    {
      "cell_type": "code",
      "source": [
        "#split the data into train and test sets \n",
        "X_train = X[:40]#first 40 training samples  \n",
        "Y_train = Y[:40]\n",
        "\n",
        "X_test = X[40:]#last testing samples (20% of the data)\n",
        "Y_test = Y[40:]#last tesing samples \n",
        "\n",
        "len(X_train),len(X_test),len(Y_train),len(Y_test)"
      ],
      "metadata": {
        "colab": {
          "base_uri": "https://localhost:8080/"
        },
        "id": "EKJpp1k5k-3O",
        "outputId": "e47f6c0f-1595-47a2-9a49-c8fc36b6ad37"
      },
      "execution_count": null,
      "outputs": [
        {
          "output_type": "execute_result",
          "data": {
            "text/plain": [
              "(40, 10, 40, 10)"
            ]
          },
          "metadata": {},
          "execution_count": 23
        }
      ]
    },
    {
      "cell_type": "markdown",
      "source": [
        "### Visualizing the data \n",
        "\n",
        "now we've got our data in training and test sets... let's visualize it again."
      ],
      "metadata": {
        "id": "fnOvsZvKlAoI"
      }
    },
    {
      "cell_type": "code",
      "source": [
        "plt.figure(figsize=(10,7))\n",
        "#plot training data in blue \n",
        "plt.scatter(X_train,Y_train, c=\"b\", label=\"Training data\")\n",
        "\n",
        "#plot in green\n",
        "plt.scatter(X_test,Y_test, c=\"g\", label=\"Testing data\")\n",
        "#show legend \n",
        "plt.legend();"
      ],
      "metadata": {
        "colab": {
          "base_uri": "https://localhost:8080/",
          "height": 428
        },
        "id": "EiGB6hpllM6Q",
        "outputId": "a55bf0fc-4442-4ece-dfbb-6e586ec310fe"
      },
      "execution_count": null,
      "outputs": [
        {
          "output_type": "display_data",
          "data": {
            "text/plain": [
              "<Figure size 720x504 with 1 Axes>"
            ],
            "image/png": "[encoded data removed]"
          },
          "metadata": {
            "needs_background": "light"
          }
        }
      ]
    },
    {
      "cell_type": "code",
      "source": [
        "#Lets create our model \n",
        "\n",
        "#1. Create the model \n",
        "model = tf.keras.Sequential([ \n",
        "    tf.keras.layers.Dense(1)\n",
        "])\n",
        "\n",
        "#2.compile the model \n",
        "model.compile(loss=tf.keras.losses.mae,\n",
        "               optimizer=tf.keras.optimizers.SGD(),\n",
        "               metrics=[\"mae\"])\n",
        "\n",
        "# 3. fit the model\n",
        "# model.fit(tf.expand_dims(X_train,-1),Y_train,epochs=100)"
      ],
      "metadata": {
        "id": "ZoFrk3RPmKNJ"
      },
      "execution_count": null,
      "outputs": []
    },
    {
      "cell_type": "code",
      "source": [
        "X[0],Y[0]"
      ],
      "metadata": {
        "colab": {
          "base_uri": "https://localhost:8080/"
        },
        "id": "fxZrDLQ4oZgI",
        "outputId": "13bdb87b-c532-4732-e089-22bc8adbf849"
      },
      "execution_count": null,
      "outputs": [
        {
          "output_type": "execute_result",
          "data": {
            "text/plain": [
              "(<tf.Tensor: shape=(), dtype=int32, numpy=-100>,\n",
              " <tf.Tensor: shape=(), dtype=int32, numpy=-90>)"
            ]
          },
          "metadata": {},
          "execution_count": 26
        }
      ]
    },
    {
      "cell_type": "code",
      "source": [
        "#visualize the model \n",
        "#lets create a model which builds automatically by defining the input_shape argument in the first layer\n",
        "tf.random.set_seed(42)\n",
        "\n",
        "model = tf.keras.Sequential([ \n",
        "    tf.keras.layers.Dense(10,input_shape=[1], name=\"input_layer\"),\n",
        "    tf.keras.layers.Dense(1, name=\"output_layer\")\n",
        "], name = \"model_1\")\n",
        "#compile the model\n",
        "model.compile(loss=tf.keras.losses.mae, \n",
        "              optimizer=tf.keras.optimizers.SGD(),\n",
        "              metrics=[\"mae\"])\n",
        "\n"
      ],
      "metadata": {
        "id": "k-gSKPFVnPc4"
      },
      "execution_count": null,
      "outputs": []
    },
    {
      "cell_type": "code",
      "source": [
        "model.summary()"
      ],
      "metadata": {
        "colab": {
          "base_uri": "https://localhost:8080/"
        },
        "id": "YgGn0MlZopm0",
        "outputId": "7a5351d2-70b9-46a3-8991-c1116aed8f8d"
      },
      "execution_count": null,
      "outputs": [
        {
          "output_type": "stream",
          "name": "stdout",
          "text": [
            "Model: \"model_1\"\n",
            "_________________________________________________________________\n",
            " Layer (type)                Output Shape              Param #   \n",
            "=================================================================\n",
            " input_layer (Dense)         (None, 10)                20        \n",
            "                                                                 \n",
            " output_layer (Dense)        (None, 1)                 11        \n",
            "                                                                 \n",
            "=================================================================\n",
            "Total params: 31\n",
            "Trainable params: 31\n",
            "Non-trainable params: 0\n",
            "_________________________________________________________________\n"
          ]
        }
      ]
    },
    {
      "cell_type": "markdown",
      "source": [
        "* Total params - total number of parameters in a model \n",
        "* Trainable parameters - these are the paramets (patterns) the model can update as it trains \n",
        "* Non-trainable params - these parameters aren't updated during training (this is typical when you bring in already learn patterns or parameters from other model during **transfer learning** \n",
        "\n",
        "we don't know what trainable params are \n",
        "\n",
        "**resource:** for more in depth overview of trainable, look into MIT intro to deep learning\n",
        "\n",
        "**Excercise:** try playing around with the number of hidden units in the dense layer, see how that effects the number of paramerts (total and trainable) by calling 'model.summary()'\n"
      ],
      "metadata": {
        "id": "LUoPV3dCo8Vc"
      }
    },
    {
      "cell_type": "code",
      "source": [
        "#lets fit our model to the training data\n",
        "model.fit(X_train,Y_train,epochs = 150, verbose=0)\n",
        "#verbose just states how you want to see the training progress for each epock"
      ],
      "metadata": {
        "colab": {
          "base_uri": "https://localhost:8080/"
        },
        "id": "N81XP8mbpfdS",
        "outputId": "e467f53c-3a26-4a4e-a275-29121388e16b"
      },
      "execution_count": null,
      "outputs": [
        {
          "output_type": "execute_result",
          "data": {
            "text/plain": [
              "<keras.callbacks.History at 0x7f8201a01850>"
            ]
          },
          "metadata": {},
          "execution_count": 29
        }
      ]
    },
    {
      "cell_type": "code",
      "source": [
        "#one more way we can plot our model \n",
        "from tensorflow.keras.utils import plot_model\n",
        "\n",
        "plot_model(model = model, show_shapes=True)\n",
        "#in the video he references line 26 above"
      ],
      "metadata": {
        "colab": {
          "base_uri": "https://localhost:8080/",
          "height": 312
        },
        "id": "Lt-WTztIdpQI",
        "outputId": "5764aebf-1591-4911-8108-e1f1677c7547"
      },
      "execution_count": null,
      "outputs": [
        {
          "output_type": "execute_result",
          "data": {
            "image/png": "[encoded data removed]",
            "text/plain": [
              "<IPython.core.display.Image object>"
            ]
          },
          "metadata": {},
          "execution_count": 30
        }
      ]
    },
    {
      "cell_type": "markdown",
      "source": [
        "###Visualizing our models predictions\n",
        "\n",
        "To visualize predictions, it is a good idea to plot them against ground truth labels. \n",
        "\n",
        "Often you'll see this in the form of o'y_test' vs 'y_pred' (ground truth versus your model predictions"
      ],
      "metadata": {
        "id": "UNIYww78ewaa"
      }
    },
    {
      "cell_type": "code",
      "source": [
        "#make some predictions \n",
        "y_pred = model.predict(X_test)\n",
        "y_pred"
      ],
      "metadata": {
        "colab": {
          "base_uri": "https://localhost:8080/"
        },
        "id": "-C328vhme1aP",
        "outputId": "f6c23305-a7cb-4f15-a159-ab03513ddd4a"
      },
      "execution_count": null,
      "outputs": [
        {
          "output_type": "stream",
          "name": "stdout",
          "text": [
            "1/1 [==============================] - 0s 60ms/step\n"
          ]
        },
        {
          "output_type": "execute_result",
          "data": {
            "text/plain": [
              "array([[ 83.289734],\n",
              "       [ 88.66431 ],\n",
              "       [ 94.03887 ],\n",
              "       [ 99.41344 ],\n",
              "       [104.78801 ],\n",
              "       [110.16258 ],\n",
              "       [115.537155],\n",
              "       [120.91173 ],\n",
              "       [126.28629 ],\n",
              "       [131.66087 ]], dtype=float32)"
            ]
          },
          "metadata": {},
          "execution_count": 31
        }
      ]
    },
    {
      "cell_type": "code",
      "source": [
        "Y_test"
      ],
      "metadata": {
        "colab": {
          "base_uri": "https://localhost:8080/"
        },
        "id": "mg3jmd6lfVpa",
        "outputId": "70e7c629-54ab-4316-bf7f-cf81f15bef09"
      },
      "execution_count": null,
      "outputs": [
        {
          "output_type": "execute_result",
          "data": {
            "text/plain": [
              "<tf.Tensor: shape=(10,), dtype=int32, numpy=array([ 70,  74,  78,  82,  86,  90,  94,  98, 102, 106], dtype=int32)>"
            ]
          },
          "metadata": {},
          "execution_count": 32
        }
      ]
    },
    {
      "cell_type": "markdown",
      "source": [
        "**Note:** If you feel like you're going to reuse some kind of functionality in the future, it's a good idea to turn it into a function"
      ],
      "metadata": {
        "id": "Q77TA13Lflsa"
      }
    },
    {
      "cell_type": "code",
      "source": [
        "#let's create a plotting function \n",
        "def plot_predictions(train_data = X_train,\n",
        "                     train_labels=Y_train,\n",
        "                     test_data=X_test, \n",
        "                     test_labels=Y_test,\n",
        "                     predictions=y_pred): \n",
        "\n",
        "  \"\"\" \n",
        "  plots training data, test data and compares predictions to ground truth labels \n",
        "  \"\"\"\n",
        "  plt.figure(figsize=(10,7))\n",
        "  #plot training data. \n",
        "  plt.scatter(train_data,train_labels,c = \"b\", label = \"Training data\")\n",
        "  #plot testing data green \n",
        "  plt.scatter(test_data,test_labels, c=\"g\",label=\"Tesing data\")\n",
        "  # plot model's predictions in red \n",
        "  plt.scatter(test_data, predictions, c=\"r\",label=\"predictions\")\n",
        "\n",
        "  plt.legend();"
      ],
      "metadata": {
        "id": "x-6wU8rlfcd_"
      },
      "execution_count": null,
      "outputs": []
    },
    {
      "cell_type": "code",
      "source": [
        "plot_predictions()\n",
        "\n",
        "#editing the epochs on model fit will get our predictions plot closer to the\n",
        "#the testing data."
      ],
      "metadata": {
        "colab": {
          "base_uri": "https://localhost:8080/",
          "height": 428
        },
        "id": "LJJEHob4heTH",
        "outputId": "ace50443-569e-46cb-f8e5-c24a7b36a8cd"
      },
      "execution_count": null,
      "outputs": [
        {
          "output_type": "display_data",
          "data": {
            "text/plain": [
              "<Figure size 720x504 with 1 Axes>"
            ],
            "image/png": "[encoded data removed]"
          },
          "metadata": {
            "needs_background": "light"
          }
        }
      ]
    },
    {
      "cell_type": "markdown",
      "source": [
        "### Evaluating our model's predictions with regression evaluation metrics \n",
        "\n",
        "Depending on the problem you're working on, there will be different evaluation metrics to evaluate your model's performance\n",
        "\n",
        "Since we're working on a regression problem, two of the main metrics: \n",
        "\n",
        "* MAE - `mean absolute error`, \"on average, how wrong is each of the my model's predictions\n",
        "\n",
        "* MSE - `mean square error`, \"square the average errors\""
      ],
      "metadata": {
        "id": "7WN2v55di43x"
      }
    },
    {
      "cell_type": "code",
      "source": [
        "# Evaluate the model on the test\n",
        "model.evaluate(X_test,Y_test)"
      ],
      "metadata": {
        "colab": {
          "base_uri": "https://localhost:8080/"
        },
        "id": "zzXrIOxBnCki",
        "outputId": "0cab6993-d5c8-4c5a-c29e-b2103d2925a7"
      },
      "execution_count": null,
      "outputs": [
        {
          "output_type": "stream",
          "name": "stdout",
          "text": [
            "1/1 [==============================] - 0s 158ms/step - loss: 19.4753 - mae: 19.4753\n"
          ]
        },
        {
          "output_type": "execute_result",
          "data": {
            "text/plain": [
              "[19.47530174255371, 19.47530174255371]"
            ]
          },
          "metadata": {},
          "execution_count": 35
        }
      ]
    },
    {
      "cell_type": "code",
      "source": [
        "# calculte the mean absolute error\n",
        "tf.metrics.mean_absolute_error(y_true=Y_test,\n",
        "                               y_pred=tf.constant(y_pred))\n",
        "#here we will get a metric for each of our test labels"
      ],
      "metadata": {
        "colab": {
          "base_uri": "https://localhost:8080/"
        },
        "id": "h_MYbB3_qI8V",
        "outputId": "2ca9415e-b45e-43f8-d75c-999d9a702023"
      },
      "execution_count": null,
      "outputs": [
        {
          "output_type": "execute_result",
          "data": {
            "text/plain": [
              "<tf.Tensor: shape=(10,), dtype=float32, numpy=\n",
              "array([10.542053, 10.      , 10.815549, 13.248062, 17.030407, 22.162582,\n",
              "       27.537155, 32.911728, 38.286293, 43.660873], dtype=float32)>"
            ]
          },
          "metadata": {},
          "execution_count": 36
        }
      ]
    },
    {
      "cell_type": "code",
      "source": [
        "tf.constant(y_pred)"
      ],
      "metadata": {
        "colab": {
          "base_uri": "https://localhost:8080/"
        },
        "id": "DX9TfkD3qU_N",
        "outputId": "955d082e-123a-4294-b823-e2dd4d936d18"
      },
      "execution_count": null,
      "outputs": [
        {
          "output_type": "execute_result",
          "data": {
            "text/plain": [
              "<tf.Tensor: shape=(10, 1), dtype=float32, numpy=\n",
              "array([[ 83.289734],\n",
              "       [ 88.66431 ],\n",
              "       [ 94.03887 ],\n",
              "       [ 99.41344 ],\n",
              "       [104.78801 ],\n",
              "       [110.16258 ],\n",
              "       [115.537155],\n",
              "       [120.91173 ],\n",
              "       [126.28629 ],\n",
              "       [131.66087 ]], dtype=float32)>"
            ]
          },
          "metadata": {},
          "execution_count": 37
        }
      ]
    },
    {
      "cell_type": "code",
      "source": [
        "Y_test"
      ],
      "metadata": {
        "colab": {
          "base_uri": "https://localhost:8080/"
        },
        "id": "XhRGCbmrqYgP",
        "outputId": "ecdb4ab5-018b-4031-a663-58f04d9bebcd"
      },
      "execution_count": null,
      "outputs": [
        {
          "output_type": "execute_result",
          "data": {
            "text/plain": [
              "<tf.Tensor: shape=(10,), dtype=int32, numpy=array([ 70,  74,  78,  82,  86,  90,  94,  98, 102, 106], dtype=int32)>"
            ]
          },
          "metadata": {},
          "execution_count": 38
        }
      ]
    },
    {
      "cell_type": "code",
      "source": [
        "#to remove the 1 dimension on 74 \n",
        "\n",
        "tf.squeeze(y_pred)"
      ],
      "metadata": {
        "colab": {
          "base_uri": "https://localhost:8080/"
        },
        "id": "Z9Hkfc7Srhq4",
        "outputId": "690ed54c-9ce4-492f-95ac-338f356a43d4"
      },
      "execution_count": null,
      "outputs": [
        {
          "output_type": "execute_result",
          "data": {
            "text/plain": [
              "<tf.Tensor: shape=(10,), dtype=float32, numpy=\n",
              "array([ 83.289734,  88.66431 ,  94.03887 ,  99.41344 , 104.78801 ,\n",
              "       110.16258 , 115.537155, 120.91173 , 126.28629 , 131.66087 ],\n",
              "      dtype=float32)>"
            ]
          },
          "metadata": {},
          "execution_count": 39
        }
      ]
    },
    {
      "cell_type": "code",
      "source": [
        "#calculate the mean absolute error\n",
        "\n",
        "mae = tf.metrics.mean_absolute_error(y_true=Y_test,\n",
        "                                     y_pred=tf.squeeze(y_pred)) \n",
        "mae\n"
      ],
      "metadata": {
        "colab": {
          "base_uri": "https://localhost:8080/"
        },
        "id": "KXb5RI19rp5d",
        "outputId": "2d4b3455-cd9f-447c-bdbf-abf007647c1e"
      },
      "execution_count": null,
      "outputs": [
        {
          "output_type": "execute_result",
          "data": {
            "text/plain": [
              "<tf.Tensor: shape=(), dtype=float32, numpy=19.4753>"
            ]
          },
          "metadata": {},
          "execution_count": 40
        }
      ]
    },
    {
      "cell_type": "code",
      "source": [
        "# Calculate the mean square error \n",
        "mse = tf.metrics.mean_squared_error(y_true=Y_test,\n",
        "                                    y_pred=tf.squeeze(y_pred)) \n",
        "mse\n",
        "\n",
        "#mse is larger due to it being squared in its intitial equation"
      ],
      "metadata": {
        "colab": {
          "base_uri": "https://localhost:8080/"
        },
        "id": "RKLLyfCUsN3r",
        "outputId": "af17ebf0-c89e-4c84-b46d-23dda85a483a"
      },
      "execution_count": null,
      "outputs": [
        {
          "output_type": "execute_result",
          "data": {
            "text/plain": [
              "<tf.Tensor: shape=(), dtype=float32, numpy=394.87518>"
            ]
          },
          "metadata": {},
          "execution_count": 41
        }
      ]
    },
    {
      "cell_type": "code",
      "source": [
        "# make some functions to reuse MAE and MSE \n",
        "def mae(y_true,y_pred): \n",
        "  return tf.metrics.mean_absolute_error(y_true=y_true,\n",
        "                                        y_pred=tf.squeeze(y_pred) \n",
        "                                        )\n",
        "  \n",
        "def mse(y_true,y_pred): \n",
        "  return tf.metrics.mean_squared_error(y_true=y_true,\n",
        "                                       y_pred=tf.squeeze(y_pred))"
      ],
      "metadata": {
        "id": "LIa6YRx0s5kz"
      },
      "execution_count": null,
      "outputs": []
    },
    {
      "cell_type": "markdown",
      "source": [
        "### Running experiments to improve our model \n",
        "\n",
        "``` \n",
        "Build a model -> fit it -> tweak it -> evualate it -> fit it -> tweak it \n",
        "```\n",
        "1. Get more data - get more examples for your model to train on (more oppurtunities to learn patterns or relationships between features and labels) \n",
        "\n",
        "2. make your model larger(using a more complex model)- this might com ein the form of more layers or more hidden units in each layer.\n",
        "\n",
        "3. Train for longer - give your model more of a chance to find patterns in the data. \n",
        "\n",
        "Lets do 3 modelling experiments \n",
        "\n",
        "1. `model_1` - same as the original model, 1 layer, trained for 100 epochs \n",
        "\n",
        "2. `model_2` - 2 layers, trained for 100 epochs \n",
        "\n",
        "3. `model_3` - 2 layers, trained for 500 epochs\n",
        "\n",
        "**Build `model_1`**"
      ],
      "metadata": {
        "id": "wxXYQG-FtjYw"
      }
    },
    {
      "cell_type": "code",
      "source": [
        "X_train, Y_train"
      ],
      "metadata": {
        "colab": {
          "base_uri": "https://localhost:8080/"
        },
        "id": "p4O_Ij0LumGS",
        "outputId": "be86d8e9-175f-4473-9b6c-44f9793c5b8d"
      },
      "execution_count": null,
      "outputs": [
        {
          "output_type": "execute_result",
          "data": {
            "text/plain": [
              "(<tf.Tensor: shape=(40,), dtype=int32, numpy=\n",
              " array([-100,  -96,  -92,  -88,  -84,  -80,  -76,  -72,  -68,  -64,  -60,\n",
              "         -56,  -52,  -48,  -44,  -40,  -36,  -32,  -28,  -24,  -20,  -16,\n",
              "         -12,   -8,   -4,    0,    4,    8,   12,   16,   20,   24,   28,\n",
              "          32,   36,   40,   44,   48,   52,   56], dtype=int32)>,\n",
              " <tf.Tensor: shape=(40,), dtype=int32, numpy=\n",
              " array([-90, -86, -82, -78, -74, -70, -66, -62, -58, -54, -50, -46, -42,\n",
              "        -38, -34, -30, -26, -22, -18, -14, -10,  -6,  -2,   2,   6,  10,\n",
              "         14,  18,  22,  26,  30,  34,  38,  42,  46,  50,  54,  58,  62,\n",
              "         66], dtype=int32)>)"
            ]
          },
          "metadata": {},
          "execution_count": 43
        }
      ]
    },
    {
      "cell_type": "code",
      "source": [
        "#Model 1  \n",
        "\n",
        "#set the random seed\n",
        "\n",
        "tf.random.set_seed(42)\n",
        "\n",
        "#1. Create the model \n",
        "\n",
        "model_1 = tf.keras.Sequential([tf.keras.layers.Dense(1)\n",
        "]) \n",
        "\n",
        "#2.compile the model\n",
        "\n",
        "model_1.compile(loss=tf.keras.losses.mae,\n",
        "                optimizer=tf.keras.optimizers.SGD(), \n",
        "                metrics = [\"mae\"]) \n",
        "\n",
        "#3. fit the model \n",
        "\n",
        "model_1.fit(tf.expand_dims(X_train, axis=-1),Y_train,epochs=100)"
      ],
      "metadata": {
        "id": "RQva44fPvOUv",
        "colab": {
          "base_uri": "https://localhost:8080/"
        },
        "outputId": "8cee1363-6a7e-4837-c099-eee0f0eed229"
      },
      "execution_count": null,
      "outputs": [
        {
          "output_type": "stream",
          "name": "stdout",
          "text": [
            "Epoch 1/100\n",
            "2/2 [==============================] - 0s 6ms/step - loss: 15.9024 - mae: 15.9024\n",
            "Epoch 2/100\n",
            "2/2 [==============================] - 0s 9ms/step - loss: 11.2837 - mae: 11.2837\n",
            "Epoch 3/100\n",
            "2/2 [==============================] - 0s 5ms/step - loss: 11.1075 - mae: 11.1075\n",
            "Epoch 4/100\n",
            "2/2 [==============================] - 0s 6ms/step - loss: 9.2990 - mae: 9.2990\n",
            "Epoch 5/100\n",
            "2/2 [==============================] - 0s 8ms/step - loss: 10.1677 - mae: 10.1677\n",
            "Epoch 6/100\n",
            "2/2 [==============================] - 0s 6ms/step - loss: 9.4303 - mae: 9.4303\n",
            "Epoch 7/100\n",
            "2/2 [==============================] - 0s 6ms/step - loss: 8.5704 - mae: 8.5704\n",
            "Epoch 8/100\n",
            "2/2 [==============================] - 0s 6ms/step - loss: 9.0442 - mae: 9.0442\n",
            "Epoch 9/100\n",
            "2/2 [==============================] - 0s 5ms/step - loss: 18.7517 - mae: 18.7517\n",
            "Epoch 10/100\n",
            "2/2 [==============================] - 0s 6ms/step - loss: 10.1142 - mae: 10.1142\n",
            "Epoch 11/100\n",
            "2/2 [==============================] - 0s 5ms/step - loss: 8.3980 - mae: 8.3980\n",
            "Epoch 12/100\n",
            "2/2 [==============================] - 0s 5ms/step - loss: 10.6639 - mae: 10.6639\n",
            "Epoch 13/100\n",
            "2/2 [==============================] - 0s 6ms/step - loss: 9.7977 - mae: 9.7977\n",
            "Epoch 14/100\n",
            "2/2 [==============================] - 0s 5ms/step - loss: 16.0103 - mae: 16.0103\n",
            "Epoch 15/100\n",
            "2/2 [==============================] - 0s 4ms/step - loss: 11.4068 - mae: 11.4068\n",
            "Epoch 16/100\n",
            "2/2 [==============================] - 0s 8ms/step - loss: 8.5393 - mae: 8.5393\n",
            "Epoch 17/100\n",
            "2/2 [==============================] - 0s 5ms/step - loss: 13.6348 - mae: 13.6348\n",
            "Epoch 18/100\n",
            "2/2 [==============================] - 0s 3ms/step - loss: 11.4629 - mae: 11.4629\n",
            "Epoch 19/100\n",
            "2/2 [==============================] - 0s 5ms/step - loss: 17.9148 - mae: 17.9148\n",
            "Epoch 20/100\n",
            "2/2 [==============================] - 0s 5ms/step - loss: 15.0494 - mae: 15.0494\n",
            "Epoch 21/100\n",
            "2/2 [==============================] - 0s 4ms/step - loss: 11.0216 - mae: 11.0216\n",
            "Epoch 22/100\n",
            "2/2 [==============================] - 0s 9ms/step - loss: 8.1558 - mae: 8.1558\n",
            "Epoch 23/100\n",
            "2/2 [==============================] - 0s 9ms/step - loss: 9.5138 - mae: 9.5138\n",
            "Epoch 24/100\n",
            "2/2 [==============================] - 0s 7ms/step - loss: 7.6617 - mae: 7.6617\n",
            "Epoch 25/100\n",
            "2/2 [==============================] - 0s 6ms/step - loss: 13.1859 - mae: 13.1859\n",
            "Epoch 26/100\n",
            "2/2 [==============================] - 0s 4ms/step - loss: 16.4211 - mae: 16.4211\n",
            "Epoch 27/100\n",
            "2/2 [==============================] - 0s 7ms/step - loss: 13.1660 - mae: 13.1660\n",
            "Epoch 28/100\n",
            "2/2 [==============================] - 0s 5ms/step - loss: 14.2559 - mae: 14.2559\n",
            "Epoch 29/100\n",
            "2/2 [==============================] - 0s 3ms/step - loss: 10.0670 - mae: 10.0670\n",
            "Epoch 30/100\n",
            "2/2 [==============================] - 0s 4ms/step - loss: 16.3409 - mae: 16.3409\n",
            "Epoch 31/100\n",
            "2/2 [==============================] - 0s 8ms/step - loss: 23.6444 - mae: 23.6444\n",
            "Epoch 32/100\n",
            "2/2 [==============================] - 0s 3ms/step - loss: 7.6215 - mae: 7.6215\n",
            "Epoch 33/100\n",
            "2/2 [==============================] - 0s 4ms/step - loss: 9.3221 - mae: 9.3221\n",
            "Epoch 34/100\n",
            "2/2 [==============================] - 0s 4ms/step - loss: 13.7313 - mae: 13.7313\n",
            "Epoch 35/100\n",
            "2/2 [==============================] - 0s 5ms/step - loss: 11.1276 - mae: 11.1276\n",
            "Epoch 36/100\n",
            "2/2 [==============================] - 0s 5ms/step - loss: 13.3222 - mae: 13.3222\n",
            "Epoch 37/100\n",
            "2/2 [==============================] - 0s 7ms/step - loss: 9.4763 - mae: 9.4763\n",
            "Epoch 38/100\n",
            "2/2 [==============================] - 0s 4ms/step - loss: 10.1381 - mae: 10.1381\n",
            "Epoch 39/100\n",
            "2/2 [==============================] - 0s 4ms/step - loss: 10.1793 - mae: 10.1793\n",
            "Epoch 40/100\n",
            "2/2 [==============================] - 0s 5ms/step - loss: 10.9137 - mae: 10.9137\n",
            "Epoch 41/100\n",
            "2/2 [==============================] - 0s 5ms/step - loss: 7.9063 - mae: 7.9063\n",
            "Epoch 42/100\n",
            "2/2 [==============================] - 0s 4ms/step - loss: 10.0914 - mae: 10.0914\n",
            "Epoch 43/100\n",
            "2/2 [==============================] - 0s 4ms/step - loss: 8.7006 - mae: 8.7006\n",
            "Epoch 44/100\n",
            "2/2 [==============================] - 0s 7ms/step - loss: 12.2046 - mae: 12.2046\n",
            "Epoch 45/100\n",
            "2/2 [==============================] - 0s 10ms/step - loss: 13.7970 - mae: 13.7970\n",
            "Epoch 46/100\n",
            "2/2 [==============================] - 0s 4ms/step - loss: 8.4687 - mae: 8.4687\n",
            "Epoch 47/100\n",
            "2/2 [==============================] - 0s 9ms/step - loss: 9.1330 - mae: 9.1330\n",
            "Epoch 48/100\n",
            "2/2 [==============================] - 0s 4ms/step - loss: 10.6190 - mae: 10.6190\n",
            "Epoch 49/100\n",
            "2/2 [==============================] - 0s 5ms/step - loss: 7.7503 - mae: 7.7503\n",
            "Epoch 50/100\n",
            "2/2 [==============================] - 0s 5ms/step - loss: 9.5407 - mae: 9.5407\n",
            "Epoch 51/100\n",
            "2/2 [==============================] - 0s 5ms/step - loss: 9.1584 - mae: 9.1584\n",
            "Epoch 52/100\n",
            "2/2 [==============================] - 0s 4ms/step - loss: 16.3630 - mae: 16.3630\n",
            "Epoch 53/100\n",
            "2/2 [==============================] - 0s 5ms/step - loss: 14.1299 - mae: 14.1299\n",
            "Epoch 54/100\n",
            "2/2 [==============================] - 0s 4ms/step - loss: 21.1247 - mae: 21.1247\n",
            "Epoch 55/100\n",
            "2/2 [==============================] - 0s 8ms/step - loss: 16.3961 - mae: 16.3961\n",
            "Epoch 56/100\n",
            "2/2 [==============================] - 0s 4ms/step - loss: 9.9806 - mae: 9.9806\n",
            "Epoch 57/100\n",
            "2/2 [==============================] - 0s 4ms/step - loss: 9.9606 - mae: 9.9606\n",
            "Epoch 58/100\n",
            "2/2 [==============================] - 0s 4ms/step - loss: 9.2209 - mae: 9.2209\n",
            "Epoch 59/100\n",
            "2/2 [==============================] - 0s 4ms/step - loss: 8.4239 - mae: 8.4239\n",
            "Epoch 60/100\n",
            "2/2 [==============================] - 0s 6ms/step - loss: 9.4869 - mae: 9.4869\n",
            "Epoch 61/100\n",
            "2/2 [==============================] - 0s 4ms/step - loss: 11.4354 - mae: 11.4354\n",
            "Epoch 62/100\n",
            "2/2 [==============================] - 0s 5ms/step - loss: 11.6887 - mae: 11.6887\n",
            "Epoch 63/100\n",
            "2/2 [==============================] - 0s 11ms/step - loss: 7.0838 - mae: 7.0838\n",
            "Epoch 64/100\n",
            "2/2 [==============================] - 0s 7ms/step - loss: 16.9675 - mae: 16.9675\n",
            "Epoch 65/100\n",
            "2/2 [==============================] - 0s 4ms/step - loss: 12.4599 - mae: 12.4599\n",
            "Epoch 66/100\n",
            "2/2 [==============================] - 0s 4ms/step - loss: 13.0184 - mae: 13.0184\n",
            "Epoch 67/100\n",
            "2/2 [==============================] - 0s 6ms/step - loss: 8.0600 - mae: 8.0600\n",
            "Epoch 68/100\n",
            "2/2 [==============================] - 0s 4ms/step - loss: 10.1888 - mae: 10.1888\n",
            "Epoch 69/100\n",
            "2/2 [==============================] - 0s 5ms/step - loss: 12.3633 - mae: 12.3633\n",
            "Epoch 70/100\n",
            "2/2 [==============================] - 0s 4ms/step - loss: 9.0516 - mae: 9.0516\n",
            "Epoch 71/100\n",
            "2/2 [==============================] - 0s 6ms/step - loss: 10.0378 - mae: 10.0378\n",
            "Epoch 72/100\n",
            "2/2 [==============================] - 0s 10ms/step - loss: 10.0516 - mae: 10.0516\n",
            "Epoch 73/100\n",
            "2/2 [==============================] - 0s 4ms/step - loss: 12.6151 - mae: 12.6151\n",
            "Epoch 74/100\n",
            "2/2 [==============================] - 0s 5ms/step - loss: 10.3819 - mae: 10.3819\n",
            "Epoch 75/100\n",
            "2/2 [==============================] - 0s 4ms/step - loss: 9.7229 - mae: 9.7229\n",
            "Epoch 76/100\n",
            "2/2 [==============================] - 0s 4ms/step - loss: 11.2252 - mae: 11.2252\n",
            "Epoch 77/100\n",
            "2/2 [==============================] - 0s 5ms/step - loss: 8.3642 - mae: 8.3642\n",
            "Epoch 78/100\n",
            "2/2 [==============================] - 0s 6ms/step - loss: 9.1274 - mae: 9.1274\n",
            "Epoch 79/100\n",
            "2/2 [==============================] - 0s 5ms/step - loss: 19.5039 - mae: 19.5039\n",
            "Epoch 80/100\n",
            "2/2 [==============================] - 0s 4ms/step - loss: 14.8945 - mae: 14.8945\n",
            "Epoch 81/100\n",
            "2/2 [==============================] - 0s 6ms/step - loss: 9.0034 - mae: 9.0034\n",
            "Epoch 82/100\n",
            "2/2 [==============================] - 0s 4ms/step - loss: 13.0206 - mae: 13.0206\n",
            "Epoch 83/100\n",
            "2/2 [==============================] - 0s 8ms/step - loss: 7.9299 - mae: 7.9299\n",
            "Epoch 84/100\n",
            "2/2 [==============================] - 0s 5ms/step - loss: 7.6872 - mae: 7.6872\n",
            "Epoch 85/100\n",
            "2/2 [==============================] - 0s 5ms/step - loss: 10.0328 - mae: 10.0328\n",
            "Epoch 86/100\n",
            "2/2 [==============================] - 0s 6ms/step - loss: 9.2433 - mae: 9.2433\n",
            "Epoch 87/100\n",
            "2/2 [==============================] - 0s 6ms/step - loss: 12.0209 - mae: 12.0209\n",
            "Epoch 88/100\n",
            "2/2 [==============================] - 0s 6ms/step - loss: 10.6389 - mae: 10.6389\n",
            "Epoch 89/100\n",
            "2/2 [==============================] - 0s 6ms/step - loss: 7.2667 - mae: 7.2667\n",
            "Epoch 90/100\n",
            "2/2 [==============================] - 0s 4ms/step - loss: 12.7786 - mae: 12.7786\n",
            "Epoch 91/100\n",
            "2/2 [==============================] - 0s 4ms/step - loss: 7.3481 - mae: 7.3481\n",
            "Epoch 92/100\n",
            "2/2 [==============================] - 0s 5ms/step - loss: 7.7175 - mae: 7.7175\n",
            "Epoch 93/100\n",
            "2/2 [==============================] - 0s 5ms/step - loss: 7.1263 - mae: 7.1263\n",
            "Epoch 94/100\n",
            "2/2 [==============================] - 0s 5ms/step - loss: 12.6190 - mae: 12.6190\n",
            "Epoch 95/100\n",
            "2/2 [==============================] - 0s 10ms/step - loss: 10.0912 - mae: 10.0912\n",
            "Epoch 96/100\n",
            "2/2 [==============================] - 0s 5ms/step - loss: 9.3558 - mae: 9.3558\n",
            "Epoch 97/100\n",
            "2/2 [==============================] - 0s 5ms/step - loss: 12.6834 - mae: 12.6834\n",
            "Epoch 98/100\n",
            "2/2 [==============================] - 0s 6ms/step - loss: 8.6762 - mae: 8.6762\n",
            "Epoch 99/100\n",
            "2/2 [==============================] - 0s 5ms/step - loss: 9.4693 - mae: 9.4693\n",
            "Epoch 100/100\n",
            "2/2 [==============================] - 0s 8ms/step - loss: 8.7067 - mae: 8.7067\n"
          ]
        },
        {
          "output_type": "execute_result",
          "data": {
            "text/plain": [
              "<keras.callbacks.History at 0x7f82097b9be0>"
            ]
          },
          "metadata": {},
          "execution_count": 44
        }
      ]
    },
    {
      "cell_type": "code",
      "source": [
        "y_preds_1 = model_1.predict(X_test)\n",
        "plot_predictions(predictions=y_preds_1)"
      ],
      "metadata": {
        "colab": {
          "base_uri": "https://localhost:8080/",
          "height": 446
        },
        "id": "NA1inAZrzbkw",
        "outputId": "103f5826-f195-4725-8c92-bc0ef3260ba8"
      },
      "execution_count": null,
      "outputs": [
        {
          "output_type": "stream",
          "name": "stdout",
          "text": [
            "1/1 [==============================] - 0s 38ms/step\n"
          ]
        },
        {
          "output_type": "display_data",
          "data": {
            "text/plain": [
              "<Figure size 720x504 with 1 Axes>"
            ],
            "image/png": "[encoded data removed]"
          },
          "metadata": {
            "needs_background": "light"
          }
        }
      ]
    },
    {
      "cell_type": "code",
      "source": [
        "#Calculate model_1 evaluation metrics \n",
        "mae_1 = mae(Y_test, tf.squeeze(y_preds_1))\n",
        "mse_1 = mse(Y_test, tf.squeeze(y_preds_1))\n",
        "\n",
        "mae_1, mse_1"
      ],
      "metadata": {
        "colab": {
          "base_uri": "https://localhost:8080/"
        },
        "id": "fLU6fqCt0oe3",
        "outputId": "053428e3-65fb-49e5-95e4-89a5a5d1f9e3"
      },
      "execution_count": null,
      "outputs": [
        {
          "output_type": "execute_result",
          "data": {
            "text/plain": [
              "(<tf.Tensor: shape=(), dtype=float32, numpy=18.745327>,\n",
              " <tf.Tensor: shape=(), dtype=float32, numpy=353.57336>)"
            ]
          },
          "metadata": {},
          "execution_count": 46
        }
      ]
    },
    {
      "cell_type": "code",
      "source": [
        "#model_2 \n",
        "\n",
        "#set random seed\n",
        "tf.random.set_seed(42)\n",
        "\n",
        "#1. create the model\n",
        "model_2 = tf.keras.Sequential([tf.keras.layers.Dense(10),\n",
        "                               tf.keras.layers.Dense(1)]) \n",
        "\n",
        "#2. compile the model \n",
        "model_2.compile(loss=tf.keras.losses.mae, \n",
        "                optimizer=tf.keras.optimizers.SGD(), \n",
        "                metrics=[\"mse\"])\n",
        "#fit the model \n",
        "model_2.fit(tf.expand_dims(X_train, axis=-1),Y_train,epochs=100)\n"
      ],
      "metadata": {
        "id": "wfelvfwqxXe0",
        "colab": {
          "base_uri": "https://localhost:8080/"
        },
        "outputId": "3ef63ea0-a667-443d-dfea-d923e0bfc749"
      },
      "execution_count": null,
      "outputs": [
        {
          "output_type": "stream",
          "name": "stdout",
          "text": [
            "Epoch 1/100\n",
            "2/2 [==============================] - 0s 7ms/step - loss: 27.4058 - mse: 1084.1482\n",
            "Epoch 2/100\n",
            "2/2 [==============================] - 0s 5ms/step - loss: 24.6339 - mse: 777.9203\n",
            "Epoch 3/100\n",
            "2/2 [==============================] - 0s 10ms/step - loss: 29.8935 - mse: 1334.8953\n",
            "Epoch 4/100\n",
            "2/2 [==============================] - 0s 8ms/step - loss: 27.4055 - mse: 1106.8035\n",
            "Epoch 5/100\n",
            "2/2 [==============================] - 0s 7ms/step - loss: 14.9463 - mse: 281.1076\n",
            "Epoch 6/100\n",
            "2/2 [==============================] - 0s 7ms/step - loss: 11.8819 - mse: 168.6621\n",
            "Epoch 7/100\n",
            "2/2 [==============================] - 0s 5ms/step - loss: 11.1988 - mse: 151.3508\n",
            "Epoch 8/100\n",
            "2/2 [==============================] - 0s 6ms/step - loss: 11.0910 - mse: 160.3745\n",
            "Epoch 9/100\n",
            "2/2 [==============================] - 0s 5ms/step - loss: 40.4763 - mse: 2586.0085\n",
            "Epoch 10/100\n",
            "2/2 [==============================] - 0s 7ms/step - loss: 27.8687 - mse: 1094.4380\n",
            "Epoch 11/100\n",
            "2/2 [==============================] - 0s 8ms/step - loss: 10.2473 - mse: 147.9359\n",
            "Epoch 12/100\n",
            "2/2 [==============================] - 0s 10ms/step - loss: 25.2803 - mse: 890.3867\n",
            "Epoch 13/100\n",
            "2/2 [==============================] - 0s 7ms/step - loss: 16.9897 - mse: 399.9677\n",
            "Epoch 14/100\n",
            "2/2 [==============================] - 0s 7ms/step - loss: 25.9217 - mse: 1049.5515\n",
            "Epoch 15/100\n",
            "2/2 [==============================] - 0s 8ms/step - loss: 17.9948 - mse: 450.2581\n",
            "Epoch 16/100\n",
            "2/2 [==============================] - 0s 7ms/step - loss: 7.3510 - mse: 80.6206\n",
            "Epoch 17/100\n",
            "2/2 [==============================] - 0s 7ms/step - loss: 10.8636 - mse: 174.7868\n",
            "Epoch 18/100\n",
            "2/2 [==============================] - 0s 6ms/step - loss: 19.5304 - mse: 565.8052\n",
            "Epoch 19/100\n",
            "2/2 [==============================] - 0s 7ms/step - loss: 10.3469 - mse: 167.7749\n",
            "Epoch 20/100\n",
            "2/2 [==============================] - 0s 6ms/step - loss: 17.6985 - mse: 455.7096\n",
            "Epoch 21/100\n",
            "2/2 [==============================] - 0s 9ms/step - loss: 15.8985 - mse: 347.1929\n",
            "Epoch 22/100\n",
            "2/2 [==============================] - 0s 7ms/step - loss: 14.1991 - mse: 285.1767\n",
            "Epoch 23/100\n",
            "2/2 [==============================] - 0s 7ms/step - loss: 8.7720 - mse: 91.7852\n",
            "Epoch 24/100\n",
            "2/2 [==============================] - 0s 4ms/step - loss: 11.0570 - mse: 153.7430\n",
            "Epoch 25/100\n",
            "2/2 [==============================] - 0s 4ms/step - loss: 12.6838 - mse: 233.2950\n",
            "Epoch 26/100\n",
            "2/2 [==============================] - 0s 6ms/step - loss: 26.1877 - mse: 1024.6094\n",
            "Epoch 27/100\n",
            "2/2 [==============================] - 0s 8ms/step - loss: 11.7432 - mse: 194.8453\n",
            "Epoch 28/100\n",
            "2/2 [==============================] - 0s 9ms/step - loss: 22.8730 - mse: 835.6069\n",
            "Epoch 29/100\n",
            "2/2 [==============================] - 0s 5ms/step - loss: 9.2459 - mse: 96.7787\n",
            "Epoch 30/100\n",
            "2/2 [==============================] - 0s 5ms/step - loss: 29.2641 - mse: 1535.1335\n",
            "Epoch 31/100\n",
            "2/2 [==============================] - 0s 4ms/step - loss: 53.0224 - mse: 5030.2954\n",
            "Epoch 32/100\n",
            "2/2 [==============================] - 0s 4ms/step - loss: 11.9951 - mse: 211.7023\n",
            "Epoch 33/100\n",
            "2/2 [==============================] - 0s 4ms/step - loss: 15.6357 - mse: 337.3664\n",
            "Epoch 34/100\n",
            "2/2 [==============================] - 0s 6ms/step - loss: 12.6925 - mse: 214.4822\n",
            "Epoch 35/100\n",
            "2/2 [==============================] - 0s 4ms/step - loss: 9.2398 - mse: 92.9126\n",
            "Epoch 36/100\n",
            "2/2 [==============================] - 0s 4ms/step - loss: 16.6497 - mse: 403.6569\n",
            "Epoch 37/100\n",
            "2/2 [==============================] - 0s 5ms/step - loss: 11.0382 - mse: 192.3919\n",
            "Epoch 38/100\n",
            "2/2 [==============================] - 0s 4ms/step - loss: 18.1634 - mse: 433.6718\n",
            "Epoch 39/100\n",
            "2/2 [==============================] - 0s 4ms/step - loss: 19.1013 - mse: 529.6440\n",
            "Epoch 40/100\n",
            "2/2 [==============================] - 0s 5ms/step - loss: 20.4324 - mse: 610.1325\n",
            "Epoch 41/100\n",
            "2/2 [==============================] - 0s 5ms/step - loss: 14.9102 - mse: 279.6182\n",
            "Epoch 42/100\n",
            "2/2 [==============================] - 0s 9ms/step - loss: 12.2809 - mse: 186.6180\n",
            "Epoch 43/100\n",
            "2/2 [==============================] - 0s 5ms/step - loss: 10.7333 - mse: 167.0952\n",
            "Epoch 44/100\n",
            "2/2 [==============================] - 0s 5ms/step - loss: 23.0260 - mse: 830.4245\n",
            "Epoch 45/100\n",
            "2/2 [==============================] - 0s 5ms/step - loss: 10.3897 - mse: 128.9549\n",
            "Epoch 46/100\n",
            "2/2 [==============================] - 0s 5ms/step - loss: 11.7904 - mse: 181.9211\n",
            "Epoch 47/100\n",
            "2/2 [==============================] - 0s 4ms/step - loss: 9.6438 - mse: 153.8708\n",
            "Epoch 48/100\n",
            "2/2 [==============================] - 0s 5ms/step - loss: 17.2335 - mse: 402.8495\n",
            "Epoch 49/100\n",
            "2/2 [==============================] - 0s 11ms/step - loss: 9.5729 - mse: 99.8336\n",
            "Epoch 50/100\n",
            "2/2 [==============================] - 0s 4ms/step - loss: 13.8185 - mse: 260.3669\n",
            "Epoch 51/100\n",
            "2/2 [==============================] - 0s 5ms/step - loss: 11.5958 - mse: 154.7956\n",
            "Epoch 52/100\n",
            "2/2 [==============================] - 0s 5ms/step - loss: 30.5538 - mse: 1613.0883\n",
            "Epoch 53/100\n",
            "2/2 [==============================] - 0s 5ms/step - loss: 14.3541 - mse: 302.5291\n",
            "Epoch 54/100\n",
            "2/2 [==============================] - 0s 9ms/step - loss: 23.9713 - mse: 859.3983\n",
            "Epoch 55/100\n",
            "2/2 [==============================] - 0s 5ms/step - loss: 23.1938 - mse: 805.5450\n",
            "Epoch 56/100\n",
            "2/2 [==============================] - 0s 5ms/step - loss: 10.8837 - mse: 170.9834\n",
            "Epoch 57/100\n",
            "2/2 [==============================] - 0s 5ms/step - loss: 12.7445 - mse: 198.7015\n",
            "Epoch 58/100\n",
            "2/2 [==============================] - 0s 5ms/step - loss: 9.5995 - mse: 102.5890\n",
            "Epoch 59/100\n",
            "2/2 [==============================] - 0s 14ms/step - loss: 12.5172 - mse: 216.3367\n",
            "Epoch 60/100\n",
            "2/2 [==============================] - 0s 5ms/step - loss: 12.3200 - mse: 208.6370\n",
            "Epoch 61/100\n",
            "2/2 [==============================] - 0s 5ms/step - loss: 17.4604 - mse: 428.6392\n",
            "Epoch 62/100\n",
            "2/2 [==============================] - 0s 7ms/step - loss: 10.6052 - mse: 136.9776\n",
            "Epoch 63/100\n",
            "2/2 [==============================] - 0s 5ms/step - loss: 10.4893 - mse: 152.4554\n",
            "Epoch 64/100\n",
            "2/2 [==============================] - 0s 6ms/step - loss: 24.8450 - mse: 911.7509\n",
            "Epoch 65/100\n",
            "2/2 [==============================] - 0s 5ms/step - loss: 10.6761 - mse: 142.7374\n",
            "Epoch 66/100\n",
            "2/2 [==============================] - 0s 5ms/step - loss: 21.7809 - mse: 704.4487\n",
            "Epoch 67/100\n",
            "2/2 [==============================] - 0s 5ms/step - loss: 10.7136 - mse: 136.0194\n",
            "Epoch 68/100\n",
            "2/2 [==============================] - 0s 7ms/step - loss: 10.6397 - mse: 149.2299\n",
            "Epoch 69/100\n",
            "2/2 [==============================] - 0s 6ms/step - loss: 22.6914 - mse: 742.1758\n",
            "Epoch 70/100\n",
            "2/2 [==============================] - 0s 4ms/step - loss: 9.3316 - mse: 166.1627\n",
            "Epoch 71/100\n",
            "2/2 [==============================] - 0s 4ms/step - loss: 15.4355 - mse: 323.0844\n",
            "Epoch 72/100\n",
            "2/2 [==============================] - 0s 4ms/step - loss: 6.7437 - mse: 67.0210\n",
            "Epoch 73/100\n",
            "2/2 [==============================] - 0s 5ms/step - loss: 11.6891 - mse: 183.7296\n",
            "Epoch 74/100\n",
            "2/2 [==============================] - 0s 4ms/step - loss: 24.0400 - mse: 908.8988\n",
            "Epoch 75/100\n",
            "2/2 [==============================] - 0s 4ms/step - loss: 9.5896 - mse: 149.3948\n",
            "Epoch 76/100\n",
            "2/2 [==============================] - 0s 4ms/step - loss: 12.4371 - mse: 188.3310\n",
            "Epoch 77/100\n",
            "2/2 [==============================] - 0s 4ms/step - loss: 16.6488 - mse: 429.2705\n",
            "Epoch 78/100\n",
            "2/2 [==============================] - 0s 4ms/step - loss: 9.0614 - mse: 95.4869\n",
            "Epoch 79/100\n",
            "2/2 [==============================] - 0s 3ms/step - loss: 23.9675 - mse: 864.0859\n",
            "Epoch 80/100\n",
            "2/2 [==============================] - 0s 4ms/step - loss: 26.7463 - mse: 1104.4030\n",
            "Epoch 81/100\n",
            "2/2 [==============================] - 0s 5ms/step - loss: 11.6714 - mse: 170.7055\n",
            "Epoch 82/100\n",
            "2/2 [==============================] - 0s 6ms/step - loss: 12.0228 - mse: 211.9191\n",
            "Epoch 83/100\n",
            "2/2 [==============================] - 0s 4ms/step - loss: 17.4218 - mse: 395.5590\n",
            "Epoch 84/100\n",
            "2/2 [==============================] - 0s 4ms/step - loss: 7.2629 - mse: 73.0935\n",
            "Epoch 85/100\n",
            "2/2 [==============================] - 0s 4ms/step - loss: 14.9650 - mse: 312.8361\n",
            "Epoch 86/100\n",
            "2/2 [==============================] - 0s 5ms/step - loss: 15.2862 - mse: 315.3606\n",
            "Epoch 87/100\n",
            "2/2 [==============================] - 0s 4ms/step - loss: 19.1086 - mse: 521.2535\n",
            "Epoch 88/100\n",
            "2/2 [==============================] - 0s 4ms/step - loss: 29.8228 - mse: 1287.1902\n",
            "Epoch 89/100\n",
            "2/2 [==============================] - 0s 4ms/step - loss: 10.1742 - mse: 124.1342\n",
            "Epoch 90/100\n",
            "2/2 [==============================] - 0s 7ms/step - loss: 21.5240 - mse: 663.8608\n",
            "Epoch 91/100\n",
            "2/2 [==============================] - 0s 5ms/step - loss: 10.5716 - mse: 161.7467\n",
            "Epoch 92/100\n",
            "2/2 [==============================] - 0s 8ms/step - loss: 18.3977 - mse: 464.1323\n",
            "Epoch 93/100\n",
            "2/2 [==============================] - 0s 4ms/step - loss: 7.4138 - mse: 81.9820\n",
            "Epoch 94/100\n",
            "2/2 [==============================] - 0s 5ms/step - loss: 17.7380 - mse: 445.7377\n",
            "Epoch 95/100\n",
            "2/2 [==============================] - 0s 4ms/step - loss: 11.1144 - mse: 164.0820\n",
            "Epoch 96/100\n",
            "2/2 [==============================] - 0s 4ms/step - loss: 19.4346 - mse: 510.5842\n",
            "Epoch 97/100\n",
            "2/2 [==============================] - 0s 4ms/step - loss: 12.1593 - mse: 209.9755\n",
            "Epoch 98/100\n",
            "2/2 [==============================] - 0s 4ms/step - loss: 11.5653 - mse: 169.4052\n",
            "Epoch 99/100\n",
            "2/2 [==============================] - 0s 7ms/step - loss: 13.8827 - mse: 265.4630\n",
            "Epoch 100/100\n",
            "2/2 [==============================] - 0s 4ms/step - loss: 20.2277 - mse: 608.8219\n"
          ]
        },
        {
          "output_type": "execute_result",
          "data": {
            "text/plain": [
              "<keras.callbacks.History at 0x7f82096c22b0>"
            ]
          },
          "metadata": {},
          "execution_count": 47
        }
      ]
    },
    {
      "cell_type": "code",
      "source": [
        "y_preds_2 = model_2.predict(X_test)\n",
        "plot_predictions(predictions=y_preds_2)"
      ],
      "metadata": {
        "colab": {
          "base_uri": "https://localhost:8080/",
          "height": 484
        },
        "id": "S6tcA3QVzNWs",
        "outputId": "6f35d534-562c-4063-d5bb-9af1badd17d6"
      },
      "execution_count": null,
      "outputs": [
        {
          "output_type": "stream",
          "name": "stderr",
          "text": [
            "WARNING:tensorflow:5 out of the last 5 calls to <function Model.make_predict_function.<locals>.predict_function at 0x7f82096199d0> triggered tf.function retracing. Tracing is expensive and the excessive number of tracings could be due to (1) creating @tf.function repeatedly in a loop, (2) passing tensors with different shapes, (3) passing Python objects instead of tensors. For (1), please define your @tf.function outside of the loop. For (2), @tf.function has reduce_retracing=True option that can avoid unnecessary retracing. For (3), please refer to https://www.tensorflow.org/guide/function#controlling_retracing and https://www.tensorflow.org/api_docs/python/tf/function for  more details.\n"
          ]
        },
        {
          "output_type": "stream",
          "name": "stdout",
          "text": [
            "1/1 [==============================] - 0s 47ms/step\n"
          ]
        },
        {
          "output_type": "display_data",
          "data": {
            "text/plain": [
              "<Figure size 720x504 with 1 Axes>"
            ],
            "image/png": "[encoded data removed]"
          },
          "metadata": {
            "needs_background": "light"
          }
        }
      ]
    },
    {
      "cell_type": "code",
      "source": [
        "#Calculate model_2 evaluation metrics\n",
        "mae_2 = mae(Y_test, y_preds_2) \n",
        "mse_2 = mse(Y_test, y_preds_2)\n",
        "\n",
        "mae_2, mse_2"
      ],
      "metadata": {
        "colab": {
          "base_uri": "https://localhost:8080/"
        },
        "id": "M5qsUEpVAB_R",
        "outputId": "52c928d9-f65d-41ef-d18a-40a806e920ec"
      },
      "execution_count": null,
      "outputs": [
        {
          "output_type": "execute_result",
          "data": {
            "text/plain": [
              "(<tf.Tensor: shape=(), dtype=float32, numpy=3.19694>,\n",
              " <tf.Tensor: shape=(), dtype=float32, numpy=13.070127>)"
            ]
          },
          "metadata": {},
          "execution_count": 49
        }
      ]
    },
    {
      "cell_type": "code",
      "source": [
        "#model 3 \n",
        "#2 layers, trained for 500 epochs\n",
        "#set random seed \n",
        "tf.random.set_seed(42)\n",
        "\n",
        "#1. Create the model \n",
        "model_3 = tf.keras.Sequential([tf.keras.layers.Dense(10),\n",
        "                               tf.keras.layers.Dense(1)])\n",
        "\n",
        "#2. Compile the model \n",
        "\n",
        "model_3.compile(loss=tf.keras.losses.mae, \n",
        "                optimizer=tf.keras.optimizers.SGD(),\n",
        "                metrics=[\"mae\"])\n",
        "#3. fit the model \n",
        "\n",
        "model_3.fit(tf.expand_dims(X_train, axis=-1),Y_train,epochs=500)"
      ],
      "metadata": {
        "id": "Ip43nXajyOCb",
        "colab": {
          "base_uri": "https://localhost:8080/"
        },
        "outputId": "d4535e62-0adf-496f-845d-2d713c9ac4a9"
      },
      "execution_count": null,
      "outputs": [
        {
          "output_type": "stream",
          "name": "stdout",
          "text": [
            "Epoch 1/500\n",
            "2/2 [==============================] - 0s 6ms/step - loss: 27.4058 - mae: 27.4058\n",
            "Epoch 2/500\n",
            "2/2 [==============================] - 0s 5ms/step - loss: 24.6339 - mae: 24.6339\n",
            "Epoch 3/500\n",
            "2/2 [==============================] - 0s 5ms/step - loss: 29.8935 - mae: 29.8935\n",
            "Epoch 4/500\n",
            "2/2 [==============================] - 0s 6ms/step - loss: 27.4055 - mae: 27.4055\n",
            "Epoch 5/500\n",
            "2/2 [==============================] - 0s 4ms/step - loss: 14.9463 - mae: 14.9463\n",
            "Epoch 6/500\n",
            "2/2 [==============================] - 0s 5ms/step - loss: 11.8819 - mae: 11.8819\n",
            "Epoch 7/500\n",
            "2/2 [==============================] - 0s 5ms/step - loss: 11.1988 - mae: 11.1988\n",
            "Epoch 8/500\n",
            "2/2 [==============================] - 0s 5ms/step - loss: 11.0910 - mae: 11.0910\n",
            "Epoch 9/500\n",
            "2/2 [==============================] - 0s 5ms/step - loss: 40.4763 - mae: 40.4763\n",
            "Epoch 10/500\n",
            "2/2 [==============================] - 0s 6ms/step - loss: 27.8687 - mae: 27.8687\n",
            "Epoch 11/500\n",
            "2/2 [==============================] - 0s 6ms/step - loss: 10.2473 - mae: 10.2473\n",
            "Epoch 12/500\n",
            "2/2 [==============================] - 0s 6ms/step - loss: 25.2803 - mae: 25.2803\n",
            "Epoch 13/500\n",
            "2/2 [==============================] - 0s 3ms/step - loss: 16.9897 - mae: 16.9897\n",
            "Epoch 14/500\n",
            "2/2 [==============================] - 0s 4ms/step - loss: 25.9217 - mae: 25.9217\n",
            "Epoch 15/500\n",
            "2/2 [==============================] - 0s 6ms/step - loss: 17.9948 - mae: 17.9948\n",
            "Epoch 16/500\n",
            "2/2 [==============================] - 0s 6ms/step - loss: 7.3510 - mae: 7.3510\n",
            "Epoch 17/500\n",
            "2/2 [==============================] - 0s 6ms/step - loss: 10.8636 - mae: 10.8636\n",
            "Epoch 18/500\n",
            "2/2 [==============================] - 0s 6ms/step - loss: 19.5304 - mae: 19.5304\n",
            "Epoch 19/500\n",
            "2/2 [==============================] - 0s 6ms/step - loss: 10.3469 - mae: 10.3469\n",
            "Epoch 20/500\n",
            "2/2 [==============================] - 0s 6ms/step - loss: 17.6985 - mae: 17.6985\n",
            "Epoch 21/500\n",
            "2/2 [==============================] - 0s 8ms/step - loss: 15.8985 - mae: 15.8985\n",
            "Epoch 22/500\n",
            "2/2 [==============================] - 0s 8ms/step - loss: 14.1991 - mae: 14.1991\n",
            "Epoch 23/500\n",
            "2/2 [==============================] - 0s 8ms/step - loss: 8.7720 - mae: 8.7720\n",
            "Epoch 24/500\n",
            "2/2 [==============================] - 0s 5ms/step - loss: 11.0570 - mae: 11.0570\n",
            "Epoch 25/500\n",
            "2/2 [==============================] - 0s 5ms/step - loss: 12.6838 - mae: 12.6838\n",
            "Epoch 26/500\n",
            "2/2 [==============================] - 0s 6ms/step - loss: 26.1877 - mae: 26.1877\n",
            "Epoch 27/500\n",
            "2/2 [==============================] - 0s 7ms/step - loss: 11.7432 - mae: 11.7432\n",
            "Epoch 28/500\n",
            "2/2 [==============================] - 0s 5ms/step - loss: 22.8730 - mae: 22.8730\n",
            "Epoch 29/500\n",
            "2/2 [==============================] - 0s 6ms/step - loss: 9.2459 - mae: 9.2459\n",
            "Epoch 30/500\n",
            "2/2 [==============================] - 0s 5ms/step - loss: 29.2641 - mae: 29.2641\n",
            "Epoch 31/500\n",
            "2/2 [==============================] - 0s 5ms/step - loss: 53.0224 - mae: 53.0224\n",
            "Epoch 32/500\n",
            "2/2 [==============================] - 0s 4ms/step - loss: 11.9951 - mae: 11.9951\n",
            "Epoch 33/500\n",
            "2/2 [==============================] - 0s 7ms/step - loss: 15.6357 - mae: 15.6357\n",
            "Epoch 34/500\n",
            "2/2 [==============================] - 0s 8ms/step - loss: 12.6925 - mae: 12.6925\n",
            "Epoch 35/500\n",
            "2/2 [==============================] - 0s 5ms/step - loss: 9.2398 - mae: 9.2398\n",
            "Epoch 36/500\n",
            "2/2 [==============================] - 0s 5ms/step - loss: 16.6497 - mae: 16.6497\n",
            "Epoch 37/500\n",
            "2/2 [==============================] - 0s 5ms/step - loss: 11.0382 - mae: 11.0382\n",
            "Epoch 38/500\n",
            "2/2 [==============================] - 0s 5ms/step - loss: 18.1634 - mae: 18.1634\n",
            "Epoch 39/500\n",
            "2/2 [==============================] - 0s 8ms/step - loss: 19.1013 - mae: 19.1013\n",
            "Epoch 40/500\n",
            "2/2 [==============================] - 0s 6ms/step - loss: 20.4324 - mae: 20.4324\n",
            "Epoch 41/500\n",
            "2/2 [==============================] - 0s 13ms/step - loss: 14.9102 - mae: 14.9102\n",
            "Epoch 42/500\n",
            "2/2 [==============================] - 0s 7ms/step - loss: 12.2809 - mae: 12.2809\n",
            "Epoch 43/500\n",
            "2/2 [==============================] - 0s 6ms/step - loss: 10.7333 - mae: 10.7333\n",
            "Epoch 44/500\n",
            "2/2 [==============================] - 0s 7ms/step - loss: 23.0260 - mae: 23.0260\n",
            "Epoch 45/500\n",
            "2/2 [==============================] - 0s 6ms/step - loss: 10.3897 - mae: 10.3897\n",
            "Epoch 46/500\n",
            "2/2 [==============================] - 0s 7ms/step - loss: 11.7904 - mae: 11.7904\n",
            "Epoch 47/500\n",
            "2/2 [==============================] - 0s 7ms/step - loss: 9.6438 - mae: 9.6438\n",
            "Epoch 48/500\n",
            "2/2 [==============================] - 0s 5ms/step - loss: 17.2335 - mae: 17.2335\n",
            "Epoch 49/500\n",
            "2/2 [==============================] - 0s 5ms/step - loss: 9.5729 - mae: 9.5729\n",
            "Epoch 50/500\n",
            "2/2 [==============================] - 0s 5ms/step - loss: 13.8185 - mae: 13.8185\n",
            "Epoch 51/500\n",
            "2/2 [==============================] - 0s 5ms/step - loss: 11.5958 - mae: 11.5958\n",
            "Epoch 52/500\n",
            "2/2 [==============================] - 0s 5ms/step - loss: 30.5538 - mae: 30.5538\n",
            "Epoch 53/500\n",
            "2/2 [==============================] - 0s 6ms/step - loss: 14.3541 - mae: 14.3541\n",
            "Epoch 54/500\n",
            "2/2 [==============================] - 0s 9ms/step - loss: 23.9713 - mae: 23.9713\n",
            "Epoch 55/500\n",
            "2/2 [==============================] - 0s 5ms/step - loss: 23.1938 - mae: 23.1938\n",
            "Epoch 56/500\n",
            "2/2 [==============================] - 0s 6ms/step - loss: 10.8837 - mae: 10.8837\n",
            "Epoch 57/500\n",
            "2/2 [==============================] - 0s 5ms/step - loss: 12.7445 - mae: 12.7445\n",
            "Epoch 58/500\n",
            "2/2 [==============================] - 0s 7ms/step - loss: 9.5995 - mae: 9.5995\n",
            "Epoch 59/500\n",
            "2/2 [==============================] - 0s 5ms/step - loss: 12.5172 - mae: 12.5172\n",
            "Epoch 60/500\n",
            "2/2 [==============================] - 0s 5ms/step - loss: 12.3200 - mae: 12.3200\n",
            "Epoch 61/500\n",
            "2/2 [==============================] - 0s 4ms/step - loss: 17.4604 - mae: 17.4604\n",
            "Epoch 62/500\n",
            "2/2 [==============================] - 0s 6ms/step - loss: 10.6052 - mae: 10.6052\n",
            "Epoch 63/500\n",
            "2/2 [==============================] - 0s 7ms/step - loss: 10.4893 - mae: 10.4893\n",
            "Epoch 64/500\n",
            "2/2 [==============================] - 0s 7ms/step - loss: 24.8450 - mae: 24.8450\n",
            "Epoch 65/500\n",
            "2/2 [==============================] - 0s 7ms/step - loss: 10.6761 - mae: 10.6761\n",
            "Epoch 66/500\n",
            "2/2 [==============================] - 0s 4ms/step - loss: 21.7809 - mae: 21.7809\n",
            "Epoch 67/500\n",
            "2/2 [==============================] - 0s 8ms/step - loss: 10.7136 - mae: 10.7136\n",
            "Epoch 68/500\n",
            "2/2 [==============================] - 0s 6ms/step - loss: 10.6397 - mae: 10.6397\n",
            "Epoch 69/500\n",
            "2/2 [==============================] - 0s 4ms/step - loss: 22.6914 - mae: 22.6914\n",
            "Epoch 70/500\n",
            "2/2 [==============================] - 0s 8ms/step - loss: 9.3316 - mae: 9.3316\n",
            "Epoch 71/500\n",
            "2/2 [==============================] - 0s 4ms/step - loss: 15.4355 - mae: 15.4355\n",
            "Epoch 72/500\n",
            "2/2 [==============================] - 0s 4ms/step - loss: 6.7437 - mae: 6.7437\n",
            "Epoch 73/500\n",
            "2/2 [==============================] - 0s 4ms/step - loss: 11.6891 - mae: 11.6891\n",
            "Epoch 74/500\n",
            "2/2 [==============================] - 0s 4ms/step - loss: 24.0400 - mae: 24.0400\n",
            "Epoch 75/500\n",
            "2/2 [==============================] - 0s 4ms/step - loss: 9.5896 - mae: 9.5896\n",
            "Epoch 76/500\n",
            "2/2 [==============================] - 0s 5ms/step - loss: 12.4371 - mae: 12.4371\n",
            "Epoch 77/500\n",
            "2/2 [==============================] - 0s 4ms/step - loss: 16.6488 - mae: 16.6488\n",
            "Epoch 78/500\n",
            "2/2 [==============================] - 0s 8ms/step - loss: 9.0614 - mae: 9.0614\n",
            "Epoch 79/500\n",
            "2/2 [==============================] - 0s 6ms/step - loss: 23.9675 - mae: 23.9675\n",
            "Epoch 80/500\n",
            "2/2 [==============================] - 0s 7ms/step - loss: 26.7463 - mae: 26.7463\n",
            "Epoch 81/500\n",
            "2/2 [==============================] - 0s 6ms/step - loss: 11.6714 - mae: 11.6714\n",
            "Epoch 82/500\n",
            "2/2 [==============================] - 0s 7ms/step - loss: 12.0228 - mae: 12.0228\n",
            "Epoch 83/500\n",
            "2/2 [==============================] - 0s 5ms/step - loss: 17.4218 - mae: 17.4218\n",
            "Epoch 84/500\n",
            "2/2 [==============================] - 0s 5ms/step - loss: 7.2629 - mae: 7.2629\n",
            "Epoch 85/500\n",
            "2/2 [==============================] - 0s 6ms/step - loss: 14.9650 - mae: 14.9650\n",
            "Epoch 86/500\n",
            "2/2 [==============================] - 0s 6ms/step - loss: 15.2862 - mae: 15.2862\n",
            "Epoch 87/500\n",
            "2/2 [==============================] - 0s 5ms/step - loss: 19.1086 - mae: 19.1086\n",
            "Epoch 88/500\n",
            "2/2 [==============================] - 0s 7ms/step - loss: 29.8228 - mae: 29.8228\n",
            "Epoch 89/500\n",
            "2/2 [==============================] - 0s 4ms/step - loss: 10.1742 - mae: 10.1742\n",
            "Epoch 90/500\n",
            "2/2 [==============================] - 0s 5ms/step - loss: 21.5240 - mae: 21.5240\n",
            "Epoch 91/500\n",
            "2/2 [==============================] - 0s 5ms/step - loss: 10.5716 - mae: 10.5716\n",
            "Epoch 92/500\n",
            "2/2 [==============================] - 0s 5ms/step - loss: 18.3977 - mae: 18.3977\n",
            "Epoch 93/500\n",
            "2/2 [==============================] - 0s 5ms/step - loss: 7.4138 - mae: 7.4138\n",
            "Epoch 94/500\n",
            "2/2 [==============================] - 0s 5ms/step - loss: 17.7380 - mae: 17.7380\n",
            "Epoch 95/500\n",
            "2/2 [==============================] - 0s 8ms/step - loss: 11.1144 - mae: 11.1144\n",
            "Epoch 96/500\n",
            "2/2 [==============================] - 0s 8ms/step - loss: 19.4346 - mae: 19.4346\n",
            "Epoch 97/500\n",
            "2/2 [==============================] - 0s 8ms/step - loss: 12.1593 - mae: 12.1593\n",
            "Epoch 98/500\n",
            "2/2 [==============================] - 0s 8ms/step - loss: 11.5653 - mae: 11.5653\n",
            "Epoch 99/500\n",
            "2/2 [==============================] - 0s 5ms/step - loss: 13.8827 - mae: 13.8827\n",
            "Epoch 100/500\n",
            "2/2 [==============================] - 0s 5ms/step - loss: 20.2277 - mae: 20.2277\n",
            "Epoch 101/500\n",
            "2/2 [==============================] - 0s 4ms/step - loss: 11.4479 - mae: 11.4479\n",
            "Epoch 102/500\n",
            "2/2 [==============================] - 0s 4ms/step - loss: 17.4842 - mae: 17.4842\n",
            "Epoch 103/500\n",
            "2/2 [==============================] - 0s 4ms/step - loss: 7.0217 - mae: 7.0217\n",
            "Epoch 104/500\n",
            "2/2 [==============================] - 0s 4ms/step - loss: 23.5789 - mae: 23.5789\n",
            "Epoch 105/500\n",
            "2/2 [==============================] - 0s 11ms/step - loss: 16.8932 - mae: 16.8932\n",
            "Epoch 106/500\n",
            "2/2 [==============================] - 0s 8ms/step - loss: 9.2954 - mae: 9.2954\n",
            "Epoch 107/500\n",
            "2/2 [==============================] - 0s 6ms/step - loss: 25.3749 - mae: 25.3749\n",
            "Epoch 108/500\n",
            "2/2 [==============================] - 0s 4ms/step - loss: 13.4621 - mae: 13.4621\n",
            "Epoch 109/500\n",
            "2/2 [==============================] - 0s 4ms/step - loss: 9.5238 - mae: 9.5238\n",
            "Epoch 110/500\n",
            "2/2 [==============================] - 0s 4ms/step - loss: 9.6722 - mae: 9.6722\n",
            "Epoch 111/500\n",
            "2/2 [==============================] - 0s 5ms/step - loss: 14.5987 - mae: 14.5987\n",
            "Epoch 112/500\n",
            "2/2 [==============================] - 0s 8ms/step - loss: 9.5670 - mae: 9.5670\n",
            "Epoch 113/500\n",
            "2/2 [==============================] - 0s 4ms/step - loss: 17.8092 - mae: 17.8092\n",
            "Epoch 114/500\n",
            "2/2 [==============================] - 0s 7ms/step - loss: 17.1782 - mae: 17.1782\n",
            "Epoch 115/500\n",
            "2/2 [==============================] - 0s 4ms/step - loss: 11.1182 - mae: 11.1182\n",
            "Epoch 116/500\n",
            "2/2 [==============================] - 0s 5ms/step - loss: 23.3071 - mae: 23.3071\n",
            "Epoch 117/500\n",
            "2/2 [==============================] - 0s 9ms/step - loss: 9.6144 - mae: 9.6144\n",
            "Epoch 118/500\n",
            "2/2 [==============================] - 0s 4ms/step - loss: 10.6899 - mae: 10.6899\n",
            "Epoch 119/500\n",
            "2/2 [==============================] - 0s 4ms/step - loss: 8.0355 - mae: 8.0355\n",
            "Epoch 120/500\n",
            "2/2 [==============================] - 0s 4ms/step - loss: 29.6859 - mae: 29.6859\n",
            "Epoch 121/500\n",
            "2/2 [==============================] - 0s 4ms/step - loss: 8.0714 - mae: 8.0714\n",
            "Epoch 122/500\n",
            "2/2 [==============================] - 0s 8ms/step - loss: 28.3086 - mae: 28.3086\n",
            "Epoch 123/500\n",
            "2/2 [==============================] - 0s 8ms/step - loss: 32.9014 - mae: 32.9014\n",
            "Epoch 124/500\n",
            "2/2 [==============================] - 0s 6ms/step - loss: 19.6291 - mae: 19.6291\n",
            "Epoch 125/500\n",
            "2/2 [==============================] - 0s 4ms/step - loss: 7.0095 - mae: 7.0095\n",
            "Epoch 126/500\n",
            "2/2 [==============================] - 0s 5ms/step - loss: 21.8056 - mae: 21.8056\n",
            "Epoch 127/500\n",
            "2/2 [==============================] - 0s 5ms/step - loss: 7.9812 - mae: 7.9812\n",
            "Epoch 128/500\n",
            "2/2 [==============================] - 0s 4ms/step - loss: 21.0585 - mae: 21.0585\n",
            "Epoch 129/500\n",
            "2/2 [==============================] - 0s 4ms/step - loss: 9.0107 - mae: 9.0107\n",
            "Epoch 130/500\n",
            "2/2 [==============================] - 0s 7ms/step - loss: 24.0502 - mae: 24.0502\n",
            "Epoch 131/500\n",
            "2/2 [==============================] - 0s 4ms/step - loss: 9.7537 - mae: 9.7537\n",
            "Epoch 132/500\n",
            "2/2 [==============================] - 0s 7ms/step - loss: 18.3052 - mae: 18.3052\n",
            "Epoch 133/500\n",
            "2/2 [==============================] - 0s 5ms/step - loss: 7.5833 - mae: 7.5833\n",
            "Epoch 134/500\n",
            "2/2 [==============================] - 0s 6ms/step - loss: 18.5755 - mae: 18.5755\n",
            "Epoch 135/500\n",
            "2/2 [==============================] - 0s 6ms/step - loss: 10.5360 - mae: 10.5360\n",
            "Epoch 136/500\n",
            "2/2 [==============================] - 0s 6ms/step - loss: 18.2694 - mae: 18.2694\n",
            "Epoch 137/500\n",
            "2/2 [==============================] - 0s 4ms/step - loss: 23.1658 - mae: 23.1658\n",
            "Epoch 138/500\n",
            "2/2 [==============================] - 0s 4ms/step - loss: 9.1362 - mae: 9.1362\n",
            "Epoch 139/500\n",
            "2/2 [==============================] - 0s 7ms/step - loss: 8.9181 - mae: 8.9181\n",
            "Epoch 140/500\n",
            "2/2 [==============================] - 0s 4ms/step - loss: 16.4732 - mae: 16.4732\n",
            "Epoch 141/500\n",
            "2/2 [==============================] - 0s 4ms/step - loss: 8.4208 - mae: 8.4208\n",
            "Epoch 142/500\n",
            "2/2 [==============================] - 0s 6ms/step - loss: 36.9540 - mae: 36.9540\n",
            "Epoch 143/500\n",
            "2/2 [==============================] - 0s 4ms/step - loss: 25.5820 - mae: 25.5820\n",
            "Epoch 144/500\n",
            "2/2 [==============================] - 0s 4ms/step - loss: 9.5392 - mae: 9.5392\n",
            "Epoch 145/500\n",
            "2/2 [==============================] - 0s 4ms/step - loss: 26.6058 - mae: 26.6058\n",
            "Epoch 146/500\n",
            "2/2 [==============================] - 0s 4ms/step - loss: 8.7248 - mae: 8.7248\n",
            "Epoch 147/500\n",
            "2/2 [==============================] - 0s 4ms/step - loss: 15.6172 - mae: 15.6172\n",
            "Epoch 148/500\n",
            "2/2 [==============================] - 0s 4ms/step - loss: 18.3065 - mae: 18.3065\n",
            "Epoch 149/500\n",
            "2/2 [==============================] - 0s 4ms/step - loss: 8.1994 - mae: 8.1994\n",
            "Epoch 150/500\n",
            "2/2 [==============================] - 0s 9ms/step - loss: 7.4964 - mae: 7.4964\n",
            "Epoch 151/500\n",
            "2/2 [==============================] - 0s 5ms/step - loss: 18.3374 - mae: 18.3374\n",
            "Epoch 152/500\n",
            "2/2 [==============================] - 0s 5ms/step - loss: 10.2895 - mae: 10.2895\n",
            "Epoch 153/500\n",
            "2/2 [==============================] - 0s 4ms/step - loss: 29.6425 - mae: 29.6425\n",
            "Epoch 154/500\n",
            "2/2 [==============================] - 0s 5ms/step - loss: 10.5555 - mae: 10.5555\n",
            "Epoch 155/500\n",
            "2/2 [==============================] - 0s 5ms/step - loss: 15.4537 - mae: 15.4537\n",
            "Epoch 156/500\n",
            "2/2 [==============================] - 0s 10ms/step - loss: 17.0174 - mae: 17.0174\n",
            "Epoch 157/500\n",
            "2/2 [==============================] - 0s 4ms/step - loss: 32.8218 - mae: 32.8218\n",
            "Epoch 158/500\n",
            "2/2 [==============================] - 0s 4ms/step - loss: 10.7038 - mae: 10.7038\n",
            "Epoch 159/500\n",
            "2/2 [==============================] - 0s 4ms/step - loss: 8.9054 - mae: 8.9054\n",
            "Epoch 160/500\n",
            "2/2 [==============================] - 0s 8ms/step - loss: 22.1321 - mae: 22.1321\n",
            "Epoch 161/500\n",
            "2/2 [==============================] - 0s 7ms/step - loss: 11.7113 - mae: 11.7113\n",
            "Epoch 162/500\n",
            "2/2 [==============================] - 0s 13ms/step - loss: 21.5734 - mae: 21.5734\n",
            "Epoch 163/500\n",
            "2/2 [==============================] - 0s 4ms/step - loss: 19.2485 - mae: 19.2485\n",
            "Epoch 164/500\n",
            "2/2 [==============================] - 0s 4ms/step - loss: 11.0156 - mae: 11.0156\n",
            "Epoch 165/500\n",
            "2/2 [==============================] - 0s 9ms/step - loss: 9.6187 - mae: 9.6187\n",
            "Epoch 166/500\n",
            "2/2 [==============================] - 0s 4ms/step - loss: 21.5908 - mae: 21.5908\n",
            "Epoch 167/500\n",
            "2/2 [==============================] - 0s 9ms/step - loss: 26.2851 - mae: 26.2851\n",
            "Epoch 168/500\n",
            "2/2 [==============================] - 0s 4ms/step - loss: 9.8525 - mae: 9.8525\n",
            "Epoch 169/500\n",
            "2/2 [==============================] - 0s 7ms/step - loss: 22.5631 - mae: 22.5631\n",
            "Epoch 170/500\n",
            "2/2 [==============================] - 0s 6ms/step - loss: 10.1499 - mae: 10.1499\n",
            "Epoch 171/500\n",
            "2/2 [==============================] - 0s 4ms/step - loss: 18.0464 - mae: 18.0464\n",
            "Epoch 172/500\n",
            "2/2 [==============================] - 0s 4ms/step - loss: 28.8377 - mae: 28.8377\n",
            "Epoch 173/500\n",
            "2/2 [==============================] - 0s 4ms/step - loss: 16.5279 - mae: 16.5279\n",
            "Epoch 174/500\n",
            "2/2 [==============================] - 0s 5ms/step - loss: 11.2115 - mae: 11.2115\n",
            "Epoch 175/500\n",
            "2/2 [==============================] - 0s 4ms/step - loss: 27.5839 - mae: 27.5839\n",
            "Epoch 176/500\n",
            "2/2 [==============================] - 0s 4ms/step - loss: 8.2680 - mae: 8.2680\n",
            "Epoch 177/500\n",
            "2/2 [==============================] - 0s 8ms/step - loss: 9.2580 - mae: 9.2580\n",
            "Epoch 178/500\n",
            "2/2 [==============================] - 0s 5ms/step - loss: 18.1440 - mae: 18.1440\n",
            "Epoch 179/500\n",
            "2/2 [==============================] - 0s 4ms/step - loss: 10.5995 - mae: 10.5995\n",
            "Epoch 180/500\n",
            "2/2 [==============================] - 0s 9ms/step - loss: 7.8992 - mae: 7.8992\n",
            "Epoch 181/500\n",
            "2/2 [==============================] - 0s 4ms/step - loss: 17.4015 - mae: 17.4015\n",
            "Epoch 182/500\n",
            "2/2 [==============================] - 0s 4ms/step - loss: 11.0089 - mae: 11.0089\n",
            "Epoch 183/500\n",
            "2/2 [==============================] - 0s 8ms/step - loss: 11.7027 - mae: 11.7027\n",
            "Epoch 184/500\n",
            "2/2 [==============================] - 0s 5ms/step - loss: 30.4062 - mae: 30.4062\n",
            "Epoch 185/500\n",
            "2/2 [==============================] - 0s 5ms/step - loss: 7.5557 - mae: 7.5557\n",
            "Epoch 186/500\n",
            "2/2 [==============================] - 0s 5ms/step - loss: 15.9905 - mae: 15.9905\n",
            "Epoch 187/500\n",
            "2/2 [==============================] - 0s 4ms/step - loss: 8.5579 - mae: 8.5579\n",
            "Epoch 188/500\n",
            "2/2 [==============================] - 0s 4ms/step - loss: 28.7339 - mae: 28.7339\n",
            "Epoch 189/500\n",
            "2/2 [==============================] - 0s 6ms/step - loss: 13.1689 - mae: 13.1689\n",
            "Epoch 190/500\n",
            "2/2 [==============================] - 0s 4ms/step - loss: 18.3101 - mae: 18.3101\n",
            "Epoch 191/500\n",
            "2/2 [==============================] - 0s 4ms/step - loss: 13.7376 - mae: 13.7376\n",
            "Epoch 192/500\n",
            "2/2 [==============================] - 0s 4ms/step - loss: 13.7104 - mae: 13.7104\n",
            "Epoch 193/500\n",
            "2/2 [==============================] - 0s 6ms/step - loss: 28.5842 - mae: 28.5842\n",
            "Epoch 194/500\n",
            "2/2 [==============================] - 0s 5ms/step - loss: 7.0707 - mae: 7.0707\n",
            "Epoch 195/500\n",
            "2/2 [==============================] - 0s 4ms/step - loss: 7.0550 - mae: 7.0550\n",
            "Epoch 196/500\n",
            "2/2 [==============================] - 0s 7ms/step - loss: 22.0067 - mae: 22.0067\n",
            "Epoch 197/500\n",
            "2/2 [==============================] - 0s 4ms/step - loss: 20.8443 - mae: 20.8443\n",
            "Epoch 198/500\n",
            "2/2 [==============================] - 0s 5ms/step - loss: 12.4713 - mae: 12.4713\n",
            "Epoch 199/500\n",
            "2/2 [==============================] - 0s 4ms/step - loss: 17.9099 - mae: 17.9099\n",
            "Epoch 200/500\n",
            "2/2 [==============================] - 0s 4ms/step - loss: 13.7493 - mae: 13.7493\n",
            "Epoch 201/500\n",
            "2/2 [==============================] - 0s 4ms/step - loss: 5.4687 - mae: 5.4687\n",
            "Epoch 202/500\n",
            "2/2 [==============================] - 0s 4ms/step - loss: 13.7005 - mae: 13.7005\n",
            "Epoch 203/500\n",
            "2/2 [==============================] - 0s 5ms/step - loss: 9.4142 - mae: 9.4142\n",
            "Epoch 204/500\n",
            "2/2 [==============================] - 0s 4ms/step - loss: 20.9796 - mae: 20.9796\n",
            "Epoch 205/500\n",
            "2/2 [==============================] - 0s 5ms/step - loss: 9.5470 - mae: 9.5470\n",
            "Epoch 206/500\n",
            "2/2 [==============================] - 0s 4ms/step - loss: 11.7256 - mae: 11.7256\n",
            "Epoch 207/500\n",
            "2/2 [==============================] - 0s 5ms/step - loss: 14.3772 - mae: 14.3772\n",
            "Epoch 208/500\n",
            "2/2 [==============================] - 0s 4ms/step - loss: 14.8579 - mae: 14.8579\n",
            "Epoch 209/500\n",
            "2/2 [==============================] - 0s 8ms/step - loss: 14.9706 - mae: 14.9706\n",
            "Epoch 210/500\n",
            "2/2 [==============================] - 0s 5ms/step - loss: 17.8998 - mae: 17.8998\n",
            "Epoch 211/500\n",
            "2/2 [==============================] - 0s 4ms/step - loss: 9.8327 - mae: 9.8327\n",
            "Epoch 212/500\n",
            "2/2 [==============================] - 0s 7ms/step - loss: 18.3352 - mae: 18.3352\n",
            "Epoch 213/500\n",
            "2/2 [==============================] - 0s 5ms/step - loss: 15.0383 - mae: 15.0383\n",
            "Epoch 214/500\n",
            "2/2 [==============================] - 0s 7ms/step - loss: 14.5874 - mae: 14.5874\n",
            "Epoch 215/500\n",
            "2/2 [==============================] - 0s 8ms/step - loss: 23.3015 - mae: 23.3015\n",
            "Epoch 216/500\n",
            "2/2 [==============================] - 0s 4ms/step - loss: 13.3613 - mae: 13.3613\n",
            "Epoch 217/500\n",
            "2/2 [==============================] - 0s 5ms/step - loss: 9.8517 - mae: 9.8517\n",
            "Epoch 218/500\n",
            "2/2 [==============================] - 0s 9ms/step - loss: 12.5451 - mae: 12.5451\n",
            "Epoch 219/500\n",
            "2/2 [==============================] - 0s 5ms/step - loss: 4.9472 - mae: 4.9472\n",
            "Epoch 220/500\n",
            "2/2 [==============================] - 0s 8ms/step - loss: 7.1130 - mae: 7.1130\n",
            "Epoch 221/500\n",
            "2/2 [==============================] - 0s 9ms/step - loss: 35.4567 - mae: 35.4567\n",
            "Epoch 222/500\n",
            "2/2 [==============================] - 0s 5ms/step - loss: 34.8634 - mae: 34.8634\n",
            "Epoch 223/500\n",
            "2/2 [==============================] - 0s 4ms/step - loss: 7.9846 - mae: 7.9846\n",
            "Epoch 224/500\n",
            "2/2 [==============================] - 0s 9ms/step - loss: 14.7004 - mae: 14.7004\n",
            "Epoch 225/500\n",
            "2/2 [==============================] - 0s 5ms/step - loss: 16.7196 - mae: 16.7196\n",
            "Epoch 226/500\n",
            "2/2 [==============================] - 0s 4ms/step - loss: 15.9329 - mae: 15.9329\n",
            "Epoch 227/500\n",
            "2/2 [==============================] - 0s 5ms/step - loss: 16.1644 - mae: 16.1644\n",
            "Epoch 228/500\n",
            "2/2 [==============================] - 0s 4ms/step - loss: 13.9324 - mae: 13.9324\n",
            "Epoch 229/500\n",
            "2/2 [==============================] - 0s 9ms/step - loss: 18.0504 - mae: 18.0504\n",
            "Epoch 230/500\n",
            "2/2 [==============================] - 0s 4ms/step - loss: 15.6120 - mae: 15.6120\n",
            "Epoch 231/500\n",
            "2/2 [==============================] - 0s 4ms/step - loss: 21.2041 - mae: 21.2041\n",
            "Epoch 232/500\n",
            "2/2 [==============================] - 0s 9ms/step - loss: 25.2732 - mae: 25.2732\n",
            "Epoch 233/500\n",
            "2/2 [==============================] - 0s 4ms/step - loss: 16.3176 - mae: 16.3176\n",
            "Epoch 234/500\n",
            "2/2 [==============================] - 0s 4ms/step - loss: 7.2729 - mae: 7.2729\n",
            "Epoch 235/500\n",
            "2/2 [==============================] - 0s 4ms/step - loss: 16.9688 - mae: 16.9688\n",
            "Epoch 236/500\n",
            "2/2 [==============================] - 0s 7ms/step - loss: 7.1225 - mae: 7.1225\n",
            "Epoch 237/500\n",
            "2/2 [==============================] - 0s 8ms/step - loss: 9.2058 - mae: 9.2058\n",
            "Epoch 238/500\n",
            "2/2 [==============================] - 0s 4ms/step - loss: 8.0961 - mae: 8.0961\n",
            "Epoch 239/500\n",
            "2/2 [==============================] - 0s 4ms/step - loss: 17.0538 - mae: 17.0538\n",
            "Epoch 240/500\n",
            "2/2 [==============================] - 0s 9ms/step - loss: 8.8627 - mae: 8.8627\n",
            "Epoch 241/500\n",
            "2/2 [==============================] - 0s 4ms/step - loss: 13.1711 - mae: 13.1711\n",
            "Epoch 242/500\n",
            "2/2 [==============================] - 0s 9ms/step - loss: 8.7886 - mae: 8.7886\n",
            "Epoch 243/500\n",
            "2/2 [==============================] - 0s 5ms/step - loss: 18.8161 - mae: 18.8161\n",
            "Epoch 244/500\n",
            "2/2 [==============================] - 0s 8ms/step - loss: 14.0531 - mae: 14.0531\n",
            "Epoch 245/500\n",
            "2/2 [==============================] - 0s 4ms/step - loss: 14.6831 - mae: 14.6831\n",
            "Epoch 246/500\n",
            "2/2 [==============================] - 0s 4ms/step - loss: 15.8045 - mae: 15.8045\n",
            "Epoch 247/500\n",
            "2/2 [==============================] - 0s 4ms/step - loss: 17.6810 - mae: 17.6810\n",
            "Epoch 248/500\n",
            "2/2 [==============================] - 0s 5ms/step - loss: 13.2367 - mae: 13.2367\n",
            "Epoch 249/500\n",
            "2/2 [==============================] - 0s 5ms/step - loss: 14.5070 - mae: 14.5070\n",
            "Epoch 250/500\n",
            "2/2 [==============================] - 0s 8ms/step - loss: 23.2322 - mae: 23.2322\n",
            "Epoch 251/500\n",
            "2/2 [==============================] - 0s 6ms/step - loss: 9.3009 - mae: 9.3009\n",
            "Epoch 252/500\n",
            "2/2 [==============================] - 0s 5ms/step - loss: 36.6568 - mae: 36.6568\n",
            "Epoch 253/500\n",
            "2/2 [==============================] - 0s 8ms/step - loss: 21.8205 - mae: 21.8205\n",
            "Epoch 254/500\n",
            "2/2 [==============================] - 0s 6ms/step - loss: 7.2792 - mae: 7.2792\n",
            "Epoch 255/500\n",
            "2/2 [==============================] - 0s 4ms/step - loss: 24.7126 - mae: 24.7126\n",
            "Epoch 256/500\n",
            "2/2 [==============================] - 0s 9ms/step - loss: 12.4220 - mae: 12.4220\n",
            "Epoch 257/500\n",
            "2/2 [==============================] - 0s 8ms/step - loss: 10.5823 - mae: 10.5823\n",
            "Epoch 258/500\n",
            "2/2 [==============================] - 0s 5ms/step - loss: 14.4883 - mae: 14.4883\n",
            "Epoch 259/500\n",
            "2/2 [==============================] - 0s 5ms/step - loss: 8.6132 - mae: 8.6132\n",
            "Epoch 260/500\n",
            "2/2 [==============================] - 0s 5ms/step - loss: 43.0580 - mae: 43.0580\n",
            "Epoch 261/500\n",
            "2/2 [==============================] - 0s 4ms/step - loss: 18.4611 - mae: 18.4611\n",
            "Epoch 262/500\n",
            "2/2 [==============================] - 0s 5ms/step - loss: 6.8820 - mae: 6.8820\n",
            "Epoch 263/500\n",
            "2/2 [==============================] - 0s 5ms/step - loss: 13.7211 - mae: 13.7211\n",
            "Epoch 264/500\n",
            "2/2 [==============================] - 0s 5ms/step - loss: 21.0154 - mae: 21.0154\n",
            "Epoch 265/500\n",
            "2/2 [==============================] - 0s 9ms/step - loss: 19.3730 - mae: 19.3730\n",
            "Epoch 266/500\n",
            "2/2 [==============================] - 0s 5ms/step - loss: 11.4735 - mae: 11.4735\n",
            "Epoch 267/500\n",
            "2/2 [==============================] - 0s 4ms/step - loss: 7.5302 - mae: 7.5302\n",
            "Epoch 268/500\n",
            "2/2 [==============================] - 0s 5ms/step - loss: 21.6453 - mae: 21.6453\n",
            "Epoch 269/500\n",
            "2/2 [==============================] - 0s 4ms/step - loss: 33.1784 - mae: 33.1784\n",
            "Epoch 270/500\n",
            "2/2 [==============================] - 0s 5ms/step - loss: 10.0833 - mae: 10.0833\n",
            "Epoch 271/500\n",
            "2/2 [==============================] - 0s 4ms/step - loss: 12.1012 - mae: 12.1012\n",
            "Epoch 272/500\n",
            "2/2 [==============================] - 0s 5ms/step - loss: 26.1372 - mae: 26.1372\n",
            "Epoch 273/500\n",
            "2/2 [==============================] - 0s 5ms/step - loss: 12.1751 - mae: 12.1751\n",
            "Epoch 274/500\n",
            "2/2 [==============================] - 0s 4ms/step - loss: 13.3272 - mae: 13.3272\n",
            "Epoch 275/500\n",
            "2/2 [==============================] - 0s 5ms/step - loss: 29.3775 - mae: 29.3775\n",
            "Epoch 276/500\n",
            "2/2 [==============================] - 0s 4ms/step - loss: 7.3329 - mae: 7.3329\n",
            "Epoch 277/500\n",
            "2/2 [==============================] - 0s 7ms/step - loss: 31.1362 - mae: 31.1362\n",
            "Epoch 278/500\n",
            "2/2 [==============================] - 0s 4ms/step - loss: 12.3016 - mae: 12.3016\n",
            "Epoch 279/500\n",
            "2/2 [==============================] - 0s 5ms/step - loss: 16.4103 - mae: 16.4103\n",
            "Epoch 280/500\n",
            "2/2 [==============================] - 0s 7ms/step - loss: 21.9118 - mae: 21.9118\n",
            "Epoch 281/500\n",
            "2/2 [==============================] - 0s 5ms/step - loss: 22.1500 - mae: 22.1500\n",
            "Epoch 282/500\n",
            "2/2 [==============================] - 0s 4ms/step - loss: 7.7429 - mae: 7.7429\n",
            "Epoch 283/500\n",
            "2/2 [==============================] - 0s 5ms/step - loss: 8.1429 - mae: 8.1429\n",
            "Epoch 284/500\n",
            "2/2 [==============================] - 0s 13ms/step - loss: 24.9434 - mae: 24.9434\n",
            "Epoch 285/500\n",
            "2/2 [==============================] - 0s 4ms/step - loss: 13.6958 - mae: 13.6958\n",
            "Epoch 286/500\n",
            "2/2 [==============================] - 0s 5ms/step - loss: 6.8926 - mae: 6.8926\n",
            "Epoch 287/500\n",
            "2/2 [==============================] - 0s 4ms/step - loss: 24.5352 - mae: 24.5352\n",
            "Epoch 288/500\n",
            "2/2 [==============================] - 0s 4ms/step - loss: 20.1721 - mae: 20.1721\n",
            "Epoch 289/500\n",
            "2/2 [==============================] - 0s 4ms/step - loss: 11.9658 - mae: 11.9658\n",
            "Epoch 290/500\n",
            "2/2 [==============================] - 0s 7ms/step - loss: 16.5391 - mae: 16.5391\n",
            "Epoch 291/500\n",
            "2/2 [==============================] - 0s 4ms/step - loss: 16.8017 - mae: 16.8017\n",
            "Epoch 292/500\n",
            "2/2 [==============================] - 0s 4ms/step - loss: 9.4642 - mae: 9.4642\n",
            "Epoch 293/500\n",
            "2/2 [==============================] - 0s 5ms/step - loss: 15.2711 - mae: 15.2711\n",
            "Epoch 294/500\n",
            "2/2 [==============================] - 0s 5ms/step - loss: 22.7179 - mae: 22.7179\n",
            "Epoch 295/500\n",
            "2/2 [==============================] - 0s 11ms/step - loss: 17.9234 - mae: 17.9234\n",
            "Epoch 296/500\n",
            "2/2 [==============================] - 0s 5ms/step - loss: 6.1742 - mae: 6.1742\n",
            "Epoch 297/500\n",
            "2/2 [==============================] - 0s 4ms/step - loss: 10.9440 - mae: 10.9440\n",
            "Epoch 298/500\n",
            "2/2 [==============================] - 0s 5ms/step - loss: 23.1530 - mae: 23.1530\n",
            "Epoch 299/500\n",
            "2/2 [==============================] - 0s 4ms/step - loss: 17.7331 - mae: 17.7331\n",
            "Epoch 300/500\n",
            "2/2 [==============================] - 0s 4ms/step - loss: 6.9824 - mae: 6.9824\n",
            "Epoch 301/500\n",
            "2/2 [==============================] - 0s 4ms/step - loss: 25.1857 - mae: 25.1857\n",
            "Epoch 302/500\n",
            "2/2 [==============================] - 0s 4ms/step - loss: 8.9025 - mae: 8.9025\n",
            "Epoch 303/500\n",
            "2/2 [==============================] - 0s 5ms/step - loss: 17.7668 - mae: 17.7668\n",
            "Epoch 304/500\n",
            "2/2 [==============================] - 0s 4ms/step - loss: 11.0002 - mae: 11.0002\n",
            "Epoch 305/500\n",
            "2/2 [==============================] - 0s 4ms/step - loss: 12.9191 - mae: 12.9191\n",
            "Epoch 306/500\n",
            "2/2 [==============================] - 0s 4ms/step - loss: 8.4033 - mae: 8.4033\n",
            "Epoch 307/500\n",
            "2/2 [==============================] - 0s 4ms/step - loss: 13.6094 - mae: 13.6094\n",
            "Epoch 308/500\n",
            "2/2 [==============================] - 0s 4ms/step - loss: 7.4404 - mae: 7.4404\n",
            "Epoch 309/500\n",
            "2/2 [==============================] - 0s 11ms/step - loss: 9.4642 - mae: 9.4642\n",
            "Epoch 310/500\n",
            "2/2 [==============================] - 0s 4ms/step - loss: 10.7099 - mae: 10.7099\n",
            "Epoch 311/500\n",
            "2/2 [==============================] - 0s 4ms/step - loss: 13.2814 - mae: 13.2814\n",
            "Epoch 312/500\n",
            "2/2 [==============================] - 0s 4ms/step - loss: 29.9763 - mae: 29.9763\n",
            "Epoch 313/500\n",
            "2/2 [==============================] - 0s 4ms/step - loss: 7.6304 - mae: 7.6304\n",
            "Epoch 314/500\n",
            "2/2 [==============================] - 0s 4ms/step - loss: 9.9106 - mae: 9.9106\n",
            "Epoch 315/500\n",
            "2/2 [==============================] - 0s 4ms/step - loss: 23.7669 - mae: 23.7669\n",
            "Epoch 316/500\n",
            "2/2 [==============================] - 0s 6ms/step - loss: 16.3936 - mae: 16.3936\n",
            "Epoch 317/500\n",
            "2/2 [==============================] - 0s 9ms/step - loss: 21.0758 - mae: 21.0758\n",
            "Epoch 318/500\n",
            "2/2 [==============================] - 0s 5ms/step - loss: 7.9367 - mae: 7.9367\n",
            "Epoch 319/500\n",
            "2/2 [==============================] - 0s 5ms/step - loss: 17.9731 - mae: 17.9731\n",
            "Epoch 320/500\n",
            "2/2 [==============================] - 0s 7ms/step - loss: 10.2375 - mae: 10.2375\n",
            "Epoch 321/500\n",
            "2/2 [==============================] - 0s 5ms/step - loss: 8.3338 - mae: 8.3338\n",
            "Epoch 322/500\n",
            "2/2 [==============================] - 0s 4ms/step - loss: 5.0621 - mae: 5.0621\n",
            "Epoch 323/500\n",
            "2/2 [==============================] - 0s 4ms/step - loss: 23.5109 - mae: 23.5109\n",
            "Epoch 324/500\n",
            "2/2 [==============================] - 0s 8ms/step - loss: 6.8309 - mae: 6.8309\n",
            "Epoch 325/500\n",
            "2/2 [==============================] - 0s 5ms/step - loss: 16.3863 - mae: 16.3863\n",
            "Epoch 326/500\n",
            "2/2 [==============================] - 0s 4ms/step - loss: 7.5019 - mae: 7.5019\n",
            "Epoch 327/500\n",
            "2/2 [==============================] - 0s 4ms/step - loss: 20.0573 - mae: 20.0573\n",
            "Epoch 328/500\n",
            "2/2 [==============================] - 0s 4ms/step - loss: 13.7661 - mae: 13.7661\n",
            "Epoch 329/500\n",
            "2/2 [==============================] - 0s 4ms/step - loss: 16.8282 - mae: 16.8282\n",
            "Epoch 330/500\n",
            "2/2 [==============================] - 0s 4ms/step - loss: 7.0514 - mae: 7.0514\n",
            "Epoch 331/500\n",
            "2/2 [==============================] - 0s 4ms/step - loss: 21.4846 - mae: 21.4846\n",
            "Epoch 332/500\n",
            "2/2 [==============================] - 0s 4ms/step - loss: 12.2880 - mae: 12.2880\n",
            "Epoch 333/500\n",
            "2/2 [==============================] - 0s 4ms/step - loss: 11.8117 - mae: 11.8117\n",
            "Epoch 334/500\n",
            "2/2 [==============================] - 0s 4ms/step - loss: 8.3600 - mae: 8.3600\n",
            "Epoch 335/500\n",
            "2/2 [==============================] - 0s 4ms/step - loss: 12.4833 - mae: 12.4833\n",
            "Epoch 336/500\n",
            "2/2 [==============================] - 0s 4ms/step - loss: 32.2171 - mae: 32.2171\n",
            "Epoch 337/500\n",
            "2/2 [==============================] - 0s 4ms/step - loss: 10.4477 - mae: 10.4477\n",
            "Epoch 338/500\n",
            "2/2 [==============================] - 0s 12ms/step - loss: 19.6832 - mae: 19.6832\n",
            "Epoch 339/500\n",
            "2/2 [==============================] - 0s 5ms/step - loss: 35.0762 - mae: 35.0762\n",
            "Epoch 340/500\n",
            "2/2 [==============================] - 0s 5ms/step - loss: 10.4192 - mae: 10.4192\n",
            "Epoch 341/500\n",
            "2/2 [==============================] - 0s 5ms/step - loss: 9.7625 - mae: 9.7625\n",
            "Epoch 342/500\n",
            "2/2 [==============================] - 0s 5ms/step - loss: 11.9500 - mae: 11.9500\n",
            "Epoch 343/500\n",
            "2/2 [==============================] - 0s 5ms/step - loss: 9.3943 - mae: 9.3943\n",
            "Epoch 344/500\n",
            "2/2 [==============================] - 0s 9ms/step - loss: 5.6071 - mae: 5.6071\n",
            "Epoch 345/500\n",
            "2/2 [==============================] - 0s 7ms/step - loss: 37.4876 - mae: 37.4876\n",
            "Epoch 346/500\n",
            "2/2 [==============================] - 0s 4ms/step - loss: 16.8830 - mae: 16.8830\n",
            "Epoch 347/500\n",
            "2/2 [==============================] - 0s 5ms/step - loss: 12.8748 - mae: 12.8748\n",
            "Epoch 348/500\n",
            "2/2 [==============================] - 0s 4ms/step - loss: 8.1960 - mae: 8.1960\n",
            "Epoch 349/500\n",
            "2/2 [==============================] - 0s 5ms/step - loss: 13.5568 - mae: 13.5568\n",
            "Epoch 350/500\n",
            "2/2 [==============================] - 0s 5ms/step - loss: 15.4354 - mae: 15.4354\n",
            "Epoch 351/500\n",
            "2/2 [==============================] - 0s 4ms/step - loss: 32.9626 - mae: 32.9626\n",
            "Epoch 352/500\n",
            "2/2 [==============================] - 0s 5ms/step - loss: 14.2040 - mae: 14.2040\n",
            "Epoch 353/500\n",
            "2/2 [==============================] - 0s 5ms/step - loss: 15.9196 - mae: 15.9196\n",
            "Epoch 354/500\n",
            "2/2 [==============================] - 0s 4ms/step - loss: 19.0878 - mae: 19.0878\n",
            "Epoch 355/500\n",
            "2/2 [==============================] - 0s 5ms/step - loss: 34.1178 - mae: 34.1178\n",
            "Epoch 356/500\n",
            "2/2 [==============================] - 0s 4ms/step - loss: 7.6798 - mae: 7.6798\n",
            "Epoch 357/500\n",
            "2/2 [==============================] - 0s 5ms/step - loss: 25.2287 - mae: 25.2287\n",
            "Epoch 358/500\n",
            "2/2 [==============================] - 0s 5ms/step - loss: 22.6759 - mae: 22.6759\n",
            "Epoch 359/500\n",
            "2/2 [==============================] - 0s 8ms/step - loss: 8.8765 - mae: 8.8765\n",
            "Epoch 360/500\n",
            "2/2 [==============================] - 0s 6ms/step - loss: 21.4709 - mae: 21.4709\n",
            "Epoch 361/500\n",
            "2/2 [==============================] - 0s 5ms/step - loss: 20.6073 - mae: 20.6073\n",
            "Epoch 362/500\n",
            "2/2 [==============================] - 0s 8ms/step - loss: 7.0611 - mae: 7.0611\n",
            "Epoch 363/500\n",
            "2/2 [==============================] - 0s 6ms/step - loss: 25.8117 - mae: 25.8117\n",
            "Epoch 364/500\n",
            "2/2 [==============================] - 0s 4ms/step - loss: 32.2247 - mae: 32.2247\n",
            "Epoch 365/500\n",
            "2/2 [==============================] - 0s 6ms/step - loss: 10.0205 - mae: 10.0205\n",
            "Epoch 366/500\n",
            "2/2 [==============================] - 0s 6ms/step - loss: 9.6722 - mae: 9.6722\n",
            "Epoch 367/500\n",
            "2/2 [==============================] - 0s 8ms/step - loss: 30.4171 - mae: 30.4171\n",
            "Epoch 368/500\n",
            "2/2 [==============================] - 0s 5ms/step - loss: 10.5020 - mae: 10.5020\n",
            "Epoch 369/500\n",
            "2/2 [==============================] - 0s 6ms/step - loss: 14.9909 - mae: 14.9909\n",
            "Epoch 370/500\n",
            "2/2 [==============================] - 0s 7ms/step - loss: 14.6580 - mae: 14.6580\n",
            "Epoch 371/500\n",
            "2/2 [==============================] - 0s 6ms/step - loss: 23.3672 - mae: 23.3672\n",
            "Epoch 372/500\n",
            "2/2 [==============================] - 0s 6ms/step - loss: 13.1025 - mae: 13.1025\n",
            "Epoch 373/500\n",
            "2/2 [==============================] - 0s 6ms/step - loss: 9.2586 - mae: 9.2586\n",
            "Epoch 374/500\n",
            "2/2 [==============================] - 0s 5ms/step - loss: 9.6648 - mae: 9.6648\n",
            "Epoch 375/500\n",
            "2/2 [==============================] - 0s 5ms/step - loss: 13.0041 - mae: 13.0041\n",
            "Epoch 376/500\n",
            "2/2 [==============================] - 0s 7ms/step - loss: 14.8863 - mae: 14.8863\n",
            "Epoch 377/500\n",
            "2/2 [==============================] - 0s 8ms/step - loss: 14.7932 - mae: 14.7932\n",
            "Epoch 378/500\n",
            "2/2 [==============================] - 0s 7ms/step - loss: 16.2751 - mae: 16.2751\n",
            "Epoch 379/500\n",
            "2/2 [==============================] - 0s 6ms/step - loss: 20.8307 - mae: 20.8307\n",
            "Epoch 380/500\n",
            "2/2 [==============================] - 0s 6ms/step - loss: 33.5318 - mae: 33.5318\n",
            "Epoch 381/500\n",
            "2/2 [==============================] - 0s 4ms/step - loss: 8.2166 - mae: 8.2166\n",
            "Epoch 382/500\n",
            "2/2 [==============================] - 0s 6ms/step - loss: 13.0960 - mae: 13.0960\n",
            "Epoch 383/500\n",
            "2/2 [==============================] - 0s 7ms/step - loss: 8.3999 - mae: 8.3999\n",
            "Epoch 384/500\n",
            "2/2 [==============================] - 0s 7ms/step - loss: 7.1283 - mae: 7.1283\n",
            "Epoch 385/500\n",
            "2/2 [==============================] - 0s 7ms/step - loss: 10.9390 - mae: 10.9390\n",
            "Epoch 386/500\n",
            "2/2 [==============================] - 0s 5ms/step - loss: 19.7654 - mae: 19.7654\n",
            "Epoch 387/500\n",
            "2/2 [==============================] - 0s 7ms/step - loss: 24.8625 - mae: 24.8625\n",
            "Epoch 388/500\n",
            "2/2 [==============================] - 0s 6ms/step - loss: 8.7422 - mae: 8.7422\n",
            "Epoch 389/500\n",
            "2/2 [==============================] - 0s 5ms/step - loss: 5.9488 - mae: 5.9488\n",
            "Epoch 390/500\n",
            "2/2 [==============================] - 0s 5ms/step - loss: 24.4401 - mae: 24.4401\n",
            "Epoch 391/500\n",
            "2/2 [==============================] - 0s 4ms/step - loss: 5.9771 - mae: 5.9771\n",
            "Epoch 392/500\n",
            "2/2 [==============================] - 0s 9ms/step - loss: 16.3250 - mae: 16.3250\n",
            "Epoch 393/500\n",
            "2/2 [==============================] - 0s 4ms/step - loss: 6.0917 - mae: 6.0917\n",
            "Epoch 394/500\n",
            "2/2 [==============================] - 0s 7ms/step - loss: 11.0963 - mae: 11.0963\n",
            "Epoch 395/500\n",
            "2/2 [==============================] - 0s 10ms/step - loss: 14.9601 - mae: 14.9601\n",
            "Epoch 396/500\n",
            "2/2 [==============================] - 0s 9ms/step - loss: 7.6462 - mae: 7.6462\n",
            "Epoch 397/500\n",
            "2/2 [==============================] - 0s 6ms/step - loss: 8.7654 - mae: 8.7654\n",
            "Epoch 398/500\n",
            "2/2 [==============================] - 0s 8ms/step - loss: 14.5992 - mae: 14.5992\n",
            "Epoch 399/500\n",
            "2/2 [==============================] - 0s 6ms/step - loss: 11.3166 - mae: 11.3166\n",
            "Epoch 400/500\n",
            "2/2 [==============================] - 0s 4ms/step - loss: 21.9080 - mae: 21.9080\n",
            "Epoch 401/500\n",
            "2/2 [==============================] - 0s 4ms/step - loss: 14.8654 - mae: 14.8654\n",
            "Epoch 402/500\n",
            "2/2 [==============================] - 0s 5ms/step - loss: 8.4970 - mae: 8.4970\n",
            "Epoch 403/500\n",
            "2/2 [==============================] - 0s 4ms/step - loss: 10.3957 - mae: 10.3957\n",
            "Epoch 404/500\n",
            "2/2 [==============================] - 0s 8ms/step - loss: 10.2556 - mae: 10.2556\n",
            "Epoch 405/500\n",
            "2/2 [==============================] - 0s 6ms/step - loss: 6.3392 - mae: 6.3392\n",
            "Epoch 406/500\n",
            "2/2 [==============================] - 0s 7ms/step - loss: 17.4602 - mae: 17.4602\n",
            "Epoch 407/500\n",
            "2/2 [==============================] - 0s 6ms/step - loss: 11.4627 - mae: 11.4627\n",
            "Epoch 408/500\n",
            "2/2 [==============================] - 0s 6ms/step - loss: 20.7294 - mae: 20.7294\n",
            "Epoch 409/500\n",
            "2/2 [==============================] - 0s 4ms/step - loss: 31.3339 - mae: 31.3339\n",
            "Epoch 410/500\n",
            "2/2 [==============================] - 0s 3ms/step - loss: 9.2542 - mae: 9.2542\n",
            "Epoch 411/500\n",
            "2/2 [==============================] - 0s 4ms/step - loss: 14.8621 - mae: 14.8621\n",
            "Epoch 412/500\n",
            "2/2 [==============================] - 0s 6ms/step - loss: 21.7182 - mae: 21.7182\n",
            "Epoch 413/500\n",
            "2/2 [==============================] - 0s 4ms/step - loss: 12.6615 - mae: 12.6615\n",
            "Epoch 414/500\n",
            "2/2 [==============================] - 0s 6ms/step - loss: 6.0687 - mae: 6.0687\n",
            "Epoch 415/500\n",
            "2/2 [==============================] - 0s 4ms/step - loss: 13.2201 - mae: 13.2201\n",
            "Epoch 416/500\n",
            "2/2 [==============================] - 0s 4ms/step - loss: 27.4244 - mae: 27.4244\n",
            "Epoch 417/500\n",
            "2/2 [==============================] - 0s 4ms/step - loss: 10.6407 - mae: 10.6407\n",
            "Epoch 418/500\n",
            "2/2 [==============================] - 0s 4ms/step - loss: 12.8230 - mae: 12.8230\n",
            "Epoch 419/500\n",
            "2/2 [==============================] - 0s 4ms/step - loss: 15.8836 - mae: 15.8836\n",
            "Epoch 420/500\n",
            "2/2 [==============================] - 0s 4ms/step - loss: 24.7510 - mae: 24.7510\n",
            "Epoch 421/500\n",
            "2/2 [==============================] - 0s 4ms/step - loss: 17.3753 - mae: 17.3753\n",
            "Epoch 422/500\n",
            "2/2 [==============================] - 0s 4ms/step - loss: 7.8241 - mae: 7.8241\n",
            "Epoch 423/500\n",
            "2/2 [==============================] - 0s 4ms/step - loss: 25.3789 - mae: 25.3789\n",
            "Epoch 424/500\n",
            "2/2 [==============================] - 0s 4ms/step - loss: 15.1031 - mae: 15.1031\n",
            "Epoch 425/500\n",
            "2/2 [==============================] - 0s 3ms/step - loss: 7.1643 - mae: 7.1643\n",
            "Epoch 426/500\n",
            "2/2 [==============================] - 0s 4ms/step - loss: 20.3318 - mae: 20.3318\n",
            "Epoch 427/500\n",
            "2/2 [==============================] - 0s 10ms/step - loss: 6.3283 - mae: 6.3283\n",
            "Epoch 428/500\n",
            "2/2 [==============================] - 0s 3ms/step - loss: 12.9962 - mae: 12.9962\n",
            "Epoch 429/500\n",
            "2/2 [==============================] - 0s 4ms/step - loss: 10.7869 - mae: 10.7869\n",
            "Epoch 430/500\n",
            "2/2 [==============================] - 0s 4ms/step - loss: 11.4007 - mae: 11.4007\n",
            "Epoch 431/500\n",
            "2/2 [==============================] - 0s 4ms/step - loss: 10.6153 - mae: 10.6153\n",
            "Epoch 432/500\n",
            "2/2 [==============================] - 0s 4ms/step - loss: 11.4582 - mae: 11.4582\n",
            "Epoch 433/500\n",
            "2/2 [==============================] - 0s 4ms/step - loss: 11.3851 - mae: 11.3851\n",
            "Epoch 434/500\n",
            "2/2 [==============================] - 0s 4ms/step - loss: 30.3986 - mae: 30.3986\n",
            "Epoch 435/500\n",
            "2/2 [==============================] - 0s 7ms/step - loss: 10.5052 - mae: 10.5052\n",
            "Epoch 436/500\n",
            "2/2 [==============================] - 0s 3ms/step - loss: 28.8810 - mae: 28.8810\n",
            "Epoch 437/500\n",
            "2/2 [==============================] - 0s 4ms/step - loss: 8.5916 - mae: 8.5916\n",
            "Epoch 438/500\n",
            "2/2 [==============================] - 0s 4ms/step - loss: 12.7378 - mae: 12.7378\n",
            "Epoch 439/500\n",
            "2/2 [==============================] - 0s 4ms/step - loss: 33.6754 - mae: 33.6754\n",
            "Epoch 440/500\n",
            "2/2 [==============================] - 0s 4ms/step - loss: 15.0962 - mae: 15.0962\n",
            "Epoch 441/500\n",
            "2/2 [==============================] - 0s 4ms/step - loss: 17.4813 - mae: 17.4813\n",
            "Epoch 442/500\n",
            "2/2 [==============================] - 0s 4ms/step - loss: 22.3049 - mae: 22.3049\n",
            "Epoch 443/500\n",
            "2/2 [==============================] - 0s 4ms/step - loss: 23.5841 - mae: 23.5841\n",
            "Epoch 444/500\n",
            "2/2 [==============================] - 0s 4ms/step - loss: 11.0008 - mae: 11.0008\n",
            "Epoch 445/500\n",
            "2/2 [==============================] - 0s 3ms/step - loss: 14.9175 - mae: 14.9175\n",
            "Epoch 446/500\n",
            "2/2 [==============================] - 0s 4ms/step - loss: 17.9979 - mae: 17.9979\n",
            "Epoch 447/500\n",
            "2/2 [==============================] - 0s 4ms/step - loss: 5.4482 - mae: 5.4482\n",
            "Epoch 448/500\n",
            "2/2 [==============================] - 0s 8ms/step - loss: 10.0527 - mae: 10.0527\n",
            "Epoch 449/500\n",
            "2/2 [==============================] - 0s 4ms/step - loss: 14.0052 - mae: 14.0052\n",
            "Epoch 450/500\n",
            "2/2 [==============================] - 0s 3ms/step - loss: 16.7782 - mae: 16.7782\n",
            "Epoch 451/500\n",
            "2/2 [==============================] - 0s 4ms/step - loss: 14.2937 - mae: 14.2937\n",
            "Epoch 452/500\n",
            "2/2 [==============================] - 0s 3ms/step - loss: 30.6192 - mae: 30.6192\n",
            "Epoch 453/500\n",
            "2/2 [==============================] - 0s 5ms/step - loss: 7.6541 - mae: 7.6541\n",
            "Epoch 454/500\n",
            "2/2 [==============================] - 0s 4ms/step - loss: 28.1428 - mae: 28.1428\n",
            "Epoch 455/500\n",
            "2/2 [==============================] - 0s 4ms/step - loss: 8.0017 - mae: 8.0017\n",
            "Epoch 456/500\n",
            "2/2 [==============================] - 0s 6ms/step - loss: 10.3933 - mae: 10.3933\n",
            "Epoch 457/500\n",
            "2/2 [==============================] - 0s 7ms/step - loss: 15.0242 - mae: 15.0242\n",
            "Epoch 458/500\n",
            "2/2 [==============================] - 0s 4ms/step - loss: 16.5653 - mae: 16.5653\n",
            "Epoch 459/500\n",
            "2/2 [==============================] - 0s 4ms/step - loss: 26.8566 - mae: 26.8566\n",
            "Epoch 460/500\n",
            "2/2 [==============================] - 0s 4ms/step - loss: 12.4852 - mae: 12.4852\n",
            "Epoch 461/500\n",
            "2/2 [==============================] - 0s 4ms/step - loss: 12.4784 - mae: 12.4784\n",
            "Epoch 462/500\n",
            "2/2 [==============================] - 0s 8ms/step - loss: 13.3186 - mae: 13.3186\n",
            "Epoch 463/500\n",
            "2/2 [==============================] - 0s 4ms/step - loss: 29.5524 - mae: 29.5524\n",
            "Epoch 464/500\n",
            "2/2 [==============================] - 0s 8ms/step - loss: 3.4664 - mae: 3.4664\n",
            "Epoch 465/500\n",
            "2/2 [==============================] - 0s 4ms/step - loss: 15.2136 - mae: 15.2136\n",
            "Epoch 466/500\n",
            "2/2 [==============================] - 0s 4ms/step - loss: 20.8327 - mae: 20.8327\n",
            "Epoch 467/500\n",
            "2/2 [==============================] - 0s 5ms/step - loss: 30.5108 - mae: 30.5108\n",
            "Epoch 468/500\n",
            "2/2 [==============================] - 0s 4ms/step - loss: 11.0598 - mae: 11.0598\n",
            "Epoch 469/500\n",
            "2/2 [==============================] - 0s 4ms/step - loss: 12.8372 - mae: 12.8372\n",
            "Epoch 470/500\n",
            "2/2 [==============================] - 0s 9ms/step - loss: 3.2398 - mae: 3.2398\n",
            "Epoch 471/500\n",
            "2/2 [==============================] - 0s 4ms/step - loss: 16.6964 - mae: 16.6964\n",
            "Epoch 472/500\n",
            "2/2 [==============================] - 0s 4ms/step - loss: 13.3883 - mae: 13.3883\n",
            "Epoch 473/500\n",
            "2/2 [==============================] - 0s 4ms/step - loss: 15.2771 - mae: 15.2771\n",
            "Epoch 474/500\n",
            "2/2 [==============================] - 0s 4ms/step - loss: 11.7448 - mae: 11.7448\n",
            "Epoch 475/500\n",
            "2/2 [==============================] - 0s 4ms/step - loss: 16.4113 - mae: 16.4113\n",
            "Epoch 476/500\n",
            "2/2 [==============================] - 0s 4ms/step - loss: 13.8785 - mae: 13.8785\n",
            "Epoch 477/500\n",
            "2/2 [==============================] - 0s 5ms/step - loss: 30.6702 - mae: 30.6702\n",
            "Epoch 478/500\n",
            "2/2 [==============================] - 0s 4ms/step - loss: 8.5880 - mae: 8.5880\n",
            "Epoch 479/500\n",
            "2/2 [==============================] - 0s 4ms/step - loss: 10.7384 - mae: 10.7384\n",
            "Epoch 480/500\n",
            "2/2 [==============================] - 0s 4ms/step - loss: 17.9051 - mae: 17.9051\n",
            "Epoch 481/500\n",
            "2/2 [==============================] - 0s 10ms/step - loss: 15.8094 - mae: 15.8094\n",
            "Epoch 482/500\n",
            "2/2 [==============================] - 0s 4ms/step - loss: 21.3054 - mae: 21.3054\n",
            "Epoch 483/500\n",
            "2/2 [==============================] - 0s 4ms/step - loss: 25.3845 - mae: 25.3845\n",
            "Epoch 484/500\n",
            "2/2 [==============================] - 0s 7ms/step - loss: 23.9816 - mae: 23.9816\n",
            "Epoch 485/500\n",
            "2/2 [==============================] - 0s 7ms/step - loss: 5.7734 - mae: 5.7734\n",
            "Epoch 486/500\n",
            "2/2 [==============================] - 0s 13ms/step - loss: 20.0011 - mae: 20.0011\n",
            "Epoch 487/500\n",
            "2/2 [==============================] - 0s 5ms/step - loss: 14.0419 - mae: 14.0419\n",
            "Epoch 488/500\n",
            "2/2 [==============================] - 0s 10ms/step - loss: 30.6088 - mae: 30.6088\n",
            "Epoch 489/500\n",
            "2/2 [==============================] - 0s 7ms/step - loss: 11.9409 - mae: 11.9409\n",
            "Epoch 490/500\n",
            "2/2 [==============================] - 0s 6ms/step - loss: 12.7352 - mae: 12.7352\n",
            "Epoch 491/500\n",
            "2/2 [==============================] - 0s 6ms/step - loss: 23.6139 - mae: 23.6139\n",
            "Epoch 492/500\n",
            "2/2 [==============================] - 0s 6ms/step - loss: 20.5365 - mae: 20.5365\n",
            "Epoch 493/500\n",
            "2/2 [==============================] - 0s 8ms/step - loss: 4.9942 - mae: 4.9942\n",
            "Epoch 494/500\n",
            "2/2 [==============================] - 0s 7ms/step - loss: 12.7987 - mae: 12.7987\n",
            "Epoch 495/500\n",
            "2/2 [==============================] - 0s 5ms/step - loss: 13.3772 - mae: 13.3772\n",
            "Epoch 496/500\n",
            "2/2 [==============================] - 0s 5ms/step - loss: 12.6727 - mae: 12.6727\n",
            "Epoch 497/500\n",
            "2/2 [==============================] - 0s 7ms/step - loss: 17.6192 - mae: 17.6192\n",
            "Epoch 498/500\n",
            "2/2 [==============================] - 0s 6ms/step - loss: 23.5629 - mae: 23.5629\n",
            "Epoch 499/500\n",
            "2/2 [==============================] - 0s 7ms/step - loss: 9.3755 - mae: 9.3755\n",
            "Epoch 500/500\n",
            "2/2 [==============================] - 0s 6ms/step - loss: 14.6316 - mae: 14.6316\n"
          ]
        },
        {
          "output_type": "execute_result",
          "data": {
            "text/plain": [
              "<keras.callbacks.History at 0x7f8209562340>"
            ]
          },
          "metadata": {},
          "execution_count": 50
        }
      ]
    },
    {
      "cell_type": "code",
      "source": [
        "y_preds_3 = model_3.predict(X_test)\n",
        "plot_predictions(predictions=y_preds_3)"
      ],
      "metadata": {
        "colab": {
          "base_uri": "https://localhost:8080/",
          "height": 484
        },
        "id": "PYWDt1ixzG6K",
        "outputId": "ca03160e-7466-4da5-e305-377c9dbb9b6b"
      },
      "execution_count": null,
      "outputs": [
        {
          "output_type": "stream",
          "name": "stderr",
          "text": [
            "WARNING:tensorflow:6 out of the last 6 calls to <function Model.make_predict_function.<locals>.predict_function at 0x7f820964cf70> triggered tf.function retracing. Tracing is expensive and the excessive number of tracings could be due to (1) creating @tf.function repeatedly in a loop, (2) passing tensors with different shapes, (3) passing Python objects instead of tensors. For (1), please define your @tf.function outside of the loop. For (2), @tf.function has reduce_retracing=True option that can avoid unnecessary retracing. For (3), please refer to https://www.tensorflow.org/guide/function#controlling_retracing and https://www.tensorflow.org/api_docs/python/tf/function for  more details.\n"
          ]
        },
        {
          "output_type": "stream",
          "name": "stdout",
          "text": [
            "1/1 [==============================] - 0s 105ms/step\n"
          ]
        },
        {
          "output_type": "display_data",
          "data": {
            "text/plain": [
              "<Figure size 720x504 with 1 Axes>"
            ],
            "image/png": "[encoded data removed]"
          },
          "metadata": {
            "needs_background": "light"
          }
        }
      ]
    },
    {
      "cell_type": "code",
      "source": [
        "#calculate model_3 evaulation metrics \n",
        "mae_3 = mae(Y_test,y_preds_3)\n",
        "mse_3 = mse(Y_test, y_preds_3)\n",
        "mae_3, mse_3 "
      ],
      "metadata": {
        "colab": {
          "base_uri": "https://localhost:8080/"
        },
        "id": "vbsCsVoEBLMq",
        "outputId": "aae63dcb-433f-42a3-dadc-5b0aef33f92f"
      },
      "execution_count": null,
      "outputs": [
        {
          "output_type": "execute_result",
          "data": {
            "text/plain": [
              "(<tf.Tensor: shape=(), dtype=float32, numpy=68.713615>,\n",
              " <tf.Tensor: shape=(), dtype=float32, numpy=4808.0273>)"
            ]
          },
          "metadata": {},
          "execution_count": 52
        }
      ]
    },
    {
      "cell_type": "markdown",
      "source": [
        "🔑 **Note:** You want to start with small experiments(small models) and make sure they work and then increase their scale when necessary "
      ],
      "metadata": {
        "id": "0UX4MVJyCg2B"
      }
    },
    {
      "cell_type": "markdown",
      "source": [
        "### Comparing the results of our experiments \n",
        "\n",
        "we've run a few experiments, let's comapre the results "
      ],
      "metadata": {
        "id": "xWzP0_MZCO-Q"
      }
    },
    {
      "cell_type": "code",
      "source": [
        "# Let's compare our model's results using a pandas DataFrame \n",
        "import pandas as pd\n",
        "\n",
        "model_results = [[\"model_1\",mae_1.numpy(),mse_1.numpy()],\n",
        "                 [\"model_2\",mae_2.numpy(),mse_2.numpy()],\n",
        "                 [\"model_3\",mae_3.numpy(),mse_3.numpy()]] \n",
        "\n",
        "all_results = pd.DataFrame(model_results, columns=[\"model\",\"mae\",\"mse\"])\n",
        "\n",
        "all_results "
      ],
      "metadata": {
        "colab": {
          "base_uri": "https://localhost:8080/",
          "height": 143
        },
        "id": "pmDdOdvGCZeP",
        "outputId": "ae9b4c22-5335-40a6-d481-73e794ef2f2b"
      },
      "execution_count": null,
      "outputs": [
        {
          "output_type": "execute_result",
          "data": {
            "text/plain": [
              "     model        mae          mse\n",
              "0  model_1  18.745327   353.573364\n",
              "1  model_2   3.196940    13.070127\n",
              "2  model_3  68.713615  4808.027344"
            ],
            "text/html": [
              "\n",
              "  <div id=\"df-d21711f9-cb7c-41c9-8d60-840f7bad4f94\">\n",
              "    <div class=\"colab-df-container\">\n",
              "      <div>\n",
              "<style scoped>\n",
              "    .dataframe tbody tr th:only-of-type {\n",
              "        vertical-align: middle;\n",
              "    }\n",
              "\n",
              "    .dataframe tbody tr th {\n",
              "        vertical-align: top;\n",
              "    }\n",
              "\n",
              "    .dataframe thead th {\n",
              "        text-align: right;\n",
              "    }\n",
              "</style>\n",
              "<table border=\"1\" class=\"dataframe\">\n",
              "  <thead>\n",
              "    <tr style=\"text-align: right;\">\n",
              "      <th></th>\n",
              "      <th>model</th>\n",
              "      <th>mae</th>\n",
              "      <th>mse</th>\n",
              "    </tr>\n",
              "  </thead>\n",
              "  <tbody>\n",
              "    <tr>\n",
              "      <th>0</th>\n",
              "      <td>model_1</td>\n",
              "      <td>18.745327</td>\n",
              "      <td>353.573364</td>\n",
              "    </tr>\n",
              "    <tr>\n",
              "      <th>1</th>\n",
              "      <td>model_2</td>\n",
              "      <td>3.196940</td>\n",
              "      <td>13.070127</td>\n",
              "    </tr>\n",
              "    <tr>\n",
              "      <th>2</th>\n",
              "      <td>model_3</td>\n",
              "      <td>68.713615</td>\n",
              "      <td>4808.027344</td>\n",
              "    </tr>\n",
              "  </tbody>\n",
              "</table>\n",
              "</div>\n",
              "      <button class=\"colab-df-convert\" onclick=\"convertToInteractive('df-d21711f9-cb7c-41c9-8d60-840f7bad4f94')\"\n",
              "              title=\"Convert this dataframe to an interactive table.\"\n",
              "              style=\"display:none;\">\n",
              "        \n",
              "  <svg xmlns=\"http://www.w3.org/2000/svg\" height=\"24px\"viewBox=\"0 0 24 24\"\n",
              "       width=\"24px\">\n",
              "    <path d=\"M0 0h24v24H0V0z\" fill=\"none\"/>\n",
              "    <path d=\"M18.56 5.44l.94 2.06.94-2.06 2.06-.94-2.06-.94-.94-2.06-.94 2.06-2.06.94zm-11 1L8.5 8.5l.94-2.06 2.06-.94-2.06-.94L8.5 2.5l-.94 2.06-2.06.94zm10 10l.94 2.06.94-2.06 2.06-.94-2.06-.94-.94-2.06-.94 2.06-2.06.94z\"/><path d=\"M17.41 7.96l-1.37-1.37c-.4-.4-.92-.59-1.43-.59-.52 0-1.04.2-1.43.59L10.3 9.45l-7.72 7.72c-.78.78-.78 2.05 0 2.83L4 21.41c.39.39.9.59 1.41.59.51 0 1.02-.2 1.41-.59l7.78-7.78 2.81-2.81c.8-.78.8-2.07 0-2.86zM5.41 20L4 18.59l7.72-7.72 1.47 1.35L5.41 20z\"/>\n",
              "  </svg>\n",
              "      </button>\n",
              "      \n",
              "  <style>\n",
              "    .colab-df-container {\n",
              "      display:flex;\n",
              "      flex-wrap:wrap;\n",
              "      gap: 12px;\n",
              "    }\n",
              "\n",
              "    .colab-df-convert {\n",
              "      background-color: #E8F0FE;\n",
              "      border: none;\n",
              "      border-radius: 50%;\n",
              "      cursor: pointer;\n",
              "      display: none;\n",
              "      fill: #1967D2;\n",
              "      height: 32px;\n",
              "      padding: 0 0 0 0;\n",
              "      width: 32px;\n",
              "    }\n",
              "\n",
              "    .colab-df-convert:hover {\n",
              "      background-color: #E2EBFA;\n",
              "      box-shadow: 0px 1px 2px rgba(60, 64, 67, 0.3), 0px 1px 3px 1px rgba(60, 64, 67, 0.15);\n",
              "      fill: #174EA6;\n",
              "    }\n",
              "\n",
              "    [theme=dark] .colab-df-convert {\n",
              "      background-color: #3B4455;\n",
              "      fill: #D2E3FC;\n",
              "    }\n",
              "\n",
              "    [theme=dark] .colab-df-convert:hover {\n",
              "      background-color: #434B5C;\n",
              "      box-shadow: 0px 1px 3px 1px rgba(0, 0, 0, 0.15);\n",
              "      filter: drop-shadow(0px 1px 2px rgba(0, 0, 0, 0.3));\n",
              "      fill: #FFFFFF;\n",
              "    }\n",
              "  </style>\n",
              "\n",
              "      <script>\n",
              "        const buttonEl =\n",
              "          document.querySelector('#df-d21711f9-cb7c-41c9-8d60-840f7bad4f94 button.colab-df-convert');\n",
              "        buttonEl.style.display =\n",
              "          google.colab.kernel.accessAllowed ? 'block' : 'none';\n",
              "\n",
              "        async function convertToInteractive(key) {\n",
              "          const element = document.querySelector('#df-d21711f9-cb7c-41c9-8d60-840f7bad4f94');\n",
              "          const dataTable =\n",
              "            await google.colab.kernel.invokeFunction('convertToInteractive',\n",
              "                                                     [key], {});\n",
              "          if (!dataTable) return;\n",
              "\n",
              "          const docLinkHtml = 'Like what you see? Visit the ' +\n",
              "            '<a target=\"_blank\" href=https://colab.research.google.com/notebooks/data_table.ipynb>data table notebook</a>'\n",
              "            + ' to learn more about interactive tables.';\n",
              "          element.innerHTML = '';\n",
              "          dataTable['output_type'] = 'display_data';\n",
              "          await google.colab.output.renderOutput(dataTable, element);\n",
              "          const docLink = document.createElement('div');\n",
              "          docLink.innerHTML = docLinkHtml;\n",
              "          element.appendChild(docLink);\n",
              "        }\n",
              "      </script>\n",
              "    </div>\n",
              "  </div>\n",
              "  "
            ]
          },
          "metadata": {},
          "execution_count": 53
        }
      ]
    },
    {
      "cell_type": "code",
      "source": [
        "model_2.summary()"
      ],
      "metadata": {
        "colab": {
          "base_uri": "https://localhost:8080/"
        },
        "id": "FUOC6x9lECOA",
        "outputId": "11454bdc-ee76-4165-8296-0732c01db769"
      },
      "execution_count": null,
      "outputs": [
        {
          "output_type": "stream",
          "name": "stdout",
          "text": [
            "Model: \"sequential_4\"\n",
            "_________________________________________________________________\n",
            " Layer (type)                Output Shape              Param #   \n",
            "=================================================================\n",
            " dense_8 (Dense)             (None, 10)                20        \n",
            "                                                                 \n",
            " dense_9 (Dense)             (None, 1)                 11        \n",
            "                                                                 \n",
            "=================================================================\n",
            "Total params: 31\n",
            "Trainable params: 31\n",
            "Non-trainable params: 0\n",
            "_________________________________________________________________\n"
          ]
        }
      ]
    },
    {
      "cell_type": "markdown",
      "source": [
        "🔑**Note:** One of your main goals should be to minimize the time between your experiments. The more experiments you do, the more things you'll figure out which don't work and in turn, get closer to figuring out what does work. Remember the machine learning practioner's motto: \"experiment, experiment, experiment\" "
      ],
      "metadata": {
        "id": "ecJcF1VpFQOW"
      }
    },
    {
      "cell_type": "markdown",
      "source": [
        "### Tracking your experiements \n",
        "\n",
        "One really good habit in machine learning modelling is to track the results of your experiments. \n",
        "\n",
        "And when doing so, it can be tedious if you're running lots of experiments. \n",
        "\n",
        "Luckily, there are tools to help us! \n",
        "\n",
        "📖**resource:** As you build more models, you'll want to look into using: \n",
        "\n",
        "*tensorBoard - a component of the tensorflow library to help track mdoelling experiemtns(we'll see this one later). \n",
        "\n",
        "*weight & biases - a tool for tracking all of kinds of machine learning experiments (plugs straight into TensorBoard)\n"
      ],
      "metadata": {
        "id": "z2IlhAX9Gb_h"
      }
    },
    {
      "cell_type": "markdown",
      "source": [
        "### Saving our models \n",
        "\n",
        "Saving our models allows us to use them ouside of Google colab(or wherever they are trained) such as in a web application or mobile app\n",
        "\n",
        "There are two main formats we can save our model's too: \n",
        "\n",
        "1. The SavedModel format(defualt)\n",
        "2. The HDF5 format"
      ],
      "metadata": {
        "id": "0u7zv3l4ISkh"
      }
    },
    {
      "cell_type": "code",
      "source": [
        "#Save model using the SavedModel format \n",
        "#use if you want to use pure tensor flow\n",
        "model_2.save(\"Best_model_SavedModel_format\")"
      ],
      "metadata": {
        "id": "a1dz9oV-JBLq"
      },
      "execution_count": null,
      "outputs": []
    },
    {
      "cell_type": "code",
      "source": [
        "#tflow for full course "
      ],
      "metadata": {
        "id": "vQBU9hkLJyyS"
      },
      "execution_count": null,
      "outputs": []
    },
    {
      "cell_type": "code",
      "source": [
        "#Save model using the HDF5 format\n",
        "#this is good for large sets of data. \n",
        "#if you are trying to work outside of tensorflow\n",
        "\n",
        "model_2.save(\"best_model_HDF5_format.h5\")"
      ],
      "metadata": {
        "id": "tjcIW6SzJ1N9"
      },
      "execution_count": null,
      "outputs": []
    },
    {
      "cell_type": "markdown",
      "source": [
        "##Loading in a saved model "
      ],
      "metadata": {
        "id": "qiRG3T_iKxOC"
      }
    },
    {
      "cell_type": "code",
      "source": [
        "#Load in the SavedModel format model \n",
        "loaded_SavedModel_format = tf.keras.models.load_model(\"Best_model_SavedModel_format\")\n",
        "loaded_SavedModel_format.summary()"
      ],
      "metadata": {
        "colab": {
          "base_uri": "https://localhost:8080/"
        },
        "id": "-8AbG_UHK3Ft",
        "outputId": "c737e6e3-2274-4b69-a828-052eb0c950e7"
      },
      "execution_count": null,
      "outputs": [
        {
          "output_type": "stream",
          "name": "stdout",
          "text": [
            "Model: \"sequential_4\"\n",
            "_________________________________________________________________\n",
            " Layer (type)                Output Shape              Param #   \n",
            "=================================================================\n",
            " dense_8 (Dense)             (None, 10)                20        \n",
            "                                                                 \n",
            " dense_9 (Dense)             (None, 1)                 11        \n",
            "                                                                 \n",
            "=================================================================\n",
            "Total params: 31\n",
            "Trainable params: 31\n",
            "Non-trainable params: 0\n",
            "_________________________________________________________________\n"
          ]
        }
      ]
    },
    {
      "cell_type": "code",
      "source": [
        "#Compare model_2 predictions with SavedModel format model predictions \n",
        "#comapring if your model matches our predictions\n",
        "model_2_preds = model_2.predict(X_test)\n",
        "loaded_SavedModel_format_preds = loaded_SavedModel_format.predict(X_test)\n",
        "model_2_preds == loaded_SavedModel_format_preds\n",
        "\n"
      ],
      "metadata": {
        "colab": {
          "base_uri": "https://localhost:8080/"
        },
        "id": "WxPiiQYTLaIU",
        "outputId": "d9192576-66e8-4971-86c6-e510bcb20585"
      },
      "execution_count": null,
      "outputs": [
        {
          "output_type": "stream",
          "name": "stdout",
          "text": [
            "1/1 [==============================] - 0s 30ms/step\n",
            "1/1 [==============================] - 0s 45ms/step\n"
          ]
        },
        {
          "output_type": "execute_result",
          "data": {
            "text/plain": [
              "array([[ True],\n",
              "       [ True],\n",
              "       [ True],\n",
              "       [ True],\n",
              "       [ True],\n",
              "       [ True],\n",
              "       [ True],\n",
              "       [ True],\n",
              "       [ True],\n",
              "       [ True]])"
            ]
          },
          "metadata": {},
          "execution_count": 59
        }
      ]
    },
    {
      "cell_type": "code",
      "source": [
        "#Load in model using the .h5 format \n",
        "loaded_h5_model = tf.keras.models.load_model(\"/content/best_model_HDF5_format.h5\")\n",
        "loaded_h5_model.summary()"
      ],
      "metadata": {
        "colab": {
          "base_uri": "https://localhost:8080/"
        },
        "id": "-bkmQcurObH2",
        "outputId": "615312c0-59b9-42b1-c9d9-171176f7364b"
      },
      "execution_count": null,
      "outputs": [
        {
          "output_type": "stream",
          "name": "stdout",
          "text": [
            "Model: \"sequential_4\"\n",
            "_________________________________________________________________\n",
            " Layer (type)                Output Shape              Param #   \n",
            "=================================================================\n",
            " dense_8 (Dense)             (None, 10)                20        \n",
            "                                                                 \n",
            " dense_9 (Dense)             (None, 1)                 11        \n",
            "                                                                 \n",
            "=================================================================\n",
            "Total params: 31\n",
            "Trainable params: 31\n",
            "Non-trainable params: 0\n",
            "_________________________________________________________________\n"
          ]
        }
      ]
    },
    {
      "cell_type": "code",
      "source": [
        "#comparying model with h5 \n",
        "\n",
        "#model_2_preds = model_2.predictions(X_test)\n",
        "loaded_h5_model_preds = loaded_h5_model.predict(X_test)\n",
        "model_2_preds == loaded_h5_model_preds"
      ],
      "metadata": {
        "colab": {
          "base_uri": "https://localhost:8080/"
        },
        "id": "2AlPVXduP7-e",
        "outputId": "1aa5be9c-ae02-4378-9da8-ffe0e5097f17"
      },
      "execution_count": null,
      "outputs": [
        {
          "output_type": "stream",
          "name": "stdout",
          "text": [
            "1/1 [==============================] - 0s 45ms/step\n"
          ]
        },
        {
          "output_type": "execute_result",
          "data": {
            "text/plain": [
              "array([[ True],\n",
              "       [ True],\n",
              "       [ True],\n",
              "       [ True],\n",
              "       [ True],\n",
              "       [ True],\n",
              "       [ True],\n",
              "       [ True],\n",
              "       [ True],\n",
              "       [ True]])"
            ]
          },
          "metadata": {},
          "execution_count": 61
        }
      ]
    },
    {
      "cell_type": "code",
      "source": [
        "#model_2_preds, loaded_SavedModel_format_preds \n",
        "#computing the mean abs error \n",
        "mae(y_true=Y_test, y_pred=model_2_preds) == mae(y_true=Y_test, y_pred=loaded_SavedModel_format_preds)"
      ],
      "metadata": {
        "colab": {
          "base_uri": "https://localhost:8080/"
        },
        "id": "P7ePUVwLL8b_",
        "outputId": "73879bad-9d3a-443d-f343-449453a78db6"
      },
      "execution_count": null,
      "outputs": [
        {
          "output_type": "execute_result",
          "data": {
            "text/plain": [
              "<tf.Tensor: shape=(), dtype=bool, numpy=True>"
            ]
          },
          "metadata": {},
          "execution_count": 62
        }
      ]
    },
    {
      "cell_type": "code",
      "source": [
        "model_2_preds.squeeze() == loaded_SavedModel_format_preds.squeeze()"
      ],
      "metadata": {
        "colab": {
          "base_uri": "https://localhost:8080/"
        },
        "id": "aalc1WjwNS9M",
        "outputId": "b8ff24f5-faf4-4f34-d82d-d78e96ae8a16"
      },
      "execution_count": null,
      "outputs": [
        {
          "output_type": "execute_result",
          "data": {
            "text/plain": [
              "array([ True,  True,  True,  True,  True,  True,  True,  True,  True,\n",
              "        True])"
            ]
          },
          "metadata": {},
          "execution_count": 63
        }
      ]
    },
    {
      "cell_type": "code",
      "source": [
        "loaded_SavedModel_format_preds.squeeze()"
      ],
      "metadata": {
        "colab": {
          "base_uri": "https://localhost:8080/"
        },
        "id": "HQLIaA9DNWtP",
        "outputId": "4efd8952-116e-407b-b5c5-6628b87d542c"
      },
      "execution_count": null,
      "outputs": [
        {
          "output_type": "execute_result",
          "data": {
            "text/plain": [
              "array([ 70.552185,  75.13991 ,  79.72764 ,  84.315346,  88.90308 ,\n",
              "        93.49081 ,  98.07852 , 102.666245, 107.253975, 111.84169 ],\n",
              "      dtype=float32)"
            ]
          },
          "metadata": {},
          "execution_count": 64
        }
      ]
    },
    {
      "cell_type": "markdown",
      "source": [
        "## Download a model(or any other file) from Google colab \n",
        "\n",
        "If you want to download your files from Google colab: \n",
        "\n",
        "1. You can go to the \"files\" tab and right click on the file you're after and click \"download\"\n",
        "2. Use code(see the cell below).\n",
        "3. Save it to Google drive by connecting Google drice and copying it there."
      ],
      "metadata": {
        "id": "4kwUUO_ARK-L"
      }
    },
    {
      "cell_type": "code",
      "source": [
        "# Download a file from google colab \n",
        "from google.colab import files \n",
        "\n",
        "files.download(\"/content/best_model_HDF5_format.h5\")"
      ],
      "metadata": {
        "colab": {
          "base_uri": "https://localhost:8080/",
          "height": 17
        },
        "id": "ygpKDXiATdst",
        "outputId": "2194529e-8d85-4e94-c254-cb750531568d"
      },
      "execution_count": null,
      "outputs": [
        {
          "output_type": "display_data",
          "data": {
            "text/plain": [
              "<IPython.core.display.Javascript object>"
            ],
            "application/javascript": [
              "\n",
              "    async function download(id, filename, size) {\n",
              "      if (!google.colab.kernel.accessAllowed) {\n",
              "        return;\n",
              "      }\n",
              "      const div = document.createElement('div');\n",
              "      const label = document.createElement('label');\n",
              "      label.textContent = `Downloading \"${filename}\": `;\n",
              "      div.appendChild(label);\n",
              "      const progress = document.createElement('progress');\n",
              "      progress.max = size;\n",
              "      div.appendChild(progress);\n",
              "      document.body.appendChild(div);\n",
              "\n",
              "      const buffers = [];\n",
              "      let downloaded = 0;\n",
              "\n",
              "      const channel = await google.colab.kernel.comms.open(id);\n",
              "      // Send a message to notify the kernel that we're ready.\n",
              "      channel.send({})\n",
              "\n",
              "      for await (const message of channel.messages) {\n",
              "        // Send a message to notify the kernel that we're ready.\n",
              "        channel.send({})\n",
              "        if (message.buffers) {\n",
              "          for (const buffer of message.buffers) {\n",
              "            buffers.push(buffer);\n",
              "            downloaded += buffer.byteLength;\n",
              "            progress.value = downloaded;\n",
              "          }\n",
              "        }\n",
              "      }\n",
              "      const blob = new Blob(buffers, {type: 'application/binary'});\n",
              "      const a = document.createElement('a');\n",
              "      a.href = window.URL.createObjectURL(blob);\n",
              "      a.download = filename;\n",
              "      div.appendChild(a);\n",
              "      a.click();\n",
              "      div.remove();\n",
              "    }\n",
              "  "
            ]
          },
          "metadata": {}
        },
        {
          "output_type": "display_data",
          "data": {
            "text/plain": [
              "<IPython.core.display.Javascript object>"
            ],
            "application/javascript": [
              "download(\"download_6bdb783e-d95b-4b54-ac27-50d8f24197ac\", \"best_model_HDF5_format.h5\", 17872)"
            ]
          },
          "metadata": {}
        }
      ]
    },
    {
      "cell_type": "markdown",
      "source": [
        "## How we will tackle a larger example"
      ],
      "metadata": {
        "id": "SKKndiXrUJZA"
      }
    },
    {
      "cell_type": "code",
      "source": [
        "# import the required libraries \n",
        "import tensorflow as tf \n",
        "import pandas as pd \n",
        "import matplotlib.pyplot as plt "
      ],
      "metadata": {
        "id": "Wp1e46E4UNRC"
      },
      "execution_count": null,
      "outputs": []
    },
    {
      "cell_type": "code",
      "source": [
        "insurance = pd.read_csv(\"https://raw.githubusercontent.com/stedy/Machine-Learning-with-R-datasets/master/insurance.csv\")\n",
        "insurance\n",
        "#dependent variable charges\n",
        "#independent var are age,sex,bmi, children, smoker"
      ],
      "metadata": {
        "id": "M8krCptOVVSW",
        "colab": {
          "base_uri": "https://localhost:8080/",
          "height": 424
        },
        "outputId": "75c19171-ef76-4fc9-9777-a8c578a981ad"
      },
      "execution_count": null,
      "outputs": [
        {
          "output_type": "execute_result",
          "data": {
            "text/plain": [
              "      age     sex     bmi  children smoker     region      charges\n",
              "0      19  female  27.900         0    yes  southwest  16884.92400\n",
              "1      18    male  33.770         1     no  southeast   1725.55230\n",
              "2      28    male  33.000         3     no  southeast   4449.46200\n",
              "3      33    male  22.705         0     no  northwest  21984.47061\n",
              "4      32    male  28.880         0     no  northwest   3866.85520\n",
              "...   ...     ...     ...       ...    ...        ...          ...\n",
              "1333   50    male  30.970         3     no  northwest  10600.54830\n",
              "1334   18  female  31.920         0     no  northeast   2205.98080\n",
              "1335   18  female  36.850         0     no  southeast   1629.83350\n",
              "1336   21  female  25.800         0     no  southwest   2007.94500\n",
              "1337   61  female  29.070         0    yes  northwest  29141.36030\n",
              "\n",
              "[1338 rows x 7 columns]"
            ],
            "text/html": [
              "\n",
              "  <div id=\"df-e051b659-eedc-4e3f-a099-4d874fafde09\">\n",
              "    <div class=\"colab-df-container\">\n",
              "      <div>\n",
              "<style scoped>\n",
              "    .dataframe tbody tr th:only-of-type {\n",
              "        vertical-align: middle;\n",
              "    }\n",
              "\n",
              "    .dataframe tbody tr th {\n",
              "        vertical-align: top;\n",
              "    }\n",
              "\n",
              "    .dataframe thead th {\n",
              "        text-align: right;\n",
              "    }\n",
              "</style>\n",
              "<table border=\"1\" class=\"dataframe\">\n",
              "  <thead>\n",
              "    <tr style=\"text-align: right;\">\n",
              "      <th></th>\n",
              "      <th>age</th>\n",
              "      <th>sex</th>\n",
              "      <th>bmi</th>\n",
              "      <th>children</th>\n",
              "      <th>smoker</th>\n",
              "      <th>region</th>\n",
              "      <th>charges</th>\n",
              "    </tr>\n",
              "  </thead>\n",
              "  <tbody>\n",
              "    <tr>\n",
              "      <th>0</th>\n",
              "      <td>19</td>\n",
              "      <td>female</td>\n",
              "      <td>27.900</td>\n",
              "      <td>0</td>\n",
              "      <td>yes</td>\n",
              "      <td>southwest</td>\n",
              "      <td>16884.92400</td>\n",
              "    </tr>\n",
              "    <tr>\n",
              "      <th>1</th>\n",
              "      <td>18</td>\n",
              "      <td>male</td>\n",
              "      <td>33.770</td>\n",
              "      <td>1</td>\n",
              "      <td>no</td>\n",
              "      <td>southeast</td>\n",
              "      <td>1725.55230</td>\n",
              "    </tr>\n",
              "    <tr>\n",
              "      <th>2</th>\n",
              "      <td>28</td>\n",
              "      <td>male</td>\n",
              "      <td>33.000</td>\n",
              "      <td>3</td>\n",
              "      <td>no</td>\n",
              "      <td>southeast</td>\n",
              "      <td>4449.46200</td>\n",
              "    </tr>\n",
              "    <tr>\n",
              "      <th>3</th>\n",
              "      <td>33</td>\n",
              "      <td>male</td>\n",
              "      <td>22.705</td>\n",
              "      <td>0</td>\n",
              "      <td>no</td>\n",
              "      <td>northwest</td>\n",
              "      <td>21984.47061</td>\n",
              "    </tr>\n",
              "    <tr>\n",
              "      <th>4</th>\n",
              "      <td>32</td>\n",
              "      <td>male</td>\n",
              "      <td>28.880</td>\n",
              "      <td>0</td>\n",
              "      <td>no</td>\n",
              "      <td>northwest</td>\n",
              "      <td>3866.85520</td>\n",
              "    </tr>\n",
              "    <tr>\n",
              "      <th>...</th>\n",
              "      <td>...</td>\n",
              "      <td>...</td>\n",
              "      <td>...</td>\n",
              "      <td>...</td>\n",
              "      <td>...</td>\n",
              "      <td>...</td>\n",
              "      <td>...</td>\n",
              "    </tr>\n",
              "    <tr>\n",
              "      <th>1333</th>\n",
              "      <td>50</td>\n",
              "      <td>male</td>\n",
              "      <td>30.970</td>\n",
              "      <td>3</td>\n",
              "      <td>no</td>\n",
              "      <td>northwest</td>\n",
              "      <td>10600.54830</td>\n",
              "    </tr>\n",
              "    <tr>\n",
              "      <th>1334</th>\n",
              "      <td>18</td>\n",
              "      <td>female</td>\n",
              "      <td>31.920</td>\n",
              "      <td>0</td>\n",
              "      <td>no</td>\n",
              "      <td>northeast</td>\n",
              "      <td>2205.98080</td>\n",
              "    </tr>\n",
              "    <tr>\n",
              "      <th>1335</th>\n",
              "      <td>18</td>\n",
              "      <td>female</td>\n",
              "      <td>36.850</td>\n",
              "      <td>0</td>\n",
              "      <td>no</td>\n",
              "      <td>southeast</td>\n",
              "      <td>1629.83350</td>\n",
              "    </tr>\n",
              "    <tr>\n",
              "      <th>1336</th>\n",
              "      <td>21</td>\n",
              "      <td>female</td>\n",
              "      <td>25.800</td>\n",
              "      <td>0</td>\n",
              "      <td>no</td>\n",
              "      <td>southwest</td>\n",
              "      <td>2007.94500</td>\n",
              "    </tr>\n",
              "    <tr>\n",
              "      <th>1337</th>\n",
              "      <td>61</td>\n",
              "      <td>female</td>\n",
              "      <td>29.070</td>\n",
              "      <td>0</td>\n",
              "      <td>yes</td>\n",
              "      <td>northwest</td>\n",
              "      <td>29141.36030</td>\n",
              "    </tr>\n",
              "  </tbody>\n",
              "</table>\n",
              "<p>1338 rows × 7 columns</p>\n",
              "</div>\n",
              "      <button class=\"colab-df-convert\" onclick=\"convertToInteractive('df-e051b659-eedc-4e3f-a099-4d874fafde09')\"\n",
              "              title=\"Convert this dataframe to an interactive table.\"\n",
              "              style=\"display:none;\">\n",
              "        \n",
              "  <svg xmlns=\"http://www.w3.org/2000/svg\" height=\"24px\"viewBox=\"0 0 24 24\"\n",
              "       width=\"24px\">\n",
              "    <path d=\"M0 0h24v24H0V0z\" fill=\"none\"/>\n",
              "    <path d=\"M18.56 5.44l.94 2.06.94-2.06 2.06-.94-2.06-.94-.94-2.06-.94 2.06-2.06.94zm-11 1L8.5 8.5l.94-2.06 2.06-.94-2.06-.94L8.5 2.5l-.94 2.06-2.06.94zm10 10l.94 2.06.94-2.06 2.06-.94-2.06-.94-.94-2.06-.94 2.06-2.06.94z\"/><path d=\"M17.41 7.96l-1.37-1.37c-.4-.4-.92-.59-1.43-.59-.52 0-1.04.2-1.43.59L10.3 9.45l-7.72 7.72c-.78.78-.78 2.05 0 2.83L4 21.41c.39.39.9.59 1.41.59.51 0 1.02-.2 1.41-.59l7.78-7.78 2.81-2.81c.8-.78.8-2.07 0-2.86zM5.41 20L4 18.59l7.72-7.72 1.47 1.35L5.41 20z\"/>\n",
              "  </svg>\n",
              "      </button>\n",
              "      \n",
              "  <style>\n",
              "    .colab-df-container {\n",
              "      display:flex;\n",
              "      flex-wrap:wrap;\n",
              "      gap: 12px;\n",
              "    }\n",
              "\n",
              "    .colab-df-convert {\n",
              "      background-color: #E8F0FE;\n",
              "      border: none;\n",
              "      border-radius: 50%;\n",
              "      cursor: pointer;\n",
              "      display: none;\n",
              "      fill: #1967D2;\n",
              "      height: 32px;\n",
              "      padding: 0 0 0 0;\n",
              "      width: 32px;\n",
              "    }\n",
              "\n",
              "    .colab-df-convert:hover {\n",
              "      background-color: #E2EBFA;\n",
              "      box-shadow: 0px 1px 2px rgba(60, 64, 67, 0.3), 0px 1px 3px 1px rgba(60, 64, 67, 0.15);\n",
              "      fill: #174EA6;\n",
              "    }\n",
              "\n",
              "    [theme=dark] .colab-df-convert {\n",
              "      background-color: #3B4455;\n",
              "      fill: #D2E3FC;\n",
              "    }\n",
              "\n",
              "    [theme=dark] .colab-df-convert:hover {\n",
              "      background-color: #434B5C;\n",
              "      box-shadow: 0px 1px 3px 1px rgba(0, 0, 0, 0.15);\n",
              "      filter: drop-shadow(0px 1px 2px rgba(0, 0, 0, 0.3));\n",
              "      fill: #FFFFFF;\n",
              "    }\n",
              "  </style>\n",
              "\n",
              "      <script>\n",
              "        const buttonEl =\n",
              "          document.querySelector('#df-e051b659-eedc-4e3f-a099-4d874fafde09 button.colab-df-convert');\n",
              "        buttonEl.style.display =\n",
              "          google.colab.kernel.accessAllowed ? 'block' : 'none';\n",
              "\n",
              "        async function convertToInteractive(key) {\n",
              "          const element = document.querySelector('#df-e051b659-eedc-4e3f-a099-4d874fafde09');\n",
              "          const dataTable =\n",
              "            await google.colab.kernel.invokeFunction('convertToInteractive',\n",
              "                                                     [key], {});\n",
              "          if (!dataTable) return;\n",
              "\n",
              "          const docLinkHtml = 'Like what you see? Visit the ' +\n",
              "            '<a target=\"_blank\" href=https://colab.research.google.com/notebooks/data_table.ipynb>data table notebook</a>'\n",
              "            + ' to learn more about interactive tables.';\n",
              "          element.innerHTML = '';\n",
              "          dataTable['output_type'] = 'display_data';\n",
              "          await google.colab.output.renderOutput(dataTable, element);\n",
              "          const docLink = document.createElement('div');\n",
              "          docLink.innerHTML = docLinkHtml;\n",
              "          element.appendChild(docLink);\n",
              "        }\n",
              "      </script>\n",
              "    </div>\n",
              "  </div>\n",
              "  "
            ]
          },
          "metadata": {},
          "execution_count": 67
        }
      ]
    },
    {
      "cell_type": "markdown",
      "source": [
        "One-hot encoding\n",
        "\n",
        "![one_hot_encoding.jpeg](data:image/jpeg;base64,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)"
      ],
      "metadata": {
        "id": "Sqte9VqIXW8g"
      }
    },
    {
      "cell_type": "code",
      "source": [
        "insurance_one_hot = pd.get_dummies(insurance)  \n",
        "insurance_one_hot.head()"
      ],
      "metadata": {
        "colab": {
          "base_uri": "https://localhost:8080/",
          "height": 270
        },
        "id": "oMhSW_Z9WYVP",
        "outputId": "29fa1e7f-3a67-4238-cd59-10735264c949"
      },
      "execution_count": null,
      "outputs": [
        {
          "output_type": "execute_result",
          "data": {
            "text/plain": [
              "   age     bmi  children      charges  sex_female  sex_male  smoker_no  \\\n",
              "0   19  27.900         0  16884.92400           1         0          0   \n",
              "1   18  33.770         1   1725.55230           0         1          1   \n",
              "2   28  33.000         3   4449.46200           0         1          1   \n",
              "3   33  22.705         0  21984.47061           0         1          1   \n",
              "4   32  28.880         0   3866.85520           0         1          1   \n",
              "\n",
              "   smoker_yes  region_northeast  region_northwest  region_southeast  \\\n",
              "0           1                 0                 0                 0   \n",
              "1           0                 0                 0                 1   \n",
              "2           0                 0                 0                 1   \n",
              "3           0                 0                 1                 0   \n",
              "4           0                 0                 1                 0   \n",
              "\n",
              "   region_southwest  \n",
              "0                 1  \n",
              "1                 0  \n",
              "2                 0  \n",
              "3                 0  \n",
              "4                 0  "
            ],
            "text/html": [
              "\n",
              "  <div id=\"df-26df9f27-e212-45c7-a4f6-5b739682aa45\">\n",
              "    <div class=\"colab-df-container\">\n",
              "      <div>\n",
              "<style scoped>\n",
              "    .dataframe tbody tr th:only-of-type {\n",
              "        vertical-align: middle;\n",
              "    }\n",
              "\n",
              "    .dataframe tbody tr th {\n",
              "        vertical-align: top;\n",
              "    }\n",
              "\n",
              "    .dataframe thead th {\n",
              "        text-align: right;\n",
              "    }\n",
              "</style>\n",
              "<table border=\"1\" class=\"dataframe\">\n",
              "  <thead>\n",
              "    <tr style=\"text-align: right;\">\n",
              "      <th></th>\n",
              "      <th>age</th>\n",
              "      <th>bmi</th>\n",
              "      <th>children</th>\n",
              "      <th>charges</th>\n",
              "      <th>sex_female</th>\n",
              "      <th>sex_male</th>\n",
              "      <th>smoker_no</th>\n",
              "      <th>smoker_yes</th>\n",
              "      <th>region_northeast</th>\n",
              "      <th>region_northwest</th>\n",
              "      <th>region_southeast</th>\n",
              "      <th>region_southwest</th>\n",
              "    </tr>\n",
              "  </thead>\n",
              "  <tbody>\n",
              "    <tr>\n",
              "      <th>0</th>\n",
              "      <td>19</td>\n",
              "      <td>27.900</td>\n",
              "      <td>0</td>\n",
              "      <td>16884.92400</td>\n",
              "      <td>1</td>\n",
              "      <td>0</td>\n",
              "      <td>0</td>\n",
              "      <td>1</td>\n",
              "      <td>0</td>\n",
              "      <td>0</td>\n",
              "      <td>0</td>\n",
              "      <td>1</td>\n",
              "    </tr>\n",
              "    <tr>\n",
              "      <th>1</th>\n",
              "      <td>18</td>\n",
              "      <td>33.770</td>\n",
              "      <td>1</td>\n",
              "      <td>1725.55230</td>\n",
              "      <td>0</td>\n",
              "      <td>1</td>\n",
              "      <td>1</td>\n",
              "      <td>0</td>\n",
              "      <td>0</td>\n",
              "      <td>0</td>\n",
              "      <td>1</td>\n",
              "      <td>0</td>\n",
              "    </tr>\n",
              "    <tr>\n",
              "      <th>2</th>\n",
              "      <td>28</td>\n",
              "      <td>33.000</td>\n",
              "      <td>3</td>\n",
              "      <td>4449.46200</td>\n",
              "      <td>0</td>\n",
              "      <td>1</td>\n",
              "      <td>1</td>\n",
              "      <td>0</td>\n",
              "      <td>0</td>\n",
              "      <td>0</td>\n",
              "      <td>1</td>\n",
              "      <td>0</td>\n",
              "    </tr>\n",
              "    <tr>\n",
              "      <th>3</th>\n",
              "      <td>33</td>\n",
              "      <td>22.705</td>\n",
              "      <td>0</td>\n",
              "      <td>21984.47061</td>\n",
              "      <td>0</td>\n",
              "      <td>1</td>\n",
              "      <td>1</td>\n",
              "      <td>0</td>\n",
              "      <td>0</td>\n",
              "      <td>1</td>\n",
              "      <td>0</td>\n",
              "      <td>0</td>\n",
              "    </tr>\n",
              "    <tr>\n",
              "      <th>4</th>\n",
              "      <td>32</td>\n",
              "      <td>28.880</td>\n",
              "      <td>0</td>\n",
              "      <td>3866.85520</td>\n",
              "      <td>0</td>\n",
              "      <td>1</td>\n",
              "      <td>1</td>\n",
              "      <td>0</td>\n",
              "      <td>0</td>\n",
              "      <td>1</td>\n",
              "      <td>0</td>\n",
              "      <td>0</td>\n",
              "    </tr>\n",
              "  </tbody>\n",
              "</table>\n",
              "</div>\n",
              "      <button class=\"colab-df-convert\" onclick=\"convertToInteractive('df-26df9f27-e212-45c7-a4f6-5b739682aa45')\"\n",
              "              title=\"Convert this dataframe to an interactive table.\"\n",
              "              style=\"display:none;\">\n",
              "        \n",
              "  <svg xmlns=\"http://www.w3.org/2000/svg\" height=\"24px\"viewBox=\"0 0 24 24\"\n",
              "       width=\"24px\">\n",
              "    <path d=\"M0 0h24v24H0V0z\" fill=\"none\"/>\n",
              "    <path d=\"M18.56 5.44l.94 2.06.94-2.06 2.06-.94-2.06-.94-.94-2.06-.94 2.06-2.06.94zm-11 1L8.5 8.5l.94-2.06 2.06-.94-2.06-.94L8.5 2.5l-.94 2.06-2.06.94zm10 10l.94 2.06.94-2.06 2.06-.94-2.06-.94-.94-2.06-.94 2.06-2.06.94z\"/><path d=\"M17.41 7.96l-1.37-1.37c-.4-.4-.92-.59-1.43-.59-.52 0-1.04.2-1.43.59L10.3 9.45l-7.72 7.72c-.78.78-.78 2.05 0 2.83L4 21.41c.39.39.9.59 1.41.59.51 0 1.02-.2 1.41-.59l7.78-7.78 2.81-2.81c.8-.78.8-2.07 0-2.86zM5.41 20L4 18.59l7.72-7.72 1.47 1.35L5.41 20z\"/>\n",
              "  </svg>\n",
              "      </button>\n",
              "      \n",
              "  <style>\n",
              "    .colab-df-container {\n",
              "      display:flex;\n",
              "      flex-wrap:wrap;\n",
              "      gap: 12px;\n",
              "    }\n",
              "\n",
              "    .colab-df-convert {\n",
              "      background-color: #E8F0FE;\n",
              "      border: none;\n",
              "      border-radius: 50%;\n",
              "      cursor: pointer;\n",
              "      display: none;\n",
              "      fill: #1967D2;\n",
              "      height: 32px;\n",
              "      padding: 0 0 0 0;\n",
              "      width: 32px;\n",
              "    }\n",
              "\n",
              "    .colab-df-convert:hover {\n",
              "      background-color: #E2EBFA;\n",
              "      box-shadow: 0px 1px 2px rgba(60, 64, 67, 0.3), 0px 1px 3px 1px rgba(60, 64, 67, 0.15);\n",
              "      fill: #174EA6;\n",
              "    }\n",
              "\n",
              "    [theme=dark] .colab-df-convert {\n",
              "      background-color: #3B4455;\n",
              "      fill: #D2E3FC;\n",
              "    }\n",
              "\n",
              "    [theme=dark] .colab-df-convert:hover {\n",
              "      background-color: #434B5C;\n",
              "      box-shadow: 0px 1px 3px 1px rgba(0, 0, 0, 0.15);\n",
              "      filter: drop-shadow(0px 1px 2px rgba(0, 0, 0, 0.3));\n",
              "      fill: #FFFFFF;\n",
              "    }\n",
              "  </style>\n",
              "\n",
              "      <script>\n",
              "        const buttonEl =\n",
              "          document.querySelector('#df-26df9f27-e212-45c7-a4f6-5b739682aa45 button.colab-df-convert');\n",
              "        buttonEl.style.display =\n",
              "          google.colab.kernel.accessAllowed ? 'block' : 'none';\n",
              "\n",
              "        async function convertToInteractive(key) {\n",
              "          const element = document.querySelector('#df-26df9f27-e212-45c7-a4f6-5b739682aa45');\n",
              "          const dataTable =\n",
              "            await google.colab.kernel.invokeFunction('convertToInteractive',\n",
              "                                                     [key], {});\n",
              "          if (!dataTable) return;\n",
              "\n",
              "          const docLinkHtml = 'Like what you see? Visit the ' +\n",
              "            '<a target=\"_blank\" href=https://colab.research.google.com/notebooks/data_table.ipynb>data table notebook</a>'\n",
              "            + ' to learn more about interactive tables.';\n",
              "          element.innerHTML = '';\n",
              "          dataTable['output_type'] = 'display_data';\n",
              "          await google.colab.output.renderOutput(dataTable, element);\n",
              "          const docLink = document.createElement('div');\n",
              "          docLink.innerHTML = docLinkHtml;\n",
              "          element.appendChild(docLink);\n",
              "        }\n",
              "      </script>\n",
              "    </div>\n",
              "  </div>\n",
              "  "
            ]
          },
          "metadata": {},
          "execution_count": 68
        }
      ]
    },
    {
      "cell_type": "code",
      "source": [
        "#create a X & y values(feautres and lables) \n",
        "\n",
        "X = insurance_one_hot.drop(\"charges\",axis=1)\n",
        "y = insurance_one_hot[\"charges\"] \n",
        "\n",
        "#view X \n",
        "X.head()\n"
      ],
      "metadata": {
        "colab": {
          "base_uri": "https://localhost:8080/",
          "height": 270
        },
        "id": "DXRh-3cWZpQc",
        "outputId": "7d47c4aa-5bf4-47ba-b92c-2ad0836d2803"
      },
      "execution_count": null,
      "outputs": [
        {
          "output_type": "execute_result",
          "data": {
            "text/plain": [
              "   age     bmi  children  sex_female  sex_male  smoker_no  smoker_yes  \\\n",
              "0   19  27.900         0           1         0          0           1   \n",
              "1   18  33.770         1           0         1          1           0   \n",
              "2   28  33.000         3           0         1          1           0   \n",
              "3   33  22.705         0           0         1          1           0   \n",
              "4   32  28.880         0           0         1          1           0   \n",
              "\n",
              "   region_northeast  region_northwest  region_southeast  region_southwest  \n",
              "0                 0                 0                 0                 1  \n",
              "1                 0                 0                 1                 0  \n",
              "2                 0                 0                 1                 0  \n",
              "3                 0                 1                 0                 0  \n",
              "4                 0                 1                 0                 0  "
            ],
            "text/html": [
              "\n",
              "  <div id=\"df-985996d9-b6c4-4d87-8793-137fb2aa7b16\">\n",
              "    <div class=\"colab-df-container\">\n",
              "      <div>\n",
              "<style scoped>\n",
              "    .dataframe tbody tr th:only-of-type {\n",
              "        vertical-align: middle;\n",
              "    }\n",
              "\n",
              "    .dataframe tbody tr th {\n",
              "        vertical-align: top;\n",
              "    }\n",
              "\n",
              "    .dataframe thead th {\n",
              "        text-align: right;\n",
              "    }\n",
              "</style>\n",
              "<table border=\"1\" class=\"dataframe\">\n",
              "  <thead>\n",
              "    <tr style=\"text-align: right;\">\n",
              "      <th></th>\n",
              "      <th>age</th>\n",
              "      <th>bmi</th>\n",
              "      <th>children</th>\n",
              "      <th>sex_female</th>\n",
              "      <th>sex_male</th>\n",
              "      <th>smoker_no</th>\n",
              "      <th>smoker_yes</th>\n",
              "      <th>region_northeast</th>\n",
              "      <th>region_northwest</th>\n",
              "      <th>region_southeast</th>\n",
              "      <th>region_southwest</th>\n",
              "    </tr>\n",
              "  </thead>\n",
              "  <tbody>\n",
              "    <tr>\n",
              "      <th>0</th>\n",
              "      <td>19</td>\n",
              "      <td>27.900</td>\n",
              "      <td>0</td>\n",
              "      <td>1</td>\n",
              "      <td>0</td>\n",
              "      <td>0</td>\n",
              "      <td>1</td>\n",
              "      <td>0</td>\n",
              "      <td>0</td>\n",
              "      <td>0</td>\n",
              "      <td>1</td>\n",
              "    </tr>\n",
              "    <tr>\n",
              "      <th>1</th>\n",
              "      <td>18</td>\n",
              "      <td>33.770</td>\n",
              "      <td>1</td>\n",
              "      <td>0</td>\n",
              "      <td>1</td>\n",
              "      <td>1</td>\n",
              "      <td>0</td>\n",
              "      <td>0</td>\n",
              "      <td>0</td>\n",
              "      <td>1</td>\n",
              "      <td>0</td>\n",
              "    </tr>\n",
              "    <tr>\n",
              "      <th>2</th>\n",
              "      <td>28</td>\n",
              "      <td>33.000</td>\n",
              "      <td>3</td>\n",
              "      <td>0</td>\n",
              "      <td>1</td>\n",
              "      <td>1</td>\n",
              "      <td>0</td>\n",
              "      <td>0</td>\n",
              "      <td>0</td>\n",
              "      <td>1</td>\n",
              "      <td>0</td>\n",
              "    </tr>\n",
              "    <tr>\n",
              "      <th>3</th>\n",
              "      <td>33</td>\n",
              "      <td>22.705</td>\n",
              "      <td>0</td>\n",
              "      <td>0</td>\n",
              "      <td>1</td>\n",
              "      <td>1</td>\n",
              "      <td>0</td>\n",
              "      <td>0</td>\n",
              "      <td>1</td>\n",
              "      <td>0</td>\n",
              "      <td>0</td>\n",
              "    </tr>\n",
              "    <tr>\n",
              "      <th>4</th>\n",
              "      <td>32</td>\n",
              "      <td>28.880</td>\n",
              "      <td>0</td>\n",
              "      <td>0</td>\n",
              "      <td>1</td>\n",
              "      <td>1</td>\n",
              "      <td>0</td>\n",
              "      <td>0</td>\n",
              "      <td>1</td>\n",
              "      <td>0</td>\n",
              "      <td>0</td>\n",
              "    </tr>\n",
              "  </tbody>\n",
              "</table>\n",
              "</div>\n",
              "      <button class=\"colab-df-convert\" onclick=\"convertToInteractive('df-985996d9-b6c4-4d87-8793-137fb2aa7b16')\"\n",
              "              title=\"Convert this dataframe to an interactive table.\"\n",
              "              style=\"display:none;\">\n",
              "        \n",
              "  <svg xmlns=\"http://www.w3.org/2000/svg\" height=\"24px\"viewBox=\"0 0 24 24\"\n",
              "       width=\"24px\">\n",
              "    <path d=\"M0 0h24v24H0V0z\" fill=\"none\"/>\n",
              "    <path d=\"M18.56 5.44l.94 2.06.94-2.06 2.06-.94-2.06-.94-.94-2.06-.94 2.06-2.06.94zm-11 1L8.5 8.5l.94-2.06 2.06-.94-2.06-.94L8.5 2.5l-.94 2.06-2.06.94zm10 10l.94 2.06.94-2.06 2.06-.94-2.06-.94-.94-2.06-.94 2.06-2.06.94z\"/><path d=\"M17.41 7.96l-1.37-1.37c-.4-.4-.92-.59-1.43-.59-.52 0-1.04.2-1.43.59L10.3 9.45l-7.72 7.72c-.78.78-.78 2.05 0 2.83L4 21.41c.39.39.9.59 1.41.59.51 0 1.02-.2 1.41-.59l7.78-7.78 2.81-2.81c.8-.78.8-2.07 0-2.86zM5.41 20L4 18.59l7.72-7.72 1.47 1.35L5.41 20z\"/>\n",
              "  </svg>\n",
              "      </button>\n",
              "      \n",
              "  <style>\n",
              "    .colab-df-container {\n",
              "      display:flex;\n",
              "      flex-wrap:wrap;\n",
              "      gap: 12px;\n",
              "    }\n",
              "\n",
              "    .colab-df-convert {\n",
              "      background-color: #E8F0FE;\n",
              "      border: none;\n",
              "      border-radius: 50%;\n",
              "      cursor: pointer;\n",
              "      display: none;\n",
              "      fill: #1967D2;\n",
              "      height: 32px;\n",
              "      padding: 0 0 0 0;\n",
              "      width: 32px;\n",
              "    }\n",
              "\n",
              "    .colab-df-convert:hover {\n",
              "      background-color: #E2EBFA;\n",
              "      box-shadow: 0px 1px 2px rgba(60, 64, 67, 0.3), 0px 1px 3px 1px rgba(60, 64, 67, 0.15);\n",
              "      fill: #174EA6;\n",
              "    }\n",
              "\n",
              "    [theme=dark] .colab-df-convert {\n",
              "      background-color: #3B4455;\n",
              "      fill: #D2E3FC;\n",
              "    }\n",
              "\n",
              "    [theme=dark] .colab-df-convert:hover {\n",
              "      background-color: #434B5C;\n",
              "      box-shadow: 0px 1px 3px 1px rgba(0, 0, 0, 0.15);\n",
              "      filter: drop-shadow(0px 1px 2px rgba(0, 0, 0, 0.3));\n",
              "      fill: #FFFFFF;\n",
              "    }\n",
              "  </style>\n",
              "\n",
              "      <script>\n",
              "        const buttonEl =\n",
              "          document.querySelector('#df-985996d9-b6c4-4d87-8793-137fb2aa7b16 button.colab-df-convert');\n",
              "        buttonEl.style.display =\n",
              "          google.colab.kernel.accessAllowed ? 'block' : 'none';\n",
              "\n",
              "        async function convertToInteractive(key) {\n",
              "          const element = document.querySelector('#df-985996d9-b6c4-4d87-8793-137fb2aa7b16');\n",
              "          const dataTable =\n",
              "            await google.colab.kernel.invokeFunction('convertToInteractive',\n",
              "                                                     [key], {});\n",
              "          if (!dataTable) return;\n",
              "\n",
              "          const docLinkHtml = 'Like what you see? Visit the ' +\n",
              "            '<a target=\"_blank\" href=https://colab.research.google.com/notebooks/data_table.ipynb>data table notebook</a>'\n",
              "            + ' to learn more about interactive tables.';\n",
              "          element.innerHTML = '';\n",
              "          dataTable['output_type'] = 'display_data';\n",
              "          await google.colab.output.renderOutput(dataTable, element);\n",
              "          const docLink = document.createElement('div');\n",
              "          docLink.innerHTML = docLinkHtml;\n",
              "          element.appendChild(docLink);\n",
              "        }\n",
              "      </script>\n",
              "    </div>\n",
              "  </div>\n",
              "  "
            ]
          },
          "metadata": {},
          "execution_count": 69
        }
      ]
    },
    {
      "cell_type": "code",
      "source": [
        "#view y \n",
        "y.head() "
      ],
      "metadata": {
        "colab": {
          "base_uri": "https://localhost:8080/"
        },
        "id": "U3a3Wrv5aM9G",
        "outputId": "4c6d8ad2-a396-45e3-9025-b352ba0027a6"
      },
      "execution_count": null,
      "outputs": [
        {
          "output_type": "execute_result",
          "data": {
            "text/plain": [
              "0    16884.92400\n",
              "1     1725.55230\n",
              "2     4449.46200\n",
              "3    21984.47061\n",
              "4     3866.85520\n",
              "Name: charges, dtype: float64"
            ]
          },
          "metadata": {},
          "execution_count": 70
        }
      ]
    },
    {
      "cell_type": "code",
      "source": [
        "#Create training and test sets \n",
        "from sklearn.model_selection import train_test_split\n",
        "#previous split was a 80:20 which is a popular split\n",
        "#we use a random split, so it is split the same way every time.\n",
        "X_train, X_test, y_train, y_test = train_test_split(X,y, test_size=0.2, random_state=42)\n",
        "len(X),len(X_train),len(X_test)"
      ],
      "metadata": {
        "colab": {
          "base_uri": "https://localhost:8080/"
        },
        "id": "l89XILLxZqUL",
        "outputId": "11337386-4c01-4869-f8f0-35e59b2f9b73"
      },
      "execution_count": null,
      "outputs": [
        {
          "output_type": "execute_result",
          "data": {
            "text/plain": [
              "(1338, 1070, 268)"
            ]
          },
          "metadata": {},
          "execution_count": 71
        }
      ]
    },
    {
      "cell_type": "code",
      "source": [
        "#Build a neural network(sort of like model_2 above)\n",
        "\n",
        "model_2.summary()"
      ],
      "metadata": {
        "colab": {
          "base_uri": "https://localhost:8080/"
        },
        "id": "KUBS6AqdaPxv",
        "outputId": "a51c6b8e-4974-49e9-8aab-c243e4740eb7"
      },
      "execution_count": null,
      "outputs": [
        {
          "output_type": "stream",
          "name": "stdout",
          "text": [
            "Model: \"sequential_4\"\n",
            "_________________________________________________________________\n",
            " Layer (type)                Output Shape              Param #   \n",
            "=================================================================\n",
            " dense_8 (Dense)             (None, 10)                20        \n",
            "                                                                 \n",
            " dense_9 (Dense)             (None, 1)                 11        \n",
            "                                                                 \n",
            "=================================================================\n",
            "Total params: 31\n",
            "Trainable params: 31\n",
            "Non-trainable params: 0\n",
            "_________________________________________________________________\n"
          ]
        }
      ]
    },
    {
      "cell_type": "code",
      "source": [
        "tf.random.set_seed(42) \n",
        "\n",
        "#1.create a model \n",
        "insurance_model = tf.keras.Sequential([tf.keras.layers.Dense(10),\n",
        "                                       tf.keras.layers.Dense(1)])\n",
        "\n",
        "#2. train model/compile\n",
        "insurance_model.compile(loss=tf.keras.losses.mae,\n",
        "                        optimizer=tf.keras.optimizers.SGD(),\n",
        "                        metrics=[\"mae\"])\n",
        "\n",
        "#3.fit the model \n",
        "insurance_model.fit(X_train, y_train, epochs=100)\n"
      ],
      "metadata": {
        "id": "UJCgK4ARbse7",
        "colab": {
          "base_uri": "https://localhost:8080/"
        },
        "outputId": "5e6a39b5-1fb5-4bb1-9f46-1e71160e265c"
      },
      "execution_count": null,
      "outputs": [
        {
          "output_type": "stream",
          "name": "stdout",
          "text": [
            "Epoch 1/100\n",
            "34/34 [==============================] - 0s 2ms/step - loss: 8637.0996 - mae: 8637.0996\n",
            "Epoch 2/100\n",
            "34/34 [==============================] - 0s 1ms/step - loss: 7886.7769 - mae: 7886.7769\n",
            "Epoch 3/100\n",
            "34/34 [==============================] - 0s 1ms/step - loss: 7558.1475 - mae: 7558.1475\n",
            "Epoch 4/100\n",
            "34/34 [==============================] - 0s 3ms/step - loss: 7792.0220 - mae: 7792.0220\n",
            "Epoch 5/100\n",
            "34/34 [==============================] - 0s 2ms/step - loss: 7748.3892 - mae: 7748.3892\n",
            "Epoch 6/100\n",
            "34/34 [==============================] - 0s 2ms/step - loss: 7595.3940 - mae: 7595.3940\n",
            "Epoch 7/100\n",
            "34/34 [==============================] - 0s 2ms/step - loss: 7589.9849 - mae: 7589.9849\n",
            "Epoch 8/100\n",
            "34/34 [==============================] - 0s 2ms/step - loss: 7698.5591 - mae: 7698.5591\n",
            "Epoch 9/100\n",
            "34/34 [==============================] - 0s 1ms/step - loss: 7496.7788 - mae: 7496.7788\n",
            "Epoch 10/100\n",
            "34/34 [==============================] - 0s 2ms/step - loss: 7493.1743 - mae: 7493.1743\n",
            "Epoch 11/100\n",
            "34/34 [==============================] - 0s 1ms/step - loss: 7769.7314 - mae: 7769.7314\n",
            "Epoch 12/100\n",
            "34/34 [==============================] - 0s 2ms/step - loss: 7706.9033 - mae: 7706.9033\n",
            "Epoch 13/100\n",
            "34/34 [==============================] - 0s 1ms/step - loss: 7687.7227 - mae: 7687.7227\n",
            "Epoch 14/100\n",
            "34/34 [==============================] - 0s 2ms/step - loss: 7689.8999 - mae: 7689.8999\n",
            "Epoch 15/100\n",
            "34/34 [==============================] - 0s 1ms/step - loss: 7393.5322 - mae: 7393.5322\n",
            "Epoch 16/100\n",
            "34/34 [==============================] - 0s 2ms/step - loss: 7780.6982 - mae: 7780.6982\n",
            "Epoch 17/100\n",
            "34/34 [==============================] - 0s 2ms/step - loss: 7578.5093 - mae: 7578.5093\n",
            "Epoch 18/100\n",
            "34/34 [==============================] - 0s 2ms/step - loss: 7750.8350 - mae: 7750.8350\n",
            "Epoch 19/100\n",
            "34/34 [==============================] - 0s 2ms/step - loss: 7739.2134 - mae: 7739.2134\n",
            "Epoch 20/100\n",
            "34/34 [==============================] - 0s 2ms/step - loss: 7875.0635 - mae: 7875.0635\n",
            "Epoch 21/100\n",
            "34/34 [==============================] - 0s 2ms/step - loss: 7466.6768 - mae: 7466.6768\n",
            "Epoch 22/100\n",
            "34/34 [==============================] - 0s 2ms/step - loss: 7941.2310 - mae: 7941.2310\n",
            "Epoch 23/100\n",
            "34/34 [==============================] - 0s 1ms/step - loss: 7640.2725 - mae: 7640.2725\n",
            "Epoch 24/100\n",
            "34/34 [==============================] - 0s 2ms/step - loss: 7539.2656 - mae: 7539.2656\n",
            "Epoch 25/100\n",
            "34/34 [==============================] - 0s 2ms/step - loss: 7619.9658 - mae: 7619.9658\n",
            "Epoch 26/100\n",
            "34/34 [==============================] - 0s 1ms/step - loss: 7644.1709 - mae: 7644.1709\n",
            "Epoch 27/100\n",
            "34/34 [==============================] - 0s 1ms/step - loss: 7709.0361 - mae: 7709.0361\n",
            "Epoch 28/100\n",
            "34/34 [==============================] - 0s 2ms/step - loss: 7366.8662 - mae: 7366.8662\n",
            "Epoch 29/100\n",
            "34/34 [==============================] - 0s 2ms/step - loss: 7444.3135 - mae: 7444.3135\n",
            "Epoch 30/100\n",
            "34/34 [==============================] - 0s 1ms/step - loss: 7616.4087 - mae: 7616.4087\n",
            "Epoch 31/100\n",
            "34/34 [==============================] - 0s 2ms/step - loss: 7686.3853 - mae: 7686.3853\n",
            "Epoch 32/100\n",
            "34/34 [==============================] - 0s 2ms/step - loss: 7548.0981 - mae: 7548.0981\n",
            "Epoch 33/100\n",
            "34/34 [==============================] - 0s 2ms/step - loss: 7501.5532 - mae: 7501.5532\n",
            "Epoch 34/100\n",
            "34/34 [==============================] - 0s 2ms/step - loss: 7363.4155 - mae: 7363.4155\n",
            "Epoch 35/100\n",
            "34/34 [==============================] - 0s 2ms/step - loss: 7295.4468 - mae: 7295.4468\n",
            "Epoch 36/100\n",
            "34/34 [==============================] - 0s 1ms/step - loss: 7569.8813 - mae: 7569.8813\n",
            "Epoch 37/100\n",
            "34/34 [==============================] - 0s 2ms/step - loss: 7548.2002 - mae: 7548.2002\n",
            "Epoch 38/100\n",
            "34/34 [==============================] - 0s 2ms/step - loss: 7424.3979 - mae: 7424.3979\n",
            "Epoch 39/100\n",
            "34/34 [==============================] - 0s 2ms/step - loss: 7529.7739 - mae: 7529.7739\n",
            "Epoch 40/100\n",
            "34/34 [==============================] - 0s 2ms/step - loss: 7467.3232 - mae: 7467.3232\n",
            "Epoch 41/100\n",
            "34/34 [==============================] - 0s 1ms/step - loss: 7635.9282 - mae: 7635.9282\n",
            "Epoch 42/100\n",
            "34/34 [==============================] - 0s 1ms/step - loss: 7536.8398 - mae: 7536.8398\n",
            "Epoch 43/100\n",
            "34/34 [==============================] - 0s 2ms/step - loss: 7616.5845 - mae: 7616.5845\n",
            "Epoch 44/100\n",
            "34/34 [==============================] - 0s 2ms/step - loss: 7439.4932 - mae: 7439.4932\n",
            "Epoch 45/100\n",
            "34/34 [==============================] - 0s 2ms/step - loss: 7538.0156 - mae: 7538.0156\n",
            "Epoch 46/100\n",
            "34/34 [==============================] - 0s 2ms/step - loss: 7415.1460 - mae: 7415.1460\n",
            "Epoch 47/100\n",
            "34/34 [==============================] - 0s 2ms/step - loss: 7420.6938 - mae: 7420.6938\n",
            "Epoch 48/100\n",
            "34/34 [==============================] - 0s 2ms/step - loss: 7509.9829 - mae: 7509.9829\n",
            "Epoch 49/100\n",
            "34/34 [==============================] - 0s 2ms/step - loss: 7541.1123 - mae: 7541.1123\n",
            "Epoch 50/100\n",
            "34/34 [==============================] - 0s 1ms/step - loss: 7467.8633 - mae: 7467.8633\n",
            "Epoch 51/100\n",
            "34/34 [==============================] - 0s 2ms/step - loss: 7389.3545 - mae: 7389.3545\n",
            "Epoch 52/100\n",
            "34/34 [==============================] - 0s 2ms/step - loss: 7499.7749 - mae: 7499.7749\n",
            "Epoch 53/100\n",
            "34/34 [==============================] - 0s 2ms/step - loss: 7523.9282 - mae: 7523.9282\n",
            "Epoch 54/100\n",
            "34/34 [==============================] - 0s 3ms/step - loss: 7243.3120 - mae: 7243.3120\n",
            "Epoch 55/100\n",
            "34/34 [==============================] - 0s 3ms/step - loss: 7429.5854 - mae: 7429.5854\n",
            "Epoch 56/100\n",
            "34/34 [==============================] - 0s 1ms/step - loss: 7313.4004 - mae: 7313.4004\n",
            "Epoch 57/100\n",
            "34/34 [==============================] - 0s 2ms/step - loss: 7526.3887 - mae: 7526.3887\n",
            "Epoch 58/100\n",
            "34/34 [==============================] - 0s 1ms/step - loss: 7542.2661 - mae: 7542.2661\n",
            "Epoch 59/100\n",
            "34/34 [==============================] - 0s 2ms/step - loss: 7576.9277 - mae: 7576.9277\n",
            "Epoch 60/100\n",
            "34/34 [==============================] - 0s 2ms/step - loss: 7546.4058 - mae: 7546.4058\n",
            "Epoch 61/100\n",
            "34/34 [==============================] - 0s 2ms/step - loss: 7351.2261 - mae: 7351.2261\n",
            "Epoch 62/100\n",
            "34/34 [==============================] - 0s 1ms/step - loss: 7302.1436 - mae: 7302.1436\n",
            "Epoch 63/100\n",
            "34/34 [==============================] - 0s 2ms/step - loss: 7393.0874 - mae: 7393.0874\n",
            "Epoch 64/100\n",
            "34/34 [==============================] - 0s 2ms/step - loss: 7442.2886 - mae: 7442.2886\n",
            "Epoch 65/100\n",
            "34/34 [==============================] - 0s 2ms/step - loss: 7492.6782 - mae: 7492.6782\n",
            "Epoch 66/100\n",
            "34/34 [==============================] - 0s 2ms/step - loss: 7561.9165 - mae: 7561.9165\n",
            "Epoch 67/100\n",
            "34/34 [==============================] - 0s 1ms/step - loss: 7340.5137 - mae: 7340.5137\n",
            "Epoch 68/100\n",
            "34/34 [==============================] - 0s 2ms/step - loss: 7496.0850 - mae: 7496.0850\n",
            "Epoch 69/100\n",
            "34/34 [==============================] - 0s 2ms/step - loss: 7617.0298 - mae: 7617.0298\n",
            "Epoch 70/100\n",
            "34/34 [==============================] - 0s 2ms/step - loss: 7641.1958 - mae: 7641.1958\n",
            "Epoch 71/100\n",
            "34/34 [==============================] - 0s 2ms/step - loss: 7084.2744 - mae: 7084.2744\n",
            "Epoch 72/100\n",
            "34/34 [==============================] - 0s 1ms/step - loss: 7240.4907 - mae: 7240.4907\n",
            "Epoch 73/100\n",
            "34/34 [==============================] - 0s 2ms/step - loss: 7283.4883 - mae: 7283.4883\n",
            "Epoch 74/100\n",
            "34/34 [==============================] - 0s 2ms/step - loss: 7335.5063 - mae: 7335.5063\n",
            "Epoch 75/100\n",
            "34/34 [==============================] - 0s 2ms/step - loss: 7275.6392 - mae: 7275.6392\n",
            "Epoch 76/100\n",
            "34/34 [==============================] - 0s 2ms/step - loss: 7313.1855 - mae: 7313.1855\n",
            "Epoch 77/100\n",
            "34/34 [==============================] - 0s 1ms/step - loss: 7485.7578 - mae: 7485.7578\n",
            "Epoch 78/100\n",
            "34/34 [==============================] - 0s 2ms/step - loss: 7352.2798 - mae: 7352.2798\n",
            "Epoch 79/100\n",
            "34/34 [==============================] - 0s 2ms/step - loss: 7520.5703 - mae: 7520.5703\n",
            "Epoch 80/100\n",
            "34/34 [==============================] - 0s 2ms/step - loss: 7279.3784 - mae: 7279.3784\n",
            "Epoch 81/100\n",
            "34/34 [==============================] - 0s 1ms/step - loss: 7273.8477 - mae: 7273.8477\n",
            "Epoch 82/100\n",
            "34/34 [==============================] - 0s 2ms/step - loss: 7176.5205 - mae: 7176.5205\n",
            "Epoch 83/100\n",
            "34/34 [==============================] - 0s 2ms/step - loss: 7425.6289 - mae: 7425.6289\n",
            "Epoch 84/100\n",
            "34/34 [==============================] - 0s 2ms/step - loss: 7403.1289 - mae: 7403.1289\n",
            "Epoch 85/100\n",
            "34/34 [==============================] - 0s 2ms/step - loss: 7356.0093 - mae: 7356.0093\n",
            "Epoch 86/100\n",
            "34/34 [==============================] - 0s 2ms/step - loss: 7484.7271 - mae: 7484.7271\n",
            "Epoch 87/100\n",
            "34/34 [==============================] - 0s 2ms/step - loss: 7217.6079 - mae: 7217.6079\n",
            "Epoch 88/100\n",
            "34/34 [==============================] - 0s 2ms/step - loss: 7261.0000 - mae: 7261.0000\n",
            "Epoch 89/100\n",
            "34/34 [==============================] - 0s 2ms/step - loss: 7134.1553 - mae: 7134.1553\n",
            "Epoch 90/100\n",
            "34/34 [==============================] - 0s 1ms/step - loss: 7083.4351 - mae: 7083.4351\n",
            "Epoch 91/100\n",
            "34/34 [==============================] - 0s 2ms/step - loss: 7254.1782 - mae: 7254.1782\n",
            "Epoch 92/100\n",
            "34/34 [==============================] - 0s 2ms/step - loss: 7268.7456 - mae: 7268.7456\n",
            "Epoch 93/100\n",
            "34/34 [==============================] - 0s 2ms/step - loss: 7470.5225 - mae: 7470.5225\n",
            "Epoch 94/100\n",
            "34/34 [==============================] - 0s 2ms/step - loss: 7210.9541 - mae: 7210.9541\n",
            "Epoch 95/100\n",
            "34/34 [==============================] - 0s 1ms/step - loss: 7395.6807 - mae: 7395.6807\n",
            "Epoch 96/100\n",
            "34/34 [==============================] - 0s 2ms/step - loss: 7328.0884 - mae: 7328.0884\n",
            "Epoch 97/100\n",
            "34/34 [==============================] - 0s 2ms/step - loss: 7230.4375 - mae: 7230.4375\n",
            "Epoch 98/100\n",
            "34/34 [==============================] - 0s 2ms/step - loss: 7261.3936 - mae: 7261.3936\n",
            "Epoch 99/100\n",
            "34/34 [==============================] - 0s 2ms/step - loss: 7342.5684 - mae: 7342.5684\n",
            "Epoch 100/100\n",
            "34/34 [==============================] - 0s 2ms/step - loss: 7106.1709 - mae: 7106.1709\n"
          ]
        },
        {
          "output_type": "execute_result",
          "data": {
            "text/plain": [
              "<keras.callbacks.History at 0x7f8209352e20>"
            ]
          },
          "metadata": {},
          "execution_count": 73
        }
      ]
    },
    {
      "cell_type": "code",
      "source": [
        "insurance_model.summary()"
      ],
      "metadata": {
        "colab": {
          "base_uri": "https://localhost:8080/"
        },
        "id": "KHMagsmCc8zk",
        "outputId": "ab047f74-5df4-4be0-def7-c5c084432b01"
      },
      "execution_count": null,
      "outputs": [
        {
          "output_type": "stream",
          "name": "stdout",
          "text": [
            "Model: \"sequential_6\"\n",
            "_________________________________________________________________\n",
            " Layer (type)                Output Shape              Param #   \n",
            "=================================================================\n",
            " dense_12 (Dense)            (None, 10)                120       \n",
            "                                                                 \n",
            " dense_13 (Dense)            (None, 1)                 11        \n",
            "                                                                 \n",
            "=================================================================\n",
            "Total params: 131\n",
            "Trainable params: 131\n",
            "Non-trainable params: 0\n",
            "_________________________________________________________________\n"
          ]
        }
      ]
    },
    {
      "cell_type": "code",
      "source": [
        "#check the results of the insurance data on the test data\n",
        "insurance_model.evaluate(X_test, y_test)\n",
        "#on the test data set it is performing slightly better than on the training. \n",
        "\n",
        "#mae this is telling us that we are wrong by about 7,000"
      ],
      "metadata": {
        "colab": {
          "base_uri": "https://localhost:8080/"
        },
        "id": "MRf2V4OidP-I",
        "outputId": "485b2548-020e-4bc0-a927-ce4c1d0abab2"
      },
      "execution_count": null,
      "outputs": [
        {
          "output_type": "stream",
          "name": "stdout",
          "text": [
            "9/9 [==============================] - 0s 3ms/step - loss: 7023.3286 - mae: 7023.3286\n"
          ]
        },
        {
          "output_type": "execute_result",
          "data": {
            "text/plain": [
              "[7023.32861328125, 7023.32861328125]"
            ]
          },
          "metadata": {},
          "execution_count": 75
        }
      ]
    },
    {
      "cell_type": "code",
      "source": [
        "y_train.median(),y_train.mean()"
      ],
      "metadata": {
        "colab": {
          "base_uri": "https://localhost:8080/"
        },
        "id": "HJ8cLtyQfBQh",
        "outputId": "b1fc184c-6a08-4aff-b17b-4eb5ebca5b25"
      },
      "execution_count": null,
      "outputs": [
        {
          "output_type": "execute_result",
          "data": {
            "text/plain": [
              "(9575.4421, 13346.089736364485)"
            ]
          },
          "metadata": {},
          "execution_count": 76
        }
      ]
    },
    {
      "cell_type": "markdown",
      "source": [
        "Right now it looks like our model isn't performing too well, lets try to improve it.\n",
        "\n",
        "To(try) improve our model, we'll run 2 experiments: \n",
        "1. add an extra layer with more hidden units \n",
        "2. train for longer \n",
        "3. (insert your own experiment here)"
      ],
      "metadata": {
        "id": "YmymO8SjfZZF"
      }
    },
    {
      "cell_type": "code",
      "source": [
        "tf.random.set_seed(42)\n",
        "\n",
        "#1. Create the model\n",
        "\n",
        "insurance_model_2 = tf.keras.Sequential([tf.keras.layers.Dense(100),\n",
        "                                             tf.keras.layers.Dense(10),\n",
        "                                             tf.keras.layers.Dense(1)])\n",
        "# Changed from SGD() to Adam() because we were getting an NAN output with SGD()\n",
        "#compile\n",
        "insurance_model_2.compile(loss=tf.keras.losses.mae,\n",
        "                              optimizer=tf.keras.optimizers.Adam(),\n",
        "                              metrics=[\"mae\"])\n",
        "#fit\n",
        "insurance_model_2.fit(X_train,y_train,epochs = 100)"
      ],
      "metadata": {
        "id": "jq1Rkwq1ffS6",
        "colab": {
          "base_uri": "https://localhost:8080/"
        },
        "outputId": "838a034b-b68e-4905-e256-2bbbbf9c9c13"
      },
      "execution_count": null,
      "outputs": [
        {
          "output_type": "stream",
          "name": "stdout",
          "text": [
            "Epoch 1/100\n",
            "34/34 [==============================] - 0s 2ms/step - loss: 13273.1602 - mae: 13273.1602\n",
            "Epoch 2/100\n",
            "34/34 [==============================] - 0s 2ms/step - loss: 13104.4297 - mae: 13104.4297\n",
            "Epoch 3/100\n",
            "34/34 [==============================] - 0s 2ms/step - loss: 12749.5420 - mae: 12749.5420\n",
            "Epoch 4/100\n",
            "34/34 [==============================] - 0s 2ms/step - loss: 12055.7510 - mae: 12055.7510\n",
            "Epoch 5/100\n",
            "34/34 [==============================] - 0s 3ms/step - loss: 10905.8154 - mae: 10905.8154\n",
            "Epoch 6/100\n",
            "34/34 [==============================] - 0s 2ms/step - loss: 9457.7217 - mae: 9457.7217\n",
            "Epoch 7/100\n",
            "34/34 [==============================] - 0s 2ms/step - loss: 8147.6543 - mae: 8147.6543\n",
            "Epoch 8/100\n",
            "34/34 [==============================] - 0s 3ms/step - loss: 7528.8408 - mae: 7528.8408\n",
            "Epoch 9/100\n",
            "34/34 [==============================] - 0s 3ms/step - loss: 7429.1528 - mae: 7429.1528\n",
            "Epoch 10/100\n",
            "34/34 [==============================] - 0s 2ms/step - loss: 7409.0811 - mae: 7409.0811\n",
            "Epoch 11/100\n",
            "34/34 [==============================] - 0s 2ms/step - loss: 7390.8042 - mae: 7390.8042\n",
            "Epoch 12/100\n",
            "34/34 [==============================] - 0s 2ms/step - loss: 7368.9180 - mae: 7368.9180\n",
            "Epoch 13/100\n",
            "34/34 [==============================] - 0s 2ms/step - loss: 7348.5190 - mae: 7348.5190\n",
            "Epoch 14/100\n",
            "34/34 [==============================] - 0s 2ms/step - loss: 7326.4893 - mae: 7326.4893\n",
            "Epoch 15/100\n",
            "34/34 [==============================] - 0s 2ms/step - loss: 7307.5815 - mae: 7307.5815\n",
            "Epoch 16/100\n",
            "34/34 [==============================] - 0s 2ms/step - loss: 7285.7734 - mae: 7285.7734\n",
            "Epoch 17/100\n",
            "34/34 [==============================] - 0s 2ms/step - loss: 7265.7104 - mae: 7265.7104\n",
            "Epoch 18/100\n",
            "34/34 [==============================] - 0s 2ms/step - loss: 7242.5488 - mae: 7242.5488\n",
            "Epoch 19/100\n",
            "34/34 [==============================] - 0s 2ms/step - loss: 7220.5068 - mae: 7220.5068\n",
            "Epoch 20/100\n",
            "34/34 [==============================] - 0s 2ms/step - loss: 7197.1978 - mae: 7197.1978\n",
            "Epoch 21/100\n",
            "34/34 [==============================] - 0s 2ms/step - loss: 7179.0195 - mae: 7179.0195\n",
            "Epoch 22/100\n",
            "34/34 [==============================] - 0s 2ms/step - loss: 7151.2104 - mae: 7151.2104\n",
            "Epoch 23/100\n",
            "34/34 [==============================] - 0s 2ms/step - loss: 7126.4639 - mae: 7126.4639\n",
            "Epoch 24/100\n",
            "34/34 [==============================] - 0s 2ms/step - loss: 7101.9199 - mae: 7101.9199\n",
            "Epoch 25/100\n",
            "34/34 [==============================] - 0s 2ms/step - loss: 7084.3379 - mae: 7084.3379\n",
            "Epoch 26/100\n",
            "34/34 [==============================] - 0s 2ms/step - loss: 7052.3296 - mae: 7052.3296\n",
            "Epoch 27/100\n",
            "34/34 [==============================] - 0s 2ms/step - loss: 7024.3506 - mae: 7024.3506\n",
            "Epoch 28/100\n",
            "34/34 [==============================] - 0s 2ms/step - loss: 6996.6963 - mae: 6996.6963\n",
            "Epoch 29/100\n",
            "34/34 [==============================] - 0s 3ms/step - loss: 6969.0112 - mae: 6969.0112\n",
            "Epoch 30/100\n",
            "34/34 [==============================] - 0s 2ms/step - loss: 6942.1899 - mae: 6942.1899\n",
            "Epoch 31/100\n",
            "34/34 [==============================] - 0s 2ms/step - loss: 6911.7275 - mae: 6911.7275\n",
            "Epoch 32/100\n",
            "34/34 [==============================] - 0s 2ms/step - loss: 6884.0205 - mae: 6884.0205\n",
            "Epoch 33/100\n",
            "34/34 [==============================] - 0s 2ms/step - loss: 6853.4648 - mae: 6853.4648\n",
            "Epoch 34/100\n",
            "34/34 [==============================] - 0s 2ms/step - loss: 6823.0674 - mae: 6823.0674\n",
            "Epoch 35/100\n",
            "34/34 [==============================] - 0s 2ms/step - loss: 6789.6855 - mae: 6789.6855\n",
            "Epoch 36/100\n",
            "34/34 [==============================] - 0s 2ms/step - loss: 6755.7646 - mae: 6755.7646\n",
            "Epoch 37/100\n",
            "34/34 [==============================] - 0s 2ms/step - loss: 6720.2026 - mae: 6720.2026\n",
            "Epoch 38/100\n",
            "34/34 [==============================] - 0s 2ms/step - loss: 6689.7158 - mae: 6689.7158\n",
            "Epoch 39/100\n",
            "34/34 [==============================] - 0s 2ms/step - loss: 6652.4614 - mae: 6652.4614\n",
            "Epoch 40/100\n",
            "34/34 [==============================] - 0s 2ms/step - loss: 6618.1016 - mae: 6618.1016\n",
            "Epoch 41/100\n",
            "34/34 [==============================] - 0s 2ms/step - loss: 6585.8643 - mae: 6585.8643\n",
            "Epoch 42/100\n",
            "34/34 [==============================] - 0s 2ms/step - loss: 6559.4956 - mae: 6559.4956\n",
            "Epoch 43/100\n",
            "34/34 [==============================] - 0s 2ms/step - loss: 6530.0439 - mae: 6530.0439\n",
            "Epoch 44/100\n",
            "34/34 [==============================] - 0s 2ms/step - loss: 6506.8071 - mae: 6506.8071\n",
            "Epoch 45/100\n",
            "34/34 [==============================] - 0s 2ms/step - loss: 6493.5718 - mae: 6493.5718\n",
            "Epoch 46/100\n",
            "34/34 [==============================] - 0s 2ms/step - loss: 6475.9258 - mae: 6475.9258\n",
            "Epoch 47/100\n",
            "34/34 [==============================] - 0s 2ms/step - loss: 6458.8984 - mae: 6458.8984\n",
            "Epoch 48/100\n",
            "34/34 [==============================] - 0s 2ms/step - loss: 6445.1494 - mae: 6445.1494\n",
            "Epoch 49/100\n",
            "34/34 [==============================] - 0s 2ms/step - loss: 6430.9639 - mae: 6430.9639\n",
            "Epoch 50/100\n",
            "34/34 [==============================] - 0s 2ms/step - loss: 6417.7510 - mae: 6417.7510\n",
            "Epoch 51/100\n",
            "34/34 [==============================] - 0s 2ms/step - loss: 6403.2754 - mae: 6403.2754\n",
            "Epoch 52/100\n",
            "34/34 [==============================] - 0s 2ms/step - loss: 6392.4141 - mae: 6392.4141\n",
            "Epoch 53/100\n",
            "34/34 [==============================] - 0s 2ms/step - loss: 6378.7451 - mae: 6378.7451\n",
            "Epoch 54/100\n",
            "34/34 [==============================] - 0s 2ms/step - loss: 6364.9126 - mae: 6364.9126\n",
            "Epoch 55/100\n",
            "34/34 [==============================] - 0s 2ms/step - loss: 6351.5269 - mae: 6351.5269\n",
            "Epoch 56/100\n",
            "34/34 [==============================] - 0s 2ms/step - loss: 6337.6606 - mae: 6337.6606\n",
            "Epoch 57/100\n",
            "34/34 [==============================] - 0s 2ms/step - loss: 6324.8369 - mae: 6324.8369\n",
            "Epoch 58/100\n",
            "34/34 [==============================] - 0s 2ms/step - loss: 6310.1948 - mae: 6310.1948\n",
            "Epoch 59/100\n",
            "34/34 [==============================] - 0s 2ms/step - loss: 6295.6035 - mae: 6295.6035\n",
            "Epoch 60/100\n",
            "34/34 [==============================] - 0s 2ms/step - loss: 6284.8696 - mae: 6284.8696\n",
            "Epoch 61/100\n",
            "34/34 [==============================] - 0s 3ms/step - loss: 6265.6411 - mae: 6265.6411\n",
            "Epoch 62/100\n",
            "34/34 [==============================] - 0s 2ms/step - loss: 6253.0107 - mae: 6253.0107\n",
            "Epoch 63/100\n",
            "34/34 [==============================] - 0s 3ms/step - loss: 6234.9292 - mae: 6234.9292\n",
            "Epoch 64/100\n",
            "34/34 [==============================] - 0s 3ms/step - loss: 6218.0430 - mae: 6218.0430\n",
            "Epoch 65/100\n",
            "34/34 [==============================] - 0s 2ms/step - loss: 6201.1899 - mae: 6201.1899\n",
            "Epoch 66/100\n",
            "34/34 [==============================] - 0s 2ms/step - loss: 6183.9590 - mae: 6183.9590\n",
            "Epoch 67/100\n",
            "34/34 [==============================] - 0s 2ms/step - loss: 6171.2993 - mae: 6171.2993\n",
            "Epoch 68/100\n",
            "34/34 [==============================] - 0s 3ms/step - loss: 6148.8398 - mae: 6148.8398\n",
            "Epoch 69/100\n",
            "34/34 [==============================] - 0s 2ms/step - loss: 6132.5981 - mae: 6132.5981\n",
            "Epoch 70/100\n",
            "34/34 [==============================] - 0s 2ms/step - loss: 6112.3848 - mae: 6112.3848\n",
            "Epoch 71/100\n",
            "34/34 [==============================] - 0s 2ms/step - loss: 6092.7202 - mae: 6092.7202\n",
            "Epoch 72/100\n",
            "34/34 [==============================] - 0s 2ms/step - loss: 6073.7422 - mae: 6073.7422\n",
            "Epoch 73/100\n",
            "34/34 [==============================] - 0s 2ms/step - loss: 6059.4883 - mae: 6059.4883\n",
            "Epoch 74/100\n",
            "34/34 [==============================] - 0s 2ms/step - loss: 6031.3843 - mae: 6031.3843\n",
            "Epoch 75/100\n",
            "34/34 [==============================] - 0s 2ms/step - loss: 6010.3350 - mae: 6010.3350\n",
            "Epoch 76/100\n",
            "34/34 [==============================] - 0s 3ms/step - loss: 5995.2168 - mae: 5995.2168\n",
            "Epoch 77/100\n",
            "34/34 [==============================] - 0s 2ms/step - loss: 5963.0723 - mae: 5963.0723\n",
            "Epoch 78/100\n",
            "34/34 [==============================] - 0s 3ms/step - loss: 5940.0610 - mae: 5940.0610\n",
            "Epoch 79/100\n",
            "34/34 [==============================] - 0s 2ms/step - loss: 5915.1064 - mae: 5915.1064\n",
            "Epoch 80/100\n",
            "34/34 [==============================] - 0s 2ms/step - loss: 5887.9990 - mae: 5887.9990\n",
            "Epoch 81/100\n",
            "34/34 [==============================] - 0s 2ms/step - loss: 5861.6992 - mae: 5861.6992\n",
            "Epoch 82/100\n",
            "34/34 [==============================] - 0s 2ms/step - loss: 5834.3071 - mae: 5834.3071\n",
            "Epoch 83/100\n",
            "34/34 [==============================] - 0s 2ms/step - loss: 5805.8242 - mae: 5805.8242\n",
            "Epoch 84/100\n",
            "34/34 [==============================] - 0s 2ms/step - loss: 5772.3232 - mae: 5772.3232\n",
            "Epoch 85/100\n",
            "34/34 [==============================] - 0s 2ms/step - loss: 5745.1514 - mae: 5745.1514\n",
            "Epoch 86/100\n",
            "34/34 [==============================] - 0s 2ms/step - loss: 5711.3477 - mae: 5711.3477\n",
            "Epoch 87/100\n",
            "34/34 [==============================] - 0s 3ms/step - loss: 5674.5215 - mae: 5674.5215\n",
            "Epoch 88/100\n",
            "34/34 [==============================] - 0s 2ms/step - loss: 5639.4927 - mae: 5639.4927\n",
            "Epoch 89/100\n",
            "34/34 [==============================] - 0s 2ms/step - loss: 5600.6655 - mae: 5600.6655\n",
            "Epoch 90/100\n",
            "34/34 [==============================] - 0s 2ms/step - loss: 5559.4326 - mae: 5559.4326\n",
            "Epoch 91/100\n",
            "34/34 [==============================] - 0s 2ms/step - loss: 5523.6187 - mae: 5523.6187\n",
            "Epoch 92/100\n",
            "34/34 [==============================] - 0s 2ms/step - loss: 5474.1250 - mae: 5474.1250\n",
            "Epoch 93/100\n",
            "34/34 [==============================] - 0s 3ms/step - loss: 5432.2656 - mae: 5432.2656\n",
            "Epoch 94/100\n",
            "34/34 [==============================] - 0s 2ms/step - loss: 5386.0527 - mae: 5386.0527\n",
            "Epoch 95/100\n",
            "34/34 [==============================] - 0s 2ms/step - loss: 5333.1812 - mae: 5333.1812\n",
            "Epoch 96/100\n",
            "34/34 [==============================] - 0s 2ms/step - loss: 5288.8159 - mae: 5288.8159\n",
            "Epoch 97/100\n",
            "34/34 [==============================] - 0s 2ms/step - loss: 5234.6787 - mae: 5234.6787\n",
            "Epoch 98/100\n",
            "34/34 [==============================] - 0s 3ms/step - loss: 5170.9360 - mae: 5170.9360\n",
            "Epoch 99/100\n",
            "34/34 [==============================] - 0s 2ms/step - loss: 5112.9443 - mae: 5112.9443\n",
            "Epoch 100/100\n",
            "34/34 [==============================] - 0s 3ms/step - loss: 5059.8447 - mae: 5059.8447\n"
          ]
        },
        {
          "output_type": "execute_result",
          "data": {
            "text/plain": [
              "<keras.callbacks.History at 0x7f8201a9c610>"
            ]
          },
          "metadata": {},
          "execution_count": 77
        }
      ]
    },
    {
      "cell_type": "code",
      "source": [
        "#we decreased the error rate by 2thousand \n",
        "insurance_model_2.evaluate(X_test,y_test)"
      ],
      "metadata": {
        "colab": {
          "base_uri": "https://localhost:8080/"
        },
        "id": "uw1hvmiQhAJj",
        "outputId": "a8f8b3be-d9b5-4a12-8cf0-17a82bb711ef"
      },
      "execution_count": null,
      "outputs": [
        {
          "output_type": "stream",
          "name": "stdout",
          "text": [
            "9/9 [==============================] - 0s 2ms/step - loss: 4924.4956 - mae: 4924.4956\n"
          ]
        },
        {
          "output_type": "execute_result",
          "data": {
            "text/plain": [
              "[4924.49560546875, 4924.49560546875]"
            ]
          },
          "metadata": {},
          "execution_count": 78
        }
      ]
    },
    {
      "cell_type": "code",
      "source": [
        "#insurance model 3 \n",
        "\n",
        "#set seed \n",
        "tf.random.set_seed(42)\n",
        "\n",
        "#create model\n",
        "insurance_model_3 = tf.keras.Sequential([tf.keras.layers.Dense(100),\n",
        "                                         tf.keras.layers.Dense(10),\n",
        "                                         tf.keras.layers.Dense(1)])\n",
        "#compile the model \n",
        "insurance_model_3.compile(loss=tf.keras.losses.mae, \n",
        "                          optimizer=tf.keras.optimizers.Adam(),\n",
        "                          metrics=[\"mae\"])\n",
        "\n",
        "history = insurance_model_3.fit(X_train,y_train,epochs=600)"
      ],
      "metadata": {
        "id": "jWXCuEQuhEkM",
        "colab": {
          "base_uri": "https://localhost:8080/"
        },
        "outputId": "b3d02dba-9da8-4152-c398-e03d72b56002"
      },
      "execution_count": null,
      "outputs": [
        {
          "output_type": "stream",
          "name": "stdout",
          "text": [
            "Epoch 1/600\n",
            "34/34 [==============================] - 0s 2ms/step - loss: 13273.1602 - mae: 13273.1602\n",
            "Epoch 2/600\n",
            "34/34 [==============================] - 0s 2ms/step - loss: 13104.4297 - mae: 13104.4297\n",
            "Epoch 3/600\n",
            "34/34 [==============================] - 0s 2ms/step - loss: 12749.5420 - mae: 12749.5420\n",
            "Epoch 4/600\n",
            "34/34 [==============================] - 0s 2ms/step - loss: 12055.7510 - mae: 12055.7510\n",
            "Epoch 5/600\n",
            "34/34 [==============================] - 0s 2ms/step - loss: 10905.8154 - mae: 10905.8154\n",
            "Epoch 6/600\n",
            "34/34 [==============================] - 0s 2ms/step - loss: 9457.7217 - mae: 9457.7217\n",
            "Epoch 7/600\n",
            "34/34 [==============================] - 0s 3ms/step - loss: 8147.6543 - mae: 8147.6543\n",
            "Epoch 8/600\n",
            "34/34 [==============================] - 0s 2ms/step - loss: 7528.8408 - mae: 7528.8408\n",
            "Epoch 9/600\n",
            "34/34 [==============================] - 0s 2ms/step - loss: 7429.1528 - mae: 7429.1528\n",
            "Epoch 10/600\n",
            "34/34 [==============================] - 0s 2ms/step - loss: 7409.0811 - mae: 7409.0811\n",
            "Epoch 11/600\n",
            "34/34 [==============================] - 0s 2ms/step - loss: 7390.8042 - mae: 7390.8042\n",
            "Epoch 12/600\n",
            "34/34 [==============================] - 0s 2ms/step - loss: 7368.9180 - mae: 7368.9180\n",
            "Epoch 13/600\n",
            "34/34 [==============================] - 0s 3ms/step - loss: 7348.5190 - mae: 7348.5190\n",
            "Epoch 14/600\n",
            "34/34 [==============================] - 0s 2ms/step - loss: 7326.4893 - mae: 7326.4893\n",
            "Epoch 15/600\n",
            "34/34 [==============================] - 0s 3ms/step - loss: 7307.5815 - mae: 7307.5815\n",
            "Epoch 16/600\n",
            "34/34 [==============================] - 0s 2ms/step - loss: 7285.7734 - mae: 7285.7734\n",
            "Epoch 17/600\n",
            "34/34 [==============================] - 0s 2ms/step - loss: 7265.7104 - mae: 7265.7104\n",
            "Epoch 18/600\n",
            "34/34 [==============================] - 0s 2ms/step - loss: 7242.5488 - mae: 7242.5488\n",
            "Epoch 19/600\n",
            "34/34 [==============================] - 0s 2ms/step - loss: 7220.5068 - mae: 7220.5068\n",
            "Epoch 20/600\n",
            "34/34 [==============================] - 0s 3ms/step - loss: 7197.1978 - mae: 7197.1978\n",
            "Epoch 21/600\n",
            "34/34 [==============================] - 0s 2ms/step - loss: 7179.0195 - mae: 7179.0195\n",
            "Epoch 22/600\n",
            "34/34 [==============================] - 0s 2ms/step - loss: 7151.2104 - mae: 7151.2104\n",
            "Epoch 23/600\n",
            "34/34 [==============================] - 0s 3ms/step - loss: 7126.4639 - mae: 7126.4639\n",
            "Epoch 24/600\n",
            "34/34 [==============================] - 0s 2ms/step - loss: 7101.9199 - mae: 7101.9199\n",
            "Epoch 25/600\n",
            "34/34 [==============================] - 0s 2ms/step - loss: 7084.3379 - mae: 7084.3379\n",
            "Epoch 26/600\n",
            "34/34 [==============================] - 0s 2ms/step - loss: 7052.3296 - mae: 7052.3296\n",
            "Epoch 27/600\n",
            "34/34 [==============================] - 0s 2ms/step - loss: 7024.3506 - mae: 7024.3506\n",
            "Epoch 28/600\n",
            "34/34 [==============================] - 0s 2ms/step - loss: 6996.6963 - mae: 6996.6963\n",
            "Epoch 29/600\n",
            "34/34 [==============================] - 0s 2ms/step - loss: 6969.0112 - mae: 6969.0112\n",
            "Epoch 30/600\n",
            "34/34 [==============================] - 0s 2ms/step - loss: 6942.1899 - mae: 6942.1899\n",
            "Epoch 31/600\n",
            "34/34 [==============================] - 0s 3ms/step - loss: 6911.7275 - mae: 6911.7275\n",
            "Epoch 32/600\n",
            "34/34 [==============================] - 0s 2ms/step - loss: 6884.0205 - mae: 6884.0205\n",
            "Epoch 33/600\n",
            "34/34 [==============================] - 0s 2ms/step - loss: 6853.4648 - mae: 6853.4648\n",
            "Epoch 34/600\n",
            "34/34 [==============================] - 0s 3ms/step - loss: 6823.0674 - mae: 6823.0674\n",
            "Epoch 35/600\n",
            "34/34 [==============================] - 0s 2ms/step - loss: 6789.6855 - mae: 6789.6855\n",
            "Epoch 36/600\n",
            "34/34 [==============================] - 0s 3ms/step - loss: 6755.7646 - mae: 6755.7646\n",
            "Epoch 37/600\n",
            "34/34 [==============================] - 0s 2ms/step - loss: 6720.2026 - mae: 6720.2026\n",
            "Epoch 38/600\n",
            "34/34 [==============================] - 0s 2ms/step - loss: 6689.7158 - mae: 6689.7158\n",
            "Epoch 39/600\n",
            "34/34 [==============================] - 0s 2ms/step - loss: 6652.4614 - mae: 6652.4614\n",
            "Epoch 40/600\n",
            "34/34 [==============================] - 0s 3ms/step - loss: 6618.1016 - mae: 6618.1016\n",
            "Epoch 41/600\n",
            "34/34 [==============================] - 0s 2ms/step - loss: 6585.8643 - mae: 6585.8643\n",
            "Epoch 42/600\n",
            "34/34 [==============================] - 0s 2ms/step - loss: 6559.4956 - mae: 6559.4956\n",
            "Epoch 43/600\n",
            "34/34 [==============================] - 0s 2ms/step - loss: 6530.0439 - mae: 6530.0439\n",
            "Epoch 44/600\n",
            "34/34 [==============================] - 0s 2ms/step - loss: 6506.8071 - mae: 6506.8071\n",
            "Epoch 45/600\n",
            "34/34 [==============================] - 0s 2ms/step - loss: 6493.5718 - mae: 6493.5718\n",
            "Epoch 46/600\n",
            "34/34 [==============================] - 0s 3ms/step - loss: 6475.9258 - mae: 6475.9258\n",
            "Epoch 47/600\n",
            "34/34 [==============================] - 0s 2ms/step - loss: 6458.8984 - mae: 6458.8984\n",
            "Epoch 48/600\n",
            "34/34 [==============================] - 0s 3ms/step - loss: 6445.1494 - mae: 6445.1494\n",
            "Epoch 49/600\n",
            "34/34 [==============================] - 0s 2ms/step - loss: 6430.9639 - mae: 6430.9639\n",
            "Epoch 50/600\n",
            "34/34 [==============================] - 0s 2ms/step - loss: 6417.7510 - mae: 6417.7510\n",
            "Epoch 51/600\n",
            "34/34 [==============================] - 0s 2ms/step - loss: 6403.2754 - mae: 6403.2754\n",
            "Epoch 52/600\n",
            "34/34 [==============================] - 0s 2ms/step - loss: 6392.4141 - mae: 6392.4141\n",
            "Epoch 53/600\n",
            "34/34 [==============================] - 0s 2ms/step - loss: 6378.7451 - mae: 6378.7451\n",
            "Epoch 54/600\n",
            "34/34 [==============================] - 0s 2ms/step - loss: 6364.9126 - mae: 6364.9126\n",
            "Epoch 55/600\n",
            "34/34 [==============================] - 0s 3ms/step - loss: 6351.5269 - mae: 6351.5269\n",
            "Epoch 56/600\n",
            "34/34 [==============================] - 0s 2ms/step - loss: 6337.6606 - mae: 6337.6606\n",
            "Epoch 57/600\n",
            "34/34 [==============================] - 0s 3ms/step - loss: 6324.8369 - mae: 6324.8369\n",
            "Epoch 58/600\n",
            "34/34 [==============================] - 0s 2ms/step - loss: 6310.1948 - mae: 6310.1948\n",
            "Epoch 59/600\n",
            "34/34 [==============================] - 0s 2ms/step - loss: 6295.6035 - mae: 6295.6035\n",
            "Epoch 60/600\n",
            "34/34 [==============================] - 0s 2ms/step - loss: 6284.8696 - mae: 6284.8696\n",
            "Epoch 61/600\n",
            "34/34 [==============================] - 0s 2ms/step - loss: 6265.6411 - mae: 6265.6411\n",
            "Epoch 62/600\n",
            "34/34 [==============================] - 0s 2ms/step - loss: 6253.0107 - mae: 6253.0107\n",
            "Epoch 63/600\n",
            "34/34 [==============================] - 0s 2ms/step - loss: 6234.9292 - mae: 6234.9292\n",
            "Epoch 64/600\n",
            "34/34 [==============================] - 0s 2ms/step - loss: 6218.0430 - mae: 6218.0430\n",
            "Epoch 65/600\n",
            "34/34 [==============================] - 0s 2ms/step - loss: 6201.1899 - mae: 6201.1899\n",
            "Epoch 66/600\n",
            "34/34 [==============================] - 0s 2ms/step - loss: 6183.9590 - mae: 6183.9590\n",
            "Epoch 67/600\n",
            "34/34 [==============================] - 0s 2ms/step - loss: 6171.2993 - mae: 6171.2993\n",
            "Epoch 68/600\n",
            "34/34 [==============================] - 0s 3ms/step - loss: 6148.8398 - mae: 6148.8398\n",
            "Epoch 69/600\n",
            "34/34 [==============================] - 0s 3ms/step - loss: 6132.5981 - mae: 6132.5981\n",
            "Epoch 70/600\n",
            "34/34 [==============================] - 0s 3ms/step - loss: 6112.3848 - mae: 6112.3848\n",
            "Epoch 71/600\n",
            "34/34 [==============================] - 0s 2ms/step - loss: 6092.7202 - mae: 6092.7202\n",
            "Epoch 72/600\n",
            "34/34 [==============================] - 0s 2ms/step - loss: 6073.7422 - mae: 6073.7422\n",
            "Epoch 73/600\n",
            "34/34 [==============================] - 0s 2ms/step - loss: 6059.4883 - mae: 6059.4883\n",
            "Epoch 74/600\n",
            "34/34 [==============================] - 0s 2ms/step - loss: 6031.3843 - mae: 6031.3843\n",
            "Epoch 75/600\n",
            "34/34 [==============================] - 0s 2ms/step - loss: 6010.3350 - mae: 6010.3350\n",
            "Epoch 76/600\n",
            "34/34 [==============================] - 0s 2ms/step - loss: 5995.2168 - mae: 5995.2168\n",
            "Epoch 77/600\n",
            "34/34 [==============================] - 0s 3ms/step - loss: 5963.0723 - mae: 5963.0723\n",
            "Epoch 78/600\n",
            "34/34 [==============================] - 0s 2ms/step - loss: 5940.0610 - mae: 5940.0610\n",
            "Epoch 79/600\n",
            "34/34 [==============================] - 0s 2ms/step - loss: 5915.1064 - mae: 5915.1064\n",
            "Epoch 80/600\n",
            "34/34 [==============================] - 0s 2ms/step - loss: 5887.9990 - mae: 5887.9990\n",
            "Epoch 81/600\n",
            "34/34 [==============================] - 0s 3ms/step - loss: 5861.6992 - mae: 5861.6992\n",
            "Epoch 82/600\n",
            "34/34 [==============================] - 0s 2ms/step - loss: 5834.3071 - mae: 5834.3071\n",
            "Epoch 83/600\n",
            "34/34 [==============================] - 0s 2ms/step - loss: 5805.8242 - mae: 5805.8242\n",
            "Epoch 84/600\n",
            "34/34 [==============================] - 0s 2ms/step - loss: 5772.3232 - mae: 5772.3232\n",
            "Epoch 85/600\n",
            "34/34 [==============================] - 0s 2ms/step - loss: 5745.1514 - mae: 5745.1514\n",
            "Epoch 86/600\n",
            "34/34 [==============================] - 0s 2ms/step - loss: 5711.3477 - mae: 5711.3477\n",
            "Epoch 87/600\n",
            "34/34 [==============================] - 0s 2ms/step - loss: 5674.5215 - mae: 5674.5215\n",
            "Epoch 88/600\n",
            "34/34 [==============================] - 0s 3ms/step - loss: 5639.4927 - mae: 5639.4927\n",
            "Epoch 89/600\n",
            "34/34 [==============================] - 0s 2ms/step - loss: 5600.6655 - mae: 5600.6655\n",
            "Epoch 90/600\n",
            "34/34 [==============================] - 0s 2ms/step - loss: 5559.4326 - mae: 5559.4326\n",
            "Epoch 91/600\n",
            "34/34 [==============================] - 0s 2ms/step - loss: 5523.6187 - mae: 5523.6187\n",
            "Epoch 92/600\n",
            "34/34 [==============================] - 0s 2ms/step - loss: 5474.1250 - mae: 5474.1250\n",
            "Epoch 93/600\n",
            "34/34 [==============================] - 0s 3ms/step - loss: 5432.2656 - mae: 5432.2656\n",
            "Epoch 94/600\n",
            "34/34 [==============================] - 0s 2ms/step - loss: 5386.0527 - mae: 5386.0527\n",
            "Epoch 95/600\n",
            "34/34 [==============================] - 0s 2ms/step - loss: 5333.1812 - mae: 5333.1812\n",
            "Epoch 96/600\n",
            "34/34 [==============================] - 0s 2ms/step - loss: 5288.8159 - mae: 5288.8159\n",
            "Epoch 97/600\n",
            "34/34 [==============================] - 0s 2ms/step - loss: 5234.6787 - mae: 5234.6787\n",
            "Epoch 98/600\n",
            "34/34 [==============================] - 0s 3ms/step - loss: 5170.9360 - mae: 5170.9360\n",
            "Epoch 99/600\n",
            "34/34 [==============================] - 0s 2ms/step - loss: 5112.9443 - mae: 5112.9443\n",
            "Epoch 100/600\n",
            "34/34 [==============================] - 0s 2ms/step - loss: 5059.8447 - mae: 5059.8447\n",
            "Epoch 101/600\n",
            "34/34 [==============================] - 0s 2ms/step - loss: 4987.7090 - mae: 4987.7090\n",
            "Epoch 102/600\n",
            "34/34 [==============================] - 0s 2ms/step - loss: 4915.4390 - mae: 4915.4390\n",
            "Epoch 103/600\n",
            "34/34 [==============================] - 0s 2ms/step - loss: 4847.4639 - mae: 4847.4639\n",
            "Epoch 104/600\n",
            "34/34 [==============================] - 0s 3ms/step - loss: 4768.1533 - mae: 4768.1533\n",
            "Epoch 105/600\n",
            "34/34 [==============================] - 0s 2ms/step - loss: 4683.4321 - mae: 4683.4321\n",
            "Epoch 106/600\n",
            "34/34 [==============================] - 0s 2ms/step - loss: 4601.1826 - mae: 4601.1826\n",
            "Epoch 107/600\n",
            "34/34 [==============================] - 0s 2ms/step - loss: 4513.4478 - mae: 4513.4478\n",
            "Epoch 108/600\n",
            "34/34 [==============================] - 0s 2ms/step - loss: 4423.2485 - mae: 4423.2485\n",
            "Epoch 109/600\n",
            "34/34 [==============================] - 0s 3ms/step - loss: 4339.1406 - mae: 4339.1406\n",
            "Epoch 110/600\n",
            "34/34 [==============================] - 0s 2ms/step - loss: 4255.4292 - mae: 4255.4292\n",
            "Epoch 111/600\n",
            "34/34 [==============================] - 0s 2ms/step - loss: 4173.2402 - mae: 4173.2402\n",
            "Epoch 112/600\n",
            "34/34 [==============================] - 0s 2ms/step - loss: 4102.3032 - mae: 4102.3032\n",
            "Epoch 113/600\n",
            "34/34 [==============================] - 0s 2ms/step - loss: 4028.0874 - mae: 4028.0874\n",
            "Epoch 114/600\n",
            "34/34 [==============================] - 0s 2ms/step - loss: 3987.8625 - mae: 3987.8625\n",
            "Epoch 115/600\n",
            "34/34 [==============================] - 0s 2ms/step - loss: 3945.6594 - mae: 3945.6594\n",
            "Epoch 116/600\n",
            "34/34 [==============================] - 0s 3ms/step - loss: 3918.2410 - mae: 3918.2410\n",
            "Epoch 117/600\n",
            "34/34 [==============================] - 0s 2ms/step - loss: 3897.1462 - mae: 3897.1462\n",
            "Epoch 118/600\n",
            "34/34 [==============================] - 0s 2ms/step - loss: 3871.5635 - mae: 3871.5635\n",
            "Epoch 119/600\n",
            "34/34 [==============================] - 0s 2ms/step - loss: 3852.5767 - mae: 3852.5767\n",
            "Epoch 120/600\n",
            "34/34 [==============================] - 0s 2ms/step - loss: 3835.2859 - mae: 3835.2859\n",
            "Epoch 121/600\n",
            "34/34 [==============================] - 0s 2ms/step - loss: 3829.0356 - mae: 3829.0356\n",
            "Epoch 122/600\n",
            "34/34 [==============================] - 0s 2ms/step - loss: 3823.3438 - mae: 3823.3438\n",
            "Epoch 123/600\n",
            "34/34 [==============================] - 0s 2ms/step - loss: 3814.8372 - mae: 3814.8372\n",
            "Epoch 124/600\n",
            "34/34 [==============================] - 0s 2ms/step - loss: 3806.4585 - mae: 3806.4585\n",
            "Epoch 125/600\n",
            "34/34 [==============================] - 0s 2ms/step - loss: 3795.8462 - mae: 3795.8462\n",
            "Epoch 126/600\n",
            "34/34 [==============================] - 0s 2ms/step - loss: 3805.0994 - mae: 3805.0994\n",
            "Epoch 127/600\n",
            "34/34 [==============================] - 0s 3ms/step - loss: 3797.2935 - mae: 3797.2935\n",
            "Epoch 128/600\n",
            "34/34 [==============================] - 0s 2ms/step - loss: 3791.3442 - mae: 3791.3442\n",
            "Epoch 129/600\n",
            "34/34 [==============================] - 0s 2ms/step - loss: 3801.2888 - mae: 3801.2888\n",
            "Epoch 130/600\n",
            "34/34 [==============================] - 0s 2ms/step - loss: 3790.9077 - mae: 3790.9077\n",
            "Epoch 131/600\n",
            "34/34 [==============================] - 0s 2ms/step - loss: 3781.4385 - mae: 3781.4385\n",
            "Epoch 132/600\n",
            "34/34 [==============================] - 0s 2ms/step - loss: 3775.3513 - mae: 3775.3513\n",
            "Epoch 133/600\n",
            "34/34 [==============================] - 0s 2ms/step - loss: 3770.3953 - mae: 3770.3953\n",
            "Epoch 134/600\n",
            "34/34 [==============================] - 0s 2ms/step - loss: 3771.6887 - mae: 3771.6887\n",
            "Epoch 135/600\n",
            "34/34 [==============================] - 0s 2ms/step - loss: 3767.4382 - mae: 3767.4382\n",
            "Epoch 136/600\n",
            "34/34 [==============================] - 0s 2ms/step - loss: 3766.6711 - mae: 3766.6711\n",
            "Epoch 137/600\n",
            "34/34 [==============================] - 0s 2ms/step - loss: 3775.2358 - mae: 3775.2358\n",
            "Epoch 138/600\n",
            "34/34 [==============================] - 0s 2ms/step - loss: 3784.4844 - mae: 3784.4844\n",
            "Epoch 139/600\n",
            "34/34 [==============================] - 0s 2ms/step - loss: 3761.7339 - mae: 3761.7339\n",
            "Epoch 140/600\n",
            "34/34 [==============================] - 0s 2ms/step - loss: 3762.1360 - mae: 3762.1360\n",
            "Epoch 141/600\n",
            "34/34 [==============================] - 0s 2ms/step - loss: 3763.4084 - mae: 3763.4084\n",
            "Epoch 142/600\n",
            "34/34 [==============================] - 0s 2ms/step - loss: 3763.5349 - mae: 3763.5349\n",
            "Epoch 143/600\n",
            "34/34 [==============================] - 0s 2ms/step - loss: 3754.6104 - mae: 3754.6104\n",
            "Epoch 144/600\n",
            "34/34 [==============================] - 0s 2ms/step - loss: 3750.8074 - mae: 3750.8074\n",
            "Epoch 145/600\n",
            "34/34 [==============================] - 0s 2ms/step - loss: 3751.2629 - mae: 3751.2629\n",
            "Epoch 146/600\n",
            "34/34 [==============================] - 0s 2ms/step - loss: 3754.6194 - mae: 3754.6194\n",
            "Epoch 147/600\n",
            "34/34 [==============================] - 0s 2ms/step - loss: 3751.5325 - mae: 3751.5325\n",
            "Epoch 148/600\n",
            "34/34 [==============================] - 0s 2ms/step - loss: 3755.4758 - mae: 3755.4758\n",
            "Epoch 149/600\n",
            "34/34 [==============================] - 0s 2ms/step - loss: 3743.7812 - mae: 3743.7812\n",
            "Epoch 150/600\n",
            "34/34 [==============================] - 0s 3ms/step - loss: 3738.6592 - mae: 3738.6592\n",
            "Epoch 151/600\n",
            "34/34 [==============================] - 0s 3ms/step - loss: 3741.3877 - mae: 3741.3877\n",
            "Epoch 152/600\n",
            "34/34 [==============================] - 0s 2ms/step - loss: 3742.3994 - mae: 3742.3994\n",
            "Epoch 153/600\n",
            "34/34 [==============================] - 0s 3ms/step - loss: 3742.1941 - mae: 3742.1941\n",
            "Epoch 154/600\n",
            "34/34 [==============================] - 0s 2ms/step - loss: 3737.1804 - mae: 3737.1804\n",
            "Epoch 155/600\n",
            "34/34 [==============================] - 0s 2ms/step - loss: 3738.9939 - mae: 3738.9939\n",
            "Epoch 156/600\n",
            "34/34 [==============================] - 0s 2ms/step - loss: 3736.1038 - mae: 3736.1038\n",
            "Epoch 157/600\n",
            "34/34 [==============================] - 0s 2ms/step - loss: 3732.9739 - mae: 3732.9739\n",
            "Epoch 158/600\n",
            "34/34 [==============================] - 0s 2ms/step - loss: 3729.8025 - mae: 3729.8025\n",
            "Epoch 159/600\n",
            "34/34 [==============================] - 0s 2ms/step - loss: 3726.4563 - mae: 3726.4563\n",
            "Epoch 160/600\n",
            "34/34 [==============================] - 0s 2ms/step - loss: 3733.5449 - mae: 3733.5449\n",
            "Epoch 161/600\n",
            "34/34 [==============================] - 0s 2ms/step - loss: 3728.0251 - mae: 3728.0251\n",
            "Epoch 162/600\n",
            "34/34 [==============================] - 0s 3ms/step - loss: 3725.0784 - mae: 3725.0784\n",
            "Epoch 163/600\n",
            "34/34 [==============================] - 0s 4ms/step - loss: 3722.1675 - mae: 3722.1675\n",
            "Epoch 164/600\n",
            "34/34 [==============================] - 0s 2ms/step - loss: 3726.4907 - mae: 3726.4907\n",
            "Epoch 165/600\n",
            "34/34 [==============================] - 0s 2ms/step - loss: 3717.1108 - mae: 3717.1108\n",
            "Epoch 166/600\n",
            "34/34 [==============================] - 0s 2ms/step - loss: 3721.8940 - mae: 3721.8940\n",
            "Epoch 167/600\n",
            "34/34 [==============================] - 0s 2ms/step - loss: 3720.7314 - mae: 3720.7314\n",
            "Epoch 168/600\n",
            "34/34 [==============================] - 0s 2ms/step - loss: 3715.3101 - mae: 3715.3101\n",
            "Epoch 169/600\n",
            "34/34 [==============================] - 0s 3ms/step - loss: 3714.2400 - mae: 3714.2400\n",
            "Epoch 170/600\n",
            "34/34 [==============================] - 0s 2ms/step - loss: 3708.1538 - mae: 3708.1538\n",
            "Epoch 171/600\n",
            "34/34 [==============================] - 0s 2ms/step - loss: 3707.5684 - mae: 3707.5684\n",
            "Epoch 172/600\n",
            "34/34 [==============================] - 0s 2ms/step - loss: 3709.5637 - mae: 3709.5637\n",
            "Epoch 173/600\n",
            "34/34 [==============================] - 0s 2ms/step - loss: 3705.6372 - mae: 3705.6372\n",
            "Epoch 174/600\n",
            "34/34 [==============================] - 0s 3ms/step - loss: 3709.1023 - mae: 3709.1023\n",
            "Epoch 175/600\n",
            "34/34 [==============================] - 0s 2ms/step - loss: 3712.1282 - mae: 3712.1282\n",
            "Epoch 176/600\n",
            "34/34 [==============================] - 0s 2ms/step - loss: 3705.9382 - mae: 3705.9382\n",
            "Epoch 177/600\n",
            "34/34 [==============================] - 0s 2ms/step - loss: 3700.1218 - mae: 3700.1218\n",
            "Epoch 178/600\n",
            "34/34 [==============================] - 0s 2ms/step - loss: 3696.2852 - mae: 3696.2852\n",
            "Epoch 179/600\n",
            "34/34 [==============================] - 0s 2ms/step - loss: 3704.3589 - mae: 3704.3589\n",
            "Epoch 180/600\n",
            "34/34 [==============================] - 0s 2ms/step - loss: 3709.2507 - mae: 3709.2507\n",
            "Epoch 181/600\n",
            "34/34 [==============================] - 0s 2ms/step - loss: 3695.9170 - mae: 3695.9170\n",
            "Epoch 182/600\n",
            "34/34 [==============================] - 0s 2ms/step - loss: 3693.5237 - mae: 3693.5237\n",
            "Epoch 183/600\n",
            "34/34 [==============================] - 0s 2ms/step - loss: 3692.0999 - mae: 3692.0999\n",
            "Epoch 184/600\n",
            "34/34 [==============================] - 0s 2ms/step - loss: 3698.8428 - mae: 3698.8428\n",
            "Epoch 185/600\n",
            "34/34 [==============================] - 0s 2ms/step - loss: 3694.2781 - mae: 3694.2781\n",
            "Epoch 186/600\n",
            "34/34 [==============================] - 0s 3ms/step - loss: 3696.6104 - mae: 3696.6104\n",
            "Epoch 187/600\n",
            "34/34 [==============================] - 0s 2ms/step - loss: 3689.0247 - mae: 3689.0247\n",
            "Epoch 188/600\n",
            "34/34 [==============================] - 0s 2ms/step - loss: 3694.2280 - mae: 3694.2280\n",
            "Epoch 189/600\n",
            "34/34 [==============================] - 0s 2ms/step - loss: 3683.9485 - mae: 3683.9485\n",
            "Epoch 190/600\n",
            "34/34 [==============================] - 0s 2ms/step - loss: 3682.8477 - mae: 3682.8477\n",
            "Epoch 191/600\n",
            "34/34 [==============================] - 0s 2ms/step - loss: 3699.1458 - mae: 3699.1458\n",
            "Epoch 192/600\n",
            "34/34 [==============================] - 0s 2ms/step - loss: 3684.8535 - mae: 3684.8535\n",
            "Epoch 193/600\n",
            "34/34 [==============================] - 0s 2ms/step - loss: 3675.5303 - mae: 3675.5303\n",
            "Epoch 194/600\n",
            "34/34 [==============================] - 0s 2ms/step - loss: 3675.5764 - mae: 3675.5764\n",
            "Epoch 195/600\n",
            "34/34 [==============================] - 0s 2ms/step - loss: 3673.1936 - mae: 3673.1936\n",
            "Epoch 196/600\n",
            "34/34 [==============================] - 0s 3ms/step - loss: 3682.2253 - mae: 3682.2253\n",
            "Epoch 197/600\n",
            "34/34 [==============================] - 0s 3ms/step - loss: 3666.2056 - mae: 3666.2056\n",
            "Epoch 198/600\n",
            "34/34 [==============================] - 0s 2ms/step - loss: 3671.8359 - mae: 3671.8359\n",
            "Epoch 199/600\n",
            "34/34 [==============================] - 0s 4ms/step - loss: 3680.2209 - mae: 3680.2209\n",
            "Epoch 200/600\n",
            "34/34 [==============================] - 0s 6ms/step - loss: 3666.9414 - mae: 3666.9414\n",
            "Epoch 201/600\n",
            "34/34 [==============================] - 0s 2ms/step - loss: 3666.5859 - mae: 3666.5859\n",
            "Epoch 202/600\n",
            "34/34 [==============================] - 0s 2ms/step - loss: 3667.2139 - mae: 3667.2139\n",
            "Epoch 203/600\n",
            "34/34 [==============================] - 0s 2ms/step - loss: 3663.9014 - mae: 3663.9014\n",
            "Epoch 204/600\n",
            "34/34 [==============================] - 0s 3ms/step - loss: 3654.8442 - mae: 3654.8442\n",
            "Epoch 205/600\n",
            "34/34 [==============================] - 0s 2ms/step - loss: 3663.6572 - mae: 3663.6572\n",
            "Epoch 206/600\n",
            "34/34 [==============================] - 0s 3ms/step - loss: 3657.2104 - mae: 3657.2104\n",
            "Epoch 207/600\n",
            "34/34 [==============================] - 0s 8ms/step - loss: 3656.2354 - mae: 3656.2354\n",
            "Epoch 208/600\n",
            "34/34 [==============================] - 0s 2ms/step - loss: 3654.6501 - mae: 3654.6501\n",
            "Epoch 209/600\n",
            "34/34 [==============================] - 0s 3ms/step - loss: 3653.5359 - mae: 3653.5359\n",
            "Epoch 210/600\n",
            "34/34 [==============================] - 0s 2ms/step - loss: 3657.0869 - mae: 3657.0869\n",
            "Epoch 211/600\n",
            "34/34 [==============================] - 0s 2ms/step - loss: 3654.8069 - mae: 3654.8069\n",
            "Epoch 212/600\n",
            "34/34 [==============================] - 0s 2ms/step - loss: 3670.9839 - mae: 3670.9839\n",
            "Epoch 213/600\n",
            "34/34 [==============================] - 0s 3ms/step - loss: 3658.0090 - mae: 3658.0090\n",
            "Epoch 214/600\n",
            "34/34 [==============================] - 0s 9ms/step - loss: 3676.4031 - mae: 3676.4031\n",
            "Epoch 215/600\n",
            "34/34 [==============================] - 0s 3ms/step - loss: 3652.4697 - mae: 3652.4697\n",
            "Epoch 216/600\n",
            "34/34 [==============================] - 0s 2ms/step - loss: 3645.3047 - mae: 3645.3047\n",
            "Epoch 217/600\n",
            "34/34 [==============================] - 0s 2ms/step - loss: 3648.8865 - mae: 3648.8865\n",
            "Epoch 218/600\n",
            "34/34 [==============================] - 0s 2ms/step - loss: 3641.0957 - mae: 3641.0957\n",
            "Epoch 219/600\n",
            "34/34 [==============================] - 0s 2ms/step - loss: 3650.7847 - mae: 3650.7847\n",
            "Epoch 220/600\n",
            "34/34 [==============================] - 0s 2ms/step - loss: 3639.8477 - mae: 3639.8477\n",
            "Epoch 221/600\n",
            "34/34 [==============================] - 0s 2ms/step - loss: 3640.4226 - mae: 3640.4226\n",
            "Epoch 222/600\n",
            "34/34 [==============================] - 0s 3ms/step - loss: 3648.5034 - mae: 3648.5034\n",
            "Epoch 223/600\n",
            "34/34 [==============================] - 0s 2ms/step - loss: 3633.2605 - mae: 3633.2605\n",
            "Epoch 224/600\n",
            "34/34 [==============================] - 0s 3ms/step - loss: 3637.2195 - mae: 3637.2195\n",
            "Epoch 225/600\n",
            "34/34 [==============================] - 0s 2ms/step - loss: 3631.1592 - mae: 3631.1592\n",
            "Epoch 226/600\n",
            "34/34 [==============================] - 0s 2ms/step - loss: 3627.6765 - mae: 3627.6765\n",
            "Epoch 227/600\n",
            "34/34 [==============================] - 0s 2ms/step - loss: 3622.4902 - mae: 3622.4902\n",
            "Epoch 228/600\n",
            "34/34 [==============================] - 0s 2ms/step - loss: 3631.2241 - mae: 3631.2241\n",
            "Epoch 229/600\n",
            "34/34 [==============================] - 0s 2ms/step - loss: 3635.1736 - mae: 3635.1736\n",
            "Epoch 230/600\n",
            "34/34 [==============================] - 0s 3ms/step - loss: 3617.2610 - mae: 3617.2610\n",
            "Epoch 231/600\n",
            "34/34 [==============================] - 0s 2ms/step - loss: 3615.7903 - mae: 3615.7903\n",
            "Epoch 232/600\n",
            "34/34 [==============================] - 0s 2ms/step - loss: 3613.4084 - mae: 3613.4084\n",
            "Epoch 233/600\n",
            "34/34 [==============================] - 0s 3ms/step - loss: 3611.3999 - mae: 3611.3999\n",
            "Epoch 234/600\n",
            "34/34 [==============================] - 0s 2ms/step - loss: 3623.1475 - mae: 3623.1475\n",
            "Epoch 235/600\n",
            "34/34 [==============================] - 0s 3ms/step - loss: 3624.7256 - mae: 3624.7256\n",
            "Epoch 236/600\n",
            "34/34 [==============================] - 0s 2ms/step - loss: 3612.7253 - mae: 3612.7253\n",
            "Epoch 237/600\n",
            "34/34 [==============================] - 0s 2ms/step - loss: 3615.2419 - mae: 3615.2419\n",
            "Epoch 238/600\n",
            "34/34 [==============================] - 0s 2ms/step - loss: 3598.2756 - mae: 3598.2756\n",
            "Epoch 239/600\n",
            "34/34 [==============================] - 0s 2ms/step - loss: 3607.2253 - mae: 3607.2253\n",
            "Epoch 240/600\n",
            "34/34 [==============================] - 0s 3ms/step - loss: 3604.3447 - mae: 3604.3447\n",
            "Epoch 241/600\n",
            "34/34 [==============================] - 0s 2ms/step - loss: 3597.2029 - mae: 3597.2029\n",
            "Epoch 242/600\n",
            "34/34 [==============================] - 0s 2ms/step - loss: 3599.5796 - mae: 3599.5796\n",
            "Epoch 243/600\n",
            "34/34 [==============================] - 0s 2ms/step - loss: 3592.3210 - mae: 3592.3210\n",
            "Epoch 244/600\n",
            "34/34 [==============================] - 0s 2ms/step - loss: 3606.6270 - mae: 3606.6270\n",
            "Epoch 245/600\n",
            "34/34 [==============================] - 0s 2ms/step - loss: 3591.3340 - mae: 3591.3340\n",
            "Epoch 246/600\n",
            "34/34 [==============================] - 0s 3ms/step - loss: 3587.2720 - mae: 3587.2720\n",
            "Epoch 247/600\n",
            "34/34 [==============================] - 0s 2ms/step - loss: 3586.1106 - mae: 3586.1106\n",
            "Epoch 248/600\n",
            "34/34 [==============================] - 0s 2ms/step - loss: 3607.2573 - mae: 3607.2573\n",
            "Epoch 249/600\n",
            "34/34 [==============================] - 0s 2ms/step - loss: 3588.6804 - mae: 3588.6804\n",
            "Epoch 250/600\n",
            "34/34 [==============================] - 0s 2ms/step - loss: 3580.9402 - mae: 3580.9402\n",
            "Epoch 251/600\n",
            "34/34 [==============================] - 0s 2ms/step - loss: 3577.2532 - mae: 3577.2532\n",
            "Epoch 252/600\n",
            "34/34 [==============================] - 0s 2ms/step - loss: 3581.8054 - mae: 3581.8054\n",
            "Epoch 253/600\n",
            "34/34 [==============================] - 0s 2ms/step - loss: 3575.6616 - mae: 3575.6616\n",
            "Epoch 254/600\n",
            "34/34 [==============================] - 0s 2ms/step - loss: 3572.4163 - mae: 3572.4163\n",
            "Epoch 255/600\n",
            "34/34 [==============================] - 0s 2ms/step - loss: 3566.1519 - mae: 3566.1519\n",
            "Epoch 256/600\n",
            "34/34 [==============================] - 0s 2ms/step - loss: 3572.6677 - mae: 3572.6677\n",
            "Epoch 257/600\n",
            "34/34 [==============================] - 0s 2ms/step - loss: 3568.5332 - mae: 3568.5332\n",
            "Epoch 258/600\n",
            "34/34 [==============================] - 0s 3ms/step - loss: 3584.3787 - mae: 3584.3787\n",
            "Epoch 259/600\n",
            "34/34 [==============================] - 0s 2ms/step - loss: 3563.2397 - mae: 3563.2397\n",
            "Epoch 260/600\n",
            "34/34 [==============================] - 0s 2ms/step - loss: 3568.1707 - mae: 3568.1707\n",
            "Epoch 261/600\n",
            "34/34 [==============================] - 0s 2ms/step - loss: 3565.5295 - mae: 3565.5295\n",
            "Epoch 262/600\n",
            "34/34 [==============================] - 0s 2ms/step - loss: 3559.8923 - mae: 3559.8923\n",
            "Epoch 263/600\n",
            "34/34 [==============================] - 0s 2ms/step - loss: 3559.3062 - mae: 3559.3062\n",
            "Epoch 264/600\n",
            "34/34 [==============================] - 0s 2ms/step - loss: 3561.1343 - mae: 3561.1343\n",
            "Epoch 265/600\n",
            "34/34 [==============================] - 0s 2ms/step - loss: 3558.5955 - mae: 3558.5955\n",
            "Epoch 266/600\n",
            "34/34 [==============================] - 0s 2ms/step - loss: 3558.4697 - mae: 3558.4697\n",
            "Epoch 267/600\n",
            "34/34 [==============================] - 0s 3ms/step - loss: 3561.1499 - mae: 3561.1499\n",
            "Epoch 268/600\n",
            "34/34 [==============================] - 0s 3ms/step - loss: 3550.9036 - mae: 3550.9036\n",
            "Epoch 269/600\n",
            "34/34 [==============================] - 0s 3ms/step - loss: 3556.6663 - mae: 3556.6663\n",
            "Epoch 270/600\n",
            "34/34 [==============================] - 0s 3ms/step - loss: 3546.8916 - mae: 3546.8916\n",
            "Epoch 271/600\n",
            "34/34 [==============================] - 0s 2ms/step - loss: 3548.0073 - mae: 3548.0073\n",
            "Epoch 272/600\n",
            "34/34 [==============================] - 0s 2ms/step - loss: 3543.5903 - mae: 3543.5903\n",
            "Epoch 273/600\n",
            "34/34 [==============================] - 0s 2ms/step - loss: 3543.6897 - mae: 3543.6897\n",
            "Epoch 274/600\n",
            "34/34 [==============================] - 0s 2ms/step - loss: 3542.1477 - mae: 3542.1477\n",
            "Epoch 275/600\n",
            "34/34 [==============================] - 0s 2ms/step - loss: 3539.4849 - mae: 3539.4849\n",
            "Epoch 276/600\n",
            "34/34 [==============================] - 0s 3ms/step - loss: 3542.0374 - mae: 3542.0374\n",
            "Epoch 277/600\n",
            "34/34 [==============================] - 0s 3ms/step - loss: 3539.2014 - mae: 3539.2014\n",
            "Epoch 278/600\n",
            "34/34 [==============================] - 0s 2ms/step - loss: 3540.0730 - mae: 3540.0730\n",
            "Epoch 279/600\n",
            "34/34 [==============================] - 0s 2ms/step - loss: 3539.7798 - mae: 3539.7798\n",
            "Epoch 280/600\n",
            "34/34 [==============================] - 0s 3ms/step - loss: 3532.1309 - mae: 3532.1309\n",
            "Epoch 281/600\n",
            "34/34 [==============================] - 0s 3ms/step - loss: 3541.1682 - mae: 3541.1682\n",
            "Epoch 282/600\n",
            "34/34 [==============================] - 0s 2ms/step - loss: 3530.9551 - mae: 3530.9551\n",
            "Epoch 283/600\n",
            "34/34 [==============================] - 0s 3ms/step - loss: 3535.6165 - mae: 3535.6165\n",
            "Epoch 284/600\n",
            "34/34 [==============================] - 0s 3ms/step - loss: 3530.1577 - mae: 3530.1577\n",
            "Epoch 285/600\n",
            "34/34 [==============================] - 0s 2ms/step - loss: 3529.9480 - mae: 3529.9480\n",
            "Epoch 286/600\n",
            "34/34 [==============================] - 0s 2ms/step - loss: 3523.8992 - mae: 3523.8992\n",
            "Epoch 287/600\n",
            "34/34 [==============================] - 0s 2ms/step - loss: 3522.8616 - mae: 3522.8616\n",
            "Epoch 288/600\n",
            "34/34 [==============================] - 0s 2ms/step - loss: 3522.2529 - mae: 3522.2529\n",
            "Epoch 289/600\n",
            "34/34 [==============================] - 0s 3ms/step - loss: 3523.6272 - mae: 3523.6272\n",
            "Epoch 290/600\n",
            "34/34 [==============================] - 0s 4ms/step - loss: 3526.8005 - mae: 3526.8005\n",
            "Epoch 291/600\n",
            "34/34 [==============================] - 0s 2ms/step - loss: 3529.2947 - mae: 3529.2947\n",
            "Epoch 292/600\n",
            "34/34 [==============================] - 0s 3ms/step - loss: 3527.0535 - mae: 3527.0535\n",
            "Epoch 293/600\n",
            "34/34 [==============================] - 0s 3ms/step - loss: 3517.7183 - mae: 3517.7183\n",
            "Epoch 294/600\n",
            "34/34 [==============================] - 0s 2ms/step - loss: 3532.4072 - mae: 3532.4072\n",
            "Epoch 295/600\n",
            "34/34 [==============================] - 0s 3ms/step - loss: 3527.7683 - mae: 3527.7683\n",
            "Epoch 296/600\n",
            "34/34 [==============================] - 0s 2ms/step - loss: 3517.7471 - mae: 3517.7471\n",
            "Epoch 297/600\n",
            "34/34 [==============================] - 0s 3ms/step - loss: 3507.5869 - mae: 3507.5869\n",
            "Epoch 298/600\n",
            "34/34 [==============================] - 0s 2ms/step - loss: 3508.5842 - mae: 3508.5842\n",
            "Epoch 299/600\n",
            "34/34 [==============================] - 0s 3ms/step - loss: 3521.3545 - mae: 3521.3545\n",
            "Epoch 300/600\n",
            "34/34 [==============================] - 0s 3ms/step - loss: 3511.0706 - mae: 3511.0706\n",
            "Epoch 301/600\n",
            "34/34 [==============================] - 0s 2ms/step - loss: 3508.3552 - mae: 3508.3552\n",
            "Epoch 302/600\n",
            "34/34 [==============================] - 0s 2ms/step - loss: 3530.4800 - mae: 3530.4797\n",
            "Epoch 303/600\n",
            "34/34 [==============================] - 0s 2ms/step - loss: 3529.3115 - mae: 3529.3115\n",
            "Epoch 304/600\n",
            "34/34 [==============================] - 0s 2ms/step - loss: 3506.1626 - mae: 3506.1626\n",
            "Epoch 305/600\n",
            "34/34 [==============================] - 0s 3ms/step - loss: 3500.7458 - mae: 3500.7458\n",
            "Epoch 306/600\n",
            "34/34 [==============================] - 0s 2ms/step - loss: 3501.9685 - mae: 3501.9685\n",
            "Epoch 307/600\n",
            "34/34 [==============================] - 0s 3ms/step - loss: 3499.4060 - mae: 3499.4060\n",
            "Epoch 308/600\n",
            "34/34 [==============================] - 0s 2ms/step - loss: 3501.1492 - mae: 3501.1492\n",
            "Epoch 309/600\n",
            "34/34 [==============================] - 0s 3ms/step - loss: 3496.4126 - mae: 3496.4126\n",
            "Epoch 310/600\n",
            "34/34 [==============================] - 0s 3ms/step - loss: 3497.9331 - mae: 3497.9331\n",
            "Epoch 311/600\n",
            "34/34 [==============================] - 0s 3ms/step - loss: 3499.4697 - mae: 3499.4697\n",
            "Epoch 312/600\n",
            "34/34 [==============================] - 0s 2ms/step - loss: 3494.6006 - mae: 3494.6006\n",
            "Epoch 313/600\n",
            "34/34 [==============================] - 0s 2ms/step - loss: 3490.1775 - mae: 3490.1775\n",
            "Epoch 314/600\n",
            "34/34 [==============================] - 0s 3ms/step - loss: 3490.0122 - mae: 3490.0122\n",
            "Epoch 315/600\n",
            "34/34 [==============================] - 0s 2ms/step - loss: 3495.0449 - mae: 3495.0449\n",
            "Epoch 316/600\n",
            "34/34 [==============================] - 0s 2ms/step - loss: 3486.4893 - mae: 3486.4893\n",
            "Epoch 317/600\n",
            "34/34 [==============================] - 0s 2ms/step - loss: 3483.5469 - mae: 3483.5469\n",
            "Epoch 318/600\n",
            "34/34 [==============================] - 0s 3ms/step - loss: 3485.2529 - mae: 3485.2529\n",
            "Epoch 319/600\n",
            "34/34 [==============================] - 0s 2ms/step - loss: 3485.9741 - mae: 3485.9741\n",
            "Epoch 320/600\n",
            "34/34 [==============================] - 0s 2ms/step - loss: 3490.4812 - mae: 3490.4812\n",
            "Epoch 321/600\n",
            "34/34 [==============================] - 0s 3ms/step - loss: 3493.2300 - mae: 3493.2300\n",
            "Epoch 322/600\n",
            "34/34 [==============================] - 0s 4ms/step - loss: 3493.5027 - mae: 3493.5027\n",
            "Epoch 323/600\n",
            "34/34 [==============================] - 0s 2ms/step - loss: 3482.0549 - mae: 3482.0549\n",
            "Epoch 324/600\n",
            "34/34 [==============================] - 0s 2ms/step - loss: 3482.5767 - mae: 3482.5767\n",
            "Epoch 325/600\n",
            "34/34 [==============================] - 0s 3ms/step - loss: 3480.9973 - mae: 3480.9973\n",
            "Epoch 326/600\n",
            "34/34 [==============================] - 0s 2ms/step - loss: 3482.7715 - mae: 3482.7715\n",
            "Epoch 327/600\n",
            "34/34 [==============================] - 0s 2ms/step - loss: 3480.0176 - mae: 3480.0176\n",
            "Epoch 328/600\n",
            "34/34 [==============================] - 0s 3ms/step - loss: 3493.1619 - mae: 3493.1619\n",
            "Epoch 329/600\n",
            "34/34 [==============================] - 0s 2ms/step - loss: 3497.7576 - mae: 3497.7576\n",
            "Epoch 330/600\n",
            "34/34 [==============================] - 0s 2ms/step - loss: 3476.2395 - mae: 3476.2395\n",
            "Epoch 331/600\n",
            "34/34 [==============================] - 0s 3ms/step - loss: 3484.8313 - mae: 3484.8313\n",
            "Epoch 332/600\n",
            "34/34 [==============================] - 0s 3ms/step - loss: 3484.7771 - mae: 3484.7771\n",
            "Epoch 333/600\n",
            "34/34 [==============================] - 0s 2ms/step - loss: 3478.3381 - mae: 3478.3381\n",
            "Epoch 334/600\n",
            "34/34 [==============================] - 0s 2ms/step - loss: 3477.2952 - mae: 3477.2952\n",
            "Epoch 335/600\n",
            "34/34 [==============================] - 0s 2ms/step - loss: 3477.1018 - mae: 3477.1018\n",
            "Epoch 336/600\n",
            "34/34 [==============================] - 0s 3ms/step - loss: 3480.7039 - mae: 3480.7039\n",
            "Epoch 337/600\n",
            "34/34 [==============================] - 0s 3ms/step - loss: 3484.5505 - mae: 3484.5505\n",
            "Epoch 338/600\n",
            "34/34 [==============================] - 0s 2ms/step - loss: 3489.9199 - mae: 3489.9199\n",
            "Epoch 339/600\n",
            "34/34 [==============================] - 0s 3ms/step - loss: 3479.5742 - mae: 3479.5742\n",
            "Epoch 340/600\n",
            "34/34 [==============================] - 0s 2ms/step - loss: 3479.9756 - mae: 3479.9756\n",
            "Epoch 341/600\n",
            "34/34 [==============================] - 0s 2ms/step - loss: 3478.5669 - mae: 3478.5669\n",
            "Epoch 342/600\n",
            "34/34 [==============================] - 0s 3ms/step - loss: 3489.5505 - mae: 3489.5505\n",
            "Epoch 343/600\n",
            "34/34 [==============================] - 0s 3ms/step - loss: 3479.1821 - mae: 3479.1821\n",
            "Epoch 344/600\n",
            "34/34 [==============================] - 0s 2ms/step - loss: 3480.7361 - mae: 3480.7361\n",
            "Epoch 345/600\n",
            "34/34 [==============================] - 0s 2ms/step - loss: 3483.9199 - mae: 3483.9199\n",
            "Epoch 346/600\n",
            "34/34 [==============================] - 0s 2ms/step - loss: 3487.4810 - mae: 3487.4810\n",
            "Epoch 347/600\n",
            "34/34 [==============================] - 0s 2ms/step - loss: 3479.4458 - mae: 3479.4458\n",
            "Epoch 348/600\n",
            "34/34 [==============================] - 0s 2ms/step - loss: 3476.9761 - mae: 3476.9761\n",
            "Epoch 349/600\n",
            "34/34 [==============================] - 0s 2ms/step - loss: 3483.6362 - mae: 3483.6362\n",
            "Epoch 350/600\n",
            "34/34 [==============================] - 0s 3ms/step - loss: 3482.3782 - mae: 3482.3782\n",
            "Epoch 351/600\n",
            "34/34 [==============================] - 0s 2ms/step - loss: 3482.4011 - mae: 3482.4011\n",
            "Epoch 352/600\n",
            "34/34 [==============================] - 0s 2ms/step - loss: 3480.1807 - mae: 3480.1807\n",
            "Epoch 353/600\n",
            "34/34 [==============================] - 0s 3ms/step - loss: 3493.6458 - mae: 3493.6458\n",
            "Epoch 354/600\n",
            "34/34 [==============================] - 0s 3ms/step - loss: 3477.1663 - mae: 3477.1663\n",
            "Epoch 355/600\n",
            "34/34 [==============================] - 0s 2ms/step - loss: 3478.4375 - mae: 3478.4375\n",
            "Epoch 356/600\n",
            "34/34 [==============================] - 0s 2ms/step - loss: 3485.8235 - mae: 3485.8235\n",
            "Epoch 357/600\n",
            "34/34 [==============================] - 0s 2ms/step - loss: 3479.1990 - mae: 3479.1990\n",
            "Epoch 358/600\n",
            "34/34 [==============================] - 0s 2ms/step - loss: 3484.1907 - mae: 3484.1907\n",
            "Epoch 359/600\n",
            "34/34 [==============================] - 0s 3ms/step - loss: 3504.4104 - mae: 3504.4104\n",
            "Epoch 360/600\n",
            "34/34 [==============================] - 0s 2ms/step - loss: 3480.8408 - mae: 3480.8408\n",
            "Epoch 361/600\n",
            "34/34 [==============================] - 0s 2ms/step - loss: 3480.0381 - mae: 3480.0381\n",
            "Epoch 362/600\n",
            "34/34 [==============================] - 0s 3ms/step - loss: 3482.3345 - mae: 3482.3345\n",
            "Epoch 363/600\n",
            "34/34 [==============================] - 0s 2ms/step - loss: 3481.7976 - mae: 3481.7976\n",
            "Epoch 364/600\n",
            "34/34 [==============================] - 0s 2ms/step - loss: 3495.4348 - mae: 3495.4348\n",
            "Epoch 365/600\n",
            "34/34 [==============================] - 0s 2ms/step - loss: 3485.5449 - mae: 3485.5449\n",
            "Epoch 366/600\n",
            "34/34 [==============================] - 0s 3ms/step - loss: 3478.8174 - mae: 3478.8174\n",
            "Epoch 367/600\n",
            "34/34 [==============================] - 0s 2ms/step - loss: 3474.3130 - mae: 3474.3130\n",
            "Epoch 368/600\n",
            "34/34 [==============================] - 0s 2ms/step - loss: 3483.3118 - mae: 3483.3118\n",
            "Epoch 369/600\n",
            "34/34 [==============================] - 0s 2ms/step - loss: 3481.0588 - mae: 3481.0588\n",
            "Epoch 370/600\n",
            "34/34 [==============================] - 0s 2ms/step - loss: 3486.9702 - mae: 3486.9702\n",
            "Epoch 371/600\n",
            "34/34 [==============================] - 0s 2ms/step - loss: 3477.6235 - mae: 3477.6235\n",
            "Epoch 372/600\n",
            "34/34 [==============================] - 0s 2ms/step - loss: 3477.9897 - mae: 3477.9897\n",
            "Epoch 373/600\n",
            "34/34 [==============================] - 0s 3ms/step - loss: 3475.4202 - mae: 3475.4202\n",
            "Epoch 374/600\n",
            "34/34 [==============================] - 0s 4ms/step - loss: 3488.9600 - mae: 3488.9600\n",
            "Epoch 375/600\n",
            "34/34 [==============================] - 0s 3ms/step - loss: 3475.8950 - mae: 3475.8950\n",
            "Epoch 376/600\n",
            "34/34 [==============================] - 0s 3ms/step - loss: 3474.8604 - mae: 3474.8604\n",
            "Epoch 377/600\n",
            "34/34 [==============================] - 0s 3ms/step - loss: 3476.3025 - mae: 3476.3025\n",
            "Epoch 378/600\n",
            "34/34 [==============================] - 0s 2ms/step - loss: 3478.1250 - mae: 3478.1250\n",
            "Epoch 379/600\n",
            "34/34 [==============================] - 0s 2ms/step - loss: 3492.9739 - mae: 3492.9739\n",
            "Epoch 380/600\n",
            "34/34 [==============================] - 0s 2ms/step - loss: 3484.4006 - mae: 3484.4006\n",
            "Epoch 381/600\n",
            "34/34 [==============================] - 0s 2ms/step - loss: 3495.3706 - mae: 3495.3706\n",
            "Epoch 382/600\n",
            "34/34 [==============================] - 0s 3ms/step - loss: 3481.5320 - mae: 3481.5320\n",
            "Epoch 383/600\n",
            "34/34 [==============================] - 0s 3ms/step - loss: 3477.9771 - mae: 3477.9771\n",
            "Epoch 384/600\n",
            "34/34 [==============================] - 0s 3ms/step - loss: 3496.5237 - mae: 3496.5237\n",
            "Epoch 385/600\n",
            "34/34 [==============================] - 0s 3ms/step - loss: 3485.5325 - mae: 3485.5325\n",
            "Epoch 386/600\n",
            "34/34 [==============================] - 0s 2ms/step - loss: 3487.2024 - mae: 3487.2024\n",
            "Epoch 387/600\n",
            "34/34 [==============================] - 0s 3ms/step - loss: 3480.5408 - mae: 3480.5408\n",
            "Epoch 388/600\n",
            "34/34 [==============================] - 0s 3ms/step - loss: 3480.8064 - mae: 3480.8064\n",
            "Epoch 389/600\n",
            "34/34 [==============================] - 0s 2ms/step - loss: 3489.9539 - mae: 3489.9539\n",
            "Epoch 390/600\n",
            "34/34 [==============================] - 0s 2ms/step - loss: 3497.4121 - mae: 3497.4121\n",
            "Epoch 391/600\n",
            "34/34 [==============================] - 0s 3ms/step - loss: 3482.4265 - mae: 3482.4265\n",
            "Epoch 392/600\n",
            "34/34 [==============================] - 0s 2ms/step - loss: 3483.2708 - mae: 3483.2708\n",
            "Epoch 393/600\n",
            "34/34 [==============================] - 0s 3ms/step - loss: 3496.0122 - mae: 3496.0122\n",
            "Epoch 394/600\n",
            "34/34 [==============================] - 0s 2ms/step - loss: 3475.9712 - mae: 3475.9712\n",
            "Epoch 395/600\n",
            "34/34 [==============================] - 0s 2ms/step - loss: 3485.5190 - mae: 3485.5190\n",
            "Epoch 396/600\n",
            "34/34 [==============================] - 0s 3ms/step - loss: 3480.0374 - mae: 3480.0374\n",
            "Epoch 397/600\n",
            "34/34 [==============================] - 0s 2ms/step - loss: 3479.6689 - mae: 3479.6689\n",
            "Epoch 398/600\n",
            "34/34 [==============================] - 0s 3ms/step - loss: 3480.0361 - mae: 3480.0361\n",
            "Epoch 399/600\n",
            "34/34 [==============================] - 0s 2ms/step - loss: 3481.8435 - mae: 3481.8435\n",
            "Epoch 400/600\n",
            "34/34 [==============================] - 0s 2ms/step - loss: 3475.9009 - mae: 3475.9009\n",
            "Epoch 401/600\n",
            "34/34 [==============================] - 0s 2ms/step - loss: 3480.1509 - mae: 3480.1509\n",
            "Epoch 402/600\n",
            "34/34 [==============================] - 0s 3ms/step - loss: 3481.1379 - mae: 3481.1379\n",
            "Epoch 403/600\n",
            "34/34 [==============================] - 0s 3ms/step - loss: 3483.1201 - mae: 3483.1201\n",
            "Epoch 404/600\n",
            "34/34 [==============================] - 0s 2ms/step - loss: 3481.5400 - mae: 3481.5400\n",
            "Epoch 405/600\n",
            "34/34 [==============================] - 0s 3ms/step - loss: 3474.6099 - mae: 3474.6099\n",
            "Epoch 406/600\n",
            "34/34 [==============================] - 0s 3ms/step - loss: 3487.1387 - mae: 3487.1387\n",
            "Epoch 407/600\n",
            "34/34 [==============================] - 0s 2ms/step - loss: 3479.0955 - mae: 3479.0955\n",
            "Epoch 408/600\n",
            "34/34 [==============================] - 0s 3ms/step - loss: 3481.6094 - mae: 3481.6094\n",
            "Epoch 409/600\n",
            "34/34 [==============================] - 0s 2ms/step - loss: 3479.7456 - mae: 3479.7456\n",
            "Epoch 410/600\n",
            "34/34 [==============================] - 0s 3ms/step - loss: 3478.6548 - mae: 3478.6548\n",
            "Epoch 411/600\n",
            "34/34 [==============================] - 0s 2ms/step - loss: 3485.2368 - mae: 3485.2368\n",
            "Epoch 412/600\n",
            "34/34 [==============================] - 0s 3ms/step - loss: 3478.0784 - mae: 3478.0784\n",
            "Epoch 413/600\n",
            "34/34 [==============================] - 0s 3ms/step - loss: 3475.8538 - mae: 3475.8538\n",
            "Epoch 414/600\n",
            "34/34 [==============================] - 0s 3ms/step - loss: 3477.3303 - mae: 3477.3303\n",
            "Epoch 415/600\n",
            "34/34 [==============================] - 0s 2ms/step - loss: 3485.2815 - mae: 3485.2815\n",
            "Epoch 416/600\n",
            "34/34 [==============================] - 0s 3ms/step - loss: 3476.8115 - mae: 3476.8115\n",
            "Epoch 417/600\n",
            "34/34 [==============================] - 0s 2ms/step - loss: 3477.9551 - mae: 3477.9551\n",
            "Epoch 418/600\n",
            "34/34 [==============================] - 0s 2ms/step - loss: 3492.4727 - mae: 3492.4727\n",
            "Epoch 419/600\n",
            "34/34 [==============================] - 0s 3ms/step - loss: 3479.7717 - mae: 3479.7717\n",
            "Epoch 420/600\n",
            "34/34 [==============================] - 0s 2ms/step - loss: 3487.2012 - mae: 3487.2012\n",
            "Epoch 421/600\n",
            "34/34 [==============================] - 0s 2ms/step - loss: 3478.5073 - mae: 3478.5073\n",
            "Epoch 422/600\n",
            "34/34 [==============================] - 0s 3ms/step - loss: 3485.2354 - mae: 3485.2354\n",
            "Epoch 423/600\n",
            "34/34 [==============================] - 0s 2ms/step - loss: 3488.3975 - mae: 3488.3975\n",
            "Epoch 424/600\n",
            "34/34 [==============================] - 0s 2ms/step - loss: 3504.5522 - mae: 3504.5522\n",
            "Epoch 425/600\n",
            "34/34 [==============================] - 0s 3ms/step - loss: 3476.5876 - mae: 3476.5876\n",
            "Epoch 426/600\n",
            "34/34 [==============================] - 0s 3ms/step - loss: 3496.7239 - mae: 3496.7239\n",
            "Epoch 427/600\n",
            "34/34 [==============================] - 0s 3ms/step - loss: 3479.5349 - mae: 3479.5349\n",
            "Epoch 428/600\n",
            "34/34 [==============================] - 0s 3ms/step - loss: 3477.6416 - mae: 3477.6416\n",
            "Epoch 429/600\n",
            "34/34 [==============================] - 0s 3ms/step - loss: 3473.6233 - mae: 3473.6233\n",
            "Epoch 430/600\n",
            "34/34 [==============================] - 0s 2ms/step - loss: 3483.4575 - mae: 3483.4575\n",
            "Epoch 431/600\n",
            "34/34 [==============================] - 0s 3ms/step - loss: 3487.9963 - mae: 3487.9963\n",
            "Epoch 432/600\n",
            "34/34 [==============================] - 0s 3ms/step - loss: 3474.5842 - mae: 3474.5842\n",
            "Epoch 433/600\n",
            "34/34 [==============================] - 0s 3ms/step - loss: 3474.5378 - mae: 3474.5378\n",
            "Epoch 434/600\n",
            "34/34 [==============================] - 0s 3ms/step - loss: 3490.5913 - mae: 3490.5913\n",
            "Epoch 435/600\n",
            "34/34 [==============================] - 0s 3ms/step - loss: 3487.5046 - mae: 3487.5046\n",
            "Epoch 436/600\n",
            "34/34 [==============================] - 0s 3ms/step - loss: 3480.0811 - mae: 3480.0811\n",
            "Epoch 437/600\n",
            "34/34 [==============================] - 0s 3ms/step - loss: 3485.2581 - mae: 3485.2581\n",
            "Epoch 438/600\n",
            "34/34 [==============================] - 0s 3ms/step - loss: 3488.8350 - mae: 3488.8350\n",
            "Epoch 439/600\n",
            "34/34 [==============================] - 0s 3ms/step - loss: 3481.7256 - mae: 3481.7256\n",
            "Epoch 440/600\n",
            "34/34 [==============================] - 0s 3ms/step - loss: 3489.4624 - mae: 3489.4624\n",
            "Epoch 441/600\n",
            "34/34 [==============================] - 0s 3ms/step - loss: 3480.4980 - mae: 3480.4980\n",
            "Epoch 442/600\n",
            "34/34 [==============================] - 0s 3ms/step - loss: 3485.9082 - mae: 3485.9082\n",
            "Epoch 443/600\n",
            "34/34 [==============================] - 0s 2ms/step - loss: 3476.7373 - mae: 3476.7373\n",
            "Epoch 444/600\n",
            "34/34 [==============================] - 0s 3ms/step - loss: 3478.1277 - mae: 3478.1277\n",
            "Epoch 445/600\n",
            "34/34 [==============================] - 0s 3ms/step - loss: 3486.9128 - mae: 3486.9128\n",
            "Epoch 446/600\n",
            "34/34 [==============================] - 0s 3ms/step - loss: 3501.7808 - mae: 3501.7808\n",
            "Epoch 447/600\n",
            "34/34 [==============================] - 0s 3ms/step - loss: 3478.7065 - mae: 3478.7065\n",
            "Epoch 448/600\n",
            "34/34 [==============================] - 0s 3ms/step - loss: 3480.7324 - mae: 3480.7324\n",
            "Epoch 449/600\n",
            "34/34 [==============================] - 0s 2ms/step - loss: 3485.9463 - mae: 3485.9463\n",
            "Epoch 450/600\n",
            "34/34 [==============================] - 0s 3ms/step - loss: 3482.1917 - mae: 3482.1917\n",
            "Epoch 451/600\n",
            "34/34 [==============================] - 0s 3ms/step - loss: 3484.0068 - mae: 3484.0068\n",
            "Epoch 452/600\n",
            "34/34 [==============================] - 0s 3ms/step - loss: 3492.5972 - mae: 3492.5972\n",
            "Epoch 453/600\n",
            "34/34 [==============================] - 0s 3ms/step - loss: 3477.0376 - mae: 3477.0376\n",
            "Epoch 454/600\n",
            "34/34 [==============================] - 0s 2ms/step - loss: 3485.4160 - mae: 3485.4160\n",
            "Epoch 455/600\n",
            "34/34 [==============================] - 0s 3ms/step - loss: 3481.7578 - mae: 3481.7578\n",
            "Epoch 456/600\n",
            "34/34 [==============================] - 0s 2ms/step - loss: 3481.5112 - mae: 3481.5112\n",
            "Epoch 457/600\n",
            "34/34 [==============================] - 0s 2ms/step - loss: 3486.6421 - mae: 3486.6421\n",
            "Epoch 458/600\n",
            "34/34 [==============================] - 0s 3ms/step - loss: 3485.7053 - mae: 3485.7053\n",
            "Epoch 459/600\n",
            "34/34 [==============================] - 0s 2ms/step - loss: 3477.8938 - mae: 3477.8938\n",
            "Epoch 460/600\n",
            "34/34 [==============================] - 0s 2ms/step - loss: 3477.7629 - mae: 3477.7629\n",
            "Epoch 461/600\n",
            "34/34 [==============================] - 0s 3ms/step - loss: 3475.3347 - mae: 3475.3347\n",
            "Epoch 462/600\n",
            "34/34 [==============================] - 0s 3ms/step - loss: 3479.1169 - mae: 3479.1169\n",
            "Epoch 463/600\n",
            "34/34 [==============================] - 0s 3ms/step - loss: 3479.2319 - mae: 3479.2319\n",
            "Epoch 464/600\n",
            "34/34 [==============================] - 0s 3ms/step - loss: 3479.1577 - mae: 3479.1577\n",
            "Epoch 465/600\n",
            "34/34 [==============================] - 0s 3ms/step - loss: 3481.7737 - mae: 3481.7737\n",
            "Epoch 466/600\n",
            "34/34 [==============================] - 0s 3ms/step - loss: 3485.5476 - mae: 3485.5476\n",
            "Epoch 467/600\n",
            "34/34 [==============================] - 0s 3ms/step - loss: 3483.1521 - mae: 3483.1521\n",
            "Epoch 468/600\n",
            "34/34 [==============================] - 0s 3ms/step - loss: 3486.7473 - mae: 3486.7473\n",
            "Epoch 469/600\n",
            "34/34 [==============================] - 0s 2ms/step - loss: 3476.6606 - mae: 3476.6606\n",
            "Epoch 470/600\n",
            "34/34 [==============================] - 0s 3ms/step - loss: 3477.6006 - mae: 3477.6006\n",
            "Epoch 471/600\n",
            "34/34 [==============================] - 0s 3ms/step - loss: 3486.8831 - mae: 3486.8831\n",
            "Epoch 472/600\n",
            "34/34 [==============================] - 0s 3ms/step - loss: 3474.8374 - mae: 3474.8374\n",
            "Epoch 473/600\n",
            "34/34 [==============================] - 0s 3ms/step - loss: 3476.5659 - mae: 3476.5659\n",
            "Epoch 474/600\n",
            "34/34 [==============================] - 0s 3ms/step - loss: 3480.9258 - mae: 3480.9258\n",
            "Epoch 475/600\n",
            "34/34 [==============================] - 0s 3ms/step - loss: 3492.2070 - mae: 3492.2070\n",
            "Epoch 476/600\n",
            "34/34 [==============================] - 0s 3ms/step - loss: 3489.3933 - mae: 3489.3933\n",
            "Epoch 477/600\n",
            "34/34 [==============================] - 0s 4ms/step - loss: 3492.3203 - mae: 3492.3203\n",
            "Epoch 478/600\n",
            "34/34 [==============================] - 0s 3ms/step - loss: 3476.2236 - mae: 3476.2236\n",
            "Epoch 479/600\n",
            "34/34 [==============================] - 0s 3ms/step - loss: 3482.5085 - mae: 3482.5085\n",
            "Epoch 480/600\n",
            "34/34 [==============================] - 0s 2ms/step - loss: 3486.4121 - mae: 3486.4121\n",
            "Epoch 481/600\n",
            "34/34 [==============================] - 0s 3ms/step - loss: 3477.4912 - mae: 3477.4912\n",
            "Epoch 482/600\n",
            "34/34 [==============================] - 0s 3ms/step - loss: 3480.2039 - mae: 3480.2039\n",
            "Epoch 483/600\n",
            "34/34 [==============================] - 0s 3ms/step - loss: 3482.3352 - mae: 3482.3352\n",
            "Epoch 484/600\n",
            "34/34 [==============================] - 0s 3ms/step - loss: 3485.5388 - mae: 3485.5388\n",
            "Epoch 485/600\n",
            "34/34 [==============================] - 0s 2ms/step - loss: 3480.1321 - mae: 3480.1321\n",
            "Epoch 486/600\n",
            "34/34 [==============================] - 0s 3ms/step - loss: 3506.9624 - mae: 3506.9624\n",
            "Epoch 487/600\n",
            "34/34 [==============================] - 0s 2ms/step - loss: 3478.4082 - mae: 3478.4082\n",
            "Epoch 488/600\n",
            "34/34 [==============================] - 0s 3ms/step - loss: 3476.4175 - mae: 3476.4175\n",
            "Epoch 489/600\n",
            "34/34 [==============================] - 0s 3ms/step - loss: 3473.0269 - mae: 3473.0269\n",
            "Epoch 490/600\n",
            "34/34 [==============================] - 0s 3ms/step - loss: 3475.4988 - mae: 3475.4988\n",
            "Epoch 491/600\n",
            "34/34 [==============================] - 0s 3ms/step - loss: 3507.2354 - mae: 3507.2354\n",
            "Epoch 492/600\n",
            "34/34 [==============================] - 0s 3ms/step - loss: 3473.9229 - mae: 3473.9229\n",
            "Epoch 493/600\n",
            "34/34 [==============================] - 0s 3ms/step - loss: 3491.7615 - mae: 3491.7615\n",
            "Epoch 494/600\n",
            "34/34 [==============================] - 0s 3ms/step - loss: 3478.0605 - mae: 3478.0605\n",
            "Epoch 495/600\n",
            "34/34 [==============================] - 0s 3ms/step - loss: 3480.5361 - mae: 3480.5361\n",
            "Epoch 496/600\n",
            "34/34 [==============================] - 0s 3ms/step - loss: 3477.2603 - mae: 3477.2603\n",
            "Epoch 497/600\n",
            "34/34 [==============================] - 0s 2ms/step - loss: 3489.2834 - mae: 3489.2834\n",
            "Epoch 498/600\n",
            "34/34 [==============================] - 0s 3ms/step - loss: 3485.0615 - mae: 3485.0615\n",
            "Epoch 499/600\n",
            "34/34 [==============================] - 0s 3ms/step - loss: 3475.8567 - mae: 3475.8567\n",
            "Epoch 500/600\n",
            "34/34 [==============================] - 0s 3ms/step - loss: 3479.1135 - mae: 3479.1135\n",
            "Epoch 501/600\n",
            "34/34 [==============================] - 0s 3ms/step - loss: 3477.5063 - mae: 3477.5063\n",
            "Epoch 502/600\n",
            "34/34 [==============================] - 0s 3ms/step - loss: 3481.1116 - mae: 3481.1116\n",
            "Epoch 503/600\n",
            "34/34 [==============================] - 0s 3ms/step - loss: 3493.7410 - mae: 3493.7410\n",
            "Epoch 504/600\n",
            "34/34 [==============================] - 0s 2ms/step - loss: 3477.5657 - mae: 3477.5657\n",
            "Epoch 505/600\n",
            "34/34 [==============================] - 0s 3ms/step - loss: 3480.1118 - mae: 3480.1118\n",
            "Epoch 506/600\n",
            "34/34 [==============================] - 0s 2ms/step - loss: 3483.7712 - mae: 3483.7712\n",
            "Epoch 507/600\n",
            "34/34 [==============================] - 0s 3ms/step - loss: 3491.9675 - mae: 3491.9675\n",
            "Epoch 508/600\n",
            "34/34 [==============================] - 0s 3ms/step - loss: 3479.7615 - mae: 3479.7615\n",
            "Epoch 509/600\n",
            "34/34 [==============================] - 0s 3ms/step - loss: 3480.7656 - mae: 3480.7656\n",
            "Epoch 510/600\n",
            "34/34 [==============================] - 0s 2ms/step - loss: 3477.8721 - mae: 3477.8721\n",
            "Epoch 511/600\n",
            "34/34 [==============================] - 0s 3ms/step - loss: 3481.9893 - mae: 3481.9893\n",
            "Epoch 512/600\n",
            "34/34 [==============================] - 0s 3ms/step - loss: 3481.8635 - mae: 3481.8635\n",
            "Epoch 513/600\n",
            "34/34 [==============================] - 0s 3ms/step - loss: 3473.7122 - mae: 3473.7122\n",
            "Epoch 514/600\n",
            "34/34 [==============================] - 0s 3ms/step - loss: 3483.0471 - mae: 3483.0471\n",
            "Epoch 515/600\n",
            "34/34 [==============================] - 0s 2ms/step - loss: 3488.1807 - mae: 3488.1807\n",
            "Epoch 516/600\n",
            "34/34 [==============================] - 0s 2ms/step - loss: 3478.8872 - mae: 3478.8872\n",
            "Epoch 517/600\n",
            "34/34 [==============================] - 0s 3ms/step - loss: 3478.5571 - mae: 3478.5571\n",
            "Epoch 518/600\n",
            "34/34 [==============================] - 0s 3ms/step - loss: 3474.3694 - mae: 3474.3694\n",
            "Epoch 519/600\n",
            "34/34 [==============================] - 0s 3ms/step - loss: 3487.5811 - mae: 3487.5811\n",
            "Epoch 520/600\n",
            "34/34 [==============================] - 0s 3ms/step - loss: 3474.2808 - mae: 3474.2808\n",
            "Epoch 521/600\n",
            "34/34 [==============================] - 0s 3ms/step - loss: 3495.0110 - mae: 3495.0110\n",
            "Epoch 522/600\n",
            "34/34 [==============================] - 0s 3ms/step - loss: 3495.8003 - mae: 3495.8003\n",
            "Epoch 523/600\n",
            "34/34 [==============================] - 0s 3ms/step - loss: 3479.4622 - mae: 3479.4622\n",
            "Epoch 524/600\n",
            "34/34 [==============================] - 0s 2ms/step - loss: 3480.1990 - mae: 3480.1990\n",
            "Epoch 525/600\n",
            "34/34 [==============================] - 0s 3ms/step - loss: 3476.4460 - mae: 3476.4460\n",
            "Epoch 526/600\n",
            "34/34 [==============================] - 0s 3ms/step - loss: 3470.1704 - mae: 3470.1704\n",
            "Epoch 527/600\n",
            "34/34 [==============================] - 0s 3ms/step - loss: 3476.2515 - mae: 3476.2515\n",
            "Epoch 528/600\n",
            "34/34 [==============================] - 0s 3ms/step - loss: 3485.3882 - mae: 3485.3882\n",
            "Epoch 529/600\n",
            "34/34 [==============================] - 0s 3ms/step - loss: 3484.9812 - mae: 3484.9812\n",
            "Epoch 530/600\n",
            "34/34 [==============================] - 0s 3ms/step - loss: 3479.8147 - mae: 3479.8147\n",
            "Epoch 531/600\n",
            "34/34 [==============================] - 0s 3ms/step - loss: 3494.7910 - mae: 3494.7910\n",
            "Epoch 532/600\n",
            "34/34 [==============================] - 0s 3ms/step - loss: 3478.6387 - mae: 3478.6387\n",
            "Epoch 533/600\n",
            "34/34 [==============================] - 0s 3ms/step - loss: 3482.9033 - mae: 3482.9033\n",
            "Epoch 534/600\n",
            "34/34 [==============================] - 0s 3ms/step - loss: 3480.7756 - mae: 3480.7756\n",
            "Epoch 535/600\n",
            "34/34 [==============================] - 0s 3ms/step - loss: 3479.1284 - mae: 3479.1284\n",
            "Epoch 536/600\n",
            "34/34 [==============================] - 0s 3ms/step - loss: 3475.0784 - mae: 3475.0784\n",
            "Epoch 537/600\n",
            "34/34 [==============================] - 0s 3ms/step - loss: 3484.5308 - mae: 3484.5308\n",
            "Epoch 538/600\n",
            "34/34 [==============================] - 0s 3ms/step - loss: 3481.2620 - mae: 3481.2620\n",
            "Epoch 539/600\n",
            "34/34 [==============================] - 0s 3ms/step - loss: 3475.6140 - mae: 3475.6140\n",
            "Epoch 540/600\n",
            "34/34 [==============================] - 0s 3ms/step - loss: 3489.8625 - mae: 3489.8625\n",
            "Epoch 541/600\n",
            "34/34 [==============================] - 0s 3ms/step - loss: 3478.9839 - mae: 3478.9839\n",
            "Epoch 542/600\n",
            "34/34 [==============================] - 0s 3ms/step - loss: 3477.2207 - mae: 3477.2207\n",
            "Epoch 543/600\n",
            "34/34 [==============================] - 0s 3ms/step - loss: 3480.8254 - mae: 3480.8254\n",
            "Epoch 544/600\n",
            "34/34 [==============================] - 0s 3ms/step - loss: 3482.0535 - mae: 3482.0535\n",
            "Epoch 545/600\n",
            "34/34 [==============================] - 0s 3ms/step - loss: 3476.4863 - mae: 3476.4863\n",
            "Epoch 546/600\n",
            "34/34 [==============================] - 0s 3ms/step - loss: 3485.3408 - mae: 3485.3408\n",
            "Epoch 547/600\n",
            "34/34 [==============================] - 0s 3ms/step - loss: 3484.7908 - mae: 3484.7908\n",
            "Epoch 548/600\n",
            "34/34 [==============================] - 0s 3ms/step - loss: 3483.8586 - mae: 3483.8586\n",
            "Epoch 549/600\n",
            "34/34 [==============================] - 0s 3ms/step - loss: 3475.2307 - mae: 3475.2307\n",
            "Epoch 550/600\n",
            "34/34 [==============================] - 0s 3ms/step - loss: 3476.3882 - mae: 3476.3882\n",
            "Epoch 551/600\n",
            "34/34 [==============================] - 0s 4ms/step - loss: 3483.5144 - mae: 3483.5144\n",
            "Epoch 552/600\n",
            "34/34 [==============================] - 0s 3ms/step - loss: 3475.7166 - mae: 3475.7166\n",
            "Epoch 553/600\n",
            "34/34 [==============================] - 0s 2ms/step - loss: 3476.4563 - mae: 3476.4563\n",
            "Epoch 554/600\n",
            "34/34 [==============================] - 0s 3ms/step - loss: 3484.4114 - mae: 3484.4114\n",
            "Epoch 555/600\n",
            "34/34 [==============================] - 0s 3ms/step - loss: 3482.1064 - mae: 3482.1064\n",
            "Epoch 556/600\n",
            "34/34 [==============================] - 0s 3ms/step - loss: 3481.3962 - mae: 3481.3962\n",
            "Epoch 557/600\n",
            "34/34 [==============================] - 0s 3ms/step - loss: 3480.2327 - mae: 3480.2327\n",
            "Epoch 558/600\n",
            "34/34 [==============================] - 0s 3ms/step - loss: 3476.1934 - mae: 3476.1934\n",
            "Epoch 559/600\n",
            "34/34 [==============================] - 0s 3ms/step - loss: 3485.8003 - mae: 3485.8003\n",
            "Epoch 560/600\n",
            "34/34 [==============================] - 0s 3ms/step - loss: 3483.2830 - mae: 3483.2830\n",
            "Epoch 561/600\n",
            "34/34 [==============================] - 0s 3ms/step - loss: 3483.4978 - mae: 3483.4978\n",
            "Epoch 562/600\n",
            "34/34 [==============================] - 0s 3ms/step - loss: 3472.7490 - mae: 3472.7490\n",
            "Epoch 563/600\n",
            "34/34 [==============================] - 0s 3ms/step - loss: 3479.3647 - mae: 3479.3647\n",
            "Epoch 564/600\n",
            "34/34 [==============================] - 0s 3ms/step - loss: 3484.3850 - mae: 3484.3850\n",
            "Epoch 565/600\n",
            "34/34 [==============================] - 0s 3ms/step - loss: 3479.9646 - mae: 3479.9646\n",
            "Epoch 566/600\n",
            "34/34 [==============================] - 0s 3ms/step - loss: 3480.2954 - mae: 3480.2954\n",
            "Epoch 567/600\n",
            "34/34 [==============================] - 0s 3ms/step - loss: 3475.8342 - mae: 3475.8342\n",
            "Epoch 568/600\n",
            "34/34 [==============================] - 0s 3ms/step - loss: 3487.6201 - mae: 3487.6201\n",
            "Epoch 569/600\n",
            "34/34 [==============================] - 0s 3ms/step - loss: 3483.3696 - mae: 3483.3696\n",
            "Epoch 570/600\n",
            "34/34 [==============================] - 0s 3ms/step - loss: 3478.9319 - mae: 3478.9319\n",
            "Epoch 571/600\n",
            "34/34 [==============================] - 0s 3ms/step - loss: 3485.8123 - mae: 3485.8123\n",
            "Epoch 572/600\n",
            "34/34 [==============================] - 0s 3ms/step - loss: 3476.0171 - mae: 3476.0171\n",
            "Epoch 573/600\n",
            "34/34 [==============================] - 0s 3ms/step - loss: 3489.0486 - mae: 3489.0486\n",
            "Epoch 574/600\n",
            "34/34 [==============================] - 0s 4ms/step - loss: 3478.0664 - mae: 3478.0664\n",
            "Epoch 575/600\n",
            "34/34 [==============================] - 0s 4ms/step - loss: 3476.4153 - mae: 3476.4153\n",
            "Epoch 576/600\n",
            "34/34 [==============================] - 0s 3ms/step - loss: 3474.2449 - mae: 3474.2449\n",
            "Epoch 577/600\n",
            "34/34 [==============================] - 0s 3ms/step - loss: 3488.9048 - mae: 3488.9048\n",
            "Epoch 578/600\n",
            "34/34 [==============================] - 0s 3ms/step - loss: 3476.6680 - mae: 3476.6680\n",
            "Epoch 579/600\n",
            "34/34 [==============================] - 0s 3ms/step - loss: 3481.3276 - mae: 3481.3276\n",
            "Epoch 580/600\n",
            "34/34 [==============================] - 0s 3ms/step - loss: 3475.5261 - mae: 3475.5261\n",
            "Epoch 581/600\n",
            "34/34 [==============================] - 0s 3ms/step - loss: 3480.0432 - mae: 3480.0432\n",
            "Epoch 582/600\n",
            "34/34 [==============================] - 0s 3ms/step - loss: 3489.3872 - mae: 3489.3872\n",
            "Epoch 583/600\n",
            "34/34 [==============================] - 0s 3ms/step - loss: 3487.8364 - mae: 3487.8364\n",
            "Epoch 584/600\n",
            "34/34 [==============================] - 0s 3ms/step - loss: 3485.3882 - mae: 3485.3882\n",
            "Epoch 585/600\n",
            "34/34 [==============================] - 0s 3ms/step - loss: 3481.7605 - mae: 3481.7605\n",
            "Epoch 586/600\n",
            "34/34 [==============================] - 0s 3ms/step - loss: 3477.8342 - mae: 3477.8342\n",
            "Epoch 587/600\n",
            "34/34 [==============================] - 0s 3ms/step - loss: 3481.1047 - mae: 3481.1047\n",
            "Epoch 588/600\n",
            "34/34 [==============================] - 0s 3ms/step - loss: 3478.8096 - mae: 3478.8096\n",
            "Epoch 589/600\n",
            "34/34 [==============================] - 0s 3ms/step - loss: 3475.3923 - mae: 3475.3923\n",
            "Epoch 590/600\n",
            "34/34 [==============================] - 0s 3ms/step - loss: 3477.0432 - mae: 3477.0432\n",
            "Epoch 591/600\n",
            "34/34 [==============================] - 0s 2ms/step - loss: 3474.8665 - mae: 3474.8665\n",
            "Epoch 592/600\n",
            "34/34 [==============================] - 0s 3ms/step - loss: 3478.6772 - mae: 3478.6772\n",
            "Epoch 593/600\n",
            "34/34 [==============================] - 0s 3ms/step - loss: 3476.8694 - mae: 3476.8694\n",
            "Epoch 594/600\n",
            "34/34 [==============================] - 0s 3ms/step - loss: 3494.2781 - mae: 3494.2781\n",
            "Epoch 595/600\n",
            "34/34 [==============================] - 0s 3ms/step - loss: 3497.7747 - mae: 3497.7747\n",
            "Epoch 596/600\n",
            "34/34 [==============================] - 0s 3ms/step - loss: 3479.8367 - mae: 3479.8367\n",
            "Epoch 597/600\n",
            "34/34 [==============================] - 0s 3ms/step - loss: 3473.9570 - mae: 3473.9570\n",
            "Epoch 598/600\n",
            "34/34 [==============================] - 0s 4ms/step - loss: 3479.7073 - mae: 3479.7073\n",
            "Epoch 599/600\n",
            "34/34 [==============================] - 0s 3ms/step - loss: 3484.9915 - mae: 3484.9915\n",
            "Epoch 600/600\n",
            "34/34 [==============================] - 0s 3ms/step - loss: 3471.8276 - mae: 3471.8276\n"
          ]
        }
      ]
    },
    {
      "cell_type": "code",
      "source": [
        "#evaluate\n",
        "insurance_model_3.evaluate(X_test,y_test)"
      ],
      "metadata": {
        "colab": {
          "base_uri": "https://localhost:8080/"
        },
        "id": "NJUpQsQXkDqx",
        "outputId": "fa7607c1-b08a-4d3f-ce95-3a06fe379387"
      },
      "execution_count": null,
      "outputs": [
        {
          "output_type": "stream",
          "name": "stdout",
          "text": [
            "9/9 [==============================] - 0s 2ms/step - loss: 3164.7505 - mae: 3164.7505\n"
          ]
        },
        {
          "output_type": "execute_result",
          "data": {
            "text/plain": [
              "[3164.75048828125, 3164.75048828125]"
            ]
          },
          "metadata": {},
          "execution_count": 80
        }
      ]
    },
    {
      "cell_type": "code",
      "source": [
        "#first model\n",
        "insurance_model.evaluate(X_test,y_test) "
      ],
      "metadata": {
        "colab": {
          "base_uri": "https://localhost:8080/"
        },
        "id": "zV9KCAHjkzNe",
        "outputId": "8de54fa7-c411-486f-c9bd-f390bc8d0500"
      },
      "execution_count": null,
      "outputs": [
        {
          "output_type": "stream",
          "name": "stdout",
          "text": [
            "9/9 [==============================] - 0s 2ms/step - loss: 7023.3286 - mae: 7023.3286\n"
          ]
        },
        {
          "output_type": "execute_result",
          "data": {
            "text/plain": [
              "[7023.32861328125, 7023.32861328125]"
            ]
          },
          "metadata": {},
          "execution_count": 81
        }
      ]
    },
    {
      "cell_type": "code",
      "source": [
        "#plot history(also known as a loss curve or a training curve)\n",
        "#using pandas\n",
        "pd.DataFrame(history.history).plot()\n",
        "plt.ylabel(\"loss\")\n",
        "plt.xlabel(\"epochs\")\n",
        "\n",
        "#refer to our epochs, each epoch we are decreasing."
      ],
      "metadata": {
        "colab": {
          "base_uri": "https://localhost:8080/",
          "height": 296
        },
        "id": "MJiE9e70lA2x",
        "outputId": "25627934-9398-4e85-ef69-b5cddcb7f6bf"
      },
      "execution_count": null,
      "outputs": [
        {
          "output_type": "execute_result",
          "data": {
            "text/plain": [
              "Text(0.5, 0, 'epochs')"
            ]
          },
          "metadata": {},
          "execution_count": 82
        },
        {
          "output_type": "display_data",
          "data": {
            "text/plain": [
              "<Figure size 432x288 with 1 Axes>"
            ],
            "image/png": "[encoded data removed]"
          },
          "metadata": {
            "needs_background": "light"
          }
        }
      ]
    },
    {
      "cell_type": "markdown",
      "source": [
        "**How long should you train for?**\n",
        "\n",
        "It depends. Really... it depends on the problem youa are working on. \n",
        "So TensorFlow has a solution, its called the early stopping callback.\n",
        "\n",
        "It is a tensorflow component you can add to your model to stop training once it stops improving a certain metric"
      ],
      "metadata": {
        "id": "wmZgxaU7nEcW"
      }
    },
    {
      "cell_type": "markdown",
      "source": [
        "## Preprocessing data (normalization and standardization)\n",
        "\n",
        "In terms of scaling values, neural networks tend to prefer normalization. \n",
        "\n",
        "If you're not sure which to use, you can try both and see which one performs better.\n",
        "\n",
        "***why scale*** \n",
        "- \"Many machine learning algorithsm perform better or converge faster when features are on a relatively similar scale and/or close to normally distributed. Examples of such algorithm families include: \n",
        "\n",
        "  - linear and logistic regression \n",
        "  - nearest neighbors\n",
        "  - neural networks(what we are building!)\n",
        "  - support vector machines with radial bias kernal functions \n",
        "  - principal components analysis \n",
        "  - linear discriminant analysis "
      ],
      "metadata": {
        "id": "mydmEt8ZnW5e"
      }
    },
    {
      "cell_type": "code",
      "source": [
        "X[\"age\"].plot(kind=\"hist\")"
      ],
      "metadata": {
        "colab": {
          "base_uri": "https://localhost:8080/",
          "height": 283
        },
        "id": "pOh2BsXtpy3m",
        "outputId": "1e73e5cc-1f5f-42b8-cb5b-8705140cfd59"
      },
      "execution_count": null,
      "outputs": [
        {
          "output_type": "execute_result",
          "data": {
            "text/plain": [
              "<matplotlib.axes._subplots.AxesSubplot at 0x7f96d3e3ea90>"
            ]
          },
          "metadata": {},
          "execution_count": 192
        },
        {
          "output_type": "display_data",
          "data": {
            "text/plain": [
              "<Figure size 432x288 with 1 Axes>"
            ],
            "image/png": "[encoded data removed]"
          },
          "metadata": {
            "needs_background": "light"
          }
        }
      ]
    },
    {
      "cell_type": "code",
      "source": [
        "X[\"age\"]"
      ],
      "metadata": {
        "colab": {
          "base_uri": "https://localhost:8080/"
        },
        "id": "UeyKu6F1C_MT",
        "outputId": "a3ed5cd4-04ac-49c5-e1fe-bd62e264c78d"
      },
      "execution_count": null,
      "outputs": [
        {
          "output_type": "execute_result",
          "data": {
            "text/plain": [
              "0       19\n",
              "1       18\n",
              "2       28\n",
              "3       33\n",
              "4       32\n",
              "        ..\n",
              "1333    50\n",
              "1334    18\n",
              "1335    18\n",
              "1336    21\n",
              "1337    61\n",
              "Name: age, Length: 1338, dtype: int64"
            ]
          },
          "metadata": {},
          "execution_count": 82
        }
      ]
    },
    {
      "cell_type": "code",
      "source": [
        "X[\"bmi\"].plot(kind=\"hist\")"
      ],
      "metadata": {
        "colab": {
          "base_uri": "https://localhost:8080/",
          "height": 283
        },
        "id": "YdpzHKqiqE-t",
        "outputId": "fe94c333-dd5c-47d3-b3a9-1e0cc39f28cc"
      },
      "execution_count": null,
      "outputs": [
        {
          "output_type": "execute_result",
          "data": {
            "text/plain": [
              "<matplotlib.axes._subplots.AxesSubplot at 0x7f82010b9bb0>"
            ]
          },
          "metadata": {},
          "execution_count": 83
        },
        {
          "output_type": "display_data",
          "data": {
            "text/plain": [
              "<Figure size 432x288 with 1 Axes>"
            ],
            "image/png": "[encoded data removed]"
          },
          "metadata": {
            "needs_background": "light"
          }
        }
      ]
    },
    {
      "cell_type": "code",
      "source": [
        "X[\"children\"].value_counts()"
      ],
      "metadata": {
        "id": "eoo2knitqLD8",
        "outputId": "e0b2ffc7-0ced-4061-f989-29cb7f1615fb",
        "colab": {
          "base_uri": "https://localhost:8080/"
        }
      },
      "execution_count": null,
      "outputs": [
        {
          "output_type": "execute_result",
          "data": {
            "text/plain": [
              "0    574\n",
              "1    324\n",
              "2    240\n",
              "3    157\n",
              "4     25\n",
              "5     18\n",
              "Name: children, dtype: int64"
            ]
          },
          "metadata": {},
          "execution_count": 84
        }
      ]
    },
    {
      "cell_type": "code",
      "source": [
        "import pandas as pd\n",
        "import matplotlib.pyplot as plt \n",
        "import tensorflow as tf \n",
        "\n",
        "#read in insurance dataframe \n",
        "insurance = pd.read_csv(\"https://raw.githubusercontent.com/stedy/Machine-Learning-with-R-datasets/master/insurance.csv\")\n",
        "insurance"
      ],
      "metadata": {
        "colab": {
          "base_uri": "https://localhost:8080/",
          "height": 424
        },
        "id": "_hXSaF2FGgSp",
        "outputId": "ccf6b9a8-2aaa-4b35-8023-8df7fdcf7ad9"
      },
      "execution_count": null,
      "outputs": [
        {
          "output_type": "execute_result",
          "data": {
            "text/plain": [
              "      age     sex     bmi  children smoker     region      charges\n",
              "0      19  female  27.900         0    yes  southwest  16884.92400\n",
              "1      18    male  33.770         1     no  southeast   1725.55230\n",
              "2      28    male  33.000         3     no  southeast   4449.46200\n",
              "3      33    male  22.705         0     no  northwest  21984.47061\n",
              "4      32    male  28.880         0     no  northwest   3866.85520\n",
              "...   ...     ...     ...       ...    ...        ...          ...\n",
              "1333   50    male  30.970         3     no  northwest  10600.54830\n",
              "1334   18  female  31.920         0     no  northeast   2205.98080\n",
              "1335   18  female  36.850         0     no  southeast   1629.83350\n",
              "1336   21  female  25.800         0     no  southwest   2007.94500\n",
              "1337   61  female  29.070         0    yes  northwest  29141.36030\n",
              "\n",
              "[1338 rows x 7 columns]"
            ],
            "text/html": [
              "\n",
              "  <div id=\"df-801175be-4ae3-4836-92ba-d729acc49337\">\n",
              "    <div class=\"colab-df-container\">\n",
              "      <div>\n",
              "<style scoped>\n",
              "    .dataframe tbody tr th:only-of-type {\n",
              "        vertical-align: middle;\n",
              "    }\n",
              "\n",
              "    .dataframe tbody tr th {\n",
              "        vertical-align: top;\n",
              "    }\n",
              "\n",
              "    .dataframe thead th {\n",
              "        text-align: right;\n",
              "    }\n",
              "</style>\n",
              "<table border=\"1\" class=\"dataframe\">\n",
              "  <thead>\n",
              "    <tr style=\"text-align: right;\">\n",
              "      <th></th>\n",
              "      <th>age</th>\n",
              "      <th>sex</th>\n",
              "      <th>bmi</th>\n",
              "      <th>children</th>\n",
              "      <th>smoker</th>\n",
              "      <th>region</th>\n",
              "      <th>charges</th>\n",
              "    </tr>\n",
              "  </thead>\n",
              "  <tbody>\n",
              "    <tr>\n",
              "      <th>0</th>\n",
              "      <td>19</td>\n",
              "      <td>female</td>\n",
              "      <td>27.900</td>\n",
              "      <td>0</td>\n",
              "      <td>yes</td>\n",
              "      <td>southwest</td>\n",
              "      <td>16884.92400</td>\n",
              "    </tr>\n",
              "    <tr>\n",
              "      <th>1</th>\n",
              "      <td>18</td>\n",
              "      <td>male</td>\n",
              "      <td>33.770</td>\n",
              "      <td>1</td>\n",
              "      <td>no</td>\n",
              "      <td>southeast</td>\n",
              "      <td>1725.55230</td>\n",
              "    </tr>\n",
              "    <tr>\n",
              "      <th>2</th>\n",
              "      <td>28</td>\n",
              "      <td>male</td>\n",
              "      <td>33.000</td>\n",
              "      <td>3</td>\n",
              "      <td>no</td>\n",
              "      <td>southeast</td>\n",
              "      <td>4449.46200</td>\n",
              "    </tr>\n",
              "    <tr>\n",
              "      <th>3</th>\n",
              "      <td>33</td>\n",
              "      <td>male</td>\n",
              "      <td>22.705</td>\n",
              "      <td>0</td>\n",
              "      <td>no</td>\n",
              "      <td>northwest</td>\n",
              "      <td>21984.47061</td>\n",
              "    </tr>\n",
              "    <tr>\n",
              "      <th>4</th>\n",
              "      <td>32</td>\n",
              "      <td>male</td>\n",
              "      <td>28.880</td>\n",
              "      <td>0</td>\n",
              "      <td>no</td>\n",
              "      <td>northwest</td>\n",
              "      <td>3866.85520</td>\n",
              "    </tr>\n",
              "    <tr>\n",
              "      <th>...</th>\n",
              "      <td>...</td>\n",
              "      <td>...</td>\n",
              "      <td>...</td>\n",
              "      <td>...</td>\n",
              "      <td>...</td>\n",
              "      <td>...</td>\n",
              "      <td>...</td>\n",
              "    </tr>\n",
              "    <tr>\n",
              "      <th>1333</th>\n",
              "      <td>50</td>\n",
              "      <td>male</td>\n",
              "      <td>30.970</td>\n",
              "      <td>3</td>\n",
              "      <td>no</td>\n",
              "      <td>northwest</td>\n",
              "      <td>10600.54830</td>\n",
              "    </tr>\n",
              "    <tr>\n",
              "      <th>1334</th>\n",
              "      <td>18</td>\n",
              "      <td>female</td>\n",
              "      <td>31.920</td>\n",
              "      <td>0</td>\n",
              "      <td>no</td>\n",
              "      <td>northeast</td>\n",
              "      <td>2205.98080</td>\n",
              "    </tr>\n",
              "    <tr>\n",
              "      <th>1335</th>\n",
              "      <td>18</td>\n",
              "      <td>female</td>\n",
              "      <td>36.850</td>\n",
              "      <td>0</td>\n",
              "      <td>no</td>\n",
              "      <td>southeast</td>\n",
              "      <td>1629.83350</td>\n",
              "    </tr>\n",
              "    <tr>\n",
              "      <th>1336</th>\n",
              "      <td>21</td>\n",
              "      <td>female</td>\n",
              "      <td>25.800</td>\n",
              "      <td>0</td>\n",
              "      <td>no</td>\n",
              "      <td>southwest</td>\n",
              "      <td>2007.94500</td>\n",
              "    </tr>\n",
              "    <tr>\n",
              "      <th>1337</th>\n",
              "      <td>61</td>\n",
              "      <td>female</td>\n",
              "      <td>29.070</td>\n",
              "      <td>0</td>\n",
              "      <td>yes</td>\n",
              "      <td>northwest</td>\n",
              "      <td>29141.36030</td>\n",
              "    </tr>\n",
              "  </tbody>\n",
              "</table>\n",
              "<p>1338 rows × 7 columns</p>\n",
              "</div>\n",
              "      <button class=\"colab-df-convert\" onclick=\"convertToInteractive('df-801175be-4ae3-4836-92ba-d729acc49337')\"\n",
              "              title=\"Convert this dataframe to an interactive table.\"\n",
              "              style=\"display:none;\">\n",
              "        \n",
              "  <svg xmlns=\"http://www.w3.org/2000/svg\" height=\"24px\"viewBox=\"0 0 24 24\"\n",
              "       width=\"24px\">\n",
              "    <path d=\"M0 0h24v24H0V0z\" fill=\"none\"/>\n",
              "    <path d=\"M18.56 5.44l.94 2.06.94-2.06 2.06-.94-2.06-.94-.94-2.06-.94 2.06-2.06.94zm-11 1L8.5 8.5l.94-2.06 2.06-.94-2.06-.94L8.5 2.5l-.94 2.06-2.06.94zm10 10l.94 2.06.94-2.06 2.06-.94-2.06-.94-.94-2.06-.94 2.06-2.06.94z\"/><path d=\"M17.41 7.96l-1.37-1.37c-.4-.4-.92-.59-1.43-.59-.52 0-1.04.2-1.43.59L10.3 9.45l-7.72 7.72c-.78.78-.78 2.05 0 2.83L4 21.41c.39.39.9.59 1.41.59.51 0 1.02-.2 1.41-.59l7.78-7.78 2.81-2.81c.8-.78.8-2.07 0-2.86zM5.41 20L4 18.59l7.72-7.72 1.47 1.35L5.41 20z\"/>\n",
              "  </svg>\n",
              "      </button>\n",
              "      \n",
              "  <style>\n",
              "    .colab-df-container {\n",
              "      display:flex;\n",
              "      flex-wrap:wrap;\n",
              "      gap: 12px;\n",
              "    }\n",
              "\n",
              "    .colab-df-convert {\n",
              "      background-color: #E8F0FE;\n",
              "      border: none;\n",
              "      border-radius: 50%;\n",
              "      cursor: pointer;\n",
              "      display: none;\n",
              "      fill: #1967D2;\n",
              "      height: 32px;\n",
              "      padding: 0 0 0 0;\n",
              "      width: 32px;\n",
              "    }\n",
              "\n",
              "    .colab-df-convert:hover {\n",
              "      background-color: #E2EBFA;\n",
              "      box-shadow: 0px 1px 2px rgba(60, 64, 67, 0.3), 0px 1px 3px 1px rgba(60, 64, 67, 0.15);\n",
              "      fill: #174EA6;\n",
              "    }\n",
              "\n",
              "    [theme=dark] .colab-df-convert {\n",
              "      background-color: #3B4455;\n",
              "      fill: #D2E3FC;\n",
              "    }\n",
              "\n",
              "    [theme=dark] .colab-df-convert:hover {\n",
              "      background-color: #434B5C;\n",
              "      box-shadow: 0px 1px 3px 1px rgba(0, 0, 0, 0.15);\n",
              "      filter: drop-shadow(0px 1px 2px rgba(0, 0, 0, 0.3));\n",
              "      fill: #FFFFFF;\n",
              "    }\n",
              "  </style>\n",
              "\n",
              "      <script>\n",
              "        const buttonEl =\n",
              "          document.querySelector('#df-801175be-4ae3-4836-92ba-d729acc49337 button.colab-df-convert');\n",
              "        buttonEl.style.display =\n",
              "          google.colab.kernel.accessAllowed ? 'block' : 'none';\n",
              "\n",
              "        async function convertToInteractive(key) {\n",
              "          const element = document.querySelector('#df-801175be-4ae3-4836-92ba-d729acc49337');\n",
              "          const dataTable =\n",
              "            await google.colab.kernel.invokeFunction('convertToInteractive',\n",
              "                                                     [key], {});\n",
              "          if (!dataTable) return;\n",
              "\n",
              "          const docLinkHtml = 'Like what you see? Visit the ' +\n",
              "            '<a target=\"_blank\" href=https://colab.research.google.com/notebooks/data_table.ipynb>data table notebook</a>'\n",
              "            + ' to learn more about interactive tables.';\n",
              "          element.innerHTML = '';\n",
              "          dataTable['output_type'] = 'display_data';\n",
              "          await google.colab.output.renderOutput(dataTable, element);\n",
              "          const docLink = document.createElement('div');\n",
              "          docLink.innerHTML = docLinkHtml;\n",
              "          element.appendChild(docLink);\n",
              "        }\n",
              "      </script>\n",
              "    </div>\n",
              "  </div>\n",
              "  "
            ]
          },
          "metadata": {},
          "execution_count": 85
        }
      ]
    },
    {
      "cell_type": "markdown",
      "source": [
        "To prepare our data, we can borrow a few classes from Scikit-learn "
      ],
      "metadata": {
        "id": "ogWQBsTYGwr3"
      }
    },
    {
      "cell_type": "code",
      "source": [
        "from sklearn.compose import make_column_transformer\n",
        "from sklearn.preprocessing import MinMaxScaler, OneHotEncoder\n",
        "from sklearn.model_selection import train_test_split\n",
        "#Create a column Transformer. \n",
        "#the name is self explanatory. \n",
        "ct = make_column_transformer(\n",
        "    (MinMaxScaler(), [\"age\",\"bmi\",\"children\"]), #we choose these because they are numerical.\n",
        "    (OneHotEncoder(handle_unknown=\"ignore\"),[\"sex\",\"smoker\",\"region\"]) #we one hot encode because this data is not numerical\n",
        "\n",
        ") \n",
        "\n",
        "#Create X & y \n",
        "X = insurance.drop(\"charges\",axis=1)\n",
        "#what are we trying to predict? we are trying to predict the charges\n",
        "y = insurance[\"charges\"]\n",
        "\n",
        "#what do we want our model to learn on ?\n",
        "\n",
        "#Build our train and test sets\n",
        "#test data is data we have never secene before. \n",
        "X_train, X_test, y_train, y_test = train_test_split(X,y,test_size=0.2,random_state=42)\n",
        "\n",
        "#fit the column transformer to our training data.\n",
        "ct.fit(X_train)\n",
        "\n",
        "#Transform training and test data with normalization (MinMaxScaler) and OneHotEncoder\n",
        "X_train_normal = ct.transform(X_train)\n",
        "X_test_normal = ct.transform(X_test)\n"
      ],
      "metadata": {
        "id": "xC25r_I-G1qA"
      },
      "execution_count": null,
      "outputs": []
    },
    {
      "cell_type": "code",
      "source": [
        "#what does our data look like? \n",
        "X_train.loc[0]\n"
      ],
      "metadata": {
        "colab": {
          "base_uri": "https://localhost:8080/"
        },
        "id": "z0pGfEhmKKDB",
        "outputId": "d8d1233c-f69f-4143-b90a-6615c13a78dd"
      },
      "execution_count": null,
      "outputs": [
        {
          "output_type": "execute_result",
          "data": {
            "text/plain": [
              "age                19\n",
              "sex            female\n",
              "bmi              27.9\n",
              "children            0\n",
              "smoker            yes\n",
              "region      southwest\n",
              "Name: 0, dtype: object"
            ]
          },
          "metadata": {},
          "execution_count": 87
        }
      ]
    },
    {
      "cell_type": "code",
      "source": [
        "#based on our ct\n",
        "X_train_normal[0]"
      ],
      "metadata": {
        "colab": {
          "base_uri": "https://localhost:8080/"
        },
        "id": "mwhdPNJQKUxY",
        "outputId": "ef29b564-d15c-47fa-abcd-b9949e81bdf2"
      },
      "execution_count": null,
      "outputs": [
        {
          "output_type": "execute_result",
          "data": {
            "text/plain": [
              "array([0.60869565, 0.10734463, 0.4       , 1.        , 0.        ,\n",
              "       1.        , 0.        , 0.        , 1.        , 0.        ,\n",
              "       0.        ])"
            ]
          },
          "metadata": {},
          "execution_count": 88
        }
      ]
    },
    {
      "cell_type": "code",
      "source": [
        "#check the shapes.\n",
        "X_train.shape, X_train_normal.shape\n",
        "#we added some extra columns in the train above. "
      ],
      "metadata": {
        "colab": {
          "base_uri": "https://localhost:8080/"
        },
        "id": "MaYP9x6ZKrhD",
        "outputId": "007e2264-f49b-43fd-d208-e44c1214fb0d"
      },
      "execution_count": null,
      "outputs": [
        {
          "output_type": "execute_result",
          "data": {
            "text/plain": [
              "((1070, 6), (1070, 11))"
            ]
          },
          "metadata": {},
          "execution_count": 89
        }
      ]
    },
    {
      "cell_type": "markdown",
      "source": [
        "Our data has been normalized and one hot encoded. Now lets build a neural network model to fit on our normalized data. "
      ],
      "metadata": {
        "id": "95GsmcjvK7OA"
      }
    },
    {
      "cell_type": "code",
      "source": [
        "\n",
        "#Build a neural network model to fit on our normalized data.\n",
        "\n",
        "#set the random seed\n",
        "tf.random.set_seed(42)\n",
        "\n",
        "#layers\n",
        "insurance_model_01 = tf.keras.Sequential([tf.keras.layers.Dense(100),\n",
        "                                         tf.keras.layers.Dense(10),\n",
        "                                         tf.keras.layers.Dense(1)])\n",
        "\n",
        "#compile the model \n",
        "insurance_model_01.compile(loss=tf.keras.losses.mae,\n",
        "                           optimizer=tf.keras.optimizers.Adam(),\n",
        "                           metrics=[\"mae\"]\n",
        "                           )\n",
        "#fit the model \n",
        "insurance_model_01.fit(X_train_normal, y_train, epochs =100)"
      ],
      "metadata": {
        "colab": {
          "base_uri": "https://localhost:8080/"
        },
        "id": "Jww7-xCeLE6j",
        "outputId": "3e222a54-13ce-402e-f955-4339821c1fa2"
      },
      "execution_count": null,
      "outputs": [
        {
          "output_type": "stream",
          "name": "stdout",
          "text": [
            "Epoch 1/100\n",
            "34/34 [==============================] - 0s 2ms/step - loss: 13342.6494 - mae: 13342.6494\n",
            "Epoch 2/100\n",
            "34/34 [==============================] - 0s 2ms/step - loss: 13333.4785 - mae: 13333.4785\n",
            "Epoch 3/100\n",
            "34/34 [==============================] - 0s 2ms/step - loss: 13312.0234 - mae: 13312.0234\n",
            "Epoch 4/100\n",
            "34/34 [==============================] - 0s 2ms/step - loss: 13267.7930 - mae: 13267.7930\n",
            "Epoch 5/100\n",
            "34/34 [==============================] - 0s 2ms/step - loss: 13189.5830 - mae: 13189.5830\n",
            "Epoch 6/100\n",
            "34/34 [==============================] - 0s 2ms/step - loss: 13066.4502 - mae: 13066.4502\n",
            "Epoch 7/100\n",
            "34/34 [==============================] - 0s 2ms/step - loss: 12888.1953 - mae: 12888.1953\n",
            "Epoch 8/100\n",
            "34/34 [==============================] - 0s 2ms/step - loss: 12644.6523 - mae: 12644.6523\n",
            "Epoch 9/100\n",
            "34/34 [==============================] - 0s 2ms/step - loss: 12325.5469 - mae: 12325.5469\n",
            "Epoch 10/100\n",
            "34/34 [==============================] - 0s 2ms/step - loss: 11925.9658 - mae: 11925.9658\n",
            "Epoch 11/100\n",
            "34/34 [==============================] - 0s 2ms/step - loss: 11454.3350 - mae: 11454.3350\n",
            "Epoch 12/100\n",
            "34/34 [==============================] - 0s 2ms/step - loss: 10949.8076 - mae: 10949.8076\n",
            "Epoch 13/100\n",
            "34/34 [==============================] - 0s 2ms/step - loss: 10448.9404 - mae: 10448.9404\n",
            "Epoch 14/100\n",
            "34/34 [==============================] - 0s 2ms/step - loss: 9951.6250 - mae: 9951.6250\n",
            "Epoch 15/100\n",
            "34/34 [==============================] - 0s 2ms/step - loss: 9482.7422 - mae: 9482.7422\n",
            "Epoch 16/100\n",
            "34/34 [==============================] - 0s 2ms/step - loss: 9066.7461 - mae: 9066.7461\n",
            "Epoch 17/100\n",
            "34/34 [==============================] - 0s 2ms/step - loss: 8721.9854 - mae: 8721.9854\n",
            "Epoch 18/100\n",
            "34/34 [==============================] - 0s 2ms/step - loss: 8441.2002 - mae: 8441.2002\n",
            "Epoch 19/100\n",
            "34/34 [==============================] - 0s 3ms/step - loss: 8227.5117 - mae: 8227.5117\n",
            "Epoch 20/100\n",
            "34/34 [==============================] - 0s 2ms/step - loss: 8081.9775 - mae: 8081.9775\n",
            "Epoch 21/100\n",
            "34/34 [==============================] - 0s 2ms/step - loss: 7973.8945 - mae: 7973.8945\n",
            "Epoch 22/100\n",
            "34/34 [==============================] - 0s 2ms/step - loss: 7899.1597 - mae: 7899.1597\n",
            "Epoch 23/100\n",
            "34/34 [==============================] - 0s 2ms/step - loss: 7840.3906 - mae: 7840.3906\n",
            "Epoch 24/100\n",
            "34/34 [==============================] - 0s 2ms/step - loss: 7787.9619 - mae: 7787.9619\n",
            "Epoch 25/100\n",
            "34/34 [==============================] - 0s 2ms/step - loss: 7749.2622 - mae: 7749.2622\n",
            "Epoch 26/100\n",
            "34/34 [==============================] - 0s 2ms/step - loss: 7697.9600 - mae: 7697.9600\n",
            "Epoch 27/100\n",
            "34/34 [==============================] - 0s 2ms/step - loss: 7656.0269 - mae: 7656.0269\n",
            "Epoch 28/100\n",
            "34/34 [==============================] - 0s 2ms/step - loss: 7613.4780 - mae: 7613.4780\n",
            "Epoch 29/100\n",
            "34/34 [==============================] - 0s 2ms/step - loss: 7570.9482 - mae: 7570.9482\n",
            "Epoch 30/100\n",
            "34/34 [==============================] - 0s 2ms/step - loss: 7527.4175 - mae: 7527.4175\n",
            "Epoch 31/100\n",
            "34/34 [==============================] - 0s 2ms/step - loss: 7483.5947 - mae: 7483.5947\n",
            "Epoch 32/100\n",
            "34/34 [==============================] - 0s 3ms/step - loss: 7439.4424 - mae: 7439.4424\n",
            "Epoch 33/100\n",
            "34/34 [==============================] - 0s 2ms/step - loss: 7395.0547 - mae: 7395.0547\n",
            "Epoch 34/100\n",
            "34/34 [==============================] - 0s 2ms/step - loss: 7346.8120 - mae: 7346.8120\n",
            "Epoch 35/100\n",
            "34/34 [==============================] - 0s 2ms/step - loss: 7300.0488 - mae: 7300.0488\n",
            "Epoch 36/100\n",
            "34/34 [==============================] - 0s 2ms/step - loss: 7249.8452 - mae: 7249.8452\n",
            "Epoch 37/100\n",
            "34/34 [==============================] - 0s 2ms/step - loss: 7199.5303 - mae: 7199.5303\n",
            "Epoch 38/100\n",
            "34/34 [==============================] - 0s 2ms/step - loss: 7148.4805 - mae: 7148.4805\n",
            "Epoch 39/100\n",
            "34/34 [==============================] - 0s 2ms/step - loss: 7093.6650 - mae: 7093.6650\n",
            "Epoch 40/100\n",
            "34/34 [==============================] - 0s 2ms/step - loss: 7038.1797 - mae: 7038.1797\n",
            "Epoch 41/100\n",
            "34/34 [==============================] - 0s 2ms/step - loss: 6981.7393 - mae: 6981.7393\n",
            "Epoch 42/100\n",
            "34/34 [==============================] - 0s 2ms/step - loss: 6922.7847 - mae: 6922.7847\n",
            "Epoch 43/100\n",
            "34/34 [==============================] - 0s 2ms/step - loss: 6860.1724 - mae: 6860.1724\n",
            "Epoch 44/100\n",
            "34/34 [==============================] - 0s 2ms/step - loss: 6793.7969 - mae: 6793.7969\n",
            "Epoch 45/100\n",
            "34/34 [==============================] - 0s 2ms/step - loss: 6726.6201 - mae: 6726.6201\n",
            "Epoch 46/100\n",
            "34/34 [==============================] - 0s 2ms/step - loss: 6657.4683 - mae: 6657.4683\n",
            "Epoch 47/100\n",
            "34/34 [==============================] - 0s 3ms/step - loss: 6586.3086 - mae: 6586.3086\n",
            "Epoch 48/100\n",
            "34/34 [==============================] - 0s 2ms/step - loss: 6507.5063 - mae: 6507.5063\n",
            "Epoch 49/100\n",
            "34/34 [==============================] - 0s 2ms/step - loss: 6428.6021 - mae: 6428.6021\n",
            "Epoch 50/100\n",
            "34/34 [==============================] - 0s 2ms/step - loss: 6342.7100 - mae: 6342.7100\n",
            "Epoch 51/100\n",
            "34/34 [==============================] - 0s 2ms/step - loss: 6258.0718 - mae: 6258.0718\n",
            "Epoch 52/100\n",
            "34/34 [==============================] - 0s 2ms/step - loss: 6164.7046 - mae: 6164.7046\n",
            "Epoch 53/100\n",
            "34/34 [==============================] - 0s 2ms/step - loss: 6068.6748 - mae: 6068.6748\n",
            "Epoch 54/100\n",
            "34/34 [==============================] - 0s 2ms/step - loss: 5970.0981 - mae: 5970.0981\n",
            "Epoch 55/100\n",
            "34/34 [==============================] - 0s 2ms/step - loss: 5862.5625 - mae: 5862.5625\n",
            "Epoch 56/100\n",
            "34/34 [==============================] - 0s 2ms/step - loss: 5753.9526 - mae: 5753.9526\n",
            "Epoch 57/100\n",
            "34/34 [==============================] - 0s 2ms/step - loss: 5638.0942 - mae: 5638.0942\n",
            "Epoch 58/100\n",
            "34/34 [==============================] - 0s 2ms/step - loss: 5519.8687 - mae: 5519.8687\n",
            "Epoch 59/100\n",
            "34/34 [==============================] - 0s 2ms/step - loss: 5401.3198 - mae: 5401.3198\n",
            "Epoch 60/100\n",
            "34/34 [==============================] - 0s 2ms/step - loss: 5277.3506 - mae: 5277.3506\n",
            "Epoch 61/100\n",
            "34/34 [==============================] - 0s 2ms/step - loss: 5149.7637 - mae: 5149.7637\n",
            "Epoch 62/100\n",
            "34/34 [==============================] - 0s 2ms/step - loss: 5019.3535 - mae: 5019.3535\n",
            "Epoch 63/100\n",
            "34/34 [==============================] - 0s 3ms/step - loss: 4889.6865 - mae: 4889.6865\n",
            "Epoch 64/100\n",
            "34/34 [==============================] - 0s 2ms/step - loss: 4756.8560 - mae: 4756.8560\n",
            "Epoch 65/100\n",
            "34/34 [==============================] - 0s 2ms/step - loss: 4629.4370 - mae: 4629.4370\n",
            "Epoch 66/100\n",
            "34/34 [==============================] - 0s 2ms/step - loss: 4503.5991 - mae: 4503.5991\n",
            "Epoch 67/100\n",
            "34/34 [==============================] - 0s 2ms/step - loss: 4392.9922 - mae: 4392.9922\n",
            "Epoch 68/100\n",
            "34/34 [==============================] - 0s 2ms/step - loss: 4284.3862 - mae: 4284.3862\n",
            "Epoch 69/100\n",
            "34/34 [==============================] - 0s 2ms/step - loss: 4182.6182 - mae: 4182.6182\n",
            "Epoch 70/100\n",
            "34/34 [==============================] - 0s 2ms/step - loss: 4089.5725 - mae: 4089.5725\n",
            "Epoch 71/100\n",
            "34/34 [==============================] - 0s 2ms/step - loss: 4003.3896 - mae: 4003.3896\n",
            "Epoch 72/100\n",
            "34/34 [==============================] - 0s 2ms/step - loss: 3929.0093 - mae: 3929.0093\n",
            "Epoch 73/100\n",
            "34/34 [==============================] - 0s 2ms/step - loss: 3866.3110 - mae: 3866.3110\n",
            "Epoch 74/100\n",
            "34/34 [==============================] - 0s 2ms/step - loss: 3813.7144 - mae: 3813.7144\n",
            "Epoch 75/100\n",
            "34/34 [==============================] - 0s 2ms/step - loss: 3773.0317 - mae: 3773.0317\n",
            "Epoch 76/100\n",
            "34/34 [==============================] - 0s 2ms/step - loss: 3744.1995 - mae: 3744.1995\n",
            "Epoch 77/100\n",
            "34/34 [==============================] - 0s 2ms/step - loss: 3719.6870 - mae: 3719.6870\n",
            "Epoch 78/100\n",
            "34/34 [==============================] - 0s 2ms/step - loss: 3702.9109 - mae: 3702.9109\n",
            "Epoch 79/100\n",
            "34/34 [==============================] - 0s 2ms/step - loss: 3691.8787 - mae: 3691.8787\n",
            "Epoch 80/100\n",
            "34/34 [==============================] - 0s 2ms/step - loss: 3682.8350 - mae: 3682.8350\n",
            "Epoch 81/100\n",
            "34/34 [==============================] - 0s 2ms/step - loss: 3676.9763 - mae: 3676.9763\n",
            "Epoch 82/100\n",
            "34/34 [==============================] - 0s 2ms/step - loss: 3673.9492 - mae: 3673.9492\n",
            "Epoch 83/100\n",
            "34/34 [==============================] - 0s 2ms/step - loss: 3667.8452 - mae: 3667.8452\n",
            "Epoch 84/100\n",
            "34/34 [==============================] - 0s 2ms/step - loss: 3664.5757 - mae: 3664.5757\n",
            "Epoch 85/100\n",
            "34/34 [==============================] - 0s 2ms/step - loss: 3661.8562 - mae: 3661.8562\n",
            "Epoch 86/100\n",
            "34/34 [==============================] - 0s 2ms/step - loss: 3660.3044 - mae: 3660.3044\n",
            "Epoch 87/100\n",
            "34/34 [==============================] - 0s 2ms/step - loss: 3657.5137 - mae: 3657.5137\n",
            "Epoch 88/100\n",
            "34/34 [==============================] - 0s 2ms/step - loss: 3655.2200 - mae: 3655.2200\n",
            "Epoch 89/100\n",
            "34/34 [==============================] - 0s 2ms/step - loss: 3653.8831 - mae: 3653.8831\n",
            "Epoch 90/100\n",
            "34/34 [==============================] - 0s 2ms/step - loss: 3652.0198 - mae: 3652.0198\n",
            "Epoch 91/100\n",
            "34/34 [==============================] - 0s 2ms/step - loss: 3648.9990 - mae: 3648.9990\n",
            "Epoch 92/100\n",
            "34/34 [==============================] - 0s 3ms/step - loss: 3648.4460 - mae: 3648.4460\n",
            "Epoch 93/100\n",
            "34/34 [==============================] - 0s 2ms/step - loss: 3646.2300 - mae: 3646.2300\n",
            "Epoch 94/100\n",
            "34/34 [==============================] - 0s 2ms/step - loss: 3644.4377 - mae: 3644.4377\n",
            "Epoch 95/100\n",
            "34/34 [==============================] - 0s 2ms/step - loss: 3645.8772 - mae: 3645.8772\n",
            "Epoch 96/100\n",
            "34/34 [==============================] - 0s 2ms/step - loss: 3642.2576 - mae: 3642.2576\n",
            "Epoch 97/100\n",
            "34/34 [==============================] - 0s 2ms/step - loss: 3640.1189 - mae: 3640.1189\n",
            "Epoch 98/100\n",
            "34/34 [==============================] - 0s 2ms/step - loss: 3638.0647 - mae: 3638.0647\n",
            "Epoch 99/100\n",
            "34/34 [==============================] - 0s 2ms/step - loss: 3637.2051 - mae: 3637.2051\n",
            "Epoch 100/100\n",
            "34/34 [==============================] - 0s 2ms/step - loss: 3636.1707 - mae: 3636.1707\n"
          ]
        },
        {
          "output_type": "execute_result",
          "data": {
            "text/plain": [
              "<keras.callbacks.History at 0x7f81ff48d1f0>"
            ]
          },
          "metadata": {},
          "execution_count": 90
        }
      ]
    },
    {
      "cell_type": "code",
      "source": [
        "#Evaluate our insurance model trained on normalized data. \n",
        "insurance_model_01.evaluate(X_test_normal,y_test)"
      ],
      "metadata": {
        "colab": {
          "base_uri": "https://localhost:8080/"
        },
        "id": "CTS-Z3clNFnR",
        "outputId": "109ef881-fcbc-4752-f366-1919d3cf79cc"
      },
      "execution_count": null,
      "outputs": [
        {
          "output_type": "stream",
          "name": "stdout",
          "text": [
            "9/9 [==============================] - 0s 2ms/step - loss: 3438.7844 - mae: 3438.7844\n"
          ]
        },
        {
          "output_type": "execute_result",
          "data": {
            "text/plain": [
              "[3438.784423828125, 3438.784423828125]"
            ]
          },
          "metadata": {},
          "execution_count": 91
        }
      ]
    },
    {
      "cell_type": "markdown",
      "source": [
        "what we did above fixed our prediction by 30%"
      ],
      "metadata": {
        "id": "vd-Is-vHD1Un"
      }
    },
    {
      "cell_type": "code",
      "source": [],
      "metadata": {
        "id": "0FFsWcy-D6kb"
      },
      "execution_count": null,
      "outputs": []
    }
  ]
}