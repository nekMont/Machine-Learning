{
  "nbformat": 4,
  "nbformat_minor": 0,
  "metadata": {
    "colab": {
      "provenance": [],
      "authorship_tag": "ABX9TyPOc8JZx0Vc+fSVO6+12/bP",
      "include_colab_link": true
    },
    "kernelspec": {
      "name": "python3",
      "display_name": "Python 3"
    },
    "language_info": {
      "name": "python"
    }
  },
  "cells": [
    {
      "cell_type": "markdown",
      "metadata": {
        "id": "view-in-github",
        "colab_type": "text"
      },
      "source": [
        "<a href=\"https://colab.research.google.com/github/nekMont/Machine-Learning/blob/main/00_tensorflow_fundamentals.ipynb\" target=\"_parent\"><img src=\"https://colab.research.google.com/assets/colab-badge.svg\" alt=\"Open In Colab\"/></a>"
      ]
    },
    {
      "cell_type": "markdown",
      "source": [
        "# In this notebook we're going to cover some of the most fundamental concepts of tensors.\n",
        "\n",
        "More specifically, we are going cover: \n",
        "* Introduction to tensors \n",
        "* Getting information from tensors \n",
        "* manipulating tensors \n",
        "* tensors & numpy \n",
        "* using @tf.function (a way to speed up your regular python functions) \n",
        "* using GPUs with tensorflow (or TPUs) \n",
        "*exercises to try for yourself "
      ],
      "metadata": {
        "id": "9OBWfxXdyKt_"
      }
    },
    {
      "cell_type": "markdown",
      "source": [
        "##Introduction to tensors"
      ],
      "metadata": {
        "id": "utOzGNlYytDd"
      }
    },
    {
      "cell_type": "code",
      "source": [
        "#Import TensorFlow \n",
        "import tensorflow as tf \n",
        "print(tf.__version__) "
      ],
      "metadata": {
        "colab": {
          "base_uri": "https://localhost:8080/"
        },
        "id": "XQni6Rheyzxm",
        "outputId": "16ac89f6-4be1-4d27-d63e-a8d1c911f096"
      },
      "execution_count": null,
      "outputs": [
        {
          "output_type": "stream",
          "name": "stdout",
          "text": [
            "2.9.2\n"
          ]
        }
      ]
    },
    {
      "cell_type": "code",
      "source": [
        "#creating tensors with tf.constant()\n",
        "scalar = tf.constant(7) \n",
        "scalar"
      ],
      "metadata": {
        "colab": {
          "base_uri": "https://localhost:8080/"
        },
        "id": "pC9QQ40xzFLy",
        "outputId": "02a58425-f768-427e-8724-a0f19998d309"
      },
      "execution_count": null,
      "outputs": [
        {
          "output_type": "execute_result",
          "data": {
            "text/plain": [
              "<tf.Tensor: shape=(), dtype=int32, numpy=7>"
            ]
          },
          "metadata": {},
          "execution_count": 2
        }
      ]
    },
    {
      "cell_type": "code",
      "source": [
        "# check the number of dimensions of a tensor (ndim stands for number of dimensions)\n",
        "scalar.ndim "
      ],
      "metadata": {
        "colab": {
          "base_uri": "https://localhost:8080/"
        },
        "id": "mX6PY0BpSmz6",
        "outputId": "773ac9e9-eff9-42b1-eaa6-b7ed931ab2c0"
      },
      "execution_count": null,
      "outputs": [
        {
          "output_type": "execute_result",
          "data": {
            "text/plain": [
              "0"
            ]
          },
          "metadata": {},
          "execution_count": 3
        }
      ]
    },
    {
      "cell_type": "code",
      "source": [
        "# Create a vector \n",
        "vector = tf.constant([10,10])\n",
        "vector"
      ],
      "metadata": {
        "colab": {
          "base_uri": "https://localhost:8080/"
        },
        "id": "2eKIyLedS7Qj",
        "outputId": "26a2a7e1-b91c-46cd-ef61-40dde36b6fe5"
      },
      "execution_count": null,
      "outputs": [
        {
          "output_type": "execute_result",
          "data": {
            "text/plain": [
              "<tf.Tensor: shape=(2,), dtype=int32, numpy=array([10, 10], dtype=int32)>"
            ]
          },
          "metadata": {},
          "execution_count": 4
        }
      ]
    },
    {
      "cell_type": "code",
      "source": [
        "# check the dimension of our  vector \n",
        "vector.ndim"
      ],
      "metadata": {
        "colab": {
          "base_uri": "https://localhost:8080/"
        },
        "id": "ZQQ7jBD0TIiM",
        "outputId": "3c355e08-1efe-4e3f-e911-01e6d8aaac52"
      },
      "execution_count": null,
      "outputs": [
        {
          "output_type": "execute_result",
          "data": {
            "text/plain": [
              "1"
            ]
          },
          "metadata": {},
          "execution_count": 5
        }
      ]
    },
    {
      "cell_type": "code",
      "source": [
        "# create a matrix (has more than one dimension) \n",
        "matrix = tf.constant([[10,7], \n",
        "                      [7,10]])\n",
        "matrix"
      ],
      "metadata": {
        "colab": {
          "base_uri": "https://localhost:8080/"
        },
        "id": "AkhO8GQgTOvw",
        "outputId": "83841727-911a-4c3c-f3ae-961e095364fb"
      },
      "execution_count": null,
      "outputs": [
        {
          "output_type": "execute_result",
          "data": {
            "text/plain": [
              "<tf.Tensor: shape=(2, 2), dtype=int32, numpy=\n",
              "array([[10,  7],\n",
              "       [ 7, 10]], dtype=int32)>"
            ]
          },
          "metadata": {},
          "execution_count": 6
        }
      ]
    },
    {
      "cell_type": "code",
      "source": [
        "matrix.ndim"
      ],
      "metadata": {
        "colab": {
          "base_uri": "https://localhost:8080/"
        },
        "id": "P1AYjbQ2Tdwh",
        "outputId": "28aa4936-97ca-4894-f4b8-5894b37134b8"
      },
      "execution_count": null,
      "outputs": [
        {
          "output_type": "execute_result",
          "data": {
            "text/plain": [
              "2"
            ]
          },
          "metadata": {},
          "execution_count": 7
        }
      ]
    },
    {
      "cell_type": "code",
      "source": [
        "# creat another matrix \n",
        "another_matrix = tf.constant([[10.,7.],\n",
        "                              [3.,2.],\n",
        "                             [8.,9.]], dtype=tf.float16)#specify the data type\n",
        "another_matrix                  "
      ],
      "metadata": {
        "colab": {
          "base_uri": "https://localhost:8080/"
        },
        "id": "ZVMIVeOrT1Rf",
        "outputId": "dfcc432d-889c-4d29-90b8-632f7076a158"
      },
      "execution_count": null,
      "outputs": [
        {
          "output_type": "execute_result",
          "data": {
            "text/plain": [
              "<tf.Tensor: shape=(3, 2), dtype=float16, numpy=\n",
              "array([[10.,  7.],\n",
              "       [ 3.,  2.],\n",
              "       [ 8.,  9.]], dtype=float16)>"
            ]
          },
          "metadata": {},
          "execution_count": 8
        }
      ]
    },
    {
      "cell_type": "code",
      "source": [
        "#what is the number of dimensions of another matrix\n",
        "another_matrix.ndim"
      ],
      "metadata": {
        "colab": {
          "base_uri": "https://localhost:8080/"
        },
        "id": "DdpPienkU5PL",
        "outputId": "b17396a4-3721-495c-d085-6d13559b4455"
      },
      "execution_count": null,
      "outputs": [
        {
          "output_type": "execute_result",
          "data": {
            "text/plain": [
              "2"
            ]
          },
          "metadata": {},
          "execution_count": 9
        }
      ]
    },
    {
      "cell_type": "code",
      "source": [
        "#lets create a tensor \n",
        "tensor = tf.constant([[[1,2,3],\n",
        "                       [4,5,6]],\n",
        "                      [[7,8,9],\n",
        "                      [10,11,12]],\n",
        "                      [[13,14,15],\n",
        "                       [16,17,18]]])\n",
        "tensor"
      ],
      "metadata": {
        "colab": {
          "base_uri": "https://localhost:8080/"
        },
        "id": "R-sTR5G-VD7a",
        "outputId": "6f13093c-d509-424a-8d42-69b54b6b3264"
      },
      "execution_count": null,
      "outputs": [
        {
          "output_type": "execute_result",
          "data": {
            "text/plain": [
              "<tf.Tensor: shape=(3, 2, 3), dtype=int32, numpy=\n",
              "array([[[ 1,  2,  3],\n",
              "        [ 4,  5,  6]],\n",
              "\n",
              "       [[ 7,  8,  9],\n",
              "        [10, 11, 12]],\n",
              "\n",
              "       [[13, 14, 15],\n",
              "        [16, 17, 18]]], dtype=int32)>"
            ]
          },
          "metadata": {},
          "execution_count": 10
        }
      ]
    },
    {
      "cell_type": "code",
      "source": [
        "tensor.ndim"
      ],
      "metadata": {
        "colab": {
          "base_uri": "https://localhost:8080/"
        },
        "id": "y2RaIF7AWCV2",
        "outputId": "b5ff3db0-0347-4e04-c373-a03d64f4717e"
      },
      "execution_count": null,
      "outputs": [
        {
          "output_type": "execute_result",
          "data": {
            "text/plain": [
              "3"
            ]
          },
          "metadata": {},
          "execution_count": 11
        }
      ]
    },
    {
      "cell_type": "markdown",
      "source": [
        "what we've createed so far: \n",
        "\n",
        "* Scalar: a single number \n",
        "* Vector: a number with direction (e.g. wind speed and direction)\n",
        "* Matrix: a 2-dimensional array of numbers \n",
        "* Tensor: n-dimensional arrayy of numbers (when n can be any number, a 0-dimensional tensor is a scalar, a 1-dimensional tensor is a vector)  )"
      ],
      "metadata": {
        "id": "KAfqy7JEWQeG"
      }
    },
    {
      "cell_type": "code",
      "source": [
        "test = tf.constant([[5,2,3,2],\n",
        "                    [2,3,4,5],\n",
        "                    [2,302,2,1]])\n",
        "test"
      ],
      "metadata": {
        "colab": {
          "base_uri": "https://localhost:8080/"
        },
        "id": "-H7iQByDXUVY",
        "outputId": "0912e1d6-b148-4bc7-a6c4-56652c4d268e"
      },
      "execution_count": null,
      "outputs": [
        {
          "output_type": "execute_result",
          "data": {
            "text/plain": [
              "<tf.Tensor: shape=(3, 4), dtype=int32, numpy=\n",
              "array([[  5,   2,   3,   2],\n",
              "       [  2,   3,   4,   5],\n",
              "       [  2, 302,   2,   1]], dtype=int32)>"
            ]
          },
          "metadata": {},
          "execution_count": 12
        }
      ]
    },
    {
      "cell_type": "code",
      "source": [
        "test.ndim"
      ],
      "metadata": {
        "colab": {
          "base_uri": "https://localhost:8080/"
        },
        "id": "isSfvv3GXmzx",
        "outputId": "6762244d-06be-44c0-8a8a-27d6d7fdf45a"
      },
      "execution_count": null,
      "outputs": [
        {
          "output_type": "execute_result",
          "data": {
            "text/plain": [
              "2"
            ]
          },
          "metadata": {},
          "execution_count": 13
        }
      ]
    },
    {
      "cell_type": "markdown",
      "source": [
        "\n",
        "Note: in test I was trying to see if the number of columns would change our dimension \n",
        "to 4, however this wasn't the case. Just because there are 4 values in column space does not mean\n",
        "that ndim is equal to 4. \n",
        "  In the tensor example there are 3 brackets to indicate that the the tensor is three dimentsional\n",
        "  this I may have to research more on because those brackets are super confusing."
      ],
      "metadata": {
        "id": "BUf-HO5aX4Bq"
      }
    },
    {
      "cell_type": "markdown",
      "source": [
        "### Creating tensors with `tf.variable` "
      ],
      "metadata": {
        "id": "S877I3uSc6OU"
      }
    },
    {
      "cell_type": "code",
      "source": [
        "# create the same tensor with tf.Variable() as above \n",
        "changeable_tensor = tf.Variable([10,7])\n",
        "unchangeable_tensor = tf.constant([10,7])\n",
        "changeable_tensor,unchangeable_tensor"
      ],
      "metadata": {
        "colab": {
          "base_uri": "https://localhost:8080/"
        },
        "id": "cliS_FvVdEQl",
        "outputId": "80949ab1-0f8f-4aea-f8d7-61afb75aef39"
      },
      "execution_count": null,
      "outputs": [
        {
          "output_type": "execute_result",
          "data": {
            "text/plain": [
              "(<tf.Variable 'Variable:0' shape=(2,) dtype=int32, numpy=array([10,  7], dtype=int32)>,\n",
              " <tf.Tensor: shape=(2,), dtype=int32, numpy=array([10,  7], dtype=int32)>)"
            ]
          },
          "metadata": {},
          "execution_count": 14
        }
      ]
    },
    {
      "cell_type": "code",
      "source": [
        "# Let's try to change one of the elements in our changeable tensor \n",
        "changeable_tensor[0] = 7 "
      ],
      "metadata": {
        "colab": {
          "base_uri": "https://localhost:8080/",
          "height": 184
        },
        "id": "zNU1IkNCea6T",
        "outputId": "7ac2b513-0040-4bbf-8268-df43a1f347e5"
      },
      "execution_count": null,
      "outputs": [
        {
          "output_type": "error",
          "ename": "TypeError",
          "evalue": "ignored",
          "traceback": [
            "\u001b[0;31m---------------------------------------------------------------------------\u001b[0m",
            "\u001b[0;31mTypeError\u001b[0m                                 Traceback (most recent call last)",
            "\u001b[0;32m<ipython-input-15-5f2b1b678ade>\u001b[0m in \u001b[0;36m<module>\u001b[0;34m\u001b[0m\n\u001b[1;32m      1\u001b[0m \u001b[0;31m# Let's try to change one of the elements in our changeable tensor\u001b[0m\u001b[0;34m\u001b[0m\u001b[0;34m\u001b[0m\u001b[0;34m\u001b[0m\u001b[0m\n\u001b[0;32m----> 2\u001b[0;31m \u001b[0mchangeable_tensor\u001b[0m\u001b[0;34m[\u001b[0m\u001b[0;36m0\u001b[0m\u001b[0;34m]\u001b[0m \u001b[0;34m=\u001b[0m \u001b[0;36m7\u001b[0m\u001b[0;34m\u001b[0m\u001b[0;34m\u001b[0m\u001b[0m\n\u001b[0m",
            "\u001b[0;31mTypeError\u001b[0m: 'ResourceVariable' object does not support item assignment"
          ]
        }
      ]
    },
    {
      "cell_type": "code",
      "source": [
        "# how about we try and .assign() \n",
        "changeable_tensor[0].assign(7)\n",
        "changeable_tensor"
      ],
      "metadata": {
        "colab": {
          "base_uri": "https://localhost:8080/"
        },
        "id": "mRxhGU9Oe9nc",
        "outputId": "b58e9f27-26e9-467a-ca9f-e658b862c74f"
      },
      "execution_count": null,
      "outputs": [
        {
          "output_type": "execute_result",
          "data": {
            "text/plain": [
              "<tf.Variable 'Variable:0' shape=(2,) dtype=int32, numpy=array([7, 7], dtype=int32)>"
            ]
          },
          "metadata": {},
          "execution_count": 16
        }
      ]
    },
    {
      "cell_type": "code",
      "source": [
        "# Lets try to change our unchangeable tensor \n",
        "unchangeable_tensor[0].assign(7) "
      ],
      "metadata": {
        "colab": {
          "base_uri": "https://localhost:8080/",
          "height": 322
        },
        "id": "hWUkdbO6fUCc",
        "outputId": "7e59a8e5-2bd8-4ba3-b0e4-d20ae878ef64"
      },
      "execution_count": null,
      "outputs": [
        {
          "output_type": "error",
          "ename": "AttributeError",
          "evalue": "ignored",
          "traceback": [
            "\u001b[0;31m---------------------------------------------------------------------------\u001b[0m",
            "\u001b[0;31mAttributeError\u001b[0m                            Traceback (most recent call last)",
            "\u001b[0;32m<ipython-input-17-3838d4825553>\u001b[0m in \u001b[0;36m<module>\u001b[0;34m\u001b[0m\n\u001b[1;32m      1\u001b[0m \u001b[0;31m# Lets try to change our unchangeable tensor\u001b[0m\u001b[0;34m\u001b[0m\u001b[0;34m\u001b[0m\u001b[0;34m\u001b[0m\u001b[0m\n\u001b[0;32m----> 2\u001b[0;31m \u001b[0munchangeable_tensor\u001b[0m\u001b[0;34m[\u001b[0m\u001b[0;36m0\u001b[0m\u001b[0;34m]\u001b[0m\u001b[0;34m.\u001b[0m\u001b[0massign\u001b[0m\u001b[0;34m(\u001b[0m\u001b[0;36m7\u001b[0m\u001b[0;34m)\u001b[0m\u001b[0;34m\u001b[0m\u001b[0;34m\u001b[0m\u001b[0m\n\u001b[0m",
            "\u001b[0;32m/usr/local/lib/python3.8/dist-packages/tensorflow/python/framework/ops.py\u001b[0m in \u001b[0;36m__getattr__\u001b[0;34m(self, name)\u001b[0m\n\u001b[1;32m    444\u001b[0m         \u001b[0mnp_config\u001b[0m\u001b[0;34m.\u001b[0m\u001b[0menable_numpy_behavior\u001b[0m\u001b[0;34m(\u001b[0m\u001b[0;34m)\u001b[0m\u001b[0;34m\u001b[0m\u001b[0;34m\u001b[0m\u001b[0m\n\u001b[1;32m    445\u001b[0m       \"\"\")\n\u001b[0;32m--> 446\u001b[0;31m     \u001b[0mself\u001b[0m\u001b[0;34m.\u001b[0m\u001b[0m__getattribute__\u001b[0m\u001b[0;34m(\u001b[0m\u001b[0mname\u001b[0m\u001b[0;34m)\u001b[0m\u001b[0;34m\u001b[0m\u001b[0;34m\u001b[0m\u001b[0m\n\u001b[0m\u001b[1;32m    447\u001b[0m \u001b[0;34m\u001b[0m\u001b[0m\n\u001b[1;32m    448\u001b[0m   \u001b[0;34m@\u001b[0m\u001b[0mstaticmethod\u001b[0m\u001b[0;34m\u001b[0m\u001b[0;34m\u001b[0m\u001b[0m\n",
            "\u001b[0;31mAttributeError\u001b[0m: 'tensorflow.python.framework.ops.EagerTensor' object has no attribute 'assign'"
          ]
        }
      ]
    },
    {
      "cell_type": "markdown",
      "source": [
        "**Note:** very rarely in practice will yoou need to decide whether to use `tf.constant` or `tf.variable` to create tensors, as TensorFlow does this \n",
        "for you. However, if in double, use `tf.constant` and change it later if needed."
      ],
      "metadata": {
        "id": "b31-t2hVfaol"
      }
    },
    {
      "cell_type": "markdown",
      "source": [
        "### Creating random tensors\n",
        "\n",
        "Random tensors are tensors or some orbitrary size which contain random numbers "
      ],
      "metadata": {
        "id": "Lx5qkug1f_ea"
      }
    },
    {
      "cell_type": "code",
      "source": [
        "# Create two randome but the same tensors \n",
        "                                        #x\n",
        "random_1 = tf.random.Generator.from_seed(7) #set seed for reproducibility\n",
        "random_1 = random_1.normal(shape=(3,2))\n",
        "random_2 = tf.random.Generator.from_seed(7)\n",
        "random_2 = random_2.normal(shape = (3,2))\n",
        "#normal distrubtion \n",
        "#uniform distrubion \n",
        "\n",
        "#are they equal? \n",
        "random_1,random_2, random_1 == random_2\n",
        "\n",
        "#these are psuedo random\n",
        "#setting the seed means, create some randoms numbers but flavor them with x, whe\n",
        "#x is the seed."
      ],
      "metadata": {
        "colab": {
          "base_uri": "https://localhost:8080/"
        },
        "id": "8JCa4MWKgijM",
        "outputId": "70f435c1-12fb-47c2-accc-3b8ba9b03c8a"
      },
      "execution_count": null,
      "outputs": [
        {
          "output_type": "execute_result",
          "data": {
            "text/plain": [
              "(<tf.Tensor: shape=(3, 2), dtype=float32, numpy=\n",
              " array([[-1.3240396 ,  0.28785667],\n",
              "        [-0.8757901 , -0.08857018],\n",
              "        [ 0.69211644,  0.84215707]], dtype=float32)>,\n",
              " <tf.Tensor: shape=(3, 2), dtype=float32, numpy=\n",
              " array([[-1.3240396 ,  0.28785667],\n",
              "        [-0.8757901 , -0.08857018],\n",
              "        [ 0.69211644,  0.84215707]], dtype=float32)>,\n",
              " <tf.Tensor: shape=(3, 2), dtype=bool, numpy=\n",
              " array([[ True,  True],\n",
              "        [ True,  True],\n",
              "        [ True,  True]])>)"
            ]
          },
          "metadata": {},
          "execution_count": 18
        }
      ]
    },
    {
      "cell_type": "markdown",
      "source": [
        "Note: When a neural network starts to learn, it starts with random patterns. \n",
        "then slowly adjusts them as it continuely learns are more and more examples."
      ],
      "metadata": {
        "id": "ggC_3YUkiJgG"
      }
    },
    {
      "cell_type": "markdown",
      "source": [
        "### Shuffle the order of elements in a tensor "
      ],
      "metadata": {
        "id": "looMQWAAjz5B"
      }
    },
    {
      "cell_type": "markdown",
      "source": [
        "#### why would you want to shuffle the elements of a tensor? \n",
        "\n",
        "Say we had 15,000 images of ramen and spaghetti, and the first 10,000 images were of ramen and the last 5,000 were of spaghetti. \n",
        "\n",
        "Now this order can affect how our neural network learns. Such as if we don't shuffle then our neural network would adjust its random weights too much so to ramen, because it is saying, well hey I only have to look at ramen. \n"
      ],
      "metadata": {
        "id": "PXsmB92-j3Ub"
      }
    },
    {
      "cell_type": "code",
      "source": [
        "# shuffle a tensor (valuable for when you want to shuffle your data so the inherent order doesnt effect learn)\n",
        "not_shuffled = tf.constant([[10,7],\n",
        "                           [3,4],\n",
        "                           [2,5]])\n",
        "not_shuffled.ndim \n",
        "\n",
        "#shuffle our nonshuffled tensor\n",
        "tf.random.shuffle(not_shuffled)\n"
      ],
      "metadata": {
        "colab": {
          "base_uri": "https://localhost:8080/"
        },
        "id": "4_qfZpIgkAoK",
        "outputId": "e6b669af-c387-431b-9ebe-da9f9cbacf4f"
      },
      "execution_count": null,
      "outputs": [
        {
          "output_type": "execute_result",
          "data": {
            "text/plain": [
              "<tf.Tensor: shape=(3, 2), dtype=int32, numpy=\n",
              "array([[ 2,  5],\n",
              "       [ 3,  4],\n",
              "       [10,  7]], dtype=int32)>"
            ]
          },
          "metadata": {},
          "execution_count": 19
        }
      ]
    },
    {
      "cell_type": "code",
      "source": [
        "#global level seed\n",
        "tf.random.set_seed(42)\n",
        "#operation level seed\n",
        "tf.random.shuffle(not_shuffled, seed = 42) "
      ],
      "metadata": {
        "colab": {
          "base_uri": "https://localhost:8080/"
        },
        "id": "FGlm3gw6lFMy",
        "outputId": "9732f4d5-443c-4a59-dc80-285ca940609b"
      },
      "execution_count": null,
      "outputs": [
        {
          "output_type": "execute_result",
          "data": {
            "text/plain": [
              "<tf.Tensor: shape=(3, 2), dtype=int32, numpy=\n",
              "array([[10,  7],\n",
              "       [ 3,  4],\n",
              "       [ 2,  5]], dtype=int32)>"
            ]
          },
          "metadata": {},
          "execution_count": 20
        }
      ]
    },
    {
      "cell_type": "markdown",
      "source": [
        "🛠️ ***Exercises*** Read through tensor flow documentation on random seed generation,\n",
        "practice writing 5 random tensors and shuffle them. "
      ],
      "metadata": {
        "id": "PK3zKAoNAVuN"
      }
    },
    {
      "cell_type": "markdown",
      "source": [
        "*** The interactions with operation-level seeds is as follows: *** \n",
        "1. If neither the global seed nor the operation seed is set: A randomly picked seed is used for this OP."
      ],
      "metadata": {
        "id": "jUO6Pe4GArOu"
      }
    },
    {
      "cell_type": "code",
      "source": [
        "#example\n",
        "tf.random.shuffle(not_shuffled)\n",
        "#this will create a random tensor with each run."
      ],
      "metadata": {
        "colab": {
          "base_uri": "https://localhost:8080/"
        },
        "id": "jAcx-LXGFaHk",
        "outputId": "7e2b5505-9ed5-49bf-857a-0813c8a3ba33"
      },
      "execution_count": null,
      "outputs": [
        {
          "output_type": "execute_result",
          "data": {
            "text/plain": [
              "<tf.Tensor: shape=(3, 2), dtype=int32, numpy=\n",
              "array([[ 3,  4],\n",
              "       [ 2,  5],\n",
              "       [10,  7]], dtype=int32)>"
            ]
          },
          "metadata": {},
          "execution_count": 21
        }
      ]
    },
    {
      "cell_type": "markdown",
      "source": [
        "2. If the flobal seed is set, but the operations eed is not: The system deterministically picks an \n",
        "operation seed in conjunction with the global seed so that it get a unique random sequence.\n",
        "Within the same version of tensorflow and user code, this sequence is deterministic. However \n",
        "across different versions, this sequence ight change. If the code depends on a particular\n",
        "seeds to work, specify both global and oepration-level seeds explicitly.  "
      ],
      "metadata": {
        "id": "x9qDY0gUGvLE"
      }
    },
    {
      "cell_type": "code",
      "source": [
        "#example \n",
        "tf.random.set_seed(42) \n",
        "tf.random.shuffle(not_shuffled)\n",
        "#for this we get different results with each call to the random OP \n",
        "#but the same sequence for every re-run program"
      ],
      "metadata": {
        "colab": {
          "base_uri": "https://localhost:8080/"
        },
        "id": "T3dGLUMLH292",
        "outputId": "6302951a-ff86-4a9a-e0d7-d060f57a7d6b"
      },
      "execution_count": null,
      "outputs": [
        {
          "output_type": "execute_result",
          "data": {
            "text/plain": [
              "<tf.Tensor: shape=(3, 2), dtype=int32, numpy=\n",
              "array([[ 3,  4],\n",
              "       [ 2,  5],\n",
              "       [10,  7]], dtype=int32)>"
            ]
          },
          "metadata": {},
          "execution_count": 22
        }
      ]
    },
    {
      "cell_type": "markdown",
      "source": [
        "***note on what a seed is *** \n",
        "Seed function is used to save the state of a random function, so that it can generate same random numbers on multiple executions of the code on the same machine or on different machines"
      ],
      "metadata": {
        "id": "Fs5y-37fH4Cr"
      }
    },
    {
      "cell_type": "markdown",
      "source": [
        "3. If the operation seed is set, but the global seed is not set: A default global seed and the \n",
        "specified operation seed are used to determine the random sequence"
      ],
      "metadata": {
        "id": "M8xk23KxJPC8"
      }
    },
    {
      "cell_type": "code",
      "source": [
        "tf.random.shuffle(not_shuffled, seed = 42)"
      ],
      "metadata": {
        "colab": {
          "base_uri": "https://localhost:8080/"
        },
        "id": "4ETt_68ZJ9IR",
        "outputId": "b282ee7b-3e68-4b86-fbbe-352cf55601c8"
      },
      "execution_count": null,
      "outputs": [
        {
          "output_type": "execute_result",
          "data": {
            "text/plain": [
              "<tf.Tensor: shape=(3, 2), dtype=int32, numpy=\n",
              "array([[10,  7],\n",
              "       [ 3,  4],\n",
              "       [ 2,  5]], dtype=int32)>"
            ]
          },
          "metadata": {},
          "execution_count": 23
        }
      ]
    },
    {
      "cell_type": "markdown",
      "source": [
        "4. If both the global and the operation seed are set: Both seeds are used in conjunction to\n",
        "determine the random sequence "
      ],
      "metadata": {
        "id": "ZxlCJxLwKGrl"
      }
    },
    {
      "cell_type": "code",
      "source": [
        "tf.random.set_seed(42)\n",
        "tf.random.shuffle(not_shuffled, seed = 42)"
      ],
      "metadata": {
        "colab": {
          "base_uri": "https://localhost:8080/"
        },
        "id": "4wg0ixLLKhee",
        "outputId": "aad23579-0713-4ca9-e4fd-08260f95a9c8"
      },
      "execution_count": null,
      "outputs": [
        {
          "output_type": "execute_result",
          "data": {
            "text/plain": [
              "<tf.Tensor: shape=(3, 2), dtype=int32, numpy=\n",
              "array([[10,  7],\n",
              "       [ 3,  4],\n",
              "       [ 2,  5]], dtype=int32)>"
            ]
          },
          "metadata": {},
          "execution_count": 24
        }
      ]
    },
    {
      "cell_type": "markdown",
      "source": [
        "**Other ways to make tensors**"
      ],
      "metadata": {
        "id": "pClIfv5qNauJ"
      }
    },
    {
      "cell_type": "code",
      "source": [
        "#Create a tensors of all ones \n",
        "tf.ones([10,7])"
      ],
      "metadata": {
        "colab": {
          "base_uri": "https://localhost:8080/"
        },
        "id": "75Hag7UuNnP_",
        "outputId": "c9e644f4-856b-4b9e-b562-d16acb1c2f2e"
      },
      "execution_count": null,
      "outputs": [
        {
          "output_type": "execute_result",
          "data": {
            "text/plain": [
              "<tf.Tensor: shape=(10, 7), dtype=float32, numpy=\n",
              "array([[1., 1., 1., 1., 1., 1., 1.],\n",
              "       [1., 1., 1., 1., 1., 1., 1.],\n",
              "       [1., 1., 1., 1., 1., 1., 1.],\n",
              "       [1., 1., 1., 1., 1., 1., 1.],\n",
              "       [1., 1., 1., 1., 1., 1., 1.],\n",
              "       [1., 1., 1., 1., 1., 1., 1.],\n",
              "       [1., 1., 1., 1., 1., 1., 1.],\n",
              "       [1., 1., 1., 1., 1., 1., 1.],\n",
              "       [1., 1., 1., 1., 1., 1., 1.],\n",
              "       [1., 1., 1., 1., 1., 1., 1.]], dtype=float32)>"
            ]
          },
          "metadata": {},
          "execution_count": 25
        }
      ]
    },
    {
      "cell_type": "code",
      "source": [
        "#tensor of all zeros\n",
        "tf.zeros(shape = (3,4))"
      ],
      "metadata": {
        "colab": {
          "base_uri": "https://localhost:8080/"
        },
        "id": "sLUYAqHUNt1L",
        "outputId": "80e9e414-f1d0-4116-900e-2d3ff41b1ba0"
      },
      "execution_count": null,
      "outputs": [
        {
          "output_type": "execute_result",
          "data": {
            "text/plain": [
              "<tf.Tensor: shape=(3, 4), dtype=float32, numpy=\n",
              "array([[0., 0., 0., 0.],\n",
              "       [0., 0., 0., 0.],\n",
              "       [0., 0., 0., 0.]], dtype=float32)>"
            ]
          },
          "metadata": {},
          "execution_count": 26
        }
      ]
    },
    {
      "cell_type": "markdown",
      "source": [
        "### Turn NumPy arrays into tensors \n",
        "\n",
        "The main difference between NumPy arrays and TensorFlow tensors is that\n",
        "tensors can be run on GPU(much faster for numercial computing)"
      ],
      "metadata": {
        "id": "6bASRwBTOIUp"
      }
    },
    {
      "cell_type": "code",
      "source": [
        "#You can also turn NumPy arrays into tensors \n",
        "import numpy as np \n",
        "numpy_A = np.arange(1,25,dtype=np.int32)#create a numpy array between 1 and 25 \n",
        "numpy_A\n"
      ],
      "metadata": {
        "colab": {
          "base_uri": "https://localhost:8080/"
        },
        "id": "BUoJA1R0OaSP",
        "outputId": "92269907-5cef-4f84-d9eb-97604f6048ca"
      },
      "execution_count": null,
      "outputs": [
        {
          "output_type": "execute_result",
          "data": {
            "text/plain": [
              "array([ 1,  2,  3,  4,  5,  6,  7,  8,  9, 10, 11, 12, 13, 14, 15, 16, 17,\n",
              "       18, 19, 20, 21, 22, 23, 24], dtype=int32)"
            ]
          },
          "metadata": {},
          "execution_count": 27
        }
      ]
    },
    {
      "cell_type": "markdown",
      "source": [
        "## Shape manipulation "
      ],
      "metadata": {
        "id": "7aBus6reQekp"
      }
    },
    {
      "cell_type": "code",
      "source": [
        "#Turning that numpy_A data into a tensor \n",
        "#2 is the first dimension, then 3 look at the rows, then 4 cols\n",
        "#in order for us to create the shape, we need to make sure it adds up to the\n",
        "#value in the bottom array.\n",
        "A = tf.constant(numpy_A, shape=(2,3,4))\n",
        "B = tf.constant(numpy_A)\n",
        "\n",
        "A,B"
      ],
      "metadata": {
        "colab": {
          "base_uri": "https://localhost:8080/"
        },
        "id": "KYkx9ceCO1uM",
        "outputId": "093213de-a3e4-45d5-ed25-93059c47e9a5"
      },
      "execution_count": null,
      "outputs": [
        {
          "output_type": "execute_result",
          "data": {
            "text/plain": [
              "(<tf.Tensor: shape=(2, 3, 4), dtype=int32, numpy=\n",
              " array([[[ 1,  2,  3,  4],\n",
              "         [ 5,  6,  7,  8],\n",
              "         [ 9, 10, 11, 12]],\n",
              " \n",
              "        [[13, 14, 15, 16],\n",
              "         [17, 18, 19, 20],\n",
              "         [21, 22, 23, 24]]], dtype=int32)>,\n",
              " <tf.Tensor: shape=(24,), dtype=int32, numpy=\n",
              " array([ 1,  2,  3,  4,  5,  6,  7,  8,  9, 10, 11, 12, 13, 14, 15, 16, 17,\n",
              "        18, 19, 20, 21, 22, 23, 24], dtype=int32)>)"
            ]
          },
          "metadata": {},
          "execution_count": 28
        }
      ]
    },
    {
      "cell_type": "code",
      "source": [
        "A.ndim"
      ],
      "metadata": {
        "colab": {
          "base_uri": "https://localhost:8080/"
        },
        "id": "GRJ1jkvXQjvP",
        "outputId": "6d712c65-6ea7-4994-f70c-0bf77bb558a7"
      },
      "execution_count": null,
      "outputs": [
        {
          "output_type": "execute_result",
          "data": {
            "text/plain": [
              "3"
            ]
          },
          "metadata": {},
          "execution_count": 38
        }
      ]
    },
    {
      "cell_type": "markdown",
      "source": [
        "### Getting information from tensors\n",
        "When dealing with tensors you probably want to be aware of the following attributes: \n",
        "* Shape \n",
        "* Rank \n",
        "* Axis or dimension \n",
        "* Size "
      ],
      "metadata": {
        "id": "4mXMYv1sRCq9"
      }
    },
    {
      "cell_type": "code",
      "source": [
        "# Create a rank 4 tensor \n",
        "#meaning the number of tensor dimenstions \n",
        "#4 dimensions \n",
        "rank_4_tensor = tf.zeros(shape=[2,3,4,5])\n",
        "rank_4_tensor "
      ],
      "metadata": {
        "colab": {
          "base_uri": "https://localhost:8080/"
        },
        "id": "D7YRsEE6SCd2",
        "outputId": "3d2f17f5-91f0-4a44-89ee-804e13139f42"
      },
      "execution_count": null,
      "outputs": [
        {
          "output_type": "execute_result",
          "data": {
            "text/plain": [
              "<tf.Tensor: shape=(2, 3, 4, 5), dtype=float32, numpy=\n",
              "array([[[[0., 0., 0., 0., 0.],\n",
              "         [0., 0., 0., 0., 0.],\n",
              "         [0., 0., 0., 0., 0.],\n",
              "         [0., 0., 0., 0., 0.]],\n",
              "\n",
              "        [[0., 0., 0., 0., 0.],\n",
              "         [0., 0., 0., 0., 0.],\n",
              "         [0., 0., 0., 0., 0.],\n",
              "         [0., 0., 0., 0., 0.]],\n",
              "\n",
              "        [[0., 0., 0., 0., 0.],\n",
              "         [0., 0., 0., 0., 0.],\n",
              "         [0., 0., 0., 0., 0.],\n",
              "         [0., 0., 0., 0., 0.]]],\n",
              "\n",
              "\n",
              "       [[[0., 0., 0., 0., 0.],\n",
              "         [0., 0., 0., 0., 0.],\n",
              "         [0., 0., 0., 0., 0.],\n",
              "         [0., 0., 0., 0., 0.]],\n",
              "\n",
              "        [[0., 0., 0., 0., 0.],\n",
              "         [0., 0., 0., 0., 0.],\n",
              "         [0., 0., 0., 0., 0.],\n",
              "         [0., 0., 0., 0., 0.]],\n",
              "\n",
              "        [[0., 0., 0., 0., 0.],\n",
              "         [0., 0., 0., 0., 0.],\n",
              "         [0., 0., 0., 0., 0.],\n",
              "         [0., 0., 0., 0., 0.]]]], dtype=float32)>"
            ]
          },
          "metadata": {},
          "execution_count": 29
        }
      ]
    },
    {
      "cell_type": "code",
      "source": [
        "#shape changes becasue we are getting the shape of the first set of \n",
        "#tensors\n",
        "rank_4_tensor[0]"
      ],
      "metadata": {
        "colab": {
          "base_uri": "https://localhost:8080/"
        },
        "id": "1UKzR5-EUzBj",
        "outputId": "2b954d07-4225-4459-dae6-b3052edb0ae9"
      },
      "execution_count": null,
      "outputs": [
        {
          "output_type": "execute_result",
          "data": {
            "text/plain": [
              "<tf.Tensor: shape=(3, 4, 5), dtype=float32, numpy=\n",
              "array([[[0., 0., 0., 0., 0.],\n",
              "        [0., 0., 0., 0., 0.],\n",
              "        [0., 0., 0., 0., 0.],\n",
              "        [0., 0., 0., 0., 0.]],\n",
              "\n",
              "       [[0., 0., 0., 0., 0.],\n",
              "        [0., 0., 0., 0., 0.],\n",
              "        [0., 0., 0., 0., 0.],\n",
              "        [0., 0., 0., 0., 0.]],\n",
              "\n",
              "       [[0., 0., 0., 0., 0.],\n",
              "        [0., 0., 0., 0., 0.],\n",
              "        [0., 0., 0., 0., 0.],\n",
              "        [0., 0., 0., 0., 0.]]], dtype=float32)>"
            ]
          },
          "metadata": {},
          "execution_count": 30
        }
      ]
    },
    {
      "cell_type": "code",
      "source": [
        "rank_4_tensor.shape, rank_4_tensor.ndim, tf.size(rank_4_tensor)"
      ],
      "metadata": {
        "colab": {
          "base_uri": "https://localhost:8080/"
        },
        "id": "xG1I8PzKVCi1",
        "outputId": "9d15aadf-9f5b-4e2f-8caa-4bb37395a087"
      },
      "execution_count": null,
      "outputs": [
        {
          "output_type": "execute_result",
          "data": {
            "text/plain": [
              "(TensorShape([2, 3, 4, 5]), 4, <tf.Tensor: shape=(), dtype=int32, numpy=120>)"
            ]
          },
          "metadata": {},
          "execution_count": 31
        }
      ]
    },
    {
      "cell_type": "code",
      "source": [
        "#Get varios attributes of our tensor \n",
        "print(\"Datatype of every element:\", rank_4_tensor.dtype) \n",
        "print(\"number of dimensions: \", rank_4_tensor.ndim)\n",
        "print(\"Shape of tensor:\",rank_4_tensor.shape)\n",
        "print(\"Elements along the 0 axis: \", rank_4_tensor.shape[0]) \n",
        "print(\"Elements along the last axis: \", rank_4_tensor.shape[-1])\n",
        "print(\"Total number of elements in our tensor: \", tf.size(rank_4_tensor))\n"
      ],
      "metadata": {
        "colab": {
          "base_uri": "https://localhost:8080/"
        },
        "id": "NKfQ9LqSVnwZ",
        "outputId": "b0c08dd6-a330-4c15-cfef-d2402f41499d"
      },
      "execution_count": null,
      "outputs": [
        {
          "output_type": "stream",
          "name": "stdout",
          "text": [
            "Datatype of every element: <dtype: 'float32'>\n",
            "number of dimensions:  4\n",
            "Shape of tensor: (2, 3, 4, 5)\n",
            "Elements along the 0 axis:  2\n",
            "Elements along the last axis:  5\n",
            "Total number of elements in our tensor:  tf.Tensor(120, shape=(), dtype=int32)\n"
          ]
        }
      ]
    },
    {
      "cell_type": "markdown",
      "source": [
        "Sometimes tensors are so big that we wont be able to just access them directly\n",
        "so its important tat we can see the attributes of the tensors"
      ],
      "metadata": {
        "id": "ifyeg4nBKnWN"
      }
    },
    {
      "cell_type": "markdown",
      "source": [
        "### Indexing tensors \n",
        "Tensors can be indexed just like Python Lists. "
      ],
      "metadata": {
        "id": "OlNDWpDLLED3"
      }
    },
    {
      "cell_type": "code",
      "source": [
        "# Get the first 2 elements of each dimensions \n",
        "rank_4_tensor[:2,:2,:2,:2]"
      ],
      "metadata": {
        "colab": {
          "base_uri": "https://localhost:8080/"
        },
        "id": "hNq_y6MeLeZr",
        "outputId": "e92ba0a0-0ba0-4a68-dc09-c30f36ec295f"
      },
      "execution_count": null,
      "outputs": [
        {
          "output_type": "execute_result",
          "data": {
            "text/plain": [
              "<tf.Tensor: shape=(2, 2, 2, 2), dtype=float32, numpy=\n",
              "array([[[[0., 0.],\n",
              "         [0., 0.]],\n",
              "\n",
              "        [[0., 0.],\n",
              "         [0., 0.]]],\n",
              "\n",
              "\n",
              "       [[[0., 0.],\n",
              "         [0., 0.]],\n",
              "\n",
              "        [[0., 0.],\n",
              "         [0., 0.]]]], dtype=float32)>"
            ]
          },
          "metadata": {},
          "execution_count": 33
        }
      ]
    },
    {
      "cell_type": "code",
      "source": [
        "# get each dimension form each index except from the final one\n",
        "#essentially flattens our values\n",
        "rank_4_tensor[:1,:1,:1,:]"
      ],
      "metadata": {
        "colab": {
          "base_uri": "https://localhost:8080/"
        },
        "id": "A2WGGkgbLfkR",
        "outputId": "d208077a-7fb4-47d8-a7aa-59cacdd69999"
      },
      "execution_count": null,
      "outputs": [
        {
          "output_type": "execute_result",
          "data": {
            "text/plain": [
              "<tf.Tensor: shape=(1, 1, 1, 5), dtype=float32, numpy=array([[[[0., 0., 0., 0., 0.]]]], dtype=float32)>"
            ]
          },
          "metadata": {},
          "execution_count": 34
        }
      ]
    },
    {
      "cell_type": "code",
      "source": [
        "#create a rank 2 tensor(2 dimension)\n",
        "rank_2_tensor = tf.constant([[10,7],[3,4]]) \n",
        "rank_2_tensor.shape,rank_2_tensor.ndim"
      ],
      "metadata": {
        "colab": {
          "base_uri": "https://localhost:8080/"
        },
        "id": "RWlBwiglMrju",
        "outputId": "3158215c-e4d9-44c8-e360-4fcfa1deee4e"
      },
      "execution_count": null,
      "outputs": [
        {
          "output_type": "execute_result",
          "data": {
            "text/plain": [
              "(TensorShape([2, 2]), 2)"
            ]
          },
          "metadata": {},
          "execution_count": 35
        }
      ]
    },
    {
      "cell_type": "code",
      "source": [
        "# get the last item of each of our rank 2 tensor. \n",
        "rank_2_tensor[:, -1]"
      ],
      "metadata": {
        "colab": {
          "base_uri": "https://localhost:8080/"
        },
        "id": "qOibCALnM9hj",
        "outputId": "2e6e6cf2-be34-4cf0-aa2e-41f54cc1edf6"
      },
      "execution_count": null,
      "outputs": [
        {
          "output_type": "execute_result",
          "data": {
            "text/plain": [
              "<tf.Tensor: shape=(2,), dtype=int32, numpy=array([7, 4], dtype=int32)>"
            ]
          },
          "metadata": {},
          "execution_count": 36
        }
      ]
    },
    {
      "cell_type": "code",
      "source": [
        "#helpful for when we need to line up our shapes for future video\n",
        "#add in extra dimension to our rank 2 tensor \n",
        "\n",
        "rank_3_tensor = rank_2_tensor[...,tf.newaxis]\n",
        "rank_3_tensor\n",
        "#adds a dimension of one on the end"
      ],
      "metadata": {
        "colab": {
          "base_uri": "https://localhost:8080/"
        },
        "id": "rcpM3Q0VNQmv",
        "outputId": "1d0f898b-eed8-4537-e0a6-324609a4b941"
      },
      "execution_count": null,
      "outputs": [
        {
          "output_type": "execute_result",
          "data": {
            "text/plain": [
              "<tf.Tensor: shape=(2, 2, 1), dtype=int32, numpy=\n",
              "array([[[10],\n",
              "        [ 7]],\n",
              "\n",
              "       [[ 3],\n",
              "        [ 4]]], dtype=int32)>"
            ]
          },
          "metadata": {},
          "execution_count": 37
        }
      ]
    },
    {
      "cell_type": "code",
      "source": [
        "#Alternatice to tf.newaxis \n",
        "tf.expand_dims(rank_2_tensor, axis=-1)\n",
        "#same as the above notation"
      ],
      "metadata": {
        "colab": {
          "base_uri": "https://localhost:8080/"
        },
        "id": "776LBw2sNz_3",
        "outputId": "f6bea724-ff6b-488d-f5ac-793ce359d01b"
      },
      "execution_count": null,
      "outputs": [
        {
          "output_type": "execute_result",
          "data": {
            "text/plain": [
              "<tf.Tensor: shape=(2, 2, 1), dtype=int32, numpy=\n",
              "array([[[10],\n",
              "        [ 7]],\n",
              "\n",
              "       [[ 3],\n",
              "        [ 4]]], dtype=int32)>"
            ]
          },
          "metadata": {},
          "execution_count": 38
        }
      ]
    },
    {
      "cell_type": "code",
      "source": [
        "#example if we expand the zero axis \n",
        "tf.expand_dims(rank_2_tensor,axis = 0)"
      ],
      "metadata": {
        "colab": {
          "base_uri": "https://localhost:8080/"
        },
        "id": "aC_ei541ORUK",
        "outputId": "f854c41f-6783-4965-e8af-56e4199f7bb8"
      },
      "execution_count": null,
      "outputs": [
        {
          "output_type": "execute_result",
          "data": {
            "text/plain": [
              "<tf.Tensor: shape=(1, 2, 2), dtype=int32, numpy=\n",
              "array([[[10,  7],\n",
              "        [ 3,  4]]], dtype=int32)>"
            ]
          },
          "metadata": {},
          "execution_count": 39
        }
      ]
    },
    {
      "cell_type": "code",
      "source": [
        "rank_2_tensor\n",
        "#numbers stay the same but notice how their shapes change."
      ],
      "metadata": {
        "colab": {
          "base_uri": "https://localhost:8080/"
        },
        "id": "wnJ37Ur3OZj7",
        "outputId": "64caf292-21f0-4bb5-d2da-80a28959cad3"
      },
      "execution_count": null,
      "outputs": [
        {
          "output_type": "execute_result",
          "data": {
            "text/plain": [
              "<tf.Tensor: shape=(2, 2), dtype=int32, numpy=\n",
              "array([[10,  7],\n",
              "       [ 3,  4]], dtype=int32)>"
            ]
          },
          "metadata": {},
          "execution_count": 40
        }
      ]
    },
    {
      "cell_type": "markdown",
      "source": [
        "### Manipulating tensors(tensor operations)\n",
        "Basic operations"
      ],
      "metadata": {
        "id": "TLWD_IOKOgYS"
      }
    },
    {
      "cell_type": "code",
      "source": [
        "# you can add values to a tensor using the addition operator\n",
        "\n",
        "tensor = tf.constant([[10,7],\n",
        "                      [3,4]])\n",
        "\n",
        "tensor + 10 \n",
        "#kind of works like a scalar KIND OF"
      ],
      "metadata": {
        "colab": {
          "base_uri": "https://localhost:8080/"
        },
        "id": "hYL44BH2RjLr",
        "outputId": "0e489e0d-d9a1-41b2-f7ac-98bb5e908ca4"
      },
      "execution_count": null,
      "outputs": [
        {
          "output_type": "execute_result",
          "data": {
            "text/plain": [
              "<tf.Tensor: shape=(2, 2), dtype=int32, numpy=\n",
              "array([[20, 17],\n",
              "       [13, 14]], dtype=int32)>"
            ]
          },
          "metadata": {},
          "execution_count": 41
        }
      ]
    },
    {
      "cell_type": "code",
      "source": [
        "# original tensor is unchanged \n",
        "tensor"
      ],
      "metadata": {
        "colab": {
          "base_uri": "https://localhost:8080/"
        },
        "id": "4BeKo7J2R9S2",
        "outputId": "06d1f335-fd6a-4013-8d7a-13450a354d87"
      },
      "execution_count": null,
      "outputs": [
        {
          "output_type": "execute_result",
          "data": {
            "text/plain": [
              "<tf.Tensor: shape=(2, 2), dtype=int32, numpy=\n",
              "array([[10,  7],\n",
              "       [ 3,  4]], dtype=int32)>"
            ]
          },
          "metadata": {},
          "execution_count": 51
        }
      ]
    },
    {
      "cell_type": "code",
      "source": [
        "# multiplication \n",
        "tensor * 10"
      ],
      "metadata": {
        "colab": {
          "base_uri": "https://localhost:8080/"
        },
        "id": "PLhDV5F7SK8E",
        "outputId": "db2edf07-947d-4040-d3b3-b81fc9e72d96"
      },
      "execution_count": null,
      "outputs": [
        {
          "output_type": "execute_result",
          "data": {
            "text/plain": [
              "<tf.Tensor: shape=(2, 2), dtype=int32, numpy=\n",
              "array([[100,  70],\n",
              "       [ 30,  40]], dtype=int32)>"
            ]
          },
          "metadata": {},
          "execution_count": 42
        }
      ]
    },
    {
      "cell_type": "code",
      "source": [
        "#subtraction \n",
        "tensor - 10 "
      ],
      "metadata": {
        "colab": {
          "base_uri": "https://localhost:8080/"
        },
        "id": "vTaYu4ttSOv3",
        "outputId": "6d51b0a4-df44-4dfd-b172-0506f8349bc3"
      },
      "execution_count": null,
      "outputs": [
        {
          "output_type": "execute_result",
          "data": {
            "text/plain": [
              "<tf.Tensor: shape=(2, 2), dtype=int32, numpy=\n",
              "array([[ 0, -3],\n",
              "       [-7, -6]], dtype=int32)>"
            ]
          },
          "metadata": {},
          "execution_count": 43
        }
      ]
    },
    {
      "cell_type": "code",
      "source": [
        "# We can use the tensorflow built-in function too \n",
        "tf.multiply(tensor,10)\n",
        "#saves gpu"
      ],
      "metadata": {
        "colab": {
          "base_uri": "https://localhost:8080/"
        },
        "id": "4YIB1cXTSRzP",
        "outputId": "df6dbf57-29b3-4871-c773-f5c93ee668db"
      },
      "execution_count": null,
      "outputs": [
        {
          "output_type": "execute_result",
          "data": {
            "text/plain": [
              "<tf.Tensor: shape=(2, 2), dtype=int32, numpy=\n",
              "array([[100,  70],\n",
              "       [ 30,  40]], dtype=int32)>"
            ]
          },
          "metadata": {},
          "execution_count": 44
        }
      ]
    },
    {
      "cell_type": "code",
      "source": [
        "tf.add(tensor,10)"
      ],
      "metadata": {
        "colab": {
          "base_uri": "https://localhost:8080/"
        },
        "id": "NVdRg3NTS1LQ",
        "outputId": "5b05b587-315f-455b-e8ee-d68c73d9cb95"
      },
      "execution_count": null,
      "outputs": [
        {
          "output_type": "execute_result",
          "data": {
            "text/plain": [
              "<tf.Tensor: shape=(2, 2), dtype=int32, numpy=\n",
              "array([[20, 17],\n",
              "       [13, 14]], dtype=int32)>"
            ]
          },
          "metadata": {},
          "execution_count": 45
        }
      ]
    },
    {
      "cell_type": "code",
      "source": [
        "tf.subtract(tensor,10)"
      ],
      "metadata": {
        "colab": {
          "base_uri": "https://localhost:8080/"
        },
        "id": "hW-w71EVS3t7",
        "outputId": "5dc51e62-215f-467c-e6c3-374c75ed134b"
      },
      "execution_count": null,
      "outputs": [
        {
          "output_type": "execute_result",
          "data": {
            "text/plain": [
              "<tf.Tensor: shape=(2, 2), dtype=int32, numpy=\n",
              "array([[ 0, -3],\n",
              "       [-7, -6]], dtype=int32)>"
            ]
          },
          "metadata": {},
          "execution_count": 46
        }
      ]
    },
    {
      "cell_type": "markdown",
      "source": [
        "Matrix multiplication"
      ],
      "metadata": {
        "id": "pTtH1PMqULVE"
      }
    },
    {
      "cell_type": "code",
      "source": [
        "print(tensor) \n",
        "tf.matmul(tensor,tensor)"
      ],
      "metadata": {
        "colab": {
          "base_uri": "https://localhost:8080/"
        },
        "id": "p6Cm_GtUUOhM",
        "outputId": "bd59a6ad-7d21-40c6-a697-7900b07b1c49"
      },
      "execution_count": null,
      "outputs": [
        {
          "output_type": "stream",
          "name": "stdout",
          "text": [
            "tf.Tensor(\n",
            "[[10  7]\n",
            " [ 3  4]], shape=(2, 2), dtype=int32)\n"
          ]
        },
        {
          "output_type": "execute_result",
          "data": {
            "text/plain": [
              "<tf.Tensor: shape=(2, 2), dtype=int32, numpy=\n",
              "array([[121,  98],\n",
              "       [ 42,  37]], dtype=int32)>"
            ]
          },
          "metadata": {},
          "execution_count": 47
        }
      ]
    },
    {
      "cell_type": "code",
      "source": [
        "# matrix multiplication with python operator @\n",
        "tensor @ tensor "
      ],
      "metadata": {
        "colab": {
          "base_uri": "https://localhost:8080/"
        },
        "id": "CUVYOc9DUaTU",
        "outputId": "3a496d64-8789-4b91-8554-87ae5e5b2003"
      },
      "execution_count": null,
      "outputs": [
        {
          "output_type": "execute_result",
          "data": {
            "text/plain": [
              "<tf.Tensor: shape=(2, 2), dtype=int32, numpy=\n",
              "array([[121,  98],\n",
              "       [ 42,  37]], dtype=int32)>"
            ]
          },
          "metadata": {},
          "execution_count": 48
        }
      ]
    },
    {
      "cell_type": "markdown",
      "source": [
        "**The dot product** \n",
        "\n",
        "Matrix multiplication is also referred to as the dot product. \n",
        "\n",
        "you can perform matrix multiplication using: \n",
        "\n",
        "*`tf.matmul()`\n",
        "*`tf.tesnordot()` \n",
        "\n",
        "\n"
      ],
      "metadata": {
        "id": "L-0_ObMFU_Tz"
      }
    },
    {
      "cell_type": "code",
      "source": [
        "# Perform the dot product on X and Y (requires X or Y to be transposed) \n",
        "#transposing is flipping the axis. \n",
        "x = tf.constant([[1,2],[3,4],[5,6]]) \n",
        "y = tf.constant([[7,8],[9,10],[11,12]]) \n",
        "x,y\n",
        "tf.tensordot(tf.transpose(x),y, axes=1) "
      ],
      "metadata": {
        "colab": {
          "base_uri": "https://localhost:8080/"
        },
        "id": "zbIxz_RuV6Zz",
        "outputId": "d3ce290d-06d8-475d-b311-10630d190512"
      },
      "execution_count": null,
      "outputs": [
        {
          "output_type": "execute_result",
          "data": {
            "text/plain": [
              "<tf.Tensor: shape=(2, 2), dtype=int32, numpy=\n",
              "array([[ 89,  98],\n",
              "       [116, 128]], dtype=int32)>"
            ]
          },
          "metadata": {},
          "execution_count": 49
        }
      ]
    },
    {
      "cell_type": "code",
      "source": [
        "# Perform matrix multiplication between x and y (transposed) \n",
        "tf.matmul(x, tf.transpose(y))  "
      ],
      "metadata": {
        "colab": {
          "base_uri": "https://localhost:8080/"
        },
        "id": "X_v0G9MxXbbY",
        "outputId": "614eb060-b369-4aaa-a696-ff56a97c7578"
      },
      "execution_count": null,
      "outputs": [
        {
          "output_type": "execute_result",
          "data": {
            "text/plain": [
              "<tf.Tensor: shape=(3, 3), dtype=int32, numpy=\n",
              "array([[ 23,  29,  35],\n",
              "       [ 53,  67,  81],\n",
              "       [ 83, 105, 127]], dtype=int32)>"
            ]
          },
          "metadata": {},
          "execution_count": 50
        }
      ]
    },
    {
      "cell_type": "code",
      "source": [
        "# Perform matrix multiplication between x and y (reshaped)\n",
        "\n",
        "tf.matmul(x,tf.reshape(y, shape=(2,3)))"
      ],
      "metadata": {
        "colab": {
          "base_uri": "https://localhost:8080/"
        },
        "id": "hBHcCadCXoXm",
        "outputId": "aa73c4f0-e2b5-45a2-f023-d196abc2db9e"
      },
      "execution_count": null,
      "outputs": [
        {
          "output_type": "execute_result",
          "data": {
            "text/plain": [
              "<tf.Tensor: shape=(3, 3), dtype=int32, numpy=\n",
              "array([[ 27,  30,  33],\n",
              "       [ 61,  68,  75],\n",
              "       [ 95, 106, 117]], dtype=int32)>"
            ]
          },
          "metadata": {},
          "execution_count": 51
        }
      ]
    },
    {
      "cell_type": "code",
      "source": [
        "# Check the values of Y, reshape y and transposed Y\n",
        "print(\"Normal Y:\")\n",
        "print(y,\"\\n\") \n",
        "\n",
        "print(\"Y reshaped to (2,3):\")\n",
        "print(tf.reshape(y,(2,3)),\"\\n\")\n",
        "\n",
        "print(\"y transposed :\")\n",
        "print(tf.transpose(y))"
      ],
      "metadata": {
        "colab": {
          "base_uri": "https://localhost:8080/"
        },
        "id": "VUFvOaNZZHVC",
        "outputId": "02710042-6ba2-4e29-aa28-f5f176c9a40c"
      },
      "execution_count": null,
      "outputs": [
        {
          "output_type": "stream",
          "name": "stdout",
          "text": [
            "Normal Y:\n",
            "tf.Tensor(\n",
            "[[ 7  8]\n",
            " [ 9 10]\n",
            " [11 12]], shape=(3, 2), dtype=int32) \n",
            "\n",
            "Y reshaped to (2,3):\n",
            "tf.Tensor(\n",
            "[[ 7  8  9]\n",
            " [10 11 12]], shape=(2, 3), dtype=int32) \n",
            "\n",
            "y transposed :\n",
            "tf.Tensor(\n",
            "[[ 7  9 11]\n",
            " [ 8 10 12]], shape=(2, 3), dtype=int32)\n"
          ]
        }
      ]
    },
    {
      "cell_type": "markdown",
      "source": [
        "Generally, when performing matrix multiplication on two tensors, and one of he axes doesn't line up you will transpose rather than reshape one of the tensors so that you will satisify the multiplication rules"
      ],
      "metadata": {
        "id": "Xi37lU6-ZIwx"
      }
    },
    {
      "cell_type": "markdown",
      "source": [
        "### Changing the datatype of a tensor (int32)"
      ],
      "metadata": {
        "id": "QHJy1H5cZWrO"
      }
    },
    {
      "cell_type": "code",
      "source": [
        "# Create a new tensor with default datatype (float32)\n",
        "B = tf.constant([1.7,7.4])\n",
        "B.dtype"
      ],
      "metadata": {
        "colab": {
          "base_uri": "https://localhost:8080/"
        },
        "id": "6HPd6HswZlBA",
        "outputId": "bd74975e-7b95-43e8-ff32-55cca8fdc358"
      },
      "execution_count": null,
      "outputs": [
        {
          "output_type": "execute_result",
          "data": {
            "text/plain": [
              "tf.float32"
            ]
          },
          "metadata": {},
          "execution_count": 53
        }
      ]
    },
    {
      "cell_type": "code",
      "source": [
        "C = tf.constant([7,10])\n",
        "C.dtype "
      ],
      "metadata": {
        "colab": {
          "base_uri": "https://localhost:8080/"
        },
        "id": "K6XMubxuZvzL",
        "outputId": "e9971a70-fae3-4931-8a05-49f7fb7c850d"
      },
      "execution_count": null,
      "outputs": [
        {
          "output_type": "execute_result",
          "data": {
            "text/plain": [
              "tf.int32"
            ]
          },
          "metadata": {},
          "execution_count": 55
        }
      ]
    },
    {
      "cell_type": "code",
      "source": [
        "# Change from float32 to float16 (reduced precision)\n",
        "#mixed precision\n",
        "D = tf.cast(B, dtype=tf.float16)\n",
        "D, D.dtype"
      ],
      "metadata": {
        "colab": {
          "base_uri": "https://localhost:8080/"
        },
        "id": "IuVB714laAye",
        "outputId": "f7028f61-616b-4521-fd7c-ae3b8e0b95e5"
      },
      "execution_count": null,
      "outputs": [
        {
          "output_type": "execute_result",
          "data": {
            "text/plain": [
              "(<tf.Tensor: shape=(2,), dtype=float16, numpy=array([1.7, 7.4], dtype=float16)>,\n",
              " tf.float16)"
            ]
          },
          "metadata": {},
          "execution_count": 54
        }
      ]
    },
    {
      "cell_type": "markdown",
      "source": [
        "#### if you ever need to change the datatype of a tensor, because a calculuation isnt working right \n",
        "*`tf.cast()` \n",
        "is our friend"
      ],
      "metadata": {
        "id": "7YkJaIsDbd_v"
      }
    },
    {
      "cell_type": "markdown",
      "source": [
        "### Aggregating tensors \n",
        "\n",
        "Aggregating tensors = condensing them from multiple values down to a smaller amount of values"
      ],
      "metadata": {
        "id": "D0bC61mpC657"
      }
    },
    {
      "cell_type": "code",
      "source": [
        "# Get the absolute values \n",
        "D = tf.constant([-7,-10])\n",
        "D"
      ],
      "metadata": {
        "colab": {
          "base_uri": "https://localhost:8080/"
        },
        "id": "n5XRc2taDHh_",
        "outputId": "c58569fc-d283-47e1-d3e2-ae7907a48292"
      },
      "execution_count": null,
      "outputs": [
        {
          "output_type": "execute_result",
          "data": {
            "text/plain": [
              "<tf.Tensor: shape=(2,), dtype=int32, numpy=array([ -7, -10], dtype=int32)>"
            ]
          },
          "metadata": {},
          "execution_count": 56
        }
      ]
    },
    {
      "cell_type": "code",
      "source": [
        "# Get absolute values \n",
        "\n",
        "tf.abs(D)"
      ],
      "metadata": {
        "colab": {
          "base_uri": "https://localhost:8080/"
        },
        "id": "3udNmn3RDRIi",
        "outputId": "4d459fc5-cc7b-4901-efe6-066d309b6211"
      },
      "execution_count": null,
      "outputs": [
        {
          "output_type": "execute_result",
          "data": {
            "text/plain": [
              "<tf.Tensor: shape=(2,), dtype=int32, numpy=array([ 7, 10], dtype=int32)>"
            ]
          },
          "metadata": {},
          "execution_count": 57
        }
      ]
    },
    {
      "cell_type": "markdown",
      "source": [
        "Lets go through the following forms of aggregation \n",
        "\n",
        "* Get the minimum \n",
        "* Get the maximum \n",
        "* Get the mean of a tensor \n",
        "* Get the sum of a tensor \n"
      ],
      "metadata": {
        "id": "SKH8DQEcDdDp"
      }
    },
    {
      "cell_type": "code",
      "source": [
        "#Create a random tensor with values between 0 and 100 of size 50\n",
        "E = tf.constant(np.random.randint(0,100,size=50))\n",
        "E"
      ],
      "metadata": {
        "colab": {
          "base_uri": "https://localhost:8080/"
        },
        "id": "8-P0IKN6EkaY",
        "outputId": "512a4edc-5611-4552-d9f7-e28d3291925d"
      },
      "execution_count": null,
      "outputs": [
        {
          "output_type": "execute_result",
          "data": {
            "text/plain": [
              "<tf.Tensor: shape=(50,), dtype=int64, numpy=\n",
              "array([46, 27, 45, 26, 63, 29, 22, 73, 43, 78, 34,  4, 12,  0, 84,  1, 21,\n",
              "       28, 25,  6, 69, 20, 46, 78, 77, 54, 30, 77, 25, 93, 33, 59, 51, 79,\n",
              "       54, 81, 73, 41, 47, 88, 91,  5, 20, 10, 61, 45, 50, 74, 10, 15])>"
            ]
          },
          "metadata": {},
          "execution_count": 58
        }
      ]
    },
    {
      "cell_type": "code",
      "source": [
        "print(\"I am size\", tf.size(E))\n",
        "print(\"I am shape: \", E.shape)\n",
        "print(\"I am ndim: \", E.ndim)"
      ],
      "metadata": {
        "colab": {
          "base_uri": "https://localhost:8080/"
        },
        "id": "WjTwSq03Ewzk",
        "outputId": "2d78f68e-f436-44e0-891f-73fe7c349c89"
      },
      "execution_count": null,
      "outputs": [
        {
          "output_type": "stream",
          "name": "stdout",
          "text": [
            "I am size tf.Tensor(50, shape=(), dtype=int32)\n",
            "I am shape:  (50,)\n",
            "I am ndim:  1\n"
          ]
        }
      ]
    },
    {
      "cell_type": "code",
      "source": [
        "# Find the minimum \n",
        "tf.reduce_min(E)"
      ],
      "metadata": {
        "colab": {
          "base_uri": "https://localhost:8080/"
        },
        "id": "CcXDMWmIFHnM",
        "outputId": "e22e4e5c-7789-4a48-915a-543b87c1a11e"
      },
      "execution_count": null,
      "outputs": [
        {
          "output_type": "execute_result",
          "data": {
            "text/plain": [
              "<tf.Tensor: shape=(), dtype=int64, numpy=0>"
            ]
          },
          "metadata": {},
          "execution_count": 60
        }
      ]
    },
    {
      "cell_type": "code",
      "source": [
        "#Find the maximum \n",
        "tf.reduce_max(E) "
      ],
      "metadata": {
        "colab": {
          "base_uri": "https://localhost:8080/"
        },
        "id": "J7XrDJM0FT38",
        "outputId": "e2417f7a-796c-4650-e132-f1cf7a686c61"
      },
      "execution_count": null,
      "outputs": [
        {
          "output_type": "execute_result",
          "data": {
            "text/plain": [
              "<tf.Tensor: shape=(), dtype=int64, numpy=93>"
            ]
          },
          "metadata": {},
          "execution_count": 61
        }
      ]
    },
    {
      "cell_type": "code",
      "source": [
        "#finde the mean \n",
        "tf.reduce_mean(E)"
      ],
      "metadata": {
        "colab": {
          "base_uri": "https://localhost:8080/"
        },
        "id": "0aAnKW-OFaAu",
        "outputId": "36e4de6e-ed6c-47b4-ea7c-80a9a3922826"
      },
      "execution_count": null,
      "outputs": [
        {
          "output_type": "execute_result",
          "data": {
            "text/plain": [
              "<tf.Tensor: shape=(), dtype=int64, numpy=44>"
            ]
          },
          "metadata": {},
          "execution_count": 62
        }
      ]
    },
    {
      "cell_type": "code",
      "source": [
        "#find the sum \n",
        "tf.reduce_sum(E)"
      ],
      "metadata": {
        "colab": {
          "base_uri": "https://localhost:8080/"
        },
        "id": "5kK904MMFd92",
        "outputId": "3cf23b34-3b81-425f-fb00-2702ec68fe66"
      },
      "execution_count": null,
      "outputs": [
        {
          "output_type": "execute_result",
          "data": {
            "text/plain": [
              "<tf.Tensor: shape=(), dtype=int64, numpy=2223>"
            ]
          },
          "metadata": {},
          "execution_count": 63
        }
      ]
    },
    {
      "cell_type": "markdown",
      "source": [
        "🛠️**Exercise:** With what We've just learned, find the variance and standard \n",
        "deviation of our 'E' tensor using Tensorflow methods. "
      ],
      "metadata": {
        "id": "4rxeREj_Fpvq"
      }
    },
    {
      "cell_type": "markdown",
      "source": [
        "**What is variance?: ** \n",
        "Def: The average of the squered differences from the mean.\n",
        "\n",
        "link: https://www.youtube.com/watch?v=x0rmUXWtSS8&ab_channel=TopTipBio \n",
        "Each variance value is squared which will not give us negative values. \n",
        "\n",
        "so: \n",
        "Mean \n",
        "variance = mean - datapoint \n",
        "Variance ^ 2 \n",
        "then variance = variance / datapoint - 1"
      ],
      "metadata": {
        "id": "3qa2y118GOe4"
      }
    },
    {
      "cell_type": "code",
      "source": [
        "#for variance \n",
        "import tensorflow_probability as tfp\n",
        "tfp.stats.variance(E)\n"
      ],
      "metadata": {
        "colab": {
          "base_uri": "https://localhost:8080/"
        },
        "id": "04x6CdPOHiTr",
        "outputId": "eeaf1287-d589-423c-a768-afccb5279c80"
      },
      "execution_count": null,
      "outputs": [
        {
          "output_type": "execute_result",
          "data": {
            "text/plain": [
              "<tf.Tensor: shape=(), dtype=int64, numpy=731>"
            ]
          },
          "metadata": {},
          "execution_count": 64
        }
      ]
    },
    {
      "cell_type": "code",
      "source": [
        "#standard deviation is just the variance rooted \n",
        "#not as simple as you appear, this one we had to change the datatype for the standard deviation\n",
        "tf.math.reduce_std(tf.cast(E, dtype=tf.float32))"
      ],
      "metadata": {
        "colab": {
          "base_uri": "https://localhost:8080/"
        },
        "id": "_z1aMPPoJAXe",
        "outputId": "ca884ec4-2e68-499a-c952-7bdcaf250399"
      },
      "execution_count": null,
      "outputs": [
        {
          "output_type": "execute_result",
          "data": {
            "text/plain": [
              "<tf.Tensor: shape=(), dtype=float32, numpy=27.033466>"
            ]
          },
          "metadata": {},
          "execution_count": 65
        }
      ]
    },
    {
      "cell_type": "markdown",
      "source": [
        "## Find the positional Maximum and Minimum of tensor\n",
        "\n",
        "\"at which index of the tensor does the max or min occurr\""
      ],
      "metadata": {
        "id": "BuTu4YFcJp5h"
      }
    },
    {
      "cell_type": "code",
      "source": [
        "# Create a new tensor for finding positional min and max \n",
        "tf.random.set_seed(42)\n",
        "F = tf.random.uniform(shape=[50])\n",
        "F"
      ],
      "metadata": {
        "colab": {
          "base_uri": "https://localhost:8080/"
        },
        "id": "wLXPcczGLTBj",
        "outputId": "2900aa43-574c-4439-95e1-0c7c5218075d"
      },
      "execution_count": null,
      "outputs": [
        {
          "output_type": "execute_result",
          "data": {
            "text/plain": [
              "<tf.Tensor: shape=(50,), dtype=float32, numpy=\n",
              "array([0.6645621 , 0.44100678, 0.3528825 , 0.46448255, 0.03366041,\n",
              "       0.68467236, 0.74011743, 0.8724445 , 0.22632635, 0.22319686,\n",
              "       0.3103881 , 0.7223358 , 0.13318717, 0.5480639 , 0.5746088 ,\n",
              "       0.8996835 , 0.00946367, 0.5212307 , 0.6345445 , 0.1993283 ,\n",
              "       0.72942245, 0.54583454, 0.10756552, 0.6767061 , 0.6602763 ,\n",
              "       0.33695042, 0.60141766, 0.21062577, 0.8527372 , 0.44062173,\n",
              "       0.9485276 , 0.23752594, 0.81179297, 0.5263394 , 0.494308  ,\n",
              "       0.21612847, 0.8457197 , 0.8718841 , 0.3083862 , 0.6868038 ,\n",
              "       0.23764038, 0.7817228 , 0.9671384 , 0.06870162, 0.79873943,\n",
              "       0.66028714, 0.5871513 , 0.16461694, 0.7381023 , 0.32054043],\n",
              "      dtype=float32)>"
            ]
          },
          "metadata": {},
          "execution_count": 66
        }
      ]
    },
    {
      "cell_type": "code",
      "source": [
        "#Find the positional Maximum \n",
        "#means position 42\n",
        "tf.argmax(F)"
      ],
      "metadata": {
        "colab": {
          "base_uri": "https://localhost:8080/"
        },
        "id": "5othScwpLUcO",
        "outputId": "51e3a658-e683-46c5-8d09-6672c2546a5f"
      },
      "execution_count": null,
      "outputs": [
        {
          "output_type": "execute_result",
          "data": {
            "text/plain": [
              "<tf.Tensor: shape=(), dtype=int64, numpy=42>"
            ]
          },
          "metadata": {},
          "execution_count": 67
        }
      ]
    },
    {
      "cell_type": "code",
      "source": [
        "#index on or largest value position \n",
        "F[tf.argmax(F)]"
      ],
      "metadata": {
        "colab": {
          "base_uri": "https://localhost:8080/"
        },
        "id": "ECqxv57jLezw",
        "outputId": "a3357bbe-b2ea-452a-9cb5-9be7d5db93eb"
      },
      "execution_count": null,
      "outputs": [
        {
          "output_type": "execute_result",
          "data": {
            "text/plain": [
              "<tf.Tensor: shape=(), dtype=float32, numpy=0.9671384>"
            ]
          },
          "metadata": {},
          "execution_count": 68
        }
      ]
    },
    {
      "cell_type": "code",
      "source": [
        "tf.reduce_max(F)"
      ],
      "metadata": {
        "colab": {
          "base_uri": "https://localhost:8080/"
        },
        "id": "S4_EftRjLqmY",
        "outputId": "9cb6b0eb-e2db-4153-831e-99fb8be5db90"
      },
      "execution_count": null,
      "outputs": [
        {
          "output_type": "execute_result",
          "data": {
            "text/plain": [
              "<tf.Tensor: shape=(), dtype=float32, numpy=0.9671384>"
            ]
          },
          "metadata": {},
          "execution_count": 69
        }
      ]
    },
    {
      "cell_type": "code",
      "source": [
        "#check for quality \n",
        "F[tf.argmax(F)] == tf.reduce_max(F)"
      ],
      "metadata": {
        "colab": {
          "base_uri": "https://localhost:8080/"
        },
        "id": "LGf8oJIJLtUT",
        "outputId": "58b9fb38-b093-4c8a-aeba-080516ad4e46"
      },
      "execution_count": null,
      "outputs": [
        {
          "output_type": "execute_result",
          "data": {
            "text/plain": [
              "<tf.Tensor: shape=(), dtype=bool, numpy=True>"
            ]
          },
          "metadata": {},
          "execution_count": 70
        }
      ]
    },
    {
      "cell_type": "code",
      "source": [
        "#Find the positional minimum \n",
        "tf.argmin(F)"
      ],
      "metadata": {
        "colab": {
          "base_uri": "https://localhost:8080/"
        },
        "id": "KBYgT2gkL5Dr",
        "outputId": "5aff1cc4-0b08-4881-8e20-6cba3e6da45b"
      },
      "execution_count": null,
      "outputs": [
        {
          "output_type": "execute_result",
          "data": {
            "text/plain": [
              "<tf.Tensor: shape=(), dtype=int64, numpy=16>"
            ]
          },
          "metadata": {},
          "execution_count": 71
        }
      ]
    },
    {
      "cell_type": "code",
      "source": [
        "#find the min using the positional min \n",
        "F[tf.argmin(F)]"
      ],
      "metadata": {
        "colab": {
          "base_uri": "https://localhost:8080/"
        },
        "id": "l1hozB-nMJlP",
        "outputId": "df85ae34-291d-4b28-cd6c-039d726ec37e"
      },
      "execution_count": null,
      "outputs": [
        {
          "output_type": "execute_result",
          "data": {
            "text/plain": [
              "<tf.Tensor: shape=(), dtype=float32, numpy=0.009463668>"
            ]
          },
          "metadata": {},
          "execution_count": 72
        }
      ]
    },
    {
      "cell_type": "code",
      "source": [
        "#check quality\n",
        "tf.reduce_min(F)"
      ],
      "metadata": {
        "colab": {
          "base_uri": "https://localhost:8080/"
        },
        "id": "BBwAQbDiMOcA",
        "outputId": "78f858d5-3dfa-42de-b162-8b30bca4fa17"
      },
      "execution_count": null,
      "outputs": [
        {
          "output_type": "execute_result",
          "data": {
            "text/plain": [
              "<tf.Tensor: shape=(), dtype=float32, numpy=0.009463668>"
            ]
          },
          "metadata": {},
          "execution_count": 73
        }
      ]
    },
    {
      "cell_type": "code",
      "source": [
        "### Squeeze the tensor (removing all single dimension)\n",
        "#shape is what we need to pay attention to when squeezing\n",
        "tf.random.set_seed(42)\n",
        "G = tf.constant(tf.random.uniform(shape=[50]),shape=(1,1,1,1,50))\n",
        "G"
      ],
      "metadata": {
        "colab": {
          "base_uri": "https://localhost:8080/"
        },
        "id": "ylmnPGFaMatm",
        "outputId": "deaed21d-f4f4-40f6-e78c-482681bd1b93"
      },
      "execution_count": null,
      "outputs": [
        {
          "output_type": "execute_result",
          "data": {
            "text/plain": [
              "<tf.Tensor: shape=(1, 1, 1, 1, 50), dtype=float32, numpy=\n",
              "array([[[[[0.6645621 , 0.44100678, 0.3528825 , 0.46448255, 0.03366041,\n",
              "           0.68467236, 0.74011743, 0.8724445 , 0.22632635, 0.22319686,\n",
              "           0.3103881 , 0.7223358 , 0.13318717, 0.5480639 , 0.5746088 ,\n",
              "           0.8996835 , 0.00946367, 0.5212307 , 0.6345445 , 0.1993283 ,\n",
              "           0.72942245, 0.54583454, 0.10756552, 0.6767061 , 0.6602763 ,\n",
              "           0.33695042, 0.60141766, 0.21062577, 0.8527372 , 0.44062173,\n",
              "           0.9485276 , 0.23752594, 0.81179297, 0.5263394 , 0.494308  ,\n",
              "           0.21612847, 0.8457197 , 0.8718841 , 0.3083862 , 0.6868038 ,\n",
              "           0.23764038, 0.7817228 , 0.9671384 , 0.06870162, 0.79873943,\n",
              "           0.66028714, 0.5871513 , 0.16461694, 0.7381023 , 0.32054043]]]]],\n",
              "      dtype=float32)>"
            ]
          },
          "metadata": {},
          "execution_count": 74
        }
      ]
    },
    {
      "cell_type": "code",
      "source": [
        "G.shape"
      ],
      "metadata": {
        "colab": {
          "base_uri": "https://localhost:8080/"
        },
        "id": "vi-VVd2GM-cU",
        "outputId": "1ae368fb-191d-42a2-9a8a-963a21fd9548"
      },
      "execution_count": null,
      "outputs": [
        {
          "output_type": "execute_result",
          "data": {
            "text/plain": [
              "TensorShape([1, 1, 1, 1, 50])"
            ]
          },
          "metadata": {},
          "execution_count": 75
        }
      ]
    },
    {
      "cell_type": "code",
      "source": [
        "#reducing the size of the tensor by 1\n",
        "#puts it back into its essence\n",
        "G_squeezed = tf.squeeze(G)\n",
        "G_squeezed, G_squeezed.shape"
      ],
      "metadata": {
        "colab": {
          "base_uri": "https://localhost:8080/"
        },
        "id": "EJojPPT2NAoc",
        "outputId": "e14a008d-0a30-49f1-8d52-361db37db9b5"
      },
      "execution_count": null,
      "outputs": [
        {
          "output_type": "execute_result",
          "data": {
            "text/plain": [
              "(<tf.Tensor: shape=(50,), dtype=float32, numpy=\n",
              " array([0.6645621 , 0.44100678, 0.3528825 , 0.46448255, 0.03366041,\n",
              "        0.68467236, 0.74011743, 0.8724445 , 0.22632635, 0.22319686,\n",
              "        0.3103881 , 0.7223358 , 0.13318717, 0.5480639 , 0.5746088 ,\n",
              "        0.8996835 , 0.00946367, 0.5212307 , 0.6345445 , 0.1993283 ,\n",
              "        0.72942245, 0.54583454, 0.10756552, 0.6767061 , 0.6602763 ,\n",
              "        0.33695042, 0.60141766, 0.21062577, 0.8527372 , 0.44062173,\n",
              "        0.9485276 , 0.23752594, 0.81179297, 0.5263394 , 0.494308  ,\n",
              "        0.21612847, 0.8457197 , 0.8718841 , 0.3083862 , 0.6868038 ,\n",
              "        0.23764038, 0.7817228 , 0.9671384 , 0.06870162, 0.79873943,\n",
              "        0.66028714, 0.5871513 , 0.16461694, 0.7381023 , 0.32054043],\n",
              "       dtype=float32)>, TensorShape([50]))"
            ]
          },
          "metadata": {},
          "execution_count": 76
        }
      ]
    },
    {
      "cell_type": "markdown",
      "source": [
        "### one-hot encode tensors \n",
        "one-hot is a form of encoding, think red, green, blue. 1 for red 0 for blue 0 for green. \n",
        "1 would just represent what is turned on "
      ],
      "metadata": {
        "id": "br7NLR8fNUUW"
      }
    },
    {
      "cell_type": "code",
      "source": [
        "#Create a list of indices \n",
        "some_list = [0,1,2,3] # could be red, green, blue, purple \n",
        "depth = 4\n",
        "# One hot encode our list of indices \n",
        "tf.one_hot(some_list,depth)"
      ],
      "metadata": {
        "colab": {
          "base_uri": "https://localhost:8080/"
        },
        "id": "cH0lQYu6Nzpp",
        "outputId": "495a3b12-a8a2-4632-fc16-410b0cbcbb94"
      },
      "execution_count": null,
      "outputs": [
        {
          "output_type": "execute_result",
          "data": {
            "text/plain": [
              "<tf.Tensor: shape=(4, 4), dtype=float32, numpy=\n",
              "array([[1., 0., 0., 0.],\n",
              "       [0., 1., 0., 0.],\n",
              "       [0., 0., 1., 0.],\n",
              "       [0., 0., 0., 1.]], dtype=float32)>"
            ]
          },
          "metadata": {},
          "execution_count": 77
        }
      ]
    },
    {
      "cell_type": "markdown",
      "source": [
        "### Squaring, log, square root "
      ],
      "metadata": {
        "id": "sdlLOfYPOvxl"
      }
    },
    {
      "cell_type": "code",
      "source": [
        "#Create a new tensor \n",
        "H = tf.range(1,10)\n",
        "H"
      ],
      "metadata": {
        "colab": {
          "base_uri": "https://localhost:8080/"
        },
        "id": "52k3_FLPO91l",
        "outputId": "4f08f06c-8fc1-4afc-e895-10574c619a61"
      },
      "execution_count": null,
      "outputs": [
        {
          "output_type": "execute_result",
          "data": {
            "text/plain": [
              "<tf.Tensor: shape=(9,), dtype=int32, numpy=array([1, 2, 3, 4, 5, 6, 7, 8, 9], dtype=int32)>"
            ]
          },
          "metadata": {},
          "execution_count": 78
        }
      ]
    },
    {
      "cell_type": "code",
      "source": [
        "tf.square(H)"
      ],
      "metadata": {
        "colab": {
          "base_uri": "https://localhost:8080/"
        },
        "id": "7UNziNwLPAkM",
        "outputId": "05a32c65-b64c-4d61-a592-c76d1eb1f12f"
      },
      "execution_count": null,
      "outputs": [
        {
          "output_type": "execute_result",
          "data": {
            "text/plain": [
              "<tf.Tensor: shape=(9,), dtype=int32, numpy=array([ 1,  4,  9, 16, 25, 36, 49, 64, 81], dtype=int32)>"
            ]
          },
          "metadata": {},
          "execution_count": 79
        }
      ]
    },
    {
      "cell_type": "code",
      "source": [
        "tf.math.sqrt(tf.cast(H,dtype=tf.float32))"
      ],
      "metadata": {
        "colab": {
          "base_uri": "https://localhost:8080/"
        },
        "id": "0PcpJXMDPGlh",
        "outputId": "a4d00998-fd79-4d55-ccec-593aaaa8ab33"
      },
      "execution_count": null,
      "outputs": [
        {
          "output_type": "execute_result",
          "data": {
            "text/plain": [
              "<tf.Tensor: shape=(9,), dtype=float32, numpy=\n",
              "array([1.       , 1.4142135, 1.7320508, 2.       , 2.236068 , 2.4494898,\n",
              "       2.6457512, 2.828427 , 3.       ], dtype=float32)>"
            ]
          },
          "metadata": {},
          "execution_count": 80
        }
      ]
    },
    {
      "cell_type": "code",
      "source": [
        "# Find the log\n",
        "tf.math.log(tf.cast(H,dtype=tf.float32))"
      ],
      "metadata": {
        "colab": {
          "base_uri": "https://localhost:8080/"
        },
        "id": "48zlb2d0Pd0I",
        "outputId": "108b39ba-202a-46ef-820b-1ca8851e1475"
      },
      "execution_count": null,
      "outputs": [
        {
          "output_type": "execute_result",
          "data": {
            "text/plain": [
              "<tf.Tensor: shape=(9,), dtype=float32, numpy=\n",
              "array([0.       , 0.6931472, 1.0986123, 1.3862944, 1.609438 , 1.7917595,\n",
              "       1.9459102, 2.0794415, 2.1972246], dtype=float32)>"
            ]
          },
          "metadata": {},
          "execution_count": 81
        }
      ]
    },
    {
      "cell_type": "markdown",
      "source": [
        "### Tensors and numpy\n",
        "\n",
        "TensorFlow interacts perfectly with numPy arrays"
      ],
      "metadata": {
        "id": "sFhNpDM4PuC3"
      }
    },
    {
      "cell_type": "code",
      "source": [
        "#Create a tensor directly from a numPy array\n",
        "J = tf.constant(np.array([3.,7.,10.]))\n",
        "J"
      ],
      "metadata": {
        "colab": {
          "base_uri": "https://localhost:8080/"
        },
        "id": "g0g1yl0pQA7R",
        "outputId": "cd301a1d-9043-4660-af40-cd9f3c835e4f"
      },
      "execution_count": null,
      "outputs": [
        {
          "output_type": "execute_result",
          "data": {
            "text/plain": [
              "<tf.Tensor: shape=(3,), dtype=float64, numpy=array([ 3.,  7., 10.])>"
            ]
          },
          "metadata": {},
          "execution_count": 82
        }
      ]
    },
    {
      "cell_type": "code",
      "source": [
        "#convert our tensor back to a NumPY array\n",
        "np.array(J),type(np.array(J))"
      ],
      "metadata": {
        "colab": {
          "base_uri": "https://localhost:8080/"
        },
        "id": "LZ9-gy0YQpSl",
        "outputId": "5f77d68a-6b2c-45d7-c080-885c87d93007"
      },
      "execution_count": null,
      "outputs": [
        {
          "output_type": "execute_result",
          "data": {
            "text/plain": [
              "(array([ 3.,  7., 10.]), numpy.ndarray)"
            ]
          },
          "metadata": {},
          "execution_count": 83
        }
      ]
    },
    {
      "cell_type": "code",
      "source": [
        "#Convert tensor J to a NumPy array \n",
        "J.numpy(), type(J.numpy())"
      ],
      "metadata": {
        "colab": {
          "base_uri": "https://localhost:8080/"
        },
        "id": "TkYGUrPzQaMP",
        "outputId": "698c8c39-c873-41a4-a309-73ae15fe831f"
      },
      "execution_count": null,
      "outputs": [
        {
          "output_type": "execute_result",
          "data": {
            "text/plain": [
              "(array([ 3.,  7., 10.]), numpy.ndarray)"
            ]
          },
          "metadata": {},
          "execution_count": 84
        }
      ]
    },
    {
      "cell_type": "code",
      "source": [
        "# The default types of each are slightly different\n",
        "numpy_J = tf.constant(np.array([3.,7.,10.]))\n",
        "tensor_J = tf.constant([3.,7.,10.])\n",
        "#check the data types of each \n",
        "numpy_J.dtype, tensor_J.dtype"
      ],
      "metadata": {
        "colab": {
          "base_uri": "https://localhost:8080/"
        },
        "id": "JxtmnYCoQ3mA",
        "outputId": "e3c57020-d2c7-4417-87fd-42cdbea14c65"
      },
      "execution_count": null,
      "outputs": [
        {
          "output_type": "execute_result",
          "data": {
            "text/plain": [
              "(tf.float64, tf.float32)"
            ]
          },
          "metadata": {},
          "execution_count": 85
        }
      ]
    },
    {
      "cell_type": "markdown",
      "source": [
        "### What are regression problems? \n",
        "####Example regression problems \n",
        "How much will this house sell for? \n",
        "\n",
        "How many people will buy this app? \n",
        "\n",
        "How much will my health insurance be? \n",
        "\n",
        "How much should I save each week for fuel?"
      ],
      "metadata": {
        "id": "E1psYOfqSIRz"
      }
    },
    {
      "cell_type": "markdown",
      "source": [
        "### What we are going to cover \n",
        "-architecture of a neural network regression model \n",
        "\n",
        "-input shapes and output shapes of a regression model(features and labels) \n",
        "\n",
        "-Creating custom data to view and fit\n",
        "\n",
        "-steps in modelling \n",
        "\n",
        "-creating a model, compiling a model, fitting a mdoel, evaluating a model\n",
        "\n",
        "-Different evaluation methods \n",
        "\n",
        "-saving and loading models\n"
      ],
      "metadata": {
        "id": "Sc71PCXXSkKc"
      }
    },
    {
      "cell_type": "code",
      "source": [
        "### Regression inputs and outputs \n"
      ],
      "metadata": {
        "id": "D-M2YMFgTrkP"
      },
      "execution_count": null,
      "outputs": []
    }
  ]
}