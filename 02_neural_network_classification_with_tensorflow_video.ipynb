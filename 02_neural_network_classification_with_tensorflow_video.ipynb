{
  "nbformat": 4,
  "nbformat_minor": 0,
  "metadata": {
    "colab": {
      "provenance": [],
      "collapsed_sections": [
        "06hlz2RiSSj_",
        "nmdv5eoWS2rz",
        "H_QqttTdiB_h"
      ],
      "authorship_tag": "ABX9TyNXPHgNPUebPke4sc///kr9",
      "include_colab_link": true
    },
    "kernelspec": {
      "name": "python3",
      "display_name": "Python 3"
    },
    "language_info": {
      "name": "python"
    }
  },
  "cells": [
    {
      "cell_type": "markdown",
      "metadata": {
        "id": "view-in-github",
        "colab_type": "text"
      },
      "source": [
        "<a href=\"https://colab.research.google.com/github/nekMont/Machine-Learning/blob/main/02_neural_network_classification_with_tensorflow_video.ipynb\" target=\"_parent\"><img src=\"https://colab.research.google.com/assets/colab-badge.svg\" alt=\"Open In Colab\"/></a>"
      ]
    },
    {
      "cell_type": "markdown",
      "source": [
        "# Introduction to neural network classification with TensorFlow\n",
        "\n",
        "In this notebook we're going to learn how to write neural networks for classification problems.\n",
        "\n",
        "A classification is where you try to classify something as one thing or another\n",
        "\n",
        "A few types of classification problems\n",
        "* Binary classification\n",
        "* Mutliclass classification\n",
        "* Multilable classification \n"
      ],
      "metadata": {
        "id": "06hlz2RiSSj_"
      }
    },
    {
      "cell_type": "markdown",
      "source": [
        "## Creating data to view and fit"
      ],
      "metadata": {
        "id": "nmdv5eoWS2rz"
      }
    },
    {
      "cell_type": "code",
      "source": [
        "from sklearn.datasets import make_circles \n",
        "\n",
        "# make 1000 examples\n",
        "n_samples = 1000\n",
        "\n",
        "# Create circles \n",
        "X,y = make_circles(n_samples,\n",
        "                   noise=0.03,\n",
        "                   random_state=42)"
      ],
      "metadata": {
        "id": "qHLR0iWTS6hg"
      },
      "execution_count": 1,
      "outputs": []
    },
    {
      "cell_type": "code",
      "source": [
        "#check out features \n",
        "X "
      ],
      "metadata": {
        "id": "62oxnRMiTn7E",
        "colab": {
          "base_uri": "https://localhost:8080/"
        },
        "outputId": "5d5990e9-6924-4d16-e40a-d25ba9b625c1"
      },
      "execution_count": 2,
      "outputs": [
        {
          "output_type": "execute_result",
          "data": {
            "text/plain": [
              "array([[ 0.75424625,  0.23148074],\n",
              "       [-0.75615888,  0.15325888],\n",
              "       [-0.81539193,  0.17328203],\n",
              "       ...,\n",
              "       [-0.13690036, -0.81001183],\n",
              "       [ 0.67036156, -0.76750154],\n",
              "       [ 0.28105665,  0.96382443]])"
            ]
          },
          "metadata": {},
          "execution_count": 2
        }
      ]
    },
    {
      "cell_type": "code",
      "source": [
        "#check the labels\n",
        "y[:10]"
      ],
      "metadata": {
        "colab": {
          "base_uri": "https://localhost:8080/"
        },
        "id": "sXbtglTuTqSC",
        "outputId": "c9ebdff8-caf8-4abc-e17e-b523e9356d1b"
      },
      "execution_count": 3,
      "outputs": [
        {
          "output_type": "execute_result",
          "data": {
            "text/plain": [
              "array([1, 1, 1, 1, 0, 1, 1, 1, 1, 0])"
            ]
          },
          "metadata": {},
          "execution_count": 3
        }
      ]
    },
    {
      "cell_type": "markdown",
      "source": [
        "Our data is a little hard to understand rn,\n",
        "lets visualize it."
      ],
      "metadata": {
        "id": "nctMg3kmUBP6"
      }
    },
    {
      "cell_type": "code",
      "source": [
        "import pandas as pd\n",
        "circles = pd.DataFrame({\"X0\":X[:,0],\"X1\":X[:,1], \"Label\":y})\n",
        "circles"
      ],
      "metadata": {
        "colab": {
          "base_uri": "https://localhost:8080/",
          "height": 424
        },
        "id": "7LxbnllRUMK9",
        "outputId": "824a26c4-c82e-4994-af06-5f0b9983b82f"
      },
      "execution_count": 4,
      "outputs": [
        {
          "output_type": "execute_result",
          "data": {
            "text/plain": [
              "           X0        X1  Label\n",
              "0    0.754246  0.231481      1\n",
              "1   -0.756159  0.153259      1\n",
              "2   -0.815392  0.173282      1\n",
              "3   -0.393731  0.692883      1\n",
              "4    0.442208 -0.896723      0\n",
              "..        ...       ...    ...\n",
              "995  0.244054  0.944125      0\n",
              "996 -0.978655 -0.272373      0\n",
              "997 -0.136900 -0.810012      1\n",
              "998  0.670362 -0.767502      0\n",
              "999  0.281057  0.963824      0\n",
              "\n",
              "[1000 rows x 3 columns]"
            ],
            "text/html": [
              "\n",
              "  <div id=\"df-d50bc64a-d311-4110-97c3-e654a4792ff0\">\n",
              "    <div class=\"colab-df-container\">\n",
              "      <div>\n",
              "<style scoped>\n",
              "    .dataframe tbody tr th:only-of-type {\n",
              "        vertical-align: middle;\n",
              "    }\n",
              "\n",
              "    .dataframe tbody tr th {\n",
              "        vertical-align: top;\n",
              "    }\n",
              "\n",
              "    .dataframe thead th {\n",
              "        text-align: right;\n",
              "    }\n",
              "</style>\n",
              "<table border=\"1\" class=\"dataframe\">\n",
              "  <thead>\n",
              "    <tr style=\"text-align: right;\">\n",
              "      <th></th>\n",
              "      <th>X0</th>\n",
              "      <th>X1</th>\n",
              "      <th>Label</th>\n",
              "    </tr>\n",
              "  </thead>\n",
              "  <tbody>\n",
              "    <tr>\n",
              "      <th>0</th>\n",
              "      <td>0.754246</td>\n",
              "      <td>0.231481</td>\n",
              "      <td>1</td>\n",
              "    </tr>\n",
              "    <tr>\n",
              "      <th>1</th>\n",
              "      <td>-0.756159</td>\n",
              "      <td>0.153259</td>\n",
              "      <td>1</td>\n",
              "    </tr>\n",
              "    <tr>\n",
              "      <th>2</th>\n",
              "      <td>-0.815392</td>\n",
              "      <td>0.173282</td>\n",
              "      <td>1</td>\n",
              "    </tr>\n",
              "    <tr>\n",
              "      <th>3</th>\n",
              "      <td>-0.393731</td>\n",
              "      <td>0.692883</td>\n",
              "      <td>1</td>\n",
              "    </tr>\n",
              "    <tr>\n",
              "      <th>4</th>\n",
              "      <td>0.442208</td>\n",
              "      <td>-0.896723</td>\n",
              "      <td>0</td>\n",
              "    </tr>\n",
              "    <tr>\n",
              "      <th>...</th>\n",
              "      <td>...</td>\n",
              "      <td>...</td>\n",
              "      <td>...</td>\n",
              "    </tr>\n",
              "    <tr>\n",
              "      <th>995</th>\n",
              "      <td>0.244054</td>\n",
              "      <td>0.944125</td>\n",
              "      <td>0</td>\n",
              "    </tr>\n",
              "    <tr>\n",
              "      <th>996</th>\n",
              "      <td>-0.978655</td>\n",
              "      <td>-0.272373</td>\n",
              "      <td>0</td>\n",
              "    </tr>\n",
              "    <tr>\n",
              "      <th>997</th>\n",
              "      <td>-0.136900</td>\n",
              "      <td>-0.810012</td>\n",
              "      <td>1</td>\n",
              "    </tr>\n",
              "    <tr>\n",
              "      <th>998</th>\n",
              "      <td>0.670362</td>\n",
              "      <td>-0.767502</td>\n",
              "      <td>0</td>\n",
              "    </tr>\n",
              "    <tr>\n",
              "      <th>999</th>\n",
              "      <td>0.281057</td>\n",
              "      <td>0.963824</td>\n",
              "      <td>0</td>\n",
              "    </tr>\n",
              "  </tbody>\n",
              "</table>\n",
              "<p>1000 rows × 3 columns</p>\n",
              "</div>\n",
              "      <button class=\"colab-df-convert\" onclick=\"convertToInteractive('df-d50bc64a-d311-4110-97c3-e654a4792ff0')\"\n",
              "              title=\"Convert this dataframe to an interactive table.\"\n",
              "              style=\"display:none;\">\n",
              "        \n",
              "  <svg xmlns=\"http://www.w3.org/2000/svg\" height=\"24px\"viewBox=\"0 0 24 24\"\n",
              "       width=\"24px\">\n",
              "    <path d=\"M0 0h24v24H0V0z\" fill=\"none\"/>\n",
              "    <path d=\"M18.56 5.44l.94 2.06.94-2.06 2.06-.94-2.06-.94-.94-2.06-.94 2.06-2.06.94zm-11 1L8.5 8.5l.94-2.06 2.06-.94-2.06-.94L8.5 2.5l-.94 2.06-2.06.94zm10 10l.94 2.06.94-2.06 2.06-.94-2.06-.94-.94-2.06-.94 2.06-2.06.94z\"/><path d=\"M17.41 7.96l-1.37-1.37c-.4-.4-.92-.59-1.43-.59-.52 0-1.04.2-1.43.59L10.3 9.45l-7.72 7.72c-.78.78-.78 2.05 0 2.83L4 21.41c.39.39.9.59 1.41.59.51 0 1.02-.2 1.41-.59l7.78-7.78 2.81-2.81c.8-.78.8-2.07 0-2.86zM5.41 20L4 18.59l7.72-7.72 1.47 1.35L5.41 20z\"/>\n",
              "  </svg>\n",
              "      </button>\n",
              "      \n",
              "  <style>\n",
              "    .colab-df-container {\n",
              "      display:flex;\n",
              "      flex-wrap:wrap;\n",
              "      gap: 12px;\n",
              "    }\n",
              "\n",
              "    .colab-df-convert {\n",
              "      background-color: #E8F0FE;\n",
              "      border: none;\n",
              "      border-radius: 50%;\n",
              "      cursor: pointer;\n",
              "      display: none;\n",
              "      fill: #1967D2;\n",
              "      height: 32px;\n",
              "      padding: 0 0 0 0;\n",
              "      width: 32px;\n",
              "    }\n",
              "\n",
              "    .colab-df-convert:hover {\n",
              "      background-color: #E2EBFA;\n",
              "      box-shadow: 0px 1px 2px rgba(60, 64, 67, 0.3), 0px 1px 3px 1px rgba(60, 64, 67, 0.15);\n",
              "      fill: #174EA6;\n",
              "    }\n",
              "\n",
              "    [theme=dark] .colab-df-convert {\n",
              "      background-color: #3B4455;\n",
              "      fill: #D2E3FC;\n",
              "    }\n",
              "\n",
              "    [theme=dark] .colab-df-convert:hover {\n",
              "      background-color: #434B5C;\n",
              "      box-shadow: 0px 1px 3px 1px rgba(0, 0, 0, 0.15);\n",
              "      filter: drop-shadow(0px 1px 2px rgba(0, 0, 0, 0.3));\n",
              "      fill: #FFFFFF;\n",
              "    }\n",
              "  </style>\n",
              "\n",
              "      <script>\n",
              "        const buttonEl =\n",
              "          document.querySelector('#df-d50bc64a-d311-4110-97c3-e654a4792ff0 button.colab-df-convert');\n",
              "        buttonEl.style.display =\n",
              "          google.colab.kernel.accessAllowed ? 'block' : 'none';\n",
              "\n",
              "        async function convertToInteractive(key) {\n",
              "          const element = document.querySelector('#df-d50bc64a-d311-4110-97c3-e654a4792ff0');\n",
              "          const dataTable =\n",
              "            await google.colab.kernel.invokeFunction('convertToInteractive',\n",
              "                                                     [key], {});\n",
              "          if (!dataTable) return;\n",
              "\n",
              "          const docLinkHtml = 'Like what you see? Visit the ' +\n",
              "            '<a target=\"_blank\" href=https://colab.research.google.com/notebooks/data_table.ipynb>data table notebook</a>'\n",
              "            + ' to learn more about interactive tables.';\n",
              "          element.innerHTML = '';\n",
              "          dataTable['output_type'] = 'display_data';\n",
              "          await google.colab.output.renderOutput(dataTable, element);\n",
              "          const docLink = document.createElement('div');\n",
              "          docLink.innerHTML = docLinkHtml;\n",
              "          element.appendChild(docLink);\n",
              "        }\n",
              "      </script>\n",
              "    </div>\n",
              "  </div>\n",
              "  "
            ]
          },
          "metadata": {},
          "execution_count": 4
        }
      ]
    },
    {
      "cell_type": "code",
      "source": [
        "#visualize with a plot \n",
        "import matplotlib.pyplot as plt \n",
        "plt.scatter(X[:,0],X[:,1],c=y,cmap=plt.cm.RdYlBu)"
      ],
      "metadata": {
        "colab": {
          "base_uri": "https://localhost:8080/",
          "height": 282
        },
        "id": "qLcpHe5KUywD",
        "outputId": "cdc2a5e5-a9ad-4c46-b993-e0c727767cc1"
      },
      "execution_count": 5,
      "outputs": [
        {
          "output_type": "execute_result",
          "data": {
            "text/plain": [
              "<matplotlib.collections.PathCollection at 0x7f0950d5fe80>"
            ]
          },
          "metadata": {},
          "execution_count": 5
        },
        {
          "output_type": "display_data",
          "data": {
            "text/plain": [
              "<Figure size 432x288 with 1 Axes>"
            ],
            "image/png": "[encoded data removed]"
          },
          "metadata": {
            "needs_background": "light"
          }
        }
      ]
    },
    {
      "cell_type": "markdown",
      "source": [
        "# Input and ouput shapes "
      ],
      "metadata": {
        "id": "H_QqttTdiB_h"
      }
    },
    {
      "cell_type": "code",
      "source": [
        "# Check the shapes of our features and labels \n",
        "X.shape, y.shape"
      ],
      "metadata": {
        "colab": {
          "base_uri": "https://localhost:8080/"
        },
        "id": "wY_2I5W1iRg_",
        "outputId": "9893a27f-d3c8-4d5f-c39c-c4689a42cb4d"
      },
      "execution_count": 9,
      "outputs": [
        {
          "output_type": "execute_result",
          "data": {
            "text/plain": [
              "((1000, 2), (1000,))"
            ]
          },
          "metadata": {},
          "execution_count": 9
        }
      ]
    },
    {
      "cell_type": "code",
      "source": [
        "# How many samples we're working with \n",
        "len(X), len(y)"
      ],
      "metadata": {
        "colab": {
          "base_uri": "https://localhost:8080/"
        },
        "id": "rVlG3pFniasx",
        "outputId": "a7203d95-c6ac-4cad-f346-34083409c9ff"
      },
      "execution_count": 10,
      "outputs": [
        {
          "output_type": "execute_result",
          "data": {
            "text/plain": [
              "(1000, 1000)"
            ]
          },
          "metadata": {},
          "execution_count": 10
        }
      ]
    },
    {
      "cell_type": "code",
      "source": [
        "# view the first example of features and labels \n",
        "X[0], y[0] #remeber that y is our label.\n"
      ],
      "metadata": {
        "colab": {
          "base_uri": "https://localhost:8080/"
        },
        "id": "u72ZiYIlie7C",
        "outputId": "b333cfc4-b1de-4ee3-c969-7a175224171c"
      },
      "execution_count": 11,
      "outputs": [
        {
          "output_type": "execute_result",
          "data": {
            "text/plain": [
              "(array([0.75424625, 0.23148074]), 1)"
            ]
          },
          "metadata": {},
          "execution_count": 11
        }
      ]
    },
    {
      "cell_type": "markdown",
      "source": [
        "# Steps in modelling \n",
        "The steps in modelling with TensorFlow are typically: \n",
        "* 1. Create or import a model\n",
        "* 2. compile model\n",
        "* 3. fit the model \n",
        "* 4. evaluate the model \n",
        "* 5. Tweak \n",
        "* 6. Evaluate"
      ],
      "metadata": {
        "id": "2tQDfmMfiso2"
      }
    },
    {
      "cell_type": "code",
      "source": [
        "import tensorflow as tf"
      ],
      "metadata": {
        "id": "XB8BoRWyylc_"
      },
      "execution_count": 12,
      "outputs": []
    },
    {
      "cell_type": "code",
      "source": [
        "# Test model \n",
        "\n",
        "\n",
        "tf.random.set_seed(42)\n",
        "\n",
        "#1. Create a model (specified to the problem )\n",
        "model = tf.keras.Sequential([\n",
        "    \n",
        "    tf.keras.layers.Dense(1)\n",
        "])\n",
        "\n",
        "#2. Compile the model \n",
        "model.compile(loss=tf.keras.losses.BinaryCrossentropy(),\n",
        "              optimizer=tf.keras.optimizers.SGD(),\n",
        "              metrics=[\"accuracy\"])\n",
        "\n",
        "#3. fit the model\n",
        "model.fit(X, y, epochs=5)\n",
        "\n",
        "#4. evaluate "
      ],
      "metadata": {
        "colab": {
          "base_uri": "https://localhost:8080/"
        },
        "id": "n3unw2hqivYR",
        "outputId": "46889b7b-7ab0-4424-d6ad-26bc482e2368"
      },
      "execution_count": 13,
      "outputs": [
        {
          "output_type": "stream",
          "name": "stdout",
          "text": [
            "Epoch 1/5\n",
            "32/32 [==============================] - 1s 2ms/step - loss: 6.3157 - accuracy: 0.4900\n",
            "Epoch 2/5\n",
            "32/32 [==============================] - 0s 2ms/step - loss: 6.1061 - accuracy: 0.4840\n",
            "Epoch 3/5\n",
            "32/32 [==============================] - 0s 2ms/step - loss: 5.9194 - accuracy: 0.4880\n",
            "Epoch 4/5\n",
            "32/32 [==============================] - 0s 2ms/step - loss: 5.1366 - accuracy: 0.4690\n",
            "Epoch 5/5\n",
            "32/32 [==============================] - 0s 2ms/step - loss: 4.5409 - accuracy: 0.4680\n"
          ]
        },
        {
          "output_type": "execute_result",
          "data": {
            "text/plain": [
              "<keras.callbacks.History at 0x7f08f4109820>"
            ]
          },
          "metadata": {},
          "execution_count": 13
        }
      ]
    },
    {
      "cell_type": "code",
      "source": [
        "model.fit(X,y, epochs=200, verbose=0) \n",
        "model.evaluate(X,y)"
      ],
      "metadata": {
        "colab": {
          "base_uri": "https://localhost:8080/"
        },
        "id": "F3_yTjYlwviI",
        "outputId": "4f12f591-d44f-46a2-d0f7-18d64d03e927"
      },
      "execution_count": 14,
      "outputs": [
        {
          "output_type": "stream",
          "name": "stdout",
          "text": [
            "32/32 [==============================] - 0s 1ms/step - loss: 0.6935 - accuracy: 0.5000\n"
          ]
        },
        {
          "output_type": "execute_result",
          "data": {
            "text/plain": [
              "[0.6934831142425537, 0.5]"
            ]
          },
          "metadata": {},
          "execution_count": 14
        }
      ]
    },
    {
      "cell_type": "markdown",
      "source": [
        "Since we're on binary classification problem and our model is getting around ~50% accuracy...\n",
        "it's performing as if it's guessing.\n",
        "\n",
        "So let's step things up a notch and add an extra layer. \n"
      ],
      "metadata": {
        "id": "Yw423Qxy1HRj"
      }
    },
    {
      "cell_type": "code",
      "source": [
        "#set the random seed.\n",
        "tf.random.set_seed(42)\n",
        "\n",
        "#1. Create a model, this time with 2 layes.\n",
        "\n",
        "model_1 = tf.keras.Sequential([\n",
        "    tf.keras.layers.Dense(1),\n",
        "    tf.keras.layers.Dense(1)\n",
        "])\n",
        "\n",
        "#2.compile the model \n",
        "model_1.compile(loss=tf.keras.losses.BinaryCrossentropy(),\n",
        "                optimizer=tf.keras.optimizers.SGD(), \n",
        "                metrics=[\"accuracy\"]\n",
        "                 )\n",
        "#3. fit the model\n",
        "model_1.fit(X,y, epochs=200, verbose=0)\n",
        "\n",
        "#4.evaluate \n",
        "model_1.evaluate(X,y)\n",
        "\n",
        "#It is important to remember that our data sets are 50/50 about 500 and 500"
      ],
      "metadata": {
        "colab": {
          "base_uri": "https://localhost:8080/"
        },
        "id": "c5XwDvQx1f4P",
        "outputId": "fc12e25e-7d51-4c2e-d36d-09b370297c77"
      },
      "execution_count": 15,
      "outputs": [
        {
          "output_type": "stream",
          "name": "stdout",
          "text": [
            "32/32 [==============================] - 0s 2ms/step - loss: 0.6935 - accuracy: 0.5000\n"
          ]
        },
        {
          "output_type": "execute_result",
          "data": {
            "text/plain": [
              "[0.6935176253318787, 0.5]"
            ]
          },
          "metadata": {},
          "execution_count": 15
        }
      ]
    },
    {
      "cell_type": "markdown",
      "source": [
        "## Improving our model\n",
        "\n",
        "Let's look into our bag of tricks to see how we can improve our model.\n",
        "\n",
        "1. Create a model - we might want to add more layers or increase the number of hidden units in a layer\n",
        "2. Compiling a model - here we might want to choose a different optimization function such as Adam instead of SGD()\n",
        "3. fitting a model - Perhaps we might fit our model for more epochs ( leave it trainging for longer)."
      ],
      "metadata": {
        "id": "cHghAh1NyqMD"
      }
    },
    {
      "cell_type": "code",
      "source": [
        "#set the random seed\n",
        "tf.random.set_seed(42)\n",
        "\n",
        "#create a model\n",
        "model_2 = tf.keras.Sequential([\n",
        "    tf.keras.layers.Dense(100),\n",
        "    tf.keras.layers.Dense(10),\n",
        "    tf.keras.layers.Dense(1)\n",
        "])\n",
        "\n",
        "#compile the model \n",
        "\n",
        "model_2.compile(loss=tf.keras.losses.BinaryCrossentropy(),\n",
        "                optimizer=tf.keras.optimizers.Adam(),\n",
        "                metrics=[\"accuracy\"])\n",
        "\n",
        "#fit the model\n",
        "model_2.fit(X, y, epochs=100, verbose=0)\n",
        "model_2.evaluate(X,y)"
      ],
      "metadata": {
        "colab": {
          "base_uri": "https://localhost:8080/"
        },
        "id": "dpPVXD1vzEM1",
        "outputId": "1c345087-5aff-455c-d696-540686cb68f0"
      },
      "execution_count": 16,
      "outputs": [
        {
          "output_type": "stream",
          "name": "stdout",
          "text": [
            "32/32 [==============================] - 0s 3ms/step - loss: 0.7003 - accuracy: 0.5090\n"
          ]
        },
        {
          "output_type": "execute_result",
          "data": {
            "text/plain": [
              "[0.7003178000450134, 0.5090000033378601]"
            ]
          },
          "metadata": {},
          "execution_count": 16
        }
      ]
    },
    {
      "cell_type": "code",
      "source": [
        "#Visualizing to see what is happening\n",
        "model_2.predict(X[:10])"
      ],
      "metadata": {
        "colab": {
          "base_uri": "https://localhost:8080/"
        },
        "id": "Cr3physz28Wx",
        "outputId": "0f0566a6-a9e1-4985-c011-63ae226ef7cd"
      },
      "execution_count": 17,
      "outputs": [
        {
          "output_type": "stream",
          "name": "stdout",
          "text": [
            "1/1 [==============================] - 0s 160ms/step\n"
          ]
        },
        {
          "output_type": "execute_result",
          "data": {
            "text/plain": [
              "array([[0.479946  ],\n",
              "       [0.5750726 ],\n",
              "       [0.58019453],\n",
              "       [0.5836329 ],\n",
              "       [0.43258736],\n",
              "       [0.58832085],\n",
              "       [0.56516546],\n",
              "       [0.4737596 ],\n",
              "       [0.47923318],\n",
              "       [0.58543986]], dtype=float32)"
            ]
          },
          "metadata": {},
          "execution_count": 17
        }
      ]
    },
    {
      "cell_type": "markdown",
      "source": [
        "To Visualize our models predictions, lets create a function `plot_decision_boundary()`, This function will: \n",
        "\n",
        "* Take in a trained model, features(X) and labels (y)\n",
        "* Create a meshgrid(numpy) of the different X values \n",
        "* Make predictions across the meshgrid\n",
        "* plot the predictions as well as a line between the oznes(where each unique class fails) "
      ],
      "metadata": {
        "id": "kkiN2zSS3HVC"
      }
    },
    {
      "cell_type": "code",
      "source": [
        "import numpy as np"
      ],
      "metadata": {
        "id": "jK0ZsKW246JO"
      },
      "execution_count": 18,
      "outputs": []
    },
    {
      "cell_type": "code",
      "source": [
        "\n",
        "def plot_decision_boundary(model, X, y):\n",
        "  \"\"\" \n",
        "  plots the decision boundary created by a model predicting on X \n",
        "  \"\"\" \n",
        "  #Define the axis boundaries of the plot and create a meshgrid \n",
        "  x_min, x_max= X[:,0].min() - 0.1, X[:,0].max() + 0.1 \n",
        "  y_min, y_max = X[:,1].min() - 0.1, X[:,1].max() + 0.1\n",
        "  #adding 0.1 to act as a margin.\n",
        "\n",
        "  #mesh grid \n",
        "  xx,yy = np.meshgrid(np.linspace(x_min,x_max,100),\n",
        "                      np.linspace(y_min,y_max,100))\n",
        "  \n",
        "  #Create X value(we're going to make predictions on these)\n",
        "  #unraveling\n",
        "  x_in = np.c_[xx.ravel(),yy.ravel()] #stack 2d arrays together\n",
        "  #make predictions\n",
        "  y_pred=model.predict(x_in)\n",
        "\n",
        "  #check if we are working on multi-class problem \n",
        "  if len(y_pred[0] > 1): \n",
        "    print(\"doing multi-class\")\n",
        "    #if so we need to reshap the data.\n",
        "    y_pred = np.argmax(y_pred, axis=1).reshape(xx.shape)\n",
        "  else: \n",
        "    print(\"doing binary classification\")\n",
        "    y_pred = np.round(y_pred).reshape(xx.shape)\n",
        "  \n",
        "  #plot the decision boundary\n",
        "  plt.contourf(xx, yy, y_pred, cmap=plt.cm.RdYlBu, alpha=0.7)\n",
        "  plt.scatter(X[:,0],X[:,1], c=y,s=40,cmap=plt.cm.RdYlBu)\n",
        "  plt.xlim(xx.min(), xx.max())\n",
        "  plt.ylim(yy.min(), yy.max())\n",
        "\n"
      ],
      "metadata": {
        "id": "YcPK3jWv3yyB"
      },
      "execution_count": 19,
      "outputs": []
    },
    {
      "cell_type": "code",
      "source": [
        "#now check out the predictions our model is making\n",
        "plot_decision_boundary(model=model_2, X=X, y=y)"
      ],
      "metadata": {
        "colab": {
          "base_uri": "https://localhost:8080/",
          "height": 300
        },
        "id": "5o4SeeVb7cmI",
        "outputId": "b25df877-b10a-4be9-a958-7fe38fb1f9df"
      },
      "execution_count": 20,
      "outputs": [
        {
          "output_type": "stream",
          "name": "stdout",
          "text": [
            "313/313 [==============================] - 1s 2ms/step\n",
            "doing multi-class\n"
          ]
        },
        {
          "output_type": "display_data",
          "data": {
            "text/plain": [
              "<Figure size 432x288 with 1 Axes>"
            ],
            "image/png": "[encoded data removed]"
          },
          "metadata": {
            "needs_background": "light"
          }
        }
      ]
    },
    {
      "cell_type": "code",
      "source": [
        "x_min,x_max= X[:, 0].min() - 0.1, X[:,0].max() + 0.1 \n",
        "y_min, y_max = X[:,1].min() - 0.1, X[:,1].max() + 0.1\n",
        "x_min,x_max,y_min, y_max\n"
      ],
      "metadata": {
        "colab": {
          "base_uri": "https://localhost:8080/"
        },
        "id": "cb7IDski4n8O",
        "outputId": "e0944d86-ed6c-475e-b6e5-5f9fa9b63d21"
      },
      "execution_count": 21,
      "outputs": [
        {
          "output_type": "execute_result",
          "data": {
            "text/plain": [
              "(-1.1595024599098636,\n",
              " 1.1337117525463374,\n",
              " -1.1677683182718437,\n",
              " 1.1360036756154805)"
            ]
          },
          "metadata": {},
          "execution_count": 21
        }
      ]
    },
    {
      "cell_type": "code",
      "source": [],
      "metadata": {
        "id": "o5SzIJdqkfjS"
      },
      "execution_count": null,
      "outputs": []
    },
    {
      "cell_type": "code",
      "source": [
        "# Define a simple linear regression model\n",
        "model_2 = tf.keras.Sequential([\n",
        "  tf.keras.layers.Dense(units=1, input_shape=[1])\n",
        "])\n",
        "model_2.compile(loss='mean_squared_error', optimizer='sgd')\n",
        "\n",
        "# Reshape the training data\n",
        "X_reg_train = tf.reshape(X_reg_train, [-1, 1])\n",
        "y_reg_train = tf.reshape(y_reg_train, [-1, 1])\n",
        "\n",
        "# Fit the model on the training data\n",
        "model_2.fit(X_reg_train, y_reg_train, epochs=100)\n"
      ],
      "metadata": {
        "colab": {
          "base_uri": "https://localhost:8080/"
        },
        "id": "SjxjYQjmQ6Km",
        "outputId": "ec590838-8978-489b-c780-5c6b07d7b27f"
      },
      "execution_count": 23,
      "outputs": [
        {
          "output_type": "stream",
          "name": "stdout",
          "text": [
            "Epoch 1/100\n",
            "5/5 [==============================] - 0s 4ms/step - loss: 88896106707633994693236999847936.0000\n",
            "Epoch 2/100\n",
            "5/5 [==============================] - 0s 3ms/step - loss: inf\n",
            "Epoch 3/100\n",
            "5/5 [==============================] - 0s 3ms/step - loss: nan\n",
            "Epoch 4/100\n",
            "5/5 [==============================] - 0s 3ms/step - loss: nan\n",
            "Epoch 5/100\n",
            "5/5 [==============================] - 0s 8ms/step - loss: nan\n",
            "Epoch 6/100\n",
            "5/5 [==============================] - 0s 4ms/step - loss: nan\n",
            "Epoch 7/100\n",
            "5/5 [==============================] - 0s 3ms/step - loss: nan\n",
            "Epoch 8/100\n",
            "5/5 [==============================] - 0s 3ms/step - loss: nan\n",
            "Epoch 9/100\n",
            "5/5 [==============================] - 0s 3ms/step - loss: nan\n",
            "Epoch 10/100\n",
            "5/5 [==============================] - 0s 3ms/step - loss: nan\n",
            "Epoch 11/100\n",
            "5/5 [==============================] - 0s 3ms/step - loss: nan\n",
            "Epoch 12/100\n",
            "5/5 [==============================] - 0s 4ms/step - loss: nan\n",
            "Epoch 13/100\n",
            "5/5 [==============================] - 0s 4ms/step - loss: nan\n",
            "Epoch 14/100\n",
            "5/5 [==============================] - 0s 4ms/step - loss: nan\n",
            "Epoch 15/100\n",
            "5/5 [==============================] - 0s 3ms/step - loss: nan\n",
            "Epoch 16/100\n",
            "5/5 [==============================] - 0s 3ms/step - loss: nan\n",
            "Epoch 17/100\n",
            "5/5 [==============================] - 0s 12ms/step - loss: nan\n",
            "Epoch 18/100\n",
            "5/5 [==============================] - 0s 6ms/step - loss: nan\n",
            "Epoch 19/100\n",
            "5/5 [==============================] - 0s 6ms/step - loss: nan\n",
            "Epoch 20/100\n",
            "5/5 [==============================] - 0s 10ms/step - loss: nan\n",
            "Epoch 21/100\n",
            "5/5 [==============================] - 0s 7ms/step - loss: nan\n",
            "Epoch 22/100\n",
            "5/5 [==============================] - 0s 6ms/step - loss: nan\n",
            "Epoch 23/100\n",
            "5/5 [==============================] - 0s 4ms/step - loss: nan\n",
            "Epoch 24/100\n",
            "5/5 [==============================] - 0s 6ms/step - loss: nan\n",
            "Epoch 25/100\n",
            "5/5 [==============================] - 0s 5ms/step - loss: nan\n",
            "Epoch 26/100\n",
            "5/5 [==============================] - 0s 5ms/step - loss: nan\n",
            "Epoch 27/100\n",
            "5/5 [==============================] - 0s 7ms/step - loss: nan\n",
            "Epoch 28/100\n",
            "5/5 [==============================] - 0s 6ms/step - loss: nan\n",
            "Epoch 29/100\n",
            "5/5 [==============================] - 0s 10ms/step - loss: nan\n",
            "Epoch 30/100\n",
            "5/5 [==============================] - 0s 4ms/step - loss: nan\n",
            "Epoch 31/100\n",
            "5/5 [==============================] - 0s 6ms/step - loss: nan\n",
            "Epoch 32/100\n",
            "5/5 [==============================] - 0s 5ms/step - loss: nan\n",
            "Epoch 33/100\n",
            "5/5 [==============================] - 0s 6ms/step - loss: nan\n",
            "Epoch 34/100\n",
            "5/5 [==============================] - 0s 4ms/step - loss: nan\n",
            "Epoch 35/100\n",
            "5/5 [==============================] - 0s 4ms/step - loss: nan\n",
            "Epoch 36/100\n",
            "5/5 [==============================] - 0s 6ms/step - loss: nan\n",
            "Epoch 37/100\n",
            "5/5 [==============================] - 0s 4ms/step - loss: nan\n",
            "Epoch 38/100\n",
            "5/5 [==============================] - 0s 4ms/step - loss: nan\n",
            "Epoch 39/100\n",
            "5/5 [==============================] - 0s 10ms/step - loss: nan\n",
            "Epoch 40/100\n",
            "5/5 [==============================] - 0s 6ms/step - loss: nan\n",
            "Epoch 41/100\n",
            "5/5 [==============================] - 0s 4ms/step - loss: nan\n",
            "Epoch 42/100\n",
            "5/5 [==============================] - 0s 7ms/step - loss: nan\n",
            "Epoch 43/100\n",
            "5/5 [==============================] - 0s 4ms/step - loss: nan\n",
            "Epoch 44/100\n",
            "5/5 [==============================] - 0s 6ms/step - loss: nan\n",
            "Epoch 45/100\n",
            "5/5 [==============================] - 0s 9ms/step - loss: nan\n",
            "Epoch 46/100\n",
            "5/5 [==============================] - 0s 9ms/step - loss: nan\n",
            "Epoch 47/100\n",
            "5/5 [==============================] - 0s 5ms/step - loss: nan\n",
            "Epoch 48/100\n",
            "5/5 [==============================] - 0s 4ms/step - loss: nan\n",
            "Epoch 49/100\n",
            "5/5 [==============================] - 0s 8ms/step - loss: nan\n",
            "Epoch 50/100\n",
            "5/5 [==============================] - 0s 7ms/step - loss: nan\n",
            "Epoch 51/100\n",
            "5/5 [==============================] - 0s 6ms/step - loss: nan\n",
            "Epoch 52/100\n",
            "5/5 [==============================] - 0s 6ms/step - loss: nan\n",
            "Epoch 53/100\n",
            "5/5 [==============================] - 0s 7ms/step - loss: nan\n",
            "Epoch 54/100\n",
            "5/5 [==============================] - 0s 7ms/step - loss: nan\n",
            "Epoch 55/100\n",
            "5/5 [==============================] - 0s 8ms/step - loss: nan\n",
            "Epoch 56/100\n",
            "5/5 [==============================] - 0s 5ms/step - loss: nan\n",
            "Epoch 57/100\n",
            "5/5 [==============================] - 0s 6ms/step - loss: nan\n",
            "Epoch 58/100\n",
            "5/5 [==============================] - 0s 7ms/step - loss: nan\n",
            "Epoch 59/100\n",
            "5/5 [==============================] - 0s 8ms/step - loss: nan\n",
            "Epoch 60/100\n",
            "5/5 [==============================] - 0s 12ms/step - loss: nan\n",
            "Epoch 61/100\n",
            "5/5 [==============================] - 0s 6ms/step - loss: nan\n",
            "Epoch 62/100\n",
            "5/5 [==============================] - 0s 5ms/step - loss: nan\n",
            "Epoch 63/100\n",
            "5/5 [==============================] - 0s 4ms/step - loss: nan\n",
            "Epoch 64/100\n",
            "5/5 [==============================] - 0s 4ms/step - loss: nan\n",
            "Epoch 65/100\n",
            "5/5 [==============================] - 0s 4ms/step - loss: nan\n",
            "Epoch 66/100\n",
            "5/5 [==============================] - 0s 7ms/step - loss: nan\n",
            "Epoch 67/100\n",
            "5/5 [==============================] - 0s 6ms/step - loss: nan\n",
            "Epoch 68/100\n",
            "5/5 [==============================] - 0s 8ms/step - loss: nan\n",
            "Epoch 69/100\n",
            "5/5 [==============================] - 0s 6ms/step - loss: nan\n",
            "Epoch 70/100\n",
            "5/5 [==============================] - 0s 10ms/step - loss: nan\n",
            "Epoch 71/100\n",
            "5/5 [==============================] - 0s 9ms/step - loss: nan\n",
            "Epoch 72/100\n",
            "5/5 [==============================] - 0s 10ms/step - loss: nan\n",
            "Epoch 73/100\n",
            "5/5 [==============================] - 0s 7ms/step - loss: nan\n",
            "Epoch 74/100\n",
            "5/5 [==============================] - 0s 7ms/step - loss: nan\n",
            "Epoch 75/100\n",
            "5/5 [==============================] - 0s 6ms/step - loss: nan\n",
            "Epoch 76/100\n",
            "5/5 [==============================] - 0s 5ms/step - loss: nan\n",
            "Epoch 77/100\n",
            "5/5 [==============================] - 0s 4ms/step - loss: nan\n",
            "Epoch 78/100\n",
            "5/5 [==============================] - 0s 7ms/step - loss: nan\n",
            "Epoch 79/100\n",
            "5/5 [==============================] - 0s 5ms/step - loss: nan\n",
            "Epoch 80/100\n",
            "5/5 [==============================] - 0s 4ms/step - loss: nan\n",
            "Epoch 81/100\n",
            "5/5 [==============================] - 0s 5ms/step - loss: nan\n",
            "Epoch 82/100\n",
            "5/5 [==============================] - 0s 3ms/step - loss: nan\n",
            "Epoch 83/100\n",
            "5/5 [==============================] - 0s 10ms/step - loss: nan\n",
            "Epoch 84/100\n",
            "5/5 [==============================] - 0s 6ms/step - loss: nan\n",
            "Epoch 85/100\n",
            "5/5 [==============================] - 0s 6ms/step - loss: nan\n",
            "Epoch 86/100\n",
            "5/5 [==============================] - 0s 6ms/step - loss: nan\n",
            "Epoch 87/100\n",
            "5/5 [==============================] - 0s 8ms/step - loss: nan\n",
            "Epoch 88/100\n",
            "5/5 [==============================] - 0s 4ms/step - loss: nan\n",
            "Epoch 89/100\n",
            "5/5 [==============================] - 0s 6ms/step - loss: nan\n",
            "Epoch 90/100\n",
            "5/5 [==============================] - 0s 7ms/step - loss: nan\n",
            "Epoch 91/100\n",
            "5/5 [==============================] - 0s 4ms/step - loss: nan\n",
            "Epoch 92/100\n",
            "5/5 [==============================] - 0s 7ms/step - loss: nan\n",
            "Epoch 93/100\n",
            "5/5 [==============================] - 0s 7ms/step - loss: nan\n",
            "Epoch 94/100\n",
            "5/5 [==============================] - 0s 12ms/step - loss: nan\n",
            "Epoch 95/100\n",
            "5/5 [==============================] - 0s 9ms/step - loss: nan\n",
            "Epoch 96/100\n",
            "5/5 [==============================] - 0s 3ms/step - loss: nan\n",
            "Epoch 97/100\n",
            "5/5 [==============================] - 0s 10ms/step - loss: nan\n",
            "Epoch 98/100\n",
            "5/5 [==============================] - 0s 12ms/step - loss: nan\n",
            "Epoch 99/100\n",
            "5/5 [==============================] - 0s 13ms/step - loss: nan\n",
            "Epoch 100/100\n",
            "5/5 [==============================] - 0s 9ms/step - loss: nan\n"
          ]
        },
        {
          "output_type": "execute_result",
          "data": {
            "text/plain": [
              "<keras.callbacks.History at 0x7f08eeecbac0>"
            ]
          },
          "metadata": {},
          "execution_count": 23
        }
      ]
    },
    {
      "cell_type": "markdown",
      "source": [
        "Oh wait... we compiled our model for a binary classification problem.\n",
        "\n",
        "But... we're  now working on a regression problem, let's change the model to suit our data."
      ],
      "metadata": {
        "id": "OUFqk7_lS9J8"
      }
    },
    {
      "cell_type": "code",
      "source": [
        "# Reshape the input data\n",
        "X_reg_train = tf.reshape(X_reg_train, shape=(-1, 1))\n",
        "X_reg_test = tf.reshape(X_reg_test, shape=(-1, 1))\n",
        "\n",
        "# Define the model architecture\n",
        "model_2 = tf.keras.Sequential([\n",
        "    tf.keras.layers.Dense(units=1, input_shape=[1])\n",
        "])\n",
        "\n",
        "# Compile the model\n",
        "model_2.compile(loss='mae', optimizer=tf.keras.optimizers.Adam(learning_rate=0.01), metrics=['mae'])\n",
        "\n",
        "# Train the model\n",
        "model_2.fit(X_reg_train, y_reg_train, epochs=100)"
      ],
      "metadata": {
        "colab": {
          "base_uri": "https://localhost:8080/"
        },
        "id": "Vk0mN-LITM5J",
        "outputId": "4510451e-a21b-41bf-80a6-d427be844c94"
      },
      "execution_count": 24,
      "outputs": [
        {
          "output_type": "stream",
          "name": "stdout",
          "text": [
            "Epoch 1/100\n",
            "5/5 [==============================] - 1s 5ms/step - loss: 305.0424 - mae: 305.0424\n",
            "Epoch 2/100\n",
            "5/5 [==============================] - 0s 10ms/step - loss: 286.0018 - mae: 286.0018\n",
            "Epoch 3/100\n",
            "5/5 [==============================] - 0s 9ms/step - loss: 267.8518 - mae: 267.8518\n",
            "Epoch 4/100\n",
            "5/5 [==============================] - 0s 5ms/step - loss: 249.4349 - mae: 249.4349\n",
            "Epoch 5/100\n",
            "5/5 [==============================] - 0s 6ms/step - loss: 230.9359 - mae: 230.9359\n",
            "Epoch 6/100\n",
            "5/5 [==============================] - 0s 5ms/step - loss: 211.8822 - mae: 211.8822\n",
            "Epoch 7/100\n",
            "5/5 [==============================] - 0s 8ms/step - loss: 193.1718 - mae: 193.1718\n",
            "Epoch 8/100\n",
            "5/5 [==============================] - 0s 6ms/step - loss: 174.7578 - mae: 174.7578\n",
            "Epoch 9/100\n",
            "5/5 [==============================] - 0s 6ms/step - loss: 156.7370 - mae: 156.7370\n",
            "Epoch 10/100\n",
            "5/5 [==============================] - 0s 5ms/step - loss: 138.0916 - mae: 138.0916\n",
            "Epoch 11/100\n",
            "5/5 [==============================] - 0s 5ms/step - loss: 119.4613 - mae: 119.4613\n",
            "Epoch 12/100\n",
            "5/5 [==============================] - 0s 6ms/step - loss: 100.8342 - mae: 100.8342\n",
            "Epoch 13/100\n",
            "5/5 [==============================] - 0s 4ms/step - loss: 82.2221 - mae: 82.2221\n",
            "Epoch 14/100\n",
            "5/5 [==============================] - 0s 4ms/step - loss: 63.7007 - mae: 63.7007\n",
            "Epoch 15/100\n",
            "5/5 [==============================] - 0s 4ms/step - loss: 46.7319 - mae: 46.7319\n",
            "Epoch 16/100\n",
            "5/5 [==============================] - 0s 4ms/step - loss: 41.4859 - mae: 41.4859\n",
            "Epoch 17/100\n",
            "5/5 [==============================] - 0s 4ms/step - loss: 42.2601 - mae: 42.2601\n",
            "Epoch 18/100\n",
            "5/5 [==============================] - 0s 4ms/step - loss: 42.9713 - mae: 42.9713\n",
            "Epoch 19/100\n",
            "5/5 [==============================] - 0s 4ms/step - loss: 42.9895 - mae: 42.9895\n",
            "Epoch 20/100\n",
            "5/5 [==============================] - 0s 4ms/step - loss: 42.4271 - mae: 42.4271\n",
            "Epoch 21/100\n",
            "5/5 [==============================] - 0s 3ms/step - loss: 41.7936 - mae: 41.7936\n",
            "Epoch 22/100\n",
            "5/5 [==============================] - 0s 6ms/step - loss: 41.3712 - mae: 41.3712\n",
            "Epoch 23/100\n",
            "5/5 [==============================] - 0s 5ms/step - loss: 41.3013 - mae: 41.3013\n",
            "Epoch 24/100\n",
            "5/5 [==============================] - 0s 4ms/step - loss: 41.3478 - mae: 41.3478\n",
            "Epoch 25/100\n",
            "5/5 [==============================] - 0s 5ms/step - loss: 41.3140 - mae: 41.3140\n",
            "Epoch 26/100\n",
            "5/5 [==============================] - 0s 8ms/step - loss: 41.2444 - mae: 41.2444\n",
            "Epoch 27/100\n",
            "5/5 [==============================] - 0s 11ms/step - loss: 41.1820 - mae: 41.1820\n",
            "Epoch 28/100\n",
            "5/5 [==============================] - 0s 8ms/step - loss: 41.2320 - mae: 41.2320\n",
            "Epoch 29/100\n",
            "5/5 [==============================] - 0s 10ms/step - loss: 41.2136 - mae: 41.2136\n",
            "Epoch 30/100\n",
            "5/5 [==============================] - 0s 6ms/step - loss: 41.1998 - mae: 41.1998\n",
            "Epoch 31/100\n",
            "5/5 [==============================] - 0s 5ms/step - loss: 41.1523 - mae: 41.1523\n",
            "Epoch 32/100\n",
            "5/5 [==============================] - 0s 4ms/step - loss: 41.1400 - mae: 41.1400\n",
            "Epoch 33/100\n",
            "5/5 [==============================] - 0s 4ms/step - loss: 41.1243 - mae: 41.1243\n",
            "Epoch 34/100\n",
            "5/5 [==============================] - 0s 5ms/step - loss: 41.1239 - mae: 41.1239\n",
            "Epoch 35/100\n",
            "5/5 [==============================] - 0s 7ms/step - loss: 41.1069 - mae: 41.1069\n",
            "Epoch 36/100\n",
            "5/5 [==============================] - 0s 8ms/step - loss: 41.1017 - mae: 41.1017\n",
            "Epoch 37/100\n",
            "5/5 [==============================] - 0s 5ms/step - loss: 41.0945 - mae: 41.0945\n",
            "Epoch 38/100\n",
            "5/5 [==============================] - 0s 9ms/step - loss: 41.0684 - mae: 41.0684\n",
            "Epoch 39/100\n",
            "5/5 [==============================] - 0s 5ms/step - loss: 41.0439 - mae: 41.0439\n",
            "Epoch 40/100\n",
            "5/5 [==============================] - 0s 4ms/step - loss: 41.0404 - mae: 41.0404\n",
            "Epoch 41/100\n",
            "5/5 [==============================] - 0s 6ms/step - loss: 41.0321 - mae: 41.0321\n",
            "Epoch 42/100\n",
            "5/5 [==============================] - 0s 4ms/step - loss: 41.0088 - mae: 41.0088\n",
            "Epoch 43/100\n",
            "5/5 [==============================] - 0s 4ms/step - loss: 41.0077 - mae: 41.0077\n",
            "Epoch 44/100\n",
            "5/5 [==============================] - 0s 6ms/step - loss: 40.9875 - mae: 40.9875\n",
            "Epoch 45/100\n",
            "5/5 [==============================] - 0s 7ms/step - loss: 40.9732 - mae: 40.9732\n",
            "Epoch 46/100\n",
            "5/5 [==============================] - 0s 6ms/step - loss: 40.9664 - mae: 40.9664\n",
            "Epoch 47/100\n",
            "5/5 [==============================] - 0s 4ms/step - loss: 40.9644 - mae: 40.9644\n",
            "Epoch 48/100\n",
            "5/5 [==============================] - 0s 4ms/step - loss: 40.9417 - mae: 40.9417\n",
            "Epoch 49/100\n",
            "5/5 [==============================] - 0s 5ms/step - loss: 40.9588 - mae: 40.9588\n",
            "Epoch 50/100\n",
            "5/5 [==============================] - 0s 5ms/step - loss: 40.9129 - mae: 40.9129\n",
            "Epoch 51/100\n",
            "5/5 [==============================] - 0s 7ms/step - loss: 40.8962 - mae: 40.8962\n",
            "Epoch 52/100\n",
            "5/5 [==============================] - 0s 5ms/step - loss: 40.9151 - mae: 40.9151\n",
            "Epoch 53/100\n",
            "5/5 [==============================] - 0s 5ms/step - loss: 40.8900 - mae: 40.8900\n",
            "Epoch 54/100\n",
            "5/5 [==============================] - 0s 6ms/step - loss: 40.8757 - mae: 40.8757\n",
            "Epoch 55/100\n",
            "5/5 [==============================] - 0s 5ms/step - loss: 40.8600 - mae: 40.8600\n",
            "Epoch 56/100\n",
            "5/5 [==============================] - 0s 5ms/step - loss: 40.8484 - mae: 40.8484\n",
            "Epoch 57/100\n",
            "5/5 [==============================] - 0s 4ms/step - loss: 40.8351 - mae: 40.8351\n",
            "Epoch 58/100\n",
            "5/5 [==============================] - 0s 7ms/step - loss: 40.7970 - mae: 40.7970\n",
            "Epoch 59/100\n",
            "5/5 [==============================] - 0s 6ms/step - loss: 40.7810 - mae: 40.7810\n",
            "Epoch 60/100\n",
            "5/5 [==============================] - 0s 4ms/step - loss: 40.7644 - mae: 40.7644\n",
            "Epoch 61/100\n",
            "5/5 [==============================] - 0s 7ms/step - loss: 40.7795 - mae: 40.7795\n",
            "Epoch 62/100\n",
            "5/5 [==============================] - 0s 4ms/step - loss: 40.7504 - mae: 40.7504\n",
            "Epoch 63/100\n",
            "5/5 [==============================] - 0s 4ms/step - loss: 40.7459 - mae: 40.7459\n",
            "Epoch 64/100\n",
            "5/5 [==============================] - 0s 7ms/step - loss: 40.7152 - mae: 40.7152\n",
            "Epoch 65/100\n",
            "5/5 [==============================] - 0s 10ms/step - loss: 40.7363 - mae: 40.7363\n",
            "Epoch 66/100\n",
            "5/5 [==============================] - 0s 6ms/step - loss: 40.7520 - mae: 40.7520\n",
            "Epoch 67/100\n",
            "5/5 [==============================] - 0s 5ms/step - loss: 40.6733 - mae: 40.6733\n",
            "Epoch 68/100\n",
            "5/5 [==============================] - 0s 9ms/step - loss: 40.6463 - mae: 40.6463\n",
            "Epoch 69/100\n",
            "5/5 [==============================] - 0s 7ms/step - loss: 40.6313 - mae: 40.6313\n",
            "Epoch 70/100\n",
            "5/5 [==============================] - 0s 8ms/step - loss: 40.6903 - mae: 40.6903\n",
            "Epoch 71/100\n",
            "5/5 [==============================] - 0s 4ms/step - loss: 40.6335 - mae: 40.6335\n",
            "Epoch 72/100\n",
            "5/5 [==============================] - 0s 11ms/step - loss: 40.6159 - mae: 40.6159\n",
            "Epoch 73/100\n",
            "5/5 [==============================] - 0s 6ms/step - loss: 40.5805 - mae: 40.5805\n",
            "Epoch 74/100\n",
            "5/5 [==============================] - 0s 5ms/step - loss: 40.5614 - mae: 40.5614\n",
            "Epoch 75/100\n",
            "5/5 [==============================] - 0s 5ms/step - loss: 40.5627 - mae: 40.5627\n",
            "Epoch 76/100\n",
            "5/5 [==============================] - 0s 4ms/step - loss: 40.5323 - mae: 40.5323\n",
            "Epoch 77/100\n",
            "5/5 [==============================] - 0s 5ms/step - loss: 40.5969 - mae: 40.5969\n",
            "Epoch 78/100\n",
            "5/5 [==============================] - 0s 5ms/step - loss: 40.5037 - mae: 40.5037\n",
            "Epoch 79/100\n",
            "5/5 [==============================] - 0s 5ms/step - loss: 40.5100 - mae: 40.5100\n",
            "Epoch 80/100\n",
            "5/5 [==============================] - 0s 5ms/step - loss: 40.5257 - mae: 40.5257\n",
            "Epoch 81/100\n",
            "5/5 [==============================] - 0s 5ms/step - loss: 40.4550 - mae: 40.4550\n",
            "Epoch 82/100\n",
            "5/5 [==============================] - 0s 5ms/step - loss: 40.4483 - mae: 40.4483\n",
            "Epoch 83/100\n",
            "5/5 [==============================] - 0s 5ms/step - loss: 40.4189 - mae: 40.4189\n",
            "Epoch 84/100\n",
            "5/5 [==============================] - 0s 5ms/step - loss: 40.4274 - mae: 40.4274\n",
            "Epoch 85/100\n",
            "5/5 [==============================] - 0s 6ms/step - loss: 40.4150 - mae: 40.4150\n",
            "Epoch 86/100\n",
            "5/5 [==============================] - 0s 4ms/step - loss: 40.3972 - mae: 40.3972\n",
            "Epoch 87/100\n",
            "5/5 [==============================] - 0s 4ms/step - loss: 40.3681 - mae: 40.3681\n",
            "Epoch 88/100\n",
            "5/5 [==============================] - 0s 5ms/step - loss: 40.3218 - mae: 40.3218\n",
            "Epoch 89/100\n",
            "5/5 [==============================] - 0s 6ms/step - loss: 40.4009 - mae: 40.4009\n",
            "Epoch 90/100\n",
            "5/5 [==============================] - 0s 5ms/step - loss: 40.3682 - mae: 40.3682\n",
            "Epoch 91/100\n",
            "5/5 [==============================] - 0s 7ms/step - loss: 40.3416 - mae: 40.3416\n",
            "Epoch 92/100\n",
            "5/5 [==============================] - 0s 8ms/step - loss: 40.3079 - mae: 40.3079\n",
            "Epoch 93/100\n",
            "5/5 [==============================] - 0s 6ms/step - loss: 40.3331 - mae: 40.3331\n",
            "Epoch 94/100\n",
            "5/5 [==============================] - 0s 6ms/step - loss: 40.2524 - mae: 40.2524\n",
            "Epoch 95/100\n",
            "5/5 [==============================] - 0s 7ms/step - loss: 40.2284 - mae: 40.2284\n",
            "Epoch 96/100\n",
            "5/5 [==============================] - 0s 6ms/step - loss: 40.2591 - mae: 40.2591\n",
            "Epoch 97/100\n",
            "5/5 [==============================] - 0s 11ms/step - loss: 40.2249 - mae: 40.2249\n",
            "Epoch 98/100\n",
            "5/5 [==============================] - 0s 7ms/step - loss: 40.2430 - mae: 40.2430\n",
            "Epoch 99/100\n",
            "5/5 [==============================] - 0s 7ms/step - loss: 40.1888 - mae: 40.1888\n",
            "Epoch 100/100\n",
            "5/5 [==============================] - 0s 6ms/step - loss: 40.1512 - mae: 40.1512\n"
          ]
        },
        {
          "output_type": "execute_result",
          "data": {
            "text/plain": [
              "<keras.callbacks.History at 0x7f08ec7b76d0>"
            ]
          },
          "metadata": {},
          "execution_count": 24
        }
      ]
    }
  ]
}